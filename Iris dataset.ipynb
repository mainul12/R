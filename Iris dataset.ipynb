{
 "cells": [
  {
   "cell_type": "code",
   "execution_count": 2,
   "metadata": {},
   "outputs": [],
   "source": [
    "library(dplyr)\n",
    "library(readr)\n",
    "library(ggplot2)"
   ]
  },
  {
   "cell_type": "code",
   "execution_count": 3,
   "metadata": {
    "collapsed": true
   },
   "outputs": [],
   "source": [
    "iris <- read_csv(\"http://archive.ics.uci.edu/ml/machine-learning-databases/iris/iris.data\",\n",
    "                  col_names = c(\"sepal.length\", \"sepal.width\",\"petal.length\",\"petal.width\",\"Species\"),\n",
    "                  col_types = cols(Species = col_factor(levels = c(\"Iris-setosa\",\"Iris-virginica\",\"Iris-versicolor\"))))"
   ]
  },
  {
   "cell_type": "code",
   "execution_count": 4,
   "metadata": {},
   "outputs": [
    {
     "data": {
      "text/html": [
       "<ol class=list-inline>\n",
       "\t<li>150</li>\n",
       "\t<li>5</li>\n",
       "</ol>\n"
      ],
      "text/latex": [
       "\\begin{enumerate*}\n",
       "\\item 150\n",
       "\\item 5\n",
       "\\end{enumerate*}\n"
      ],
      "text/markdown": [
       "1. 150\n",
       "2. 5\n",
       "\n",
       "\n"
      ],
      "text/plain": [
       "[1] 150   5"
      ]
     },
     "metadata": {},
     "output_type": "display_data"
    }
   ],
   "source": [
    "dim(iris)"
   ]
  },
  {
   "cell_type": "code",
   "execution_count": 5,
   "metadata": {},
   "outputs": [
    {
     "data": {
      "text/html": [
       "<table>\n",
       "<thead><tr><th scope=col>sepal.length</th><th scope=col>sepal.width</th><th scope=col>petal.length</th><th scope=col>petal.width</th><th scope=col>Species</th></tr></thead>\n",
       "<tbody>\n",
       "\t<tr><td>5.1        </td><td>3.5        </td><td>1.4        </td><td>0.2        </td><td>Iris-setosa</td></tr>\n",
       "\t<tr><td>4.9        </td><td>3.0        </td><td>1.4        </td><td>0.2        </td><td>Iris-setosa</td></tr>\n",
       "\t<tr><td>4.7        </td><td>3.2        </td><td>1.3        </td><td>0.2        </td><td>Iris-setosa</td></tr>\n",
       "\t<tr><td>4.6        </td><td>3.1        </td><td>1.5        </td><td>0.2        </td><td>Iris-setosa</td></tr>\n",
       "\t<tr><td>5.0        </td><td>3.6        </td><td>1.4        </td><td>0.2        </td><td>Iris-setosa</td></tr>\n",
       "\t<tr><td>5.4        </td><td>3.9        </td><td>1.7        </td><td>0.4        </td><td>Iris-setosa</td></tr>\n",
       "</tbody>\n",
       "</table>\n"
      ],
      "text/latex": [
       "\\begin{tabular}{r|lllll}\n",
       " sepal.length & sepal.width & petal.length & petal.width & Species\\\\\n",
       "\\hline\n",
       "\t 5.1         & 3.5         & 1.4         & 0.2         & Iris-setosa\\\\\n",
       "\t 4.9         & 3.0         & 1.4         & 0.2         & Iris-setosa\\\\\n",
       "\t 4.7         & 3.2         & 1.3         & 0.2         & Iris-setosa\\\\\n",
       "\t 4.6         & 3.1         & 1.5         & 0.2         & Iris-setosa\\\\\n",
       "\t 5.0         & 3.6         & 1.4         & 0.2         & Iris-setosa\\\\\n",
       "\t 5.4         & 3.9         & 1.7         & 0.4         & Iris-setosa\\\\\n",
       "\\end{tabular}\n"
      ],
      "text/markdown": [
       "\n",
       "sepal.length | sepal.width | petal.length | petal.width | Species | \n",
       "|---|---|---|---|---|---|\n",
       "| 5.1         | 3.5         | 1.4         | 0.2         | Iris-setosa | \n",
       "| 4.9         | 3.0         | 1.4         | 0.2         | Iris-setosa | \n",
       "| 4.7         | 3.2         | 1.3         | 0.2         | Iris-setosa | \n",
       "| 4.6         | 3.1         | 1.5         | 0.2         | Iris-setosa | \n",
       "| 5.0         | 3.6         | 1.4         | 0.2         | Iris-setosa | \n",
       "| 5.4         | 3.9         | 1.7         | 0.4         | Iris-setosa | \n",
       "\n",
       "\n"
      ],
      "text/plain": [
       "  sepal.length sepal.width petal.length petal.width Species    \n",
       "1 5.1          3.5         1.4          0.2         Iris-setosa\n",
       "2 4.9          3.0         1.4          0.2         Iris-setosa\n",
       "3 4.7          3.2         1.3          0.2         Iris-setosa\n",
       "4 4.6          3.1         1.5          0.2         Iris-setosa\n",
       "5 5.0          3.6         1.4          0.2         Iris-setosa\n",
       "6 5.4          3.9         1.7          0.4         Iris-setosa"
      ]
     },
     "metadata": {},
     "output_type": "display_data"
    }
   ],
   "source": [
    "head(iris)"
   ]
  },
  {
   "cell_type": "code",
   "execution_count": 6,
   "metadata": {},
   "outputs": [
    {
     "data": {
      "text/html": [
       "<table>\n",
       "<thead><tr><th scope=col>sepal.length</th><th scope=col>sepal.width</th><th scope=col>petal.length</th><th scope=col>petal.width</th><th scope=col>Species</th></tr></thead>\n",
       "<tbody>\n",
       "\t<tr><td>6.7           </td><td>3.3           </td><td>5.7           </td><td>2.5           </td><td>Iris-virginica</td></tr>\n",
       "\t<tr><td>6.7           </td><td>3.0           </td><td>5.2           </td><td>2.3           </td><td>Iris-virginica</td></tr>\n",
       "\t<tr><td>6.3           </td><td>2.5           </td><td>5.0           </td><td>1.9           </td><td>Iris-virginica</td></tr>\n",
       "\t<tr><td>6.5           </td><td>3.0           </td><td>5.2           </td><td>2.0           </td><td>Iris-virginica</td></tr>\n",
       "\t<tr><td>6.2           </td><td>3.4           </td><td>5.4           </td><td>2.3           </td><td>Iris-virginica</td></tr>\n",
       "\t<tr><td>5.9           </td><td>3.0           </td><td>5.1           </td><td>1.8           </td><td>Iris-virginica</td></tr>\n",
       "</tbody>\n",
       "</table>\n"
      ],
      "text/latex": [
       "\\begin{tabular}{r|lllll}\n",
       " sepal.length & sepal.width & petal.length & petal.width & Species\\\\\n",
       "\\hline\n",
       "\t 6.7            & 3.3            & 5.7            & 2.5            & Iris-virginica\\\\\n",
       "\t 6.7            & 3.0            & 5.2            & 2.3            & Iris-virginica\\\\\n",
       "\t 6.3            & 2.5            & 5.0            & 1.9            & Iris-virginica\\\\\n",
       "\t 6.5            & 3.0            & 5.2            & 2.0            & Iris-virginica\\\\\n",
       "\t 6.2            & 3.4            & 5.4            & 2.3            & Iris-virginica\\\\\n",
       "\t 5.9            & 3.0            & 5.1            & 1.8            & Iris-virginica\\\\\n",
       "\\end{tabular}\n"
      ],
      "text/markdown": [
       "\n",
       "sepal.length | sepal.width | petal.length | petal.width | Species | \n",
       "|---|---|---|---|---|---|\n",
       "| 6.7            | 3.3            | 5.7            | 2.5            | Iris-virginica | \n",
       "| 6.7            | 3.0            | 5.2            | 2.3            | Iris-virginica | \n",
       "| 6.3            | 2.5            | 5.0            | 1.9            | Iris-virginica | \n",
       "| 6.5            | 3.0            | 5.2            | 2.0            | Iris-virginica | \n",
       "| 6.2            | 3.4            | 5.4            | 2.3            | Iris-virginica | \n",
       "| 5.9            | 3.0            | 5.1            | 1.8            | Iris-virginica | \n",
       "\n",
       "\n"
      ],
      "text/plain": [
       "  sepal.length sepal.width petal.length petal.width Species       \n",
       "1 6.7          3.3         5.7          2.5         Iris-virginica\n",
       "2 6.7          3.0         5.2          2.3         Iris-virginica\n",
       "3 6.3          2.5         5.0          1.9         Iris-virginica\n",
       "4 6.5          3.0         5.2          2.0         Iris-virginica\n",
       "5 6.2          3.4         5.4          2.3         Iris-virginica\n",
       "6 5.9          3.0         5.1          1.8         Iris-virginica"
      ]
     },
     "metadata": {},
     "output_type": "display_data"
    }
   ],
   "source": [
    "tail(iris)"
   ]
  },
  {
   "cell_type": "code",
   "execution_count": 7,
   "metadata": {
    "collapsed": true
   },
   "outputs": [],
   "source": [
    "## checking the datatype of each column"
   ]
  },
  {
   "cell_type": "code",
   "execution_count": 8,
   "metadata": {},
   "outputs": [
    {
     "data": {
      "text/html": [
       "<dl class=dl-horizontal>\n",
       "\t<dt>sepal.length</dt>\n",
       "\t\t<dd>'numeric'</dd>\n",
       "\t<dt>sepal.width</dt>\n",
       "\t\t<dd>'numeric'</dd>\n",
       "\t<dt>petal.length</dt>\n",
       "\t\t<dd>'numeric'</dd>\n",
       "\t<dt>petal.width</dt>\n",
       "\t\t<dd>'numeric'</dd>\n",
       "\t<dt>Species</dt>\n",
       "\t\t<dd>'factor'</dd>\n",
       "</dl>\n"
      ],
      "text/latex": [
       "\\begin{description*}\n",
       "\\item[sepal.length] 'numeric'\n",
       "\\item[sepal.width] 'numeric'\n",
       "\\item[petal.length] 'numeric'\n",
       "\\item[petal.width] 'numeric'\n",
       "\\item[Species] 'factor'\n",
       "\\end{description*}\n"
      ],
      "text/markdown": [
       "sepal.length\n",
       ":   'numeric'sepal.width\n",
       ":   'numeric'petal.length\n",
       ":   'numeric'petal.width\n",
       ":   'numeric'Species\n",
       ":   'factor'\n",
       "\n"
      ],
      "text/plain": [
       "sepal.length  sepal.width petal.length  petal.width      Species \n",
       "   \"numeric\"    \"numeric\"    \"numeric\"    \"numeric\"     \"factor\" "
      ]
     },
     "metadata": {},
     "output_type": "display_data"
    }
   ],
   "source": [
    "sapply(iris, class)"
   ]
  },
  {
   "cell_type": "code",
   "execution_count": 9,
   "metadata": {},
   "outputs": [
    {
     "name": "stdout",
     "output_type": "stream",
     "text": [
      "Classes 'tbl_df', 'tbl' and 'data.frame':\t150 obs. of  5 variables:\n",
      " $ sepal.length: num  5.1 4.9 4.7 4.6 5 5.4 4.6 5 4.4 4.9 ...\n",
      " $ sepal.width : num  3.5 3 3.2 3.1 3.6 3.9 3.4 3.4 2.9 3.1 ...\n",
      " $ petal.length: num  1.4 1.4 1.3 1.5 1.4 1.7 1.4 1.5 1.4 1.5 ...\n",
      " $ petal.width : num  0.2 0.2 0.2 0.2 0.2 0.4 0.3 0.2 0.2 0.1 ...\n",
      " $ Species     : Factor w/ 3 levels \"Iris-setosa\",..: 1 1 1 1 1 1 1 1 1 1 ...\n",
      " - attr(*, \"spec\")=List of 2\n",
      "  ..$ cols   :List of 5\n",
      "  .. ..$ sepal.length: list()\n",
      "  .. .. ..- attr(*, \"class\")= chr  \"collector_double\" \"collector\"\n",
      "  .. ..$ sepal.width : list()\n",
      "  .. .. ..- attr(*, \"class\")= chr  \"collector_double\" \"collector\"\n",
      "  .. ..$ petal.length: list()\n",
      "  .. .. ..- attr(*, \"class\")= chr  \"collector_double\" \"collector\"\n",
      "  .. ..$ petal.width : list()\n",
      "  .. .. ..- attr(*, \"class\")= chr  \"collector_double\" \"collector\"\n",
      "  .. ..$ Species     :List of 3\n",
      "  .. .. ..$ levels    : chr  \"Iris-setosa\" \"Iris-virginica\" \"Iris-versicolor\"\n",
      "  .. .. ..$ ordered   : logi FALSE\n",
      "  .. .. ..$ include_na: logi FALSE\n",
      "  .. .. ..- attr(*, \"class\")= chr  \"collector_factor\" \"collector\"\n",
      "  ..$ default: list()\n",
      "  .. ..- attr(*, \"class\")= chr  \"collector_guess\" \"collector\"\n",
      "  ..- attr(*, \"class\")= chr \"col_spec\"\n"
     ]
    }
   ],
   "source": [
    "str(iris)"
   ]
  },
  {
   "cell_type": "code",
   "execution_count": 10,
   "metadata": {
    "collapsed": true
   },
   "outputs": [],
   "source": [
    "## calculating univariate statistics on each column"
   ]
  },
  {
   "cell_type": "code",
   "execution_count": 11,
   "metadata": {},
   "outputs": [
    {
     "data": {
      "text/plain": [
       "  sepal.length    sepal.width     petal.length    petal.width   \n",
       " Min.   :4.300   Min.   :2.000   Min.   :1.000   Min.   :0.100  \n",
       " 1st Qu.:5.100   1st Qu.:2.800   1st Qu.:1.600   1st Qu.:0.300  \n",
       " Median :5.800   Median :3.000   Median :4.350   Median :1.300  \n",
       " Mean   :5.843   Mean   :3.054   Mean   :3.759   Mean   :1.199  \n",
       " 3rd Qu.:6.400   3rd Qu.:3.300   3rd Qu.:5.100   3rd Qu.:1.800  \n",
       " Max.   :7.900   Max.   :4.400   Max.   :6.900   Max.   :2.500  \n",
       "            Species  \n",
       " Iris-setosa    :50  \n",
       " Iris-virginica :50  \n",
       " Iris-versicolor:50  \n",
       "                     \n",
       "                     \n",
       "                     "
      ]
     },
     "metadata": {},
     "output_type": "display_data"
    }
   ],
   "source": [
    "summary(iris)"
   ]
  },
  {
   "cell_type": "code",
   "execution_count": 12,
   "metadata": {
    "collapsed": true
   },
   "outputs": [],
   "source": [
    "## calculating univariate statistics on each species"
   ]
  },
  {
   "cell_type": "code",
   "execution_count": 14,
   "metadata": {},
   "outputs": [
    {
     "data": {
      "text/plain": [
       "$`Iris-setosa`\n",
       "   Min. 1st Qu.  Median    Mean 3rd Qu.    Max. \n",
       "  4.300   4.800   5.000   5.006   5.200   5.800 \n",
       "\n",
       "$`Iris-virginica`\n",
       "   Min. 1st Qu.  Median    Mean 3rd Qu.    Max. \n",
       "  4.900   6.225   6.500   6.588   6.900   7.900 \n",
       "\n",
       "$`Iris-versicolor`\n",
       "   Min. 1st Qu.  Median    Mean 3rd Qu.    Max. \n",
       "  4.900   5.600   5.900   5.936   6.300   7.000 \n"
      ]
     },
     "metadata": {},
     "output_type": "display_data"
    }
   ],
   "source": [
    "tapply(iris[[\"sepal.length\"]], iris$Species, summary)"
   ]
  },
  {
   "cell_type": "code",
   "execution_count": 15,
   "metadata": {},
   "outputs": [
    {
     "data": {
      "text/plain": [
       "$`Iris-setosa`\n",
       "   Min. 1st Qu.  Median    Mean 3rd Qu.    Max. \n",
       "  2.300   3.125   3.400   3.418   3.675   4.400 \n",
       "\n",
       "$`Iris-virginica`\n",
       "   Min. 1st Qu.  Median    Mean 3rd Qu.    Max. \n",
       "  2.200   2.800   3.000   2.974   3.175   3.800 \n",
       "\n",
       "$`Iris-versicolor`\n",
       "   Min. 1st Qu.  Median    Mean 3rd Qu.    Max. \n",
       "  2.000   2.525   2.800   2.770   3.000   3.400 \n"
      ]
     },
     "metadata": {},
     "output_type": "display_data"
    }
   ],
   "source": [
    "tapply(iris[[\"sepal.width\"]], iris$Species, summary)"
   ]
  },
  {
   "cell_type": "code",
   "execution_count": 16,
   "metadata": {},
   "outputs": [
    {
     "data": {
      "text/html": [
       "<table>\n",
       "<thead><tr><th scope=col>Species</th><th scope=col>mean(sepal.length)</th></tr></thead>\n",
       "<tbody>\n",
       "\t<tr><td>Iris-setosa    </td><td>5.006          </td></tr>\n",
       "\t<tr><td>Iris-virginica </td><td>6.588          </td></tr>\n",
       "\t<tr><td>Iris-versicolor</td><td>5.936          </td></tr>\n",
       "</tbody>\n",
       "</table>\n"
      ],
      "text/latex": [
       "\\begin{tabular}{r|ll}\n",
       " Species & mean(sepal.length)\\\\\n",
       "\\hline\n",
       "\t Iris-setosa     & 5.006          \\\\\n",
       "\t Iris-virginica  & 6.588          \\\\\n",
       "\t Iris-versicolor & 5.936          \\\\\n",
       "\\end{tabular}\n"
      ],
      "text/markdown": [
       "\n",
       "Species | mean(sepal.length) | \n",
       "|---|---|---|\n",
       "| Iris-setosa     | 5.006           | \n",
       "| Iris-virginica  | 6.588           | \n",
       "| Iris-versicolor | 5.936           | \n",
       "\n",
       "\n"
      ],
      "text/plain": [
       "  Species         mean(sepal.length)\n",
       "1 Iris-setosa     5.006             \n",
       "2 Iris-virginica  6.588             \n",
       "3 Iris-versicolor 5.936             "
      ]
     },
     "metadata": {},
     "output_type": "display_data"
    }
   ],
   "source": [
    "summarise(group_by(iris,Species), mean(sepal.length))"
   ]
  },
  {
   "cell_type": "code",
   "execution_count": 17,
   "metadata": {},
   "outputs": [
    {
     "data": {
      "text/html": [
       "<table>\n",
       "<thead><tr><th scope=col>Species</th><th scope=col>median(sepal.length)</th></tr></thead>\n",
       "<tbody>\n",
       "\t<tr><td>Iris-setosa    </td><td>5.0            </td></tr>\n",
       "\t<tr><td>Iris-virginica </td><td>6.5            </td></tr>\n",
       "\t<tr><td>Iris-versicolor</td><td>5.9            </td></tr>\n",
       "</tbody>\n",
       "</table>\n"
      ],
      "text/latex": [
       "\\begin{tabular}{r|ll}\n",
       " Species & median(sepal.length)\\\\\n",
       "\\hline\n",
       "\t Iris-setosa     & 5.0            \\\\\n",
       "\t Iris-virginica  & 6.5            \\\\\n",
       "\t Iris-versicolor & 5.9            \\\\\n",
       "\\end{tabular}\n"
      ],
      "text/markdown": [
       "\n",
       "Species | median(sepal.length) | \n",
       "|---|---|---|\n",
       "| Iris-setosa     | 5.0             | \n",
       "| Iris-virginica  | 6.5             | \n",
       "| Iris-versicolor | 5.9             | \n",
       "\n",
       "\n"
      ],
      "text/plain": [
       "  Species         median(sepal.length)\n",
       "1 Iris-setosa     5.0                 \n",
       "2 Iris-virginica  6.5                 \n",
       "3 Iris-versicolor 5.9                 "
      ]
     },
     "metadata": {},
     "output_type": "display_data"
    }
   ],
   "source": [
    "summarise(group_by(iris,Species), median(sepal.length))"
   ]
  },
  {
   "cell_type": "code",
   "execution_count": 18,
   "metadata": {},
   "outputs": [
    {
     "name": "stderr",
     "output_type": "stream",
     "text": [
      "`stat_bin()` using `bins = 30`. Pick better value with `binwidth`.\n"
     ]
    },
    {
     "data": {},
     "metadata": {},
     "output_type": "display_data"
    },
    {
     "data": {
      "image/png": "[encoded data removed]",
      "text/plain": [
       "plot without title"
      ]
     },
     "metadata": {},
     "output_type": "display_data"
    }
   ],
   "source": [
    "ggplot(iris, aes(iris$petal.length)) + geom_histogram()"
   ]
  },
  {
   "cell_type": "code",
   "execution_count": 19,
   "metadata": {},
   "outputs": [
    {
     "name": "stderr",
     "output_type": "stream",
     "text": [
      "`stat_bin()` using `bins = 30`. Pick better value with `binwidth`.\n"
     ]
    },
    {
     "data": {},
     "metadata": {},
     "output_type": "display_data"
    },
    {
     "data": {
      "image/png": "[encoded data removed]",
      "text/plain": [
       "plot without title"
      ]
     },
     "metadata": {},
     "output_type": "display_data"
    }
   ],
   "source": [
    "ggplot(iris, aes(iris$petal.width)) + geom_histogram()"
   ]
  },
  {
   "cell_type": "code",
   "execution_count": 20,
   "metadata": {},
   "outputs": [
    {
     "data": {},
     "metadata": {},
     "output_type": "display_data"
    },
    {
     "data": {
      "image/png": "[encoded data removed]",
      "text/plain": [
       "plot without title"
      ]
     },
     "metadata": {},
     "output_type": "display_data"
    }
   ],
   "source": [
    "ggplot(iris, aes(Species,sepal.length)) + geom_boxplot()"
   ]
  }
 ],
 "metadata": {
  "kernelspec": {
   "display_name": "R 3.3",
   "language": "R",
   "name": "ir33"
  },
  "language_info": {
   "codemirror_mode": "r",
   "file_extension": ".r",
   "mimetype": "text/x-r-source",
   "name": "R",
   "pygments_lexer": "r",
   "version": "3.3.2"
  }
 },
 "nbformat": 4,
 "nbformat_minor": 2
}
