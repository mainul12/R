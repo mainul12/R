{
 "cells": [
  {
   "cell_type": "code",
   "execution_count": 1,
   "metadata": {},
   "outputs": [],
   "source": [
    "library(readr)"
   ]
  },
  {
   "cell_type": "code",
   "execution_count": 2,
   "metadata": {},
   "outputs": [
    {
     "name": "stderr",
     "output_type": "stream",
     "text": [
      "Parsed with column specification:\n",
      "cols(\n",
      "  state = col_character(),\n",
      "  capital = col_character(),\n",
      "  pop_mill = col_double(),\n",
      "  area_sqm = col_integer()\n",
      ")\n"
     ]
    }
   ],
   "source": [
    "states <- read_csv(\"states.csv\")"
   ]
  },
  {
   "cell_type": "code",
   "execution_count": 3,
   "metadata": {},
   "outputs": [
    {
     "data": {
      "text/html": [
       "<table>\n",
       "<thead><tr><th scope=col>state</th><th scope=col>capital</th><th scope=col>pop_mill</th><th scope=col>area_sqm</th></tr></thead>\n",
       "<tbody>\n",
       "\t<tr><td>South Dakota</td><td>Pierre      </td><td> 0.853      </td><td>77116       </td></tr>\n",
       "\t<tr><td>New York    </td><td>Albany      </td><td>19.746      </td><td>54555       </td></tr>\n",
       "\t<tr><td>Oregon      </td><td>Salem       </td><td> 3.970      </td><td>98381       </td></tr>\n",
       "\t<tr><td>Vermont     </td><td>Montpelier  </td><td> 0.627      </td><td> 9616       </td></tr>\n",
       "\t<tr><td>Hawaii      </td><td>Honolulu    </td><td> 1.420      </td><td>10931       </td></tr>\n",
       "</tbody>\n",
       "</table>\n"
      ],
      "text/latex": [
       "\\begin{tabular}{r|llll}\n",
       " state & capital & pop\\_mill & area\\_sqm\\\\\n",
       "\\hline\n",
       "\t South Dakota & Pierre       &  0.853       & 77116       \\\\\n",
       "\t New York     & Albany       & 19.746       & 54555       \\\\\n",
       "\t Oregon       & Salem        &  3.970       & 98381       \\\\\n",
       "\t Vermont      & Montpelier   &  0.627       &  9616       \\\\\n",
       "\t Hawaii       & Honolulu     &  1.420       & 10931       \\\\\n",
       "\\end{tabular}\n"
      ],
      "text/markdown": [
       "\n",
       "state | capital | pop_mill | area_sqm | \n",
       "|---|---|---|---|---|\n",
       "| South Dakota | Pierre       |  0.853       | 77116        | \n",
       "| New York     | Albany       | 19.746       | 54555        | \n",
       "| Oregon       | Salem        |  3.970       | 98381        | \n",
       "| Vermont      | Montpelier   |  0.627       |  9616        | \n",
       "| Hawaii       | Honolulu     |  1.420       | 10931        | \n",
       "\n",
       "\n"
      ],
      "text/plain": [
       "  state        capital    pop_mill area_sqm\n",
       "1 South Dakota Pierre      0.853   77116   \n",
       "2 New York     Albany     19.746   54555   \n",
       "3 Oregon       Salem       3.970   98381   \n",
       "4 Vermont      Montpelier  0.627    9616   \n",
       "5 Hawaii       Honolulu    1.420   10931   "
      ]
     },
     "metadata": {},
     "output_type": "display_data"
    }
   ],
   "source": [
    "states"
   ]
  },
  {
   "cell_type": "code",
   "execution_count": 4,
   "metadata": {},
   "outputs": [
    {
     "name": "stderr",
     "output_type": "stream",
     "text": [
      "Parsed with column specification:\n",
      "cols(\n",
      "  area = col_integer(),\n",
      "  temp = col_integer(),\n",
      "  size = col_integer(),\n",
      "  storage = col_integer(),\n",
      "  method = col_integer(),\n",
      "  texture = col_double(),\n",
      "  flavor = col_double(),\n",
      "  moistness = col_double()\n",
      ")\n"
     ]
    }
   ],
   "source": [
    "potatoes <- read_csv(\"potatoes.csv\")"
   ]
  },
  {
   "cell_type": "code",
   "execution_count": 6,
   "metadata": {},
   "outputs": [
    {
     "data": {
      "text/html": [
       "<table>\n",
       "<thead><tr><th scope=col>area</th><th scope=col>temp</th><th scope=col>size</th><th scope=col>storage</th><th scope=col>method</th><th scope=col>texture</th><th scope=col>flavor</th><th scope=col>moistness</th></tr></thead>\n",
       "<tbody>\n",
       "\t<tr><td>1  </td><td>1  </td><td>1  </td><td>1  </td><td>1  </td><td>2.9</td><td>3.2</td><td>3.0</td></tr>\n",
       "\t<tr><td>1  </td><td>1  </td><td>1  </td><td>1  </td><td>2  </td><td>2.3</td><td>2.5</td><td>2.6</td></tr>\n",
       "\t<tr><td>1  </td><td>1  </td><td>1  </td><td>1  </td><td>3  </td><td>2.5</td><td>2.8</td><td>2.8</td></tr>\n",
       "</tbody>\n",
       "</table>\n"
      ],
      "text/latex": [
       "\\begin{tabular}{r|llllllll}\n",
       " area & temp & size & storage & method & texture & flavor & moistness\\\\\n",
       "\\hline\n",
       "\t 1   & 1   & 1   & 1   & 1   & 2.9 & 3.2 & 3.0\\\\\n",
       "\t 1   & 1   & 1   & 1   & 2   & 2.3 & 2.5 & 2.6\\\\\n",
       "\t 1   & 1   & 1   & 1   & 3   & 2.5 & 2.8 & 2.8\\\\\n",
       "\\end{tabular}\n"
      ],
      "text/markdown": [
       "\n",
       "area | temp | size | storage | method | texture | flavor | moistness | \n",
       "|---|---|---|\n",
       "| 1   | 1   | 1   | 1   | 1   | 2.9 | 3.2 | 3.0 | \n",
       "| 1   | 1   | 1   | 1   | 2   | 2.3 | 2.5 | 2.6 | \n",
       "| 1   | 1   | 1   | 1   | 3   | 2.5 | 2.8 | 2.8 | \n",
       "\n",
       "\n"
      ],
      "text/plain": [
       "  area temp size storage method texture flavor moistness\n",
       "1 1    1    1    1       1      2.9     3.2    3.0      \n",
       "2 1    1    1    1       2      2.3     2.5    2.6      \n",
       "3 1    1    1    1       3      2.5     2.8    2.8      "
      ]
     },
     "metadata": {},
     "output_type": "display_data"
    }
   ],
   "source": [
    "head(potatoes,3)"
   ]
  },
  {
   "cell_type": "code",
   "execution_count": 7,
   "metadata": {},
   "outputs": [],
   "source": [
    "column_names <- c(\"area\", \"temp\", \"size\", \"storage\", \"method\",\n",
    "                \"texture\", \"flavor\", \"moistness\")"
   ]
  },
  {
   "cell_type": "code",
   "execution_count": 8,
   "metadata": {},
   "outputs": [
    {
     "name": "stderr",
     "output_type": "stream",
     "text": [
      "Parsed with column specification:\n",
      "cols(\n",
      "  area = col_integer(),\n",
      "  temp = col_integer(),\n",
      "  size = col_integer(),\n",
      "  storage = col_integer(),\n",
      "  method = col_integer(),\n",
      "  texture = col_double(),\n",
      "  flavor = col_double(),\n",
      "  moistness = col_double()\n",
      ")\n"
     ]
    }
   ],
   "source": [
    "potatoes_t <- read_tsv(\"potatoes.txt\", col_names = column_names)"
   ]
  },
  {
   "cell_type": "code",
   "execution_count": 9,
   "metadata": {},
   "outputs": [
    {
     "data": {
      "text/html": [
       "<table>\n",
       "<thead><tr><th scope=col>area</th><th scope=col>temp</th><th scope=col>size</th><th scope=col>storage</th><th scope=col>method</th><th scope=col>texture</th><th scope=col>flavor</th><th scope=col>moistness</th></tr></thead>\n",
       "<tbody>\n",
       "\t<tr><td>1  </td><td>1  </td><td>1  </td><td>1  </td><td>1  </td><td>2.9</td><td>3.2</td><td>3.0</td></tr>\n",
       "\t<tr><td>1  </td><td>1  </td><td>1  </td><td>1  </td><td>2  </td><td>2.3</td><td>2.5</td><td>2.6</td></tr>\n",
       "\t<tr><td>1  </td><td>1  </td><td>1  </td><td>1  </td><td>3  </td><td>2.5</td><td>2.8</td><td>2.8</td></tr>\n",
       "</tbody>\n",
       "</table>\n"
      ],
      "text/latex": [
       "\\begin{tabular}{r|llllllll}\n",
       " area & temp & size & storage & method & texture & flavor & moistness\\\\\n",
       "\\hline\n",
       "\t 1   & 1   & 1   & 1   & 1   & 2.9 & 3.2 & 3.0\\\\\n",
       "\t 1   & 1   & 1   & 1   & 2   & 2.3 & 2.5 & 2.6\\\\\n",
       "\t 1   & 1   & 1   & 1   & 3   & 2.5 & 2.8 & 2.8\\\\\n",
       "\\end{tabular}\n"
      ],
      "text/markdown": [
       "\n",
       "area | temp | size | storage | method | texture | flavor | moistness | \n",
       "|---|---|---|\n",
       "| 1   | 1   | 1   | 1   | 1   | 2.9 | 3.2 | 3.0 | \n",
       "| 1   | 1   | 1   | 1   | 2   | 2.3 | 2.5 | 2.6 | \n",
       "| 1   | 1   | 1   | 1   | 3   | 2.5 | 2.8 | 2.8 | \n",
       "\n",
       "\n"
      ],
      "text/plain": [
       "  area temp size storage method texture flavor moistness\n",
       "1 1    1    1    1       1      2.9     3.2    3.0      \n",
       "2 1    1    1    1       2      2.3     2.5    2.6      \n",
       "3 1    1    1    1       3      2.5     2.8    2.8      "
      ]
     },
     "metadata": {},
     "output_type": "display_data"
    }
   ],
   "source": [
    "head(potatoes_t, 3)"
   ]
  },
  {
   "cell_type": "code",
   "execution_count": 10,
   "metadata": {},
   "outputs": [
    {
     "name": "stderr",
     "output_type": "stream",
     "text": [
      "Parsed with column specification:\n",
      "cols(\n",
      "  state = col_character(),\n",
      "  capital = col_character(),\n",
      "  pop_mill = col_double(),\n",
      "  area_sqm = col_integer()\n",
      ")\n"
     ]
    }
   ],
   "source": [
    "states2 <- read_delim(\"states2.txt\", delim = \"/\")"
   ]
  },
  {
   "cell_type": "code",
   "execution_count": 11,
   "metadata": {},
   "outputs": [
    {
     "data": {
      "text/html": [
       "<table>\n",
       "<thead><tr><th scope=col>state</th><th scope=col>capital</th><th scope=col>pop_mill</th><th scope=col>area_sqm</th></tr></thead>\n",
       "<tbody>\n",
       "\t<tr><td>South Dakota</td><td>Pierre      </td><td> 0.853      </td><td>77116       </td></tr>\n",
       "\t<tr><td>New York    </td><td>Albany      </td><td>19.746      </td><td>54555       </td></tr>\n",
       "\t<tr><td>Oregon      </td><td>Salem       </td><td> 3.970      </td><td>98381       </td></tr>\n",
       "\t<tr><td>Vermont     </td><td>Montpelier  </td><td> 0.627      </td><td> 9616       </td></tr>\n",
       "\t<tr><td>Hawaii      </td><td>Honolulu    </td><td> 1.420      </td><td>10931       </td></tr>\n",
       "</tbody>\n",
       "</table>\n"
      ],
      "text/latex": [
       "\\begin{tabular}{r|llll}\n",
       " state & capital & pop\\_mill & area\\_sqm\\\\\n",
       "\\hline\n",
       "\t South Dakota & Pierre       &  0.853       & 77116       \\\\\n",
       "\t New York     & Albany       & 19.746       & 54555       \\\\\n",
       "\t Oregon       & Salem        &  3.970       & 98381       \\\\\n",
       "\t Vermont      & Montpelier   &  0.627       &  9616       \\\\\n",
       "\t Hawaii       & Honolulu     &  1.420       & 10931       \\\\\n",
       "\\end{tabular}\n"
      ],
      "text/markdown": [
       "\n",
       "state | capital | pop_mill | area_sqm | \n",
       "|---|---|---|---|---|\n",
       "| South Dakota | Pierre       |  0.853       | 77116        | \n",
       "| New York     | Albany       | 19.746       | 54555        | \n",
       "| Oregon       | Salem        |  3.970       | 98381        | \n",
       "| Vermont      | Montpelier   |  0.627       |  9616        | \n",
       "| Hawaii       | Honolulu     |  1.420       | 10931        | \n",
       "\n",
       "\n"
      ],
      "text/plain": [
       "  state        capital    pop_mill area_sqm\n",
       "1 South Dakota Pierre      0.853   77116   \n",
       "2 New York     Albany     19.746   54555   \n",
       "3 Oregon       Salem       3.970   98381   \n",
       "4 Vermont      Montpelier  0.627    9616   \n",
       "5 Hawaii       Honolulu    1.420   10931   "
      ]
     },
     "metadata": {},
     "output_type": "display_data"
    }
   ],
   "source": [
    "states2"
   ]
  },
  {
   "cell_type": "code",
   "execution_count": 12,
   "metadata": {},
   "outputs": [
    {
     "name": "stderr",
     "output_type": "stream",
     "text": [
      "Parsed with column specification:\n",
      "cols(\n",
      "  X1 = col_character(),\n",
      "  X2 = col_character(),\n",
      "  X3 = col_double(),\n",
      "  X4 = col_integer()\n",
      ")\n"
     ]
    }
   ],
   "source": [
    "states3 <- read_delim(\"states3.txt\", delim = \"/\", col_names = F)"
   ]
  },
  {
   "cell_type": "code",
   "execution_count": 13,
   "metadata": {},
   "outputs": [
    {
     "data": {
      "text/html": [
       "<table>\n",
       "<thead><tr><th scope=col>X1</th><th scope=col>X2</th><th scope=col>X3</th><th scope=col>X4</th></tr></thead>\n",
       "<tbody>\n",
       "\t<tr><td>South Dakota</td><td>Pierre      </td><td> 0.853      </td><td>77116       </td></tr>\n",
       "\t<tr><td>New York    </td><td>Albany      </td><td>19.746      </td><td>54555       </td></tr>\n",
       "\t<tr><td>Oregon      </td><td>Salem       </td><td> 3.970      </td><td>98381       </td></tr>\n",
       "\t<tr><td>Vermont     </td><td>Montpelier  </td><td> 0.627      </td><td> 9616       </td></tr>\n",
       "\t<tr><td>Hawaii      </td><td>Honolulu    </td><td> 1.420      </td><td>10931       </td></tr>\n",
       "</tbody>\n",
       "</table>\n"
      ],
      "text/latex": [
       "\\begin{tabular}{r|llll}\n",
       " X1 & X2 & X3 & X4\\\\\n",
       "\\hline\n",
       "\t South Dakota & Pierre       &  0.853       & 77116       \\\\\n",
       "\t New York     & Albany       & 19.746       & 54555       \\\\\n",
       "\t Oregon       & Salem        &  3.970       & 98381       \\\\\n",
       "\t Vermont      & Montpelier   &  0.627       &  9616       \\\\\n",
       "\t Hawaii       & Honolulu     &  1.420       & 10931       \\\\\n",
       "\\end{tabular}\n"
      ],
      "text/markdown": [
       "\n",
       "X1 | X2 | X3 | X4 | \n",
       "|---|---|---|---|---|\n",
       "| South Dakota | Pierre       |  0.853       | 77116        | \n",
       "| New York     | Albany       | 19.746       | 54555        | \n",
       "| Oregon       | Salem        |  3.970       | 98381        | \n",
       "| Vermont      | Montpelier   |  0.627       |  9616        | \n",
       "| Hawaii       | Honolulu     |  1.420       | 10931        | \n",
       "\n",
       "\n"
      ],
      "text/plain": [
       "  X1           X2         X3     X4   \n",
       "1 South Dakota Pierre      0.853 77116\n",
       "2 New York     Albany     19.746 54555\n",
       "3 Oregon       Salem       3.970 98381\n",
       "4 Vermont      Montpelier  0.627  9616\n",
       "5 Hawaii       Honolulu    1.420 10931"
      ]
     },
     "metadata": {},
     "output_type": "display_data"
    }
   ],
   "source": [
    "states3"
   ]
  },
  {
   "cell_type": "code",
   "execution_count": 14,
   "metadata": {},
   "outputs": [
    {
     "name": "stderr",
     "output_type": "stream",
     "text": [
      "Parsed with column specification:\n",
      "cols(\n",
      "  state = col_character(),\n",
      "  city = col_character(),\n",
      "  pop = col_double(),\n",
      "  area = col_integer()\n",
      ")\n"
     ]
    }
   ],
   "source": [
    "states3.1 <- read_delim(\"states3.txt\", delim = \"/\", col_names = c(\"state\", \"city\", \"pop\", \"area\"))"
   ]
  },
  {
   "cell_type": "code",
   "execution_count": 15,
   "metadata": {},
   "outputs": [
    {
     "data": {
      "text/html": [
       "<table>\n",
       "<thead><tr><th scope=col>state</th><th scope=col>city</th><th scope=col>pop</th><th scope=col>area</th></tr></thead>\n",
       "<tbody>\n",
       "\t<tr><td>South Dakota</td><td>Pierre      </td><td> 0.853      </td><td>77116       </td></tr>\n",
       "\t<tr><td>New York    </td><td>Albany      </td><td>19.746      </td><td>54555       </td></tr>\n",
       "\t<tr><td>Oregon      </td><td>Salem       </td><td> 3.970      </td><td>98381       </td></tr>\n",
       "\t<tr><td>Vermont     </td><td>Montpelier  </td><td> 0.627      </td><td> 9616       </td></tr>\n",
       "\t<tr><td>Hawaii      </td><td>Honolulu    </td><td> 1.420      </td><td>10931       </td></tr>\n",
       "</tbody>\n",
       "</table>\n"
      ],
      "text/latex": [
       "\\begin{tabular}{r|llll}\n",
       " state & city & pop & area\\\\\n",
       "\\hline\n",
       "\t South Dakota & Pierre       &  0.853       & 77116       \\\\\n",
       "\t New York     & Albany       & 19.746       & 54555       \\\\\n",
       "\t Oregon       & Salem        &  3.970       & 98381       \\\\\n",
       "\t Vermont      & Montpelier   &  0.627       &  9616       \\\\\n",
       "\t Hawaii       & Honolulu     &  1.420       & 10931       \\\\\n",
       "\\end{tabular}\n"
      ],
      "text/markdown": [
       "\n",
       "state | city | pop | area | \n",
       "|---|---|---|---|---|\n",
       "| South Dakota | Pierre       |  0.853       | 77116        | \n",
       "| New York     | Albany       | 19.746       | 54555        | \n",
       "| Oregon       | Salem        |  3.970       | 98381        | \n",
       "| Vermont      | Montpelier   |  0.627       |  9616        | \n",
       "| Hawaii       | Honolulu     |  1.420       | 10931        | \n",
       "\n",
       "\n"
      ],
      "text/plain": [
       "  state        city       pop    area \n",
       "1 South Dakota Pierre      0.853 77116\n",
       "2 New York     Albany     19.746 54555\n",
       "3 Oregon       Salem       3.970 98381\n",
       "4 Vermont      Montpelier  0.627  9616\n",
       "5 Hawaii       Honolulu    1.420 10931"
      ]
     },
     "metadata": {},
     "output_type": "display_data"
    }
   ],
   "source": [
    "states3.1"
   ]
  },
  {
   "cell_type": "code",
   "execution_count": 16,
   "metadata": {},
   "outputs": [],
   "source": [
    "states2_col <- read_delim(\"states2.txt\", delim = \"/\", col_types = \"ccdd\")"
   ]
  },
  {
   "cell_type": "code",
   "execution_count": 17,
   "metadata": {},
   "outputs": [
    {
     "data": {
      "text/html": [
       "<table>\n",
       "<thead><tr><th scope=col>state</th><th scope=col>capital</th><th scope=col>pop_mill</th><th scope=col>area_sqm</th></tr></thead>\n",
       "<tbody>\n",
       "\t<tr><td>South Dakota</td><td>Pierre      </td><td> 0.853      </td><td>77116       </td></tr>\n",
       "\t<tr><td>New York    </td><td>Albany      </td><td>19.746      </td><td>54555       </td></tr>\n",
       "\t<tr><td>Oregon      </td><td>Salem       </td><td> 3.970      </td><td>98381       </td></tr>\n",
       "\t<tr><td>Vermont     </td><td>Montpelier  </td><td> 0.627      </td><td> 9616       </td></tr>\n",
       "\t<tr><td>Hawaii      </td><td>Honolulu    </td><td> 1.420      </td><td>10931       </td></tr>\n",
       "</tbody>\n",
       "</table>\n"
      ],
      "text/latex": [
       "\\begin{tabular}{r|llll}\n",
       " state & capital & pop\\_mill & area\\_sqm\\\\\n",
       "\\hline\n",
       "\t South Dakota & Pierre       &  0.853       & 77116       \\\\\n",
       "\t New York     & Albany       & 19.746       & 54555       \\\\\n",
       "\t Oregon       & Salem        &  3.970       & 98381       \\\\\n",
       "\t Vermont      & Montpelier   &  0.627       &  9616       \\\\\n",
       "\t Hawaii       & Honolulu     &  1.420       & 10931       \\\\\n",
       "\\end{tabular}\n"
      ],
      "text/markdown": [
       "\n",
       "state | capital | pop_mill | area_sqm | \n",
       "|---|---|---|---|---|\n",
       "| South Dakota | Pierre       |  0.853       | 77116        | \n",
       "| New York     | Albany       | 19.746       | 54555        | \n",
       "| Oregon       | Salem        |  3.970       | 98381        | \n",
       "| Vermont      | Montpelier   |  0.627       |  9616        | \n",
       "| Hawaii       | Honolulu     |  1.420       | 10931        | \n",
       "\n",
       "\n"
      ],
      "text/plain": [
       "  state        capital    pop_mill area_sqm\n",
       "1 South Dakota Pierre      0.853   77116   \n",
       "2 New York     Albany     19.746   54555   \n",
       "3 Oregon       Salem       3.970   98381   \n",
       "4 Vermont      Montpelier  0.627    9616   \n",
       "5 Hawaii       Honolulu    1.420   10931   "
      ]
     },
     "metadata": {},
     "output_type": "display_data"
    }
   ],
   "source": [
    "states2_col"
   ]
  },
  {
   "cell_type": "code",
   "execution_count": 26,
   "metadata": {},
   "outputs": [
    {
     "name": "stdout",
     "output_type": "stream",
     "text": [
      "# A tibble: 5 x 4\n",
      "  state        capital    pop_mill area_sqm\n",
      "  <chr>        <chr>         <dbl>    <dbl>\n",
      "1 South Dakota Pierre        0.853    77116\n",
      "2 New York     Albany       19.7      54555\n",
      "3 Oregon       Salem         3.97     98381\n",
      "4 Vermont      Montpelier    0.627     9616\n",
      "5 Hawaii       Honolulu      1.42     10931\n"
     ]
    }
   ],
   "source": [
    "print(states2_col)"
   ]
  },
  {
   "cell_type": "code",
   "execution_count": 19,
   "metadata": {},
   "outputs": [
    {
     "name": "stderr",
     "output_type": "stream",
     "text": [
      "Parsed with column specification:\n",
      "cols(\n",
      "  `New York` = col_character(),\n",
      "  Albany = col_character(),\n",
      "  `19.746` = col_double(),\n",
      "  `54555` = col_integer()\n",
      ")\n"
     ]
    },
    {
     "data": {
      "text/html": [
       "<table>\n",
       "<thead><tr><th scope=col>New York</th><th scope=col>Albany</th><th scope=col>19.746</th><th scope=col>54555</th></tr></thead>\n",
       "<tbody>\n",
       "\t<tr><td>Oregon    </td><td>Salem     </td><td>3.970     </td><td>98381     </td></tr>\n",
       "\t<tr><td>Vermont   </td><td>Montpelier</td><td>0.627     </td><td> 9616     </td></tr>\n",
       "\t<tr><td>Hawaii    </td><td>Honolulu  </td><td>1.420     </td><td>10931     </td></tr>\n",
       "</tbody>\n",
       "</table>\n"
      ],
      "text/latex": [
       "\\begin{tabular}{r|llll}\n",
       " New York & Albany & 19.746 & 54555\\\\\n",
       "\\hline\n",
       "\t Oregon     & Salem      & 3.970      & 98381     \\\\\n",
       "\t Vermont    & Montpelier & 0.627      &  9616     \\\\\n",
       "\t Hawaii     & Honolulu   & 1.420      & 10931     \\\\\n",
       "\\end{tabular}\n"
      ],
      "text/markdown": [
       "\n",
       "New York | Albany | 19.746 | 54555 | \n",
       "|---|---|---|\n",
       "| Oregon     | Salem      | 3.970      | 98381      | \n",
       "| Vermont    | Montpelier | 0.627      |  9616      | \n",
       "| Hawaii     | Honolulu   | 1.420      | 10931      | \n",
       "\n",
       "\n"
      ],
      "text/plain": [
       "  New York Albany     19.746 54555\n",
       "1 Oregon   Salem      3.970  98381\n",
       "2 Vermont  Montpelier 0.627   9616\n",
       "3 Hawaii   Honolulu   1.420  10931"
      ]
     },
     "metadata": {},
     "output_type": "display_data"
    }
   ],
   "source": [
    "read_delim(\"states2.txt\", skip = 2, n_max = 3, delim = \"/\")"
   ]
  },
  {
   "cell_type": "code",
   "execution_count": 24,
   "metadata": {},
   "outputs": [
    {
     "name": "stderr",
     "output_type": "stream",
     "text": [
      "Parsed with column specification:\n",
      "cols(\n",
      "  state = col_character(),\n",
      "  capital = col_character(),\n",
      "  pop = col_double(),\n",
      "  area = col_integer()\n",
      ")\n"
     ]
    },
    {
     "data": {
      "text/html": [
       "<table>\n",
       "<thead><tr><th scope=col>state</th><th scope=col>capital</th><th scope=col>pop</th><th scope=col>area</th></tr></thead>\n",
       "<tbody>\n",
       "\t<tr><td>New York  </td><td>Albany    </td><td>19.746    </td><td>54555     </td></tr>\n",
       "\t<tr><td>Oregon    </td><td>Salem     </td><td> 3.970    </td><td>98381     </td></tr>\n",
       "\t<tr><td>Vermont   </td><td>Montpelier</td><td> 0.627    </td><td> 9616     </td></tr>\n",
       "\t<tr><td>Hawaii    </td><td>Honolulu  </td><td> 1.420    </td><td>10931     </td></tr>\n",
       "</tbody>\n",
       "</table>\n"
      ],
      "text/latex": [
       "\\begin{tabular}{r|llll}\n",
       " state & capital & pop & area\\\\\n",
       "\\hline\n",
       "\t New York   & Albany     & 19.746     & 54555     \\\\\n",
       "\t Oregon     & Salem      &  3.970     & 98381     \\\\\n",
       "\t Vermont    & Montpelier &  0.627     &  9616     \\\\\n",
       "\t Hawaii     & Honolulu   &  1.420     & 10931     \\\\\n",
       "\\end{tabular}\n"
      ],
      "text/markdown": [
       "\n",
       "state | capital | pop | area | \n",
       "|---|---|---|---|\n",
       "| New York   | Albany     | 19.746     | 54555      | \n",
       "| Oregon     | Salem      |  3.970     | 98381      | \n",
       "| Vermont    | Montpelier |  0.627     |  9616      | \n",
       "| Hawaii     | Honolulu   |  1.420     | 10931      | \n",
       "\n",
       "\n"
      ],
      "text/plain": [
       "  state    capital    pop    area \n",
       "1 New York Albany     19.746 54555\n",
       "2 Oregon   Salem       3.970 98381\n",
       "3 Vermont  Montpelier  0.627  9616\n",
       "4 Hawaii   Honolulu    1.420 10931"
      ]
     },
     "metadata": {},
     "output_type": "display_data"
    }
   ],
   "source": [
    "read_delim(\"states2.txt\", skip = 2, delim = \"/\", col_names = c(\"state\", \"capital\", \"pop\", \"area\"))"
   ]
  },
  {
   "cell_type": "code",
   "execution_count": 25,
   "metadata": {},
   "outputs": [
    {
     "name": "stderr",
     "output_type": "stream",
     "text": [
      "Parsed with column specification:\n",
      "cols(\n",
      "  area = col_integer(),\n",
      "  temp = col_integer(),\n",
      "  size = col_integer(),\n",
      "  storage = col_integer(),\n",
      "  method = col_integer(),\n",
      "  texture = col_double(),\n",
      "  flavor = col_double(),\n",
      "  moistness = col_double()\n",
      ")\n"
     ]
    },
    {
     "name": "stdout",
     "output_type": "stream",
     "text": [
      "# A tibble: 160 x 8\n",
      "    area  temp  size storage method texture flavor moistness\n",
      "   <int> <int> <int>   <int>  <int>   <dbl>  <dbl>     <dbl>\n",
      " 1     1     1     1       1      1     2.9    3.2       3  \n",
      " 2     1     1     1       1      2     2.3    2.5       2.6\n",
      " 3     1     1     1       1      3     2.5    2.8       2.8\n",
      " 4     1     1     1       1      4     2.1    2.9       2.4\n",
      " 5     1     1     1       1      5     1.9    2.8       2.2\n",
      " 6     1     1     1       2      1     1.8    3         1.7\n",
      " 7     1     1     1       2      2     2.6    3.1       2.4\n",
      " 8     1     1     1       2      3     3      3         2.9\n",
      " 9     1     1     1       2      4     2.2    3.2       2.5\n",
      "10     1     1     1       2      5     2      2.8       1.9\n",
      "# ... with 150 more rows\n"
     ]
    }
   ],
   "source": [
    "properties <- c(\"area\", \"temp\", \"size\", \"storage\", \"method\",\n",
    "                \"texture\", \"flavor\", \"moistness\")\n",
    "\n",
    "# Import potatoes.txt using read_delim(): potatoes\n",
    "potatoes_txt <- read_delim(\"potatoes.txt\", delim = \"\\t\", col_names = properties)\n",
    "\n",
    "# Print out potatoes\n",
    "print(potatoes)"
   ]
  },
  {
   "cell_type": "code",
   "execution_count": 27,
   "metadata": {},
   "outputs": [
    {
     "name": "stderr",
     "output_type": "stream",
     "text": [
      "Parsed with column specification:\n",
      "cols(\n",
      "  area = col_integer(),\n",
      "  temp = col_integer(),\n",
      "  size = col_integer(),\n",
      "  storage = col_integer(),\n",
      "  method = col_integer(),\n",
      "  texture = col_double(),\n",
      "  flavor = col_double(),\n",
      "  moistness = col_double()\n",
      ")\n"
     ]
    }
   ],
   "source": [
    "properties <- c(\"area\", \"temp\", \"size\", \"storage\", \"method\",\n",
    "                \"texture\", \"flavor\", \"moistness\")\n",
    "\n",
    "# Import 5 observations from potatoes.txt: potatoes_fragment\n",
    "potatoes_fragment <- read_tsv(\"potatoes.txt\", skip = 6, n_max = 5, col_names = properties)"
   ]
  },
  {
   "cell_type": "code",
   "execution_count": 28,
   "metadata": {},
   "outputs": [
    {
     "data": {
      "text/html": [
       "<table>\n",
       "<thead><tr><th scope=col>area</th><th scope=col>temp</th><th scope=col>size</th><th scope=col>storage</th><th scope=col>method</th><th scope=col>texture</th><th scope=col>flavor</th><th scope=col>moistness</th></tr></thead>\n",
       "<tbody>\n",
       "\t<tr><td>1  </td><td>1  </td><td>1  </td><td>2  </td><td>2  </td><td>2.6</td><td>3.1</td><td>2.4</td></tr>\n",
       "\t<tr><td>1  </td><td>1  </td><td>1  </td><td>2  </td><td>3  </td><td>3.0</td><td>3.0</td><td>2.9</td></tr>\n",
       "\t<tr><td>1  </td><td>1  </td><td>1  </td><td>2  </td><td>4  </td><td>2.2</td><td>3.2</td><td>2.5</td></tr>\n",
       "\t<tr><td>1  </td><td>1  </td><td>1  </td><td>2  </td><td>5  </td><td>2.0</td><td>2.8</td><td>1.9</td></tr>\n",
       "\t<tr><td>1  </td><td>1  </td><td>1  </td><td>3  </td><td>1  </td><td>1.8</td><td>2.6</td><td>1.5</td></tr>\n",
       "</tbody>\n",
       "</table>\n"
      ],
      "text/latex": [
       "\\begin{tabular}{r|llllllll}\n",
       " area & temp & size & storage & method & texture & flavor & moistness\\\\\n",
       "\\hline\n",
       "\t 1   & 1   & 1   & 2   & 2   & 2.6 & 3.1 & 2.4\\\\\n",
       "\t 1   & 1   & 1   & 2   & 3   & 3.0 & 3.0 & 2.9\\\\\n",
       "\t 1   & 1   & 1   & 2   & 4   & 2.2 & 3.2 & 2.5\\\\\n",
       "\t 1   & 1   & 1   & 2   & 5   & 2.0 & 2.8 & 1.9\\\\\n",
       "\t 1   & 1   & 1   & 3   & 1   & 1.8 & 2.6 & 1.5\\\\\n",
       "\\end{tabular}\n"
      ],
      "text/markdown": [
       "\n",
       "area | temp | size | storage | method | texture | flavor | moistness | \n",
       "|---|---|---|---|---|\n",
       "| 1   | 1   | 1   | 2   | 2   | 2.6 | 3.1 | 2.4 | \n",
       "| 1   | 1   | 1   | 2   | 3   | 3.0 | 3.0 | 2.9 | \n",
       "| 1   | 1   | 1   | 2   | 4   | 2.2 | 3.2 | 2.5 | \n",
       "| 1   | 1   | 1   | 2   | 5   | 2.0 | 2.8 | 1.9 | \n",
       "| 1   | 1   | 1   | 3   | 1   | 1.8 | 2.6 | 1.5 | \n",
       "\n",
       "\n"
      ],
      "text/plain": [
       "  area temp size storage method texture flavor moistness\n",
       "1 1    1    1    2       2      2.6     3.1    2.4      \n",
       "2 1    1    1    2       3      3.0     3.0    2.9      \n",
       "3 1    1    1    2       4      2.2     3.2    2.5      \n",
       "4 1    1    1    2       5      2.0     2.8    1.9      \n",
       "5 1    1    1    3       1      1.8     2.6    1.5      "
      ]
     },
     "metadata": {},
     "output_type": "display_data"
    }
   ],
   "source": [
    "potatoes_fragment"
   ]
  },
  {
   "cell_type": "code",
   "execution_count": 30,
   "metadata": {},
   "outputs": [],
   "source": [
    "properties <- c(\"area\", \"temp\", \"size\", \"storage\", \"method\",\n",
    "                \"texture\", \"flavor\", \"moistness\")\n",
    "\n",
    "# Import all data, but force all columns to be character: potatoes_char\n",
    "potatoes_char <- read_tsv(\"potatoes.txt\", col_types = \"cccccccc\", col_names = properties)"
   ]
  },
  {
   "cell_type": "code",
   "execution_count": 31,
   "metadata": {},
   "outputs": [
    {
     "name": "stdout",
     "output_type": "stream",
     "text": [
      "Classes 'tbl_df', 'tbl' and 'data.frame':\t160 obs. of  8 variables:\n",
      " $ area     : chr  \"1\" \"1\" \"1\" \"1\" ...\n",
      " $ temp     : chr  \"1\" \"1\" \"1\" \"1\" ...\n",
      " $ size     : chr  \"1\" \"1\" \"1\" \"1\" ...\n",
      " $ storage  : chr  \"1\" \"1\" \"1\" \"1\" ...\n",
      " $ method   : chr  \"1\" \"2\" \"3\" \"4\" ...\n",
      " $ texture  : chr  \"2.9\" \"2.3\" \"2.5\" \"2.1\" ...\n",
      " $ flavor   : chr  \"3.2\" \"2.5\" \"2.8\" \"2.9\" ...\n",
      " $ moistness: chr  \"3.0\" \"2.6\" \"2.8\" \"2.4\" ...\n",
      " - attr(*, \"spec\")=List of 2\n",
      "  ..$ cols   :List of 8\n",
      "  .. ..$ area     : list()\n",
      "  .. .. ..- attr(*, \"class\")= chr  \"collector_character\" \"collector\"\n",
      "  .. ..$ temp     : list()\n",
      "  .. .. ..- attr(*, \"class\")= chr  \"collector_character\" \"collector\"\n",
      "  .. ..$ size     : list()\n",
      "  .. .. ..- attr(*, \"class\")= chr  \"collector_character\" \"collector\"\n",
      "  .. ..$ storage  : list()\n",
      "  .. .. ..- attr(*, \"class\")= chr  \"collector_character\" \"collector\"\n",
      "  .. ..$ method   : list()\n",
      "  .. .. ..- attr(*, \"class\")= chr  \"collector_character\" \"collector\"\n",
      "  .. ..$ texture  : list()\n",
      "  .. .. ..- attr(*, \"class\")= chr  \"collector_character\" \"collector\"\n",
      "  .. ..$ flavor   : list()\n",
      "  .. .. ..- attr(*, \"class\")= chr  \"collector_character\" \"collector\"\n",
      "  .. ..$ moistness: list()\n",
      "  .. .. ..- attr(*, \"class\")= chr  \"collector_character\" \"collector\"\n",
      "  ..$ default: list()\n",
      "  .. ..- attr(*, \"class\")= chr  \"collector_guess\" \"collector\"\n",
      "  ..- attr(*, \"class\")= chr \"col_spec\"\n"
     ]
    }
   ],
   "source": [
    "str(potatoes_char)"
   ]
  },
  {
   "cell_type": "code",
   "execution_count": 32,
   "metadata": {},
   "outputs": [
    {
     "name": "stderr",
     "output_type": "stream",
     "text": [
      "Parsed with column specification:\n",
      "cols(\n",
      "  type = col_character(),\n",
      "  calories = col_integer(),\n",
      "  sodium = col_integer()\n",
      ")\n"
     ]
    }
   ],
   "source": [
    "hotdogs <- read_tsv(\"hotdogs.txt\", col_names = c(\"type\", \"calories\", \"sodium\"))"
   ]
  },
  {
   "cell_type": "code",
   "execution_count": 34,
   "metadata": {},
   "outputs": [
    {
     "data": {
      "text/html": [
       "<table>\n",
       "<thead><tr><th scope=col>type</th><th scope=col>calories</th><th scope=col>sodium</th></tr></thead>\n",
       "<tbody>\n",
       "\t<tr><td>Beef</td><td>186 </td><td>495 </td></tr>\n",
       "\t<tr><td>Beef</td><td>181 </td><td>477 </td></tr>\n",
       "\t<tr><td>Beef</td><td>176 </td><td>425 </td></tr>\n",
       "\t<tr><td>Beef</td><td>149 </td><td>322 </td></tr>\n",
       "\t<tr><td>Beef</td><td>184 </td><td>482 </td></tr>\n",
       "\t<tr><td>Beef</td><td>190 </td><td>587 </td></tr>\n",
       "</tbody>\n",
       "</table>\n"
      ],
      "text/latex": [
       "\\begin{tabular}{r|lll}\n",
       " type & calories & sodium\\\\\n",
       "\\hline\n",
       "\t Beef & 186  & 495 \\\\\n",
       "\t Beef & 181  & 477 \\\\\n",
       "\t Beef & 176  & 425 \\\\\n",
       "\t Beef & 149  & 322 \\\\\n",
       "\t Beef & 184  & 482 \\\\\n",
       "\t Beef & 190  & 587 \\\\\n",
       "\\end{tabular}\n"
      ],
      "text/markdown": [
       "\n",
       "type | calories | sodium | \n",
       "|---|---|---|---|---|---|\n",
       "| Beef | 186  | 495  | \n",
       "| Beef | 181  | 477  | \n",
       "| Beef | 176  | 425  | \n",
       "| Beef | 149  | 322  | \n",
       "| Beef | 184  | 482  | \n",
       "| Beef | 190  | 587  | \n",
       "\n",
       "\n"
      ],
      "text/plain": [
       "  type calories sodium\n",
       "1 Beef 186      495   \n",
       "2 Beef 181      477   \n",
       "3 Beef 176      425   \n",
       "4 Beef 149      322   \n",
       "5 Beef 184      482   \n",
       "6 Beef 190      587   "
      ]
     },
     "metadata": {},
     "output_type": "display_data"
    }
   ],
   "source": [
    "head(hotdogs)"
   ]
  },
  {
   "cell_type": "code",
   "execution_count": 35,
   "metadata": {},
   "outputs": [
    {
     "data": {
      "text/plain": [
       "     type              calories         sodium     \n",
       " Length:54          Min.   : 86.0   Min.   :144.0  \n",
       " Class :character   1st Qu.:132.0   1st Qu.:362.5  \n",
       " Mode  :character   Median :145.0   Median :405.0  \n",
       "                    Mean   :145.4   Mean   :424.8  \n",
       "                    3rd Qu.:172.8   3rd Qu.:503.5  \n",
       "                    Max.   :195.0   Max.   :645.0  "
      ]
     },
     "metadata": {},
     "output_type": "display_data"
    }
   ],
   "source": [
    "summary(hotdogs)"
   ]
  },
  {
   "cell_type": "code",
   "execution_count": 36,
   "metadata": {},
   "outputs": [
    {
     "name": "stderr",
     "output_type": "stream",
     "text": [
      "Parsed with column specification:\n",
      "cols(\n",
      "  type = col_character(),\n",
      "  calories = col_integer(),\n",
      "  sodium = col_integer()\n",
      ")\n"
     ]
    },
    {
     "data": {
      "text/plain": [
       "     type              calories         sodium     \n",
       " Length:54          Min.   : 86.0   Min.   :144.0  \n",
       " Class :character   1st Qu.:132.0   1st Qu.:362.5  \n",
       " Mode  :character   Median :145.0   Median :405.0  \n",
       "                    Mean   :145.4   Mean   :424.8  \n",
       "                    3rd Qu.:172.8   3rd Qu.:503.5  \n",
       "                    Max.   :195.0   Max.   :645.0  "
      ]
     },
     "metadata": {},
     "output_type": "display_data"
    }
   ],
   "source": [
    "# Import without col_types\n",
    "hotdogs <- read_tsv(\"hotdogs.txt\", col_names = c(\"type\", \"calories\", \"sodium\"))\n",
    "\n",
    "# Display the summary of hotdogs\n",
    "summary(hotdogs)"
   ]
  },
  {
   "cell_type": "code",
   "execution_count": 37,
   "metadata": {},
   "outputs": [
    {
     "data": {
      "text/plain": [
       "      type       calories         sodium     \n",
       " Beef   :20   Min.   : 86.0   Min.   :144.0  \n",
       " Meat   :17   1st Qu.:132.0   1st Qu.:362.5  \n",
       " Poultry:17   Median :145.0   Median :405.0  \n",
       "              Mean   :145.4   Mean   :424.8  \n",
       "              3rd Qu.:172.8   3rd Qu.:503.5  \n",
       "              Max.   :195.0   Max.   :645.0  "
      ]
     },
     "metadata": {},
     "output_type": "display_data"
    }
   ],
   "source": [
    "# The collectors you will need to import the data\n",
    "fac <- col_factor(levels = c(\"Beef\", \"Meat\", \"Poultry\"))\n",
    "int <- col_integer()\n",
    "\n",
    "# Edit the col_types argument to import the data correctly: hotdogs_factor\n",
    "hotdogs_factor <- read_tsv(\"hotdogs.txt\",\n",
    "                           col_names = c(\"type\", \"calories\", \"sodium\"),\n",
    "                           col_types = list(fac,int,int))\n",
    "\n",
    "# Display the summary of hotdogs_factor\n",
    "summary(hotdogs_factor)"
   ]
  },
  {
   "cell_type": "code",
   "execution_count": null,
   "metadata": {},
   "outputs": [],
   "source": []
  }
 ],
 "metadata": {
  "kernelspec": {
   "display_name": "R",
   "language": "R",
   "name": "ir"
  },
  "language_info": {
   "codemirror_mode": "r",
   "file_extension": ".r",
   "mimetype": "text/x-r-source",
   "name": "R",
   "pygments_lexer": "r",
   "version": "3.5.1"
  }
 },
 "nbformat": 4,
 "nbformat_minor": 2
}
