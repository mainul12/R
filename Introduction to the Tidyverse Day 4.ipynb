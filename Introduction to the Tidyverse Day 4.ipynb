{
 "cells": [
  {
   "cell_type": "code",
   "execution_count": 1,
   "metadata": {},
   "outputs": [],
   "source": [
    "library(gapminder)"
   ]
  },
  {
   "cell_type": "code",
   "execution_count": 2,
   "metadata": {},
   "outputs": [
    {
     "name": "stderr",
     "output_type": "stream",
     "text": [
      "\n",
      "Attaching package: 'dplyr'\n",
      "\n",
      "The following objects are masked from 'package:stats':\n",
      "\n",
      "    filter, lag\n",
      "\n",
      "The following objects are masked from 'package:base':\n",
      "\n",
      "    intersect, setdiff, setequal, union\n",
      "\n"
     ]
    }
   ],
   "source": [
    "library(dplyr)"
   ]
  },
  {
   "cell_type": "code",
   "execution_count": 16,
   "metadata": {},
   "outputs": [],
   "source": [
    "library(ggplot2)"
   ]
  },
  {
   "cell_type": "code",
   "execution_count": 3,
   "metadata": {},
   "outputs": [
    {
     "data": {
      "text/html": [
       "<table>\n",
       "<thead><tr><th scope=col>country</th><th scope=col>continent</th><th scope=col>year</th><th scope=col>lifeExp</th><th scope=col>pop</th><th scope=col>gdpPercap</th></tr></thead>\n",
       "<tbody>\n",
       "\t<tr><td>Afghanistan</td><td>Asia       </td><td>1952       </td><td>28.801     </td><td> 8425333   </td><td> 779.4453  </td></tr>\n",
       "\t<tr><td>Afghanistan</td><td>Asia       </td><td>1957       </td><td>30.332     </td><td> 9240934   </td><td> 820.8530  </td></tr>\n",
       "\t<tr><td>Afghanistan</td><td>Asia       </td><td>1962       </td><td>31.997     </td><td>10267083   </td><td> 853.1007  </td></tr>\n",
       "\t<tr><td>Afghanistan</td><td>Asia       </td><td>1967       </td><td>34.020     </td><td>11537966   </td><td> 836.1971  </td></tr>\n",
       "\t<tr><td>Afghanistan</td><td>Asia       </td><td>1972       </td><td>36.088     </td><td>13079460   </td><td> 739.9811  </td></tr>\n",
       "\t<tr><td>Afghanistan</td><td>Asia       </td><td>1977       </td><td>38.438     </td><td>14880372   </td><td> 786.1134  </td></tr>\n",
       "\t<tr><td>Afghanistan</td><td>Asia       </td><td>1982       </td><td>39.854     </td><td>12881816   </td><td> 978.0114  </td></tr>\n",
       "\t<tr><td>Afghanistan</td><td>Asia       </td><td>1987       </td><td>40.822     </td><td>13867957   </td><td> 852.3959  </td></tr>\n",
       "\t<tr><td>Afghanistan</td><td>Asia       </td><td>1992       </td><td>41.674     </td><td>16317921   </td><td> 649.3414  </td></tr>\n",
       "\t<tr><td>Afghanistan</td><td>Asia       </td><td>1997       </td><td>41.763     </td><td>22227415   </td><td> 635.3414  </td></tr>\n",
       "\t<tr><td>Afghanistan</td><td>Asia       </td><td>2002       </td><td>42.129     </td><td>25268405   </td><td> 726.7341  </td></tr>\n",
       "\t<tr><td>Afghanistan</td><td>Asia       </td><td>2007       </td><td>43.828     </td><td>31889923   </td><td> 974.5803  </td></tr>\n",
       "\t<tr><td>Albania    </td><td>Europe     </td><td>1952       </td><td>55.230     </td><td> 1282697   </td><td>1601.0561  </td></tr>\n",
       "\t<tr><td>Albania    </td><td>Europe     </td><td>1957       </td><td>59.280     </td><td> 1476505   </td><td>1942.2842  </td></tr>\n",
       "\t<tr><td>Albania    </td><td>Europe     </td><td>1962       </td><td>64.820     </td><td> 1728137   </td><td>2312.8890  </td></tr>\n",
       "\t<tr><td>Albania    </td><td>Europe     </td><td>1967       </td><td>66.220     </td><td> 1984060   </td><td>2760.1969  </td></tr>\n",
       "\t<tr><td>Albania    </td><td>Europe     </td><td>1972       </td><td>67.690     </td><td> 2263554   </td><td>3313.4222  </td></tr>\n",
       "\t<tr><td>Albania    </td><td>Europe     </td><td>1977       </td><td>68.930     </td><td> 2509048   </td><td>3533.0039  </td></tr>\n",
       "\t<tr><td>Albania    </td><td>Europe     </td><td>1982       </td><td>70.420     </td><td> 2780097   </td><td>3630.8807  </td></tr>\n",
       "\t<tr><td>Albania    </td><td>Europe     </td><td>1987       </td><td>72.000     </td><td> 3075321   </td><td>3738.9327  </td></tr>\n",
       "\t<tr><td>Albania    </td><td>Europe     </td><td>1992       </td><td>71.581     </td><td> 3326498   </td><td>2497.4379  </td></tr>\n",
       "\t<tr><td>Albania    </td><td>Europe     </td><td>1997       </td><td>72.950     </td><td> 3428038   </td><td>3193.0546  </td></tr>\n",
       "\t<tr><td>Albania    </td><td>Europe     </td><td>2002       </td><td>75.651     </td><td> 3508512   </td><td>4604.2117  </td></tr>\n",
       "\t<tr><td>Albania    </td><td>Europe     </td><td>2007       </td><td>76.423     </td><td> 3600523   </td><td>5937.0295  </td></tr>\n",
       "\t<tr><td>Algeria    </td><td>Africa     </td><td>1952       </td><td>43.077     </td><td> 9279525   </td><td>2449.0082  </td></tr>\n",
       "\t<tr><td>Algeria    </td><td>Africa     </td><td>1957       </td><td>45.685     </td><td>10270856   </td><td>3013.9760  </td></tr>\n",
       "\t<tr><td>Algeria    </td><td>Africa     </td><td>1962       </td><td>48.303     </td><td>11000948   </td><td>2550.8169  </td></tr>\n",
       "\t<tr><td>Algeria    </td><td>Africa     </td><td>1967       </td><td>51.407     </td><td>12760499   </td><td>3246.9918  </td></tr>\n",
       "\t<tr><td>Algeria    </td><td>Africa     </td><td>1972       </td><td>54.518     </td><td>14760787   </td><td>4182.6638  </td></tr>\n",
       "\t<tr><td>Algeria    </td><td>Africa     </td><td>1977       </td><td>58.014     </td><td>17152804   </td><td>4910.4168  </td></tr>\n",
       "\t<tr><td>...</td><td>...</td><td>...</td><td>...</td><td>...</td><td>...</td></tr>\n",
       "\t<tr><td>Yemen, Rep.</td><td>Asia       </td><td>1982       </td><td>49.113     </td><td> 9657618   </td><td>1977.5570  </td></tr>\n",
       "\t<tr><td>Yemen, Rep.</td><td>Asia       </td><td>1987       </td><td>52.922     </td><td>11219340   </td><td>1971.7415  </td></tr>\n",
       "\t<tr><td>Yemen, Rep.</td><td>Asia       </td><td>1992       </td><td>55.599     </td><td>13367997   </td><td>1879.4967  </td></tr>\n",
       "\t<tr><td>Yemen, Rep.</td><td>Asia       </td><td>1997       </td><td>58.020     </td><td>15826497   </td><td>2117.4845  </td></tr>\n",
       "\t<tr><td>Yemen, Rep.</td><td>Asia       </td><td>2002       </td><td>60.308     </td><td>18701257   </td><td>2234.8208  </td></tr>\n",
       "\t<tr><td>Yemen, Rep.</td><td>Asia       </td><td>2007       </td><td>62.698     </td><td>22211743   </td><td>2280.7699  </td></tr>\n",
       "\t<tr><td>Zambia     </td><td>Africa     </td><td>1952       </td><td>42.038     </td><td> 2672000   </td><td>1147.3888  </td></tr>\n",
       "\t<tr><td>Zambia     </td><td>Africa     </td><td>1957       </td><td>44.077     </td><td> 3016000   </td><td>1311.9568  </td></tr>\n",
       "\t<tr><td>Zambia     </td><td>Africa     </td><td>1962       </td><td>46.023     </td><td> 3421000   </td><td>1452.7258  </td></tr>\n",
       "\t<tr><td>Zambia     </td><td>Africa     </td><td>1967       </td><td>47.768     </td><td> 3900000   </td><td>1777.0773  </td></tr>\n",
       "\t<tr><td>Zambia     </td><td>Africa     </td><td>1972       </td><td>50.107     </td><td> 4506497   </td><td>1773.4983  </td></tr>\n",
       "\t<tr><td>Zambia     </td><td>Africa     </td><td>1977       </td><td>51.386     </td><td> 5216550   </td><td>1588.6883  </td></tr>\n",
       "\t<tr><td>Zambia     </td><td>Africa     </td><td>1982       </td><td>51.821     </td><td> 6100407   </td><td>1408.6786  </td></tr>\n",
       "\t<tr><td>Zambia     </td><td>Africa     </td><td>1987       </td><td>50.821     </td><td> 7272406   </td><td>1213.3151  </td></tr>\n",
       "\t<tr><td>Zambia     </td><td>Africa     </td><td>1992       </td><td>46.100     </td><td> 8381163   </td><td>1210.8846  </td></tr>\n",
       "\t<tr><td>Zambia     </td><td>Africa     </td><td>1997       </td><td>40.238     </td><td> 9417789   </td><td>1071.3538  </td></tr>\n",
       "\t<tr><td>Zambia     </td><td>Africa     </td><td>2002       </td><td>39.193     </td><td>10595811   </td><td>1071.6139  </td></tr>\n",
       "\t<tr><td>Zambia     </td><td>Africa     </td><td>2007       </td><td>42.384     </td><td>11746035   </td><td>1271.2116  </td></tr>\n",
       "\t<tr><td>Zimbabwe   </td><td>Africa     </td><td>1952       </td><td>48.451     </td><td> 3080907   </td><td> 406.8841  </td></tr>\n",
       "\t<tr><td>Zimbabwe   </td><td>Africa     </td><td>1957       </td><td>50.469     </td><td> 3646340   </td><td> 518.7643  </td></tr>\n",
       "\t<tr><td>Zimbabwe   </td><td>Africa     </td><td>1962       </td><td>52.358     </td><td> 4277736   </td><td> 527.2722  </td></tr>\n",
       "\t<tr><td>Zimbabwe   </td><td>Africa     </td><td>1967       </td><td>53.995     </td><td> 4995432   </td><td> 569.7951  </td></tr>\n",
       "\t<tr><td>Zimbabwe   </td><td>Africa     </td><td>1972       </td><td>55.635     </td><td> 5861135   </td><td> 799.3622  </td></tr>\n",
       "\t<tr><td>Zimbabwe   </td><td>Africa     </td><td>1977       </td><td>57.674     </td><td> 6642107   </td><td> 685.5877  </td></tr>\n",
       "\t<tr><td>Zimbabwe   </td><td>Africa     </td><td>1982       </td><td>60.363     </td><td> 7636524   </td><td> 788.8550  </td></tr>\n",
       "\t<tr><td>Zimbabwe   </td><td>Africa     </td><td>1987       </td><td>62.351     </td><td> 9216418   </td><td> 706.1573  </td></tr>\n",
       "\t<tr><td>Zimbabwe   </td><td>Africa     </td><td>1992       </td><td>60.377     </td><td>10704340   </td><td> 693.4208  </td></tr>\n",
       "\t<tr><td>Zimbabwe   </td><td>Africa     </td><td>1997       </td><td>46.809     </td><td>11404948   </td><td> 792.4500  </td></tr>\n",
       "\t<tr><td>Zimbabwe   </td><td>Africa     </td><td>2002       </td><td>39.989     </td><td>11926563   </td><td> 672.0386  </td></tr>\n",
       "\t<tr><td>Zimbabwe   </td><td>Africa     </td><td>2007       </td><td>43.487     </td><td>12311143   </td><td> 469.7093  </td></tr>\n",
       "</tbody>\n",
       "</table>\n"
      ],
      "text/latex": [
       "\\begin{tabular}{r|llllll}\n",
       " country & continent & year & lifeExp & pop & gdpPercap\\\\\n",
       "\\hline\n",
       "\t Afghanistan & Asia        & 1952        & 28.801      &  8425333    &  779.4453  \\\\\n",
       "\t Afghanistan & Asia        & 1957        & 30.332      &  9240934    &  820.8530  \\\\\n",
       "\t Afghanistan & Asia        & 1962        & 31.997      & 10267083    &  853.1007  \\\\\n",
       "\t Afghanistan & Asia        & 1967        & 34.020      & 11537966    &  836.1971  \\\\\n",
       "\t Afghanistan & Asia        & 1972        & 36.088      & 13079460    &  739.9811  \\\\\n",
       "\t Afghanistan & Asia        & 1977        & 38.438      & 14880372    &  786.1134  \\\\\n",
       "\t Afghanistan & Asia        & 1982        & 39.854      & 12881816    &  978.0114  \\\\\n",
       "\t Afghanistan & Asia        & 1987        & 40.822      & 13867957    &  852.3959  \\\\\n",
       "\t Afghanistan & Asia        & 1992        & 41.674      & 16317921    &  649.3414  \\\\\n",
       "\t Afghanistan & Asia        & 1997        & 41.763      & 22227415    &  635.3414  \\\\\n",
       "\t Afghanistan & Asia        & 2002        & 42.129      & 25268405    &  726.7341  \\\\\n",
       "\t Afghanistan & Asia        & 2007        & 43.828      & 31889923    &  974.5803  \\\\\n",
       "\t Albania     & Europe      & 1952        & 55.230      &  1282697    & 1601.0561  \\\\\n",
       "\t Albania     & Europe      & 1957        & 59.280      &  1476505    & 1942.2842  \\\\\n",
       "\t Albania     & Europe      & 1962        & 64.820      &  1728137    & 2312.8890  \\\\\n",
       "\t Albania     & Europe      & 1967        & 66.220      &  1984060    & 2760.1969  \\\\\n",
       "\t Albania     & Europe      & 1972        & 67.690      &  2263554    & 3313.4222  \\\\\n",
       "\t Albania     & Europe      & 1977        & 68.930      &  2509048    & 3533.0039  \\\\\n",
       "\t Albania     & Europe      & 1982        & 70.420      &  2780097    & 3630.8807  \\\\\n",
       "\t Albania     & Europe      & 1987        & 72.000      &  3075321    & 3738.9327  \\\\\n",
       "\t Albania     & Europe      & 1992        & 71.581      &  3326498    & 2497.4379  \\\\\n",
       "\t Albania     & Europe      & 1997        & 72.950      &  3428038    & 3193.0546  \\\\\n",
       "\t Albania     & Europe      & 2002        & 75.651      &  3508512    & 4604.2117  \\\\\n",
       "\t Albania     & Europe      & 2007        & 76.423      &  3600523    & 5937.0295  \\\\\n",
       "\t Algeria     & Africa      & 1952        & 43.077      &  9279525    & 2449.0082  \\\\\n",
       "\t Algeria     & Africa      & 1957        & 45.685      & 10270856    & 3013.9760  \\\\\n",
       "\t Algeria     & Africa      & 1962        & 48.303      & 11000948    & 2550.8169  \\\\\n",
       "\t Algeria     & Africa      & 1967        & 51.407      & 12760499    & 3246.9918  \\\\\n",
       "\t Algeria     & Africa      & 1972        & 54.518      & 14760787    & 4182.6638  \\\\\n",
       "\t Algeria     & Africa      & 1977        & 58.014      & 17152804    & 4910.4168  \\\\\n",
       "\t ... & ... & ... & ... & ... & ...\\\\\n",
       "\t Yemen, Rep. & Asia        & 1982        & 49.113      &  9657618    & 1977.5570  \\\\\n",
       "\t Yemen, Rep. & Asia        & 1987        & 52.922      & 11219340    & 1971.7415  \\\\\n",
       "\t Yemen, Rep. & Asia        & 1992        & 55.599      & 13367997    & 1879.4967  \\\\\n",
       "\t Yemen, Rep. & Asia        & 1997        & 58.020      & 15826497    & 2117.4845  \\\\\n",
       "\t Yemen, Rep. & Asia        & 2002        & 60.308      & 18701257    & 2234.8208  \\\\\n",
       "\t Yemen, Rep. & Asia        & 2007        & 62.698      & 22211743    & 2280.7699  \\\\\n",
       "\t Zambia      & Africa      & 1952        & 42.038      &  2672000    & 1147.3888  \\\\\n",
       "\t Zambia      & Africa      & 1957        & 44.077      &  3016000    & 1311.9568  \\\\\n",
       "\t Zambia      & Africa      & 1962        & 46.023      &  3421000    & 1452.7258  \\\\\n",
       "\t Zambia      & Africa      & 1967        & 47.768      &  3900000    & 1777.0773  \\\\\n",
       "\t Zambia      & Africa      & 1972        & 50.107      &  4506497    & 1773.4983  \\\\\n",
       "\t Zambia      & Africa      & 1977        & 51.386      &  5216550    & 1588.6883  \\\\\n",
       "\t Zambia      & Africa      & 1982        & 51.821      &  6100407    & 1408.6786  \\\\\n",
       "\t Zambia      & Africa      & 1987        & 50.821      &  7272406    & 1213.3151  \\\\\n",
       "\t Zambia      & Africa      & 1992        & 46.100      &  8381163    & 1210.8846  \\\\\n",
       "\t Zambia      & Africa      & 1997        & 40.238      &  9417789    & 1071.3538  \\\\\n",
       "\t Zambia      & Africa      & 2002        & 39.193      & 10595811    & 1071.6139  \\\\\n",
       "\t Zambia      & Africa      & 2007        & 42.384      & 11746035    & 1271.2116  \\\\\n",
       "\t Zimbabwe    & Africa      & 1952        & 48.451      &  3080907    &  406.8841  \\\\\n",
       "\t Zimbabwe    & Africa      & 1957        & 50.469      &  3646340    &  518.7643  \\\\\n",
       "\t Zimbabwe    & Africa      & 1962        & 52.358      &  4277736    &  527.2722  \\\\\n",
       "\t Zimbabwe    & Africa      & 1967        & 53.995      &  4995432    &  569.7951  \\\\\n",
       "\t Zimbabwe    & Africa      & 1972        & 55.635      &  5861135    &  799.3622  \\\\\n",
       "\t Zimbabwe    & Africa      & 1977        & 57.674      &  6642107    &  685.5877  \\\\\n",
       "\t Zimbabwe    & Africa      & 1982        & 60.363      &  7636524    &  788.8550  \\\\\n",
       "\t Zimbabwe    & Africa      & 1987        & 62.351      &  9216418    &  706.1573  \\\\\n",
       "\t Zimbabwe    & Africa      & 1992        & 60.377      & 10704340    &  693.4208  \\\\\n",
       "\t Zimbabwe    & Africa      & 1997        & 46.809      & 11404948    &  792.4500  \\\\\n",
       "\t Zimbabwe    & Africa      & 2002        & 39.989      & 11926563    &  672.0386  \\\\\n",
       "\t Zimbabwe    & Africa      & 2007        & 43.487      & 12311143    &  469.7093  \\\\\n",
       "\\end{tabular}\n"
      ],
      "text/markdown": [
       "\n",
       "country | continent | year | lifeExp | pop | gdpPercap | \n",
       "|---|---|---|---|---|---|---|---|---|---|---|---|---|---|---|---|---|---|---|---|---|---|---|---|---|---|---|---|---|---|---|---|---|---|---|---|---|---|---|---|---|---|---|---|---|---|---|---|---|---|---|---|---|---|---|---|---|---|---|---|---|\n",
       "| Afghanistan | Asia        | 1952        | 28.801      |  8425333    |  779.4453   | \n",
       "| Afghanistan | Asia        | 1957        | 30.332      |  9240934    |  820.8530   | \n",
       "| Afghanistan | Asia        | 1962        | 31.997      | 10267083    |  853.1007   | \n",
       "| Afghanistan | Asia        | 1967        | 34.020      | 11537966    |  836.1971   | \n",
       "| Afghanistan | Asia        | 1972        | 36.088      | 13079460    |  739.9811   | \n",
       "| Afghanistan | Asia        | 1977        | 38.438      | 14880372    |  786.1134   | \n",
       "| Afghanistan | Asia        | 1982        | 39.854      | 12881816    |  978.0114   | \n",
       "| Afghanistan | Asia        | 1987        | 40.822      | 13867957    |  852.3959   | \n",
       "| Afghanistan | Asia        | 1992        | 41.674      | 16317921    |  649.3414   | \n",
       "| Afghanistan | Asia        | 1997        | 41.763      | 22227415    |  635.3414   | \n",
       "| Afghanistan | Asia        | 2002        | 42.129      | 25268405    |  726.7341   | \n",
       "| Afghanistan | Asia        | 2007        | 43.828      | 31889923    |  974.5803   | \n",
       "| Albania     | Europe      | 1952        | 55.230      |  1282697    | 1601.0561   | \n",
       "| Albania     | Europe      | 1957        | 59.280      |  1476505    | 1942.2842   | \n",
       "| Albania     | Europe      | 1962        | 64.820      |  1728137    | 2312.8890   | \n",
       "| Albania     | Europe      | 1967        | 66.220      |  1984060    | 2760.1969   | \n",
       "| Albania     | Europe      | 1972        | 67.690      |  2263554    | 3313.4222   | \n",
       "| Albania     | Europe      | 1977        | 68.930      |  2509048    | 3533.0039   | \n",
       "| Albania     | Europe      | 1982        | 70.420      |  2780097    | 3630.8807   | \n",
       "| Albania     | Europe      | 1987        | 72.000      |  3075321    | 3738.9327   | \n",
       "| Albania     | Europe      | 1992        | 71.581      |  3326498    | 2497.4379   | \n",
       "| Albania     | Europe      | 1997        | 72.950      |  3428038    | 3193.0546   | \n",
       "| Albania     | Europe      | 2002        | 75.651      |  3508512    | 4604.2117   | \n",
       "| Albania     | Europe      | 2007        | 76.423      |  3600523    | 5937.0295   | \n",
       "| Algeria     | Africa      | 1952        | 43.077      |  9279525    | 2449.0082   | \n",
       "| Algeria     | Africa      | 1957        | 45.685      | 10270856    | 3013.9760   | \n",
       "| Algeria     | Africa      | 1962        | 48.303      | 11000948    | 2550.8169   | \n",
       "| Algeria     | Africa      | 1967        | 51.407      | 12760499    | 3246.9918   | \n",
       "| Algeria     | Africa      | 1972        | 54.518      | 14760787    | 4182.6638   | \n",
       "| Algeria     | Africa      | 1977        | 58.014      | 17152804    | 4910.4168   | \n",
       "| ... | ... | ... | ... | ... | ... | \n",
       "| Yemen, Rep. | Asia        | 1982        | 49.113      |  9657618    | 1977.5570   | \n",
       "| Yemen, Rep. | Asia        | 1987        | 52.922      | 11219340    | 1971.7415   | \n",
       "| Yemen, Rep. | Asia        | 1992        | 55.599      | 13367997    | 1879.4967   | \n",
       "| Yemen, Rep. | Asia        | 1997        | 58.020      | 15826497    | 2117.4845   | \n",
       "| Yemen, Rep. | Asia        | 2002        | 60.308      | 18701257    | 2234.8208   | \n",
       "| Yemen, Rep. | Asia        | 2007        | 62.698      | 22211743    | 2280.7699   | \n",
       "| Zambia      | Africa      | 1952        | 42.038      |  2672000    | 1147.3888   | \n",
       "| Zambia      | Africa      | 1957        | 44.077      |  3016000    | 1311.9568   | \n",
       "| Zambia      | Africa      | 1962        | 46.023      |  3421000    | 1452.7258   | \n",
       "| Zambia      | Africa      | 1967        | 47.768      |  3900000    | 1777.0773   | \n",
       "| Zambia      | Africa      | 1972        | 50.107      |  4506497    | 1773.4983   | \n",
       "| Zambia      | Africa      | 1977        | 51.386      |  5216550    | 1588.6883   | \n",
       "| Zambia      | Africa      | 1982        | 51.821      |  6100407    | 1408.6786   | \n",
       "| Zambia      | Africa      | 1987        | 50.821      |  7272406    | 1213.3151   | \n",
       "| Zambia      | Africa      | 1992        | 46.100      |  8381163    | 1210.8846   | \n",
       "| Zambia      | Africa      | 1997        | 40.238      |  9417789    | 1071.3538   | \n",
       "| Zambia      | Africa      | 2002        | 39.193      | 10595811    | 1071.6139   | \n",
       "| Zambia      | Africa      | 2007        | 42.384      | 11746035    | 1271.2116   | \n",
       "| Zimbabwe    | Africa      | 1952        | 48.451      |  3080907    |  406.8841   | \n",
       "| Zimbabwe    | Africa      | 1957        | 50.469      |  3646340    |  518.7643   | \n",
       "| Zimbabwe    | Africa      | 1962        | 52.358      |  4277736    |  527.2722   | \n",
       "| Zimbabwe    | Africa      | 1967        | 53.995      |  4995432    |  569.7951   | \n",
       "| Zimbabwe    | Africa      | 1972        | 55.635      |  5861135    |  799.3622   | \n",
       "| Zimbabwe    | Africa      | 1977        | 57.674      |  6642107    |  685.5877   | \n",
       "| Zimbabwe    | Africa      | 1982        | 60.363      |  7636524    |  788.8550   | \n",
       "| Zimbabwe    | Africa      | 1987        | 62.351      |  9216418    |  706.1573   | \n",
       "| Zimbabwe    | Africa      | 1992        | 60.377      | 10704340    |  693.4208   | \n",
       "| Zimbabwe    | Africa      | 1997        | 46.809      | 11404948    |  792.4500   | \n",
       "| Zimbabwe    | Africa      | 2002        | 39.989      | 11926563    |  672.0386   | \n",
       "| Zimbabwe    | Africa      | 2007        | 43.487      | 12311143    |  469.7093   | \n",
       "\n",
       "\n"
      ],
      "text/plain": [
       "     country     continent year lifeExp pop      gdpPercap\n",
       "1    Afghanistan Asia      1952 28.801   8425333  779.4453\n",
       "2    Afghanistan Asia      1957 30.332   9240934  820.8530\n",
       "3    Afghanistan Asia      1962 31.997  10267083  853.1007\n",
       "4    Afghanistan Asia      1967 34.020  11537966  836.1971\n",
       "5    Afghanistan Asia      1972 36.088  13079460  739.9811\n",
       "6    Afghanistan Asia      1977 38.438  14880372  786.1134\n",
       "7    Afghanistan Asia      1982 39.854  12881816  978.0114\n",
       "8    Afghanistan Asia      1987 40.822  13867957  852.3959\n",
       "9    Afghanistan Asia      1992 41.674  16317921  649.3414\n",
       "10   Afghanistan Asia      1997 41.763  22227415  635.3414\n",
       "11   Afghanistan Asia      2002 42.129  25268405  726.7341\n",
       "12   Afghanistan Asia      2007 43.828  31889923  974.5803\n",
       "13   Albania     Europe    1952 55.230   1282697 1601.0561\n",
       "14   Albania     Europe    1957 59.280   1476505 1942.2842\n",
       "15   Albania     Europe    1962 64.820   1728137 2312.8890\n",
       "16   Albania     Europe    1967 66.220   1984060 2760.1969\n",
       "17   Albania     Europe    1972 67.690   2263554 3313.4222\n",
       "18   Albania     Europe    1977 68.930   2509048 3533.0039\n",
       "19   Albania     Europe    1982 70.420   2780097 3630.8807\n",
       "20   Albania     Europe    1987 72.000   3075321 3738.9327\n",
       "21   Albania     Europe    1992 71.581   3326498 2497.4379\n",
       "22   Albania     Europe    1997 72.950   3428038 3193.0546\n",
       "23   Albania     Europe    2002 75.651   3508512 4604.2117\n",
       "24   Albania     Europe    2007 76.423   3600523 5937.0295\n",
       "25   Algeria     Africa    1952 43.077   9279525 2449.0082\n",
       "26   Algeria     Africa    1957 45.685  10270856 3013.9760\n",
       "27   Algeria     Africa    1962 48.303  11000948 2550.8169\n",
       "28   Algeria     Africa    1967 51.407  12760499 3246.9918\n",
       "29   Algeria     Africa    1972 54.518  14760787 4182.6638\n",
       "30   Algeria     Africa    1977 58.014  17152804 4910.4168\n",
       "...  ...         ...       ...  ...     ...      ...      \n",
       "1675 Yemen, Rep. Asia      1982 49.113   9657618 1977.5570\n",
       "1676 Yemen, Rep. Asia      1987 52.922  11219340 1971.7415\n",
       "1677 Yemen, Rep. Asia      1992 55.599  13367997 1879.4967\n",
       "1678 Yemen, Rep. Asia      1997 58.020  15826497 2117.4845\n",
       "1679 Yemen, Rep. Asia      2002 60.308  18701257 2234.8208\n",
       "1680 Yemen, Rep. Asia      2007 62.698  22211743 2280.7699\n",
       "1681 Zambia      Africa    1952 42.038   2672000 1147.3888\n",
       "1682 Zambia      Africa    1957 44.077   3016000 1311.9568\n",
       "1683 Zambia      Africa    1962 46.023   3421000 1452.7258\n",
       "1684 Zambia      Africa    1967 47.768   3900000 1777.0773\n",
       "1685 Zambia      Africa    1972 50.107   4506497 1773.4983\n",
       "1686 Zambia      Africa    1977 51.386   5216550 1588.6883\n",
       "1687 Zambia      Africa    1982 51.821   6100407 1408.6786\n",
       "1688 Zambia      Africa    1987 50.821   7272406 1213.3151\n",
       "1689 Zambia      Africa    1992 46.100   8381163 1210.8846\n",
       "1690 Zambia      Africa    1997 40.238   9417789 1071.3538\n",
       "1691 Zambia      Africa    2002 39.193  10595811 1071.6139\n",
       "1692 Zambia      Africa    2007 42.384  11746035 1271.2116\n",
       "1693 Zimbabwe    Africa    1952 48.451   3080907  406.8841\n",
       "1694 Zimbabwe    Africa    1957 50.469   3646340  518.7643\n",
       "1695 Zimbabwe    Africa    1962 52.358   4277736  527.2722\n",
       "1696 Zimbabwe    Africa    1967 53.995   4995432  569.7951\n",
       "1697 Zimbabwe    Africa    1972 55.635   5861135  799.3622\n",
       "1698 Zimbabwe    Africa    1977 57.674   6642107  685.5877\n",
       "1699 Zimbabwe    Africa    1982 60.363   7636524  788.8550\n",
       "1700 Zimbabwe    Africa    1987 62.351   9216418  706.1573\n",
       "1701 Zimbabwe    Africa    1992 60.377  10704340  693.4208\n",
       "1702 Zimbabwe    Africa    1997 46.809  11404948  792.4500\n",
       "1703 Zimbabwe    Africa    2002 39.989  11926563  672.0386\n",
       "1704 Zimbabwe    Africa    2007 43.487  12311143  469.7093"
      ]
     },
     "metadata": {},
     "output_type": "display_data"
    }
   ],
   "source": [
    "gapminder"
   ]
  },
  {
   "cell_type": "code",
   "execution_count": 4,
   "metadata": {},
   "outputs": [
    {
     "name": "stdout",
     "output_type": "stream",
     "text": [
      "Classes 'tbl_df', 'tbl' and 'data.frame':\t1704 obs. of  6 variables:\n",
      " $ country  : Factor w/ 142 levels \"Afghanistan\",..: 1 1 1 1 1 1 1 1 1 1 ...\n",
      " $ continent: Factor w/ 5 levels \"Africa\",\"Americas\",..: 3 3 3 3 3 3 3 3 3 3 ...\n",
      " $ year     : int  1952 1957 1962 1967 1972 1977 1982 1987 1992 1997 ...\n",
      " $ lifeExp  : num  28.8 30.3 32 34 36.1 ...\n",
      " $ pop      : int  8425333 9240934 10267083 11537966 13079460 14880372 12881816 13867957 16317921 22227415 ...\n",
      " $ gdpPercap: num  779 821 853 836 740 ...\n"
     ]
    }
   ],
   "source": [
    "str(gapminder)"
   ]
  },
  {
   "cell_type": "code",
   "execution_count": 5,
   "metadata": {},
   "outputs": [
    {
     "data": {
      "text/plain": [
       "        country        continent        year         lifeExp     \n",
       " Afghanistan:  12   Africa  :624   Min.   :1952   Min.   :23.60  \n",
       " Albania    :  12   Americas:300   1st Qu.:1966   1st Qu.:48.20  \n",
       " Algeria    :  12   Asia    :396   Median :1980   Median :60.71  \n",
       " Angola     :  12   Europe  :360   Mean   :1980   Mean   :59.47  \n",
       " Argentina  :  12   Oceania : 24   3rd Qu.:1993   3rd Qu.:70.85  \n",
       " Australia  :  12                  Max.   :2007   Max.   :82.60  \n",
       " (Other)    :1632                                                \n",
       "      pop              gdpPercap       \n",
       " Min.   :6.001e+04   Min.   :   241.2  \n",
       " 1st Qu.:2.794e+06   1st Qu.:  1202.1  \n",
       " Median :7.024e+06   Median :  3531.8  \n",
       " Mean   :2.960e+07   Mean   :  7215.3  \n",
       " 3rd Qu.:1.959e+07   3rd Qu.:  9325.5  \n",
       " Max.   :1.319e+09   Max.   :113523.1  \n",
       "                                       "
      ]
     },
     "metadata": {},
     "output_type": "display_data"
    }
   ],
   "source": [
    "summary(gapminder)"
   ]
  },
  {
   "cell_type": "code",
   "execution_count": 8,
   "metadata": {},
   "outputs": [
    {
     "data": {
      "text/html": [
       "<table>\n",
       "<thead><tr><th scope=col>country</th><th scope=col>continent</th><th scope=col>year</th><th scope=col>lifeExp</th><th scope=col>pop</th><th scope=col>gdpPercap</th></tr></thead>\n",
       "<tbody>\n",
       "\t<tr><td>Afghanistan             </td><td>Asia                    </td><td>2007                    </td><td>43.828                  </td><td>  31889923              </td><td>  974.5803              </td></tr>\n",
       "\t<tr><td>Albania                 </td><td>Europe                  </td><td>2007                    </td><td>76.423                  </td><td>   3600523              </td><td> 5937.0295              </td></tr>\n",
       "\t<tr><td>Algeria                 </td><td>Africa                  </td><td>2007                    </td><td>72.301                  </td><td>  33333216              </td><td> 6223.3675              </td></tr>\n",
       "\t<tr><td>Angola                  </td><td>Africa                  </td><td>2007                    </td><td>42.731                  </td><td>  12420476              </td><td> 4797.2313              </td></tr>\n",
       "\t<tr><td>Argentina               </td><td>Americas                </td><td>2007                    </td><td>75.320                  </td><td>  40301927              </td><td>12779.3796              </td></tr>\n",
       "\t<tr><td>Australia               </td><td>Oceania                 </td><td>2007                    </td><td>81.235                  </td><td>  20434176              </td><td>34435.3674              </td></tr>\n",
       "\t<tr><td>Austria                 </td><td>Europe                  </td><td>2007                    </td><td>79.829                  </td><td>   8199783              </td><td>36126.4927              </td></tr>\n",
       "\t<tr><td>Bahrain                 </td><td>Asia                    </td><td>2007                    </td><td>75.635                  </td><td>    708573              </td><td>29796.0483              </td></tr>\n",
       "\t<tr><td>Bangladesh              </td><td>Asia                    </td><td>2007                    </td><td>64.062                  </td><td> 150448339              </td><td> 1391.2538              </td></tr>\n",
       "\t<tr><td>Belgium                 </td><td>Europe                  </td><td>2007                    </td><td>79.441                  </td><td>  10392226              </td><td>33692.6051              </td></tr>\n",
       "\t<tr><td>Benin                   </td><td>Africa                  </td><td>2007                    </td><td>56.728                  </td><td>   8078314              </td><td> 1441.2849              </td></tr>\n",
       "\t<tr><td>Bolivia                 </td><td>Americas                </td><td>2007                    </td><td>65.554                  </td><td>   9119152              </td><td> 3822.1371              </td></tr>\n",
       "\t<tr><td>Bosnia and Herzegovina  </td><td>Europe                  </td><td>2007                    </td><td>74.852                  </td><td>   4552198              </td><td> 7446.2988              </td></tr>\n",
       "\t<tr><td>Botswana                </td><td>Africa                  </td><td>2007                    </td><td>50.728                  </td><td>   1639131              </td><td>12569.8518              </td></tr>\n",
       "\t<tr><td>Brazil                  </td><td>Americas                </td><td>2007                    </td><td>72.390                  </td><td> 190010647              </td><td> 9065.8008              </td></tr>\n",
       "\t<tr><td>Bulgaria                </td><td>Europe                  </td><td>2007                    </td><td>73.005                  </td><td>   7322858              </td><td>10680.7928              </td></tr>\n",
       "\t<tr><td>Burkina Faso            </td><td>Africa                  </td><td>2007                    </td><td>52.295                  </td><td>  14326203              </td><td> 1217.0330              </td></tr>\n",
       "\t<tr><td>Burundi                 </td><td>Africa                  </td><td>2007                    </td><td>49.580                  </td><td>   8390505              </td><td>  430.0707              </td></tr>\n",
       "\t<tr><td>Cambodia                </td><td>Asia                    </td><td>2007                    </td><td>59.723                  </td><td>  14131858              </td><td> 1713.7787              </td></tr>\n",
       "\t<tr><td>Cameroon                </td><td>Africa                  </td><td>2007                    </td><td>50.430                  </td><td>  17696293              </td><td> 2042.0952              </td></tr>\n",
       "\t<tr><td>Canada                  </td><td>Americas                </td><td>2007                    </td><td>80.653                  </td><td>  33390141              </td><td>36319.2350              </td></tr>\n",
       "\t<tr><td>Central African Republic</td><td>Africa                  </td><td>2007                    </td><td>44.741                  </td><td>   4369038              </td><td>  706.0165              </td></tr>\n",
       "\t<tr><td>Chad                    </td><td>Africa                  </td><td>2007                    </td><td>50.651                  </td><td>  10238807              </td><td> 1704.0637              </td></tr>\n",
       "\t<tr><td>Chile                   </td><td>Americas                </td><td>2007                    </td><td>78.553                  </td><td>  16284741              </td><td>13171.6388              </td></tr>\n",
       "\t<tr><td>China                   </td><td>Asia                    </td><td>2007                    </td><td>72.961                  </td><td>1318683096              </td><td> 4959.1149              </td></tr>\n",
       "\t<tr><td>Colombia                </td><td>Americas                </td><td>2007                    </td><td>72.889                  </td><td>  44227550              </td><td> 7006.5804              </td></tr>\n",
       "\t<tr><td>Comoros                 </td><td>Africa                  </td><td>2007                    </td><td>65.152                  </td><td>    710960              </td><td>  986.1479              </td></tr>\n",
       "\t<tr><td>Congo, Dem. Rep.        </td><td>Africa                  </td><td>2007                    </td><td>46.462                  </td><td>  64606759              </td><td>  277.5519              </td></tr>\n",
       "\t<tr><td>Congo, Rep.             </td><td>Africa                  </td><td>2007                    </td><td>55.322                  </td><td>   3800610              </td><td> 3632.5578              </td></tr>\n",
       "\t<tr><td>Costa Rica              </td><td>Americas                </td><td>2007                    </td><td>78.782                  </td><td>   4133884              </td><td> 9645.0614              </td></tr>\n",
       "\t<tr><td>...</td><td>...</td><td>...</td><td>...</td><td>...</td><td>...</td></tr>\n",
       "\t<tr><td>Sierra Leone       </td><td>Africa             </td><td>2007               </td><td>42.568             </td><td>  6144562          </td><td>  862.5408         </td></tr>\n",
       "\t<tr><td>Singapore          </td><td>Asia               </td><td>2007               </td><td>79.972             </td><td>  4553009          </td><td>47143.1796         </td></tr>\n",
       "\t<tr><td>Slovak Republic    </td><td>Europe             </td><td>2007               </td><td>74.663             </td><td>  5447502          </td><td>18678.3144         </td></tr>\n",
       "\t<tr><td>Slovenia           </td><td>Europe             </td><td>2007               </td><td>77.926             </td><td>  2009245          </td><td>25768.2576         </td></tr>\n",
       "\t<tr><td>Somalia            </td><td>Africa             </td><td>2007               </td><td>48.159             </td><td>  9118773          </td><td>  926.1411         </td></tr>\n",
       "\t<tr><td>South Africa       </td><td>Africa             </td><td>2007               </td><td>49.339             </td><td> 43997828          </td><td> 9269.6578         </td></tr>\n",
       "\t<tr><td>Spain              </td><td>Europe             </td><td>2007               </td><td>80.941             </td><td> 40448191          </td><td>28821.0637         </td></tr>\n",
       "\t<tr><td>Sri Lanka          </td><td>Asia               </td><td>2007               </td><td>72.396             </td><td> 20378239          </td><td> 3970.0954         </td></tr>\n",
       "\t<tr><td>Sudan              </td><td>Africa             </td><td>2007               </td><td>58.556             </td><td> 42292929          </td><td> 2602.3950         </td></tr>\n",
       "\t<tr><td>Swaziland          </td><td>Africa             </td><td>2007               </td><td>39.613             </td><td>  1133066          </td><td> 4513.4806         </td></tr>\n",
       "\t<tr><td>Sweden             </td><td>Europe             </td><td>2007               </td><td>80.884             </td><td>  9031088          </td><td>33859.7484         </td></tr>\n",
       "\t<tr><td>Switzerland        </td><td>Europe             </td><td>2007               </td><td>81.701             </td><td>  7554661          </td><td>37506.4191         </td></tr>\n",
       "\t<tr><td>Syria              </td><td>Asia               </td><td>2007               </td><td>74.143             </td><td> 19314747          </td><td> 4184.5481         </td></tr>\n",
       "\t<tr><td>Taiwan             </td><td>Asia               </td><td>2007               </td><td>78.400             </td><td> 23174294          </td><td>28718.2768         </td></tr>\n",
       "\t<tr><td>Tanzania           </td><td>Africa             </td><td>2007               </td><td>52.517             </td><td> 38139640          </td><td> 1107.4822         </td></tr>\n",
       "\t<tr><td>Thailand           </td><td>Asia               </td><td>2007               </td><td>70.616             </td><td> 65068149          </td><td> 7458.3963         </td></tr>\n",
       "\t<tr><td>Togo               </td><td>Africa             </td><td>2007               </td><td>58.420             </td><td>  5701579          </td><td>  882.9699         </td></tr>\n",
       "\t<tr><td>Trinidad and Tobago</td><td>Americas           </td><td>2007               </td><td>69.819             </td><td>  1056608          </td><td>18008.5092         </td></tr>\n",
       "\t<tr><td>Tunisia            </td><td>Africa             </td><td>2007               </td><td>73.923             </td><td> 10276158          </td><td> 7092.9230         </td></tr>\n",
       "\t<tr><td>Turkey             </td><td>Europe             </td><td>2007               </td><td>71.777             </td><td> 71158647          </td><td> 8458.2764         </td></tr>\n",
       "\t<tr><td>Uganda             </td><td>Africa             </td><td>2007               </td><td>51.542             </td><td> 29170398          </td><td> 1056.3801         </td></tr>\n",
       "\t<tr><td>United Kingdom     </td><td>Europe             </td><td>2007               </td><td>79.425             </td><td> 60776238          </td><td>33203.2613         </td></tr>\n",
       "\t<tr><td>United States      </td><td>Americas           </td><td>2007               </td><td>78.242             </td><td>301139947          </td><td>42951.6531         </td></tr>\n",
       "\t<tr><td>Uruguay            </td><td>Americas           </td><td>2007               </td><td>76.384             </td><td>  3447496          </td><td>10611.4630         </td></tr>\n",
       "\t<tr><td>Venezuela          </td><td>Americas           </td><td>2007               </td><td>73.747             </td><td> 26084662          </td><td>11415.8057         </td></tr>\n",
       "\t<tr><td>Vietnam            </td><td>Asia               </td><td>2007               </td><td>74.249             </td><td> 85262356          </td><td> 2441.5764         </td></tr>\n",
       "\t<tr><td>West Bank and Gaza </td><td>Asia               </td><td>2007               </td><td>73.422             </td><td>  4018332          </td><td> 3025.3498         </td></tr>\n",
       "\t<tr><td>Yemen, Rep.        </td><td>Asia               </td><td>2007               </td><td>62.698             </td><td> 22211743          </td><td> 2280.7699         </td></tr>\n",
       "\t<tr><td>Zambia             </td><td>Africa             </td><td>2007               </td><td>42.384             </td><td> 11746035          </td><td> 1271.2116         </td></tr>\n",
       "\t<tr><td>Zimbabwe           </td><td>Africa             </td><td>2007               </td><td>43.487             </td><td> 12311143          </td><td>  469.7093         </td></tr>\n",
       "</tbody>\n",
       "</table>\n"
      ],
      "text/latex": [
       "\\begin{tabular}{r|llllll}\n",
       " country & continent & year & lifeExp & pop & gdpPercap\\\\\n",
       "\\hline\n",
       "\t Afghanistan              & Asia                     & 2007                     & 43.828                   &   31889923               &   974.5803              \\\\\n",
       "\t Albania                  & Europe                   & 2007                     & 76.423                   &    3600523               &  5937.0295              \\\\\n",
       "\t Algeria                  & Africa                   & 2007                     & 72.301                   &   33333216               &  6223.3675              \\\\\n",
       "\t Angola                   & Africa                   & 2007                     & 42.731                   &   12420476               &  4797.2313              \\\\\n",
       "\t Argentina                & Americas                 & 2007                     & 75.320                   &   40301927               & 12779.3796              \\\\\n",
       "\t Australia                & Oceania                  & 2007                     & 81.235                   &   20434176               & 34435.3674              \\\\\n",
       "\t Austria                  & Europe                   & 2007                     & 79.829                   &    8199783               & 36126.4927              \\\\\n",
       "\t Bahrain                  & Asia                     & 2007                     & 75.635                   &     708573               & 29796.0483              \\\\\n",
       "\t Bangladesh               & Asia                     & 2007                     & 64.062                   &  150448339               &  1391.2538              \\\\\n",
       "\t Belgium                  & Europe                   & 2007                     & 79.441                   &   10392226               & 33692.6051              \\\\\n",
       "\t Benin                    & Africa                   & 2007                     & 56.728                   &    8078314               &  1441.2849              \\\\\n",
       "\t Bolivia                  & Americas                 & 2007                     & 65.554                   &    9119152               &  3822.1371              \\\\\n",
       "\t Bosnia and Herzegovina   & Europe                   & 2007                     & 74.852                   &    4552198               &  7446.2988              \\\\\n",
       "\t Botswana                 & Africa                   & 2007                     & 50.728                   &    1639131               & 12569.8518              \\\\\n",
       "\t Brazil                   & Americas                 & 2007                     & 72.390                   &  190010647               &  9065.8008              \\\\\n",
       "\t Bulgaria                 & Europe                   & 2007                     & 73.005                   &    7322858               & 10680.7928              \\\\\n",
       "\t Burkina Faso             & Africa                   & 2007                     & 52.295                   &   14326203               &  1217.0330              \\\\\n",
       "\t Burundi                  & Africa                   & 2007                     & 49.580                   &    8390505               &   430.0707              \\\\\n",
       "\t Cambodia                 & Asia                     & 2007                     & 59.723                   &   14131858               &  1713.7787              \\\\\n",
       "\t Cameroon                 & Africa                   & 2007                     & 50.430                   &   17696293               &  2042.0952              \\\\\n",
       "\t Canada                   & Americas                 & 2007                     & 80.653                   &   33390141               & 36319.2350              \\\\\n",
       "\t Central African Republic & Africa                   & 2007                     & 44.741                   &    4369038               &   706.0165              \\\\\n",
       "\t Chad                     & Africa                   & 2007                     & 50.651                   &   10238807               &  1704.0637              \\\\\n",
       "\t Chile                    & Americas                 & 2007                     & 78.553                   &   16284741               & 13171.6388              \\\\\n",
       "\t China                    & Asia                     & 2007                     & 72.961                   & 1318683096               &  4959.1149              \\\\\n",
       "\t Colombia                 & Americas                 & 2007                     & 72.889                   &   44227550               &  7006.5804              \\\\\n",
       "\t Comoros                  & Africa                   & 2007                     & 65.152                   &     710960               &   986.1479              \\\\\n",
       "\t Congo, Dem. Rep.         & Africa                   & 2007                     & 46.462                   &   64606759               &   277.5519              \\\\\n",
       "\t Congo, Rep.              & Africa                   & 2007                     & 55.322                   &    3800610               &  3632.5578              \\\\\n",
       "\t Costa Rica               & Americas                 & 2007                     & 78.782                   &    4133884               &  9645.0614              \\\\\n",
       "\t ... & ... & ... & ... & ... & ...\\\\\n",
       "\t Sierra Leone        & Africa              & 2007                & 42.568              &   6144562           &   862.5408         \\\\\n",
       "\t Singapore           & Asia                & 2007                & 79.972              &   4553009           & 47143.1796         \\\\\n",
       "\t Slovak Republic     & Europe              & 2007                & 74.663              &   5447502           & 18678.3144         \\\\\n",
       "\t Slovenia            & Europe              & 2007                & 77.926              &   2009245           & 25768.2576         \\\\\n",
       "\t Somalia             & Africa              & 2007                & 48.159              &   9118773           &   926.1411         \\\\\n",
       "\t South Africa        & Africa              & 2007                & 49.339              &  43997828           &  9269.6578         \\\\\n",
       "\t Spain               & Europe              & 2007                & 80.941              &  40448191           & 28821.0637         \\\\\n",
       "\t Sri Lanka           & Asia                & 2007                & 72.396              &  20378239           &  3970.0954         \\\\\n",
       "\t Sudan               & Africa              & 2007                & 58.556              &  42292929           &  2602.3950         \\\\\n",
       "\t Swaziland           & Africa              & 2007                & 39.613              &   1133066           &  4513.4806         \\\\\n",
       "\t Sweden              & Europe              & 2007                & 80.884              &   9031088           & 33859.7484         \\\\\n",
       "\t Switzerland         & Europe              & 2007                & 81.701              &   7554661           & 37506.4191         \\\\\n",
       "\t Syria               & Asia                & 2007                & 74.143              &  19314747           &  4184.5481         \\\\\n",
       "\t Taiwan              & Asia                & 2007                & 78.400              &  23174294           & 28718.2768         \\\\\n",
       "\t Tanzania            & Africa              & 2007                & 52.517              &  38139640           &  1107.4822         \\\\\n",
       "\t Thailand            & Asia                & 2007                & 70.616              &  65068149           &  7458.3963         \\\\\n",
       "\t Togo                & Africa              & 2007                & 58.420              &   5701579           &   882.9699         \\\\\n",
       "\t Trinidad and Tobago & Americas            & 2007                & 69.819              &   1056608           & 18008.5092         \\\\\n",
       "\t Tunisia             & Africa              & 2007                & 73.923              &  10276158           &  7092.9230         \\\\\n",
       "\t Turkey              & Europe              & 2007                & 71.777              &  71158647           &  8458.2764         \\\\\n",
       "\t Uganda              & Africa              & 2007                & 51.542              &  29170398           &  1056.3801         \\\\\n",
       "\t United Kingdom      & Europe              & 2007                & 79.425              &  60776238           & 33203.2613         \\\\\n",
       "\t United States       & Americas            & 2007                & 78.242              & 301139947           & 42951.6531         \\\\\n",
       "\t Uruguay             & Americas            & 2007                & 76.384              &   3447496           & 10611.4630         \\\\\n",
       "\t Venezuela           & Americas            & 2007                & 73.747              &  26084662           & 11415.8057         \\\\\n",
       "\t Vietnam             & Asia                & 2007                & 74.249              &  85262356           &  2441.5764         \\\\\n",
       "\t West Bank and Gaza  & Asia                & 2007                & 73.422              &   4018332           &  3025.3498         \\\\\n",
       "\t Yemen, Rep.         & Asia                & 2007                & 62.698              &  22211743           &  2280.7699         \\\\\n",
       "\t Zambia              & Africa              & 2007                & 42.384              &  11746035           &  1271.2116         \\\\\n",
       "\t Zimbabwe            & Africa              & 2007                & 43.487              &  12311143           &   469.7093         \\\\\n",
       "\\end{tabular}\n"
      ],
      "text/markdown": [
       "\n",
       "country | continent | year | lifeExp | pop | gdpPercap | \n",
       "|---|---|---|---|---|---|---|---|---|---|---|---|---|---|---|---|---|---|---|---|---|---|---|---|---|---|---|---|---|---|---|---|---|---|---|---|---|---|---|---|---|---|---|---|---|---|---|---|---|---|---|---|---|---|---|---|---|---|---|---|---|\n",
       "| Afghanistan              | Asia                     | 2007                     | 43.828                   |   31889923               |   974.5803               | \n",
       "| Albania                  | Europe                   | 2007                     | 76.423                   |    3600523               |  5937.0295               | \n",
       "| Algeria                  | Africa                   | 2007                     | 72.301                   |   33333216               |  6223.3675               | \n",
       "| Angola                   | Africa                   | 2007                     | 42.731                   |   12420476               |  4797.2313               | \n",
       "| Argentina                | Americas                 | 2007                     | 75.320                   |   40301927               | 12779.3796               | \n",
       "| Australia                | Oceania                  | 2007                     | 81.235                   |   20434176               | 34435.3674               | \n",
       "| Austria                  | Europe                   | 2007                     | 79.829                   |    8199783               | 36126.4927               | \n",
       "| Bahrain                  | Asia                     | 2007                     | 75.635                   |     708573               | 29796.0483               | \n",
       "| Bangladesh               | Asia                     | 2007                     | 64.062                   |  150448339               |  1391.2538               | \n",
       "| Belgium                  | Europe                   | 2007                     | 79.441                   |   10392226               | 33692.6051               | \n",
       "| Benin                    | Africa                   | 2007                     | 56.728                   |    8078314               |  1441.2849               | \n",
       "| Bolivia                  | Americas                 | 2007                     | 65.554                   |    9119152               |  3822.1371               | \n",
       "| Bosnia and Herzegovina   | Europe                   | 2007                     | 74.852                   |    4552198               |  7446.2988               | \n",
       "| Botswana                 | Africa                   | 2007                     | 50.728                   |    1639131               | 12569.8518               | \n",
       "| Brazil                   | Americas                 | 2007                     | 72.390                   |  190010647               |  9065.8008               | \n",
       "| Bulgaria                 | Europe                   | 2007                     | 73.005                   |    7322858               | 10680.7928               | \n",
       "| Burkina Faso             | Africa                   | 2007                     | 52.295                   |   14326203               |  1217.0330               | \n",
       "| Burundi                  | Africa                   | 2007                     | 49.580                   |    8390505               |   430.0707               | \n",
       "| Cambodia                 | Asia                     | 2007                     | 59.723                   |   14131858               |  1713.7787               | \n",
       "| Cameroon                 | Africa                   | 2007                     | 50.430                   |   17696293               |  2042.0952               | \n",
       "| Canada                   | Americas                 | 2007                     | 80.653                   |   33390141               | 36319.2350               | \n",
       "| Central African Republic | Africa                   | 2007                     | 44.741                   |    4369038               |   706.0165               | \n",
       "| Chad                     | Africa                   | 2007                     | 50.651                   |   10238807               |  1704.0637               | \n",
       "| Chile                    | Americas                 | 2007                     | 78.553                   |   16284741               | 13171.6388               | \n",
       "| China                    | Asia                     | 2007                     | 72.961                   | 1318683096               |  4959.1149               | \n",
       "| Colombia                 | Americas                 | 2007                     | 72.889                   |   44227550               |  7006.5804               | \n",
       "| Comoros                  | Africa                   | 2007                     | 65.152                   |     710960               |   986.1479               | \n",
       "| Congo, Dem. Rep.         | Africa                   | 2007                     | 46.462                   |   64606759               |   277.5519               | \n",
       "| Congo, Rep.              | Africa                   | 2007                     | 55.322                   |    3800610               |  3632.5578               | \n",
       "| Costa Rica               | Americas                 | 2007                     | 78.782                   |    4133884               |  9645.0614               | \n",
       "| ... | ... | ... | ... | ... | ... | \n",
       "| Sierra Leone        | Africa              | 2007                | 42.568              |   6144562           |   862.5408          | \n",
       "| Singapore           | Asia                | 2007                | 79.972              |   4553009           | 47143.1796          | \n",
       "| Slovak Republic     | Europe              | 2007                | 74.663              |   5447502           | 18678.3144          | \n",
       "| Slovenia            | Europe              | 2007                | 77.926              |   2009245           | 25768.2576          | \n",
       "| Somalia             | Africa              | 2007                | 48.159              |   9118773           |   926.1411          | \n",
       "| South Africa        | Africa              | 2007                | 49.339              |  43997828           |  9269.6578          | \n",
       "| Spain               | Europe              | 2007                | 80.941              |  40448191           | 28821.0637          | \n",
       "| Sri Lanka           | Asia                | 2007                | 72.396              |  20378239           |  3970.0954          | \n",
       "| Sudan               | Africa              | 2007                | 58.556              |  42292929           |  2602.3950          | \n",
       "| Swaziland           | Africa              | 2007                | 39.613              |   1133066           |  4513.4806          | \n",
       "| Sweden              | Europe              | 2007                | 80.884              |   9031088           | 33859.7484          | \n",
       "| Switzerland         | Europe              | 2007                | 81.701              |   7554661           | 37506.4191          | \n",
       "| Syria               | Asia                | 2007                | 74.143              |  19314747           |  4184.5481          | \n",
       "| Taiwan              | Asia                | 2007                | 78.400              |  23174294           | 28718.2768          | \n",
       "| Tanzania            | Africa              | 2007                | 52.517              |  38139640           |  1107.4822          | \n",
       "| Thailand            | Asia                | 2007                | 70.616              |  65068149           |  7458.3963          | \n",
       "| Togo                | Africa              | 2007                | 58.420              |   5701579           |   882.9699          | \n",
       "| Trinidad and Tobago | Americas            | 2007                | 69.819              |   1056608           | 18008.5092          | \n",
       "| Tunisia             | Africa              | 2007                | 73.923              |  10276158           |  7092.9230          | \n",
       "| Turkey              | Europe              | 2007                | 71.777              |  71158647           |  8458.2764          | \n",
       "| Uganda              | Africa              | 2007                | 51.542              |  29170398           |  1056.3801          | \n",
       "| United Kingdom      | Europe              | 2007                | 79.425              |  60776238           | 33203.2613          | \n",
       "| United States       | Americas            | 2007                | 78.242              | 301139947           | 42951.6531          | \n",
       "| Uruguay             | Americas            | 2007                | 76.384              |   3447496           | 10611.4630          | \n",
       "| Venezuela           | Americas            | 2007                | 73.747              |  26084662           | 11415.8057          | \n",
       "| Vietnam             | Asia                | 2007                | 74.249              |  85262356           |  2441.5764          | \n",
       "| West Bank and Gaza  | Asia                | 2007                | 73.422              |   4018332           |  3025.3498          | \n",
       "| Yemen, Rep.         | Asia                | 2007                | 62.698              |  22211743           |  2280.7699          | \n",
       "| Zambia              | Africa              | 2007                | 42.384              |  11746035           |  1271.2116          | \n",
       "| Zimbabwe            | Africa              | 2007                | 43.487              |  12311143           |   469.7093          | \n",
       "\n",
       "\n"
      ],
      "text/plain": [
       "    country                  continent year lifeExp pop        gdpPercap \n",
       "1   Afghanistan              Asia      2007 43.828    31889923   974.5803\n",
       "2   Albania                  Europe    2007 76.423     3600523  5937.0295\n",
       "3   Algeria                  Africa    2007 72.301    33333216  6223.3675\n",
       "4   Angola                   Africa    2007 42.731    12420476  4797.2313\n",
       "5   Argentina                Americas  2007 75.320    40301927 12779.3796\n",
       "6   Australia                Oceania   2007 81.235    20434176 34435.3674\n",
       "7   Austria                  Europe    2007 79.829     8199783 36126.4927\n",
       "8   Bahrain                  Asia      2007 75.635      708573 29796.0483\n",
       "9   Bangladesh               Asia      2007 64.062   150448339  1391.2538\n",
       "10  Belgium                  Europe    2007 79.441    10392226 33692.6051\n",
       "11  Benin                    Africa    2007 56.728     8078314  1441.2849\n",
       "12  Bolivia                  Americas  2007 65.554     9119152  3822.1371\n",
       "13  Bosnia and Herzegovina   Europe    2007 74.852     4552198  7446.2988\n",
       "14  Botswana                 Africa    2007 50.728     1639131 12569.8518\n",
       "15  Brazil                   Americas  2007 72.390   190010647  9065.8008\n",
       "16  Bulgaria                 Europe    2007 73.005     7322858 10680.7928\n",
       "17  Burkina Faso             Africa    2007 52.295    14326203  1217.0330\n",
       "18  Burundi                  Africa    2007 49.580     8390505   430.0707\n",
       "19  Cambodia                 Asia      2007 59.723    14131858  1713.7787\n",
       "20  Cameroon                 Africa    2007 50.430    17696293  2042.0952\n",
       "21  Canada                   Americas  2007 80.653    33390141 36319.2350\n",
       "22  Central African Republic Africa    2007 44.741     4369038   706.0165\n",
       "23  Chad                     Africa    2007 50.651    10238807  1704.0637\n",
       "24  Chile                    Americas  2007 78.553    16284741 13171.6388\n",
       "25  China                    Asia      2007 72.961  1318683096  4959.1149\n",
       "26  Colombia                 Americas  2007 72.889    44227550  7006.5804\n",
       "27  Comoros                  Africa    2007 65.152      710960   986.1479\n",
       "28  Congo, Dem. Rep.         Africa    2007 46.462    64606759   277.5519\n",
       "29  Congo, Rep.              Africa    2007 55.322     3800610  3632.5578\n",
       "30  Costa Rica               Americas  2007 78.782     4133884  9645.0614\n",
       "... ...                      ...       ...  ...     ...        ...       \n",
       "113 Sierra Leone             Africa    2007 42.568    6144562    862.5408\n",
       "114 Singapore                Asia      2007 79.972    4553009  47143.1796\n",
       "115 Slovak Republic          Europe    2007 74.663    5447502  18678.3144\n",
       "116 Slovenia                 Europe    2007 77.926    2009245  25768.2576\n",
       "117 Somalia                  Africa    2007 48.159    9118773    926.1411\n",
       "118 South Africa             Africa    2007 49.339   43997828   9269.6578\n",
       "119 Spain                    Europe    2007 80.941   40448191  28821.0637\n",
       "120 Sri Lanka                Asia      2007 72.396   20378239   3970.0954\n",
       "121 Sudan                    Africa    2007 58.556   42292929   2602.3950\n",
       "122 Swaziland                Africa    2007 39.613    1133066   4513.4806\n",
       "123 Sweden                   Europe    2007 80.884    9031088  33859.7484\n",
       "124 Switzerland              Europe    2007 81.701    7554661  37506.4191\n",
       "125 Syria                    Asia      2007 74.143   19314747   4184.5481\n",
       "126 Taiwan                   Asia      2007 78.400   23174294  28718.2768\n",
       "127 Tanzania                 Africa    2007 52.517   38139640   1107.4822\n",
       "128 Thailand                 Asia      2007 70.616   65068149   7458.3963\n",
       "129 Togo                     Africa    2007 58.420    5701579    882.9699\n",
       "130 Trinidad and Tobago      Americas  2007 69.819    1056608  18008.5092\n",
       "131 Tunisia                  Africa    2007 73.923   10276158   7092.9230\n",
       "132 Turkey                   Europe    2007 71.777   71158647   8458.2764\n",
       "133 Uganda                   Africa    2007 51.542   29170398   1056.3801\n",
       "134 United Kingdom           Europe    2007 79.425   60776238  33203.2613\n",
       "135 United States            Americas  2007 78.242  301139947  42951.6531\n",
       "136 Uruguay                  Americas  2007 76.384    3447496  10611.4630\n",
       "137 Venezuela                Americas  2007 73.747   26084662  11415.8057\n",
       "138 Vietnam                  Asia      2007 74.249   85262356   2441.5764\n",
       "139 West Bank and Gaza       Asia      2007 73.422    4018332   3025.3498\n",
       "140 Yemen, Rep.              Asia      2007 62.698   22211743   2280.7699\n",
       "141 Zambia                   Africa    2007 42.384   11746035   1271.2116\n",
       "142 Zimbabwe                 Africa    2007 43.487   12311143    469.7093"
      ]
     },
     "metadata": {},
     "output_type": "display_data"
    }
   ],
   "source": [
    "gapminder %>% filter(year == 2007)"
   ]
  },
  {
   "cell_type": "code",
   "execution_count": 10,
   "metadata": {},
   "outputs": [
    {
     "data": {
      "text/html": [
       "<table>\n",
       "<thead><tr><th scope=col>country</th><th scope=col>continent</th><th scope=col>year</th><th scope=col>lifeExp</th><th scope=col>pop</th><th scope=col>gdpPercap</th></tr></thead>\n",
       "<tbody>\n",
       "\t<tr><td>Afghanistan             </td><td>Asia                    </td><td>2007                    </td><td>43.828                  </td><td>  31889923              </td><td>  974.5803              </td></tr>\n",
       "\t<tr><td>Albania                 </td><td>Europe                  </td><td>2007                    </td><td>76.423                  </td><td>   3600523              </td><td> 5937.0295              </td></tr>\n",
       "\t<tr><td>Algeria                 </td><td>Africa                  </td><td>2007                    </td><td>72.301                  </td><td>  33333216              </td><td> 6223.3675              </td></tr>\n",
       "\t<tr><td>Angola                  </td><td>Africa                  </td><td>2007                    </td><td>42.731                  </td><td>  12420476              </td><td> 4797.2313              </td></tr>\n",
       "\t<tr><td>Argentina               </td><td>Americas                </td><td>2007                    </td><td>75.320                  </td><td>  40301927              </td><td>12779.3796              </td></tr>\n",
       "\t<tr><td>Australia               </td><td>Oceania                 </td><td>2007                    </td><td>81.235                  </td><td>  20434176              </td><td>34435.3674              </td></tr>\n",
       "\t<tr><td>Austria                 </td><td>Europe                  </td><td>2007                    </td><td>79.829                  </td><td>   8199783              </td><td>36126.4927              </td></tr>\n",
       "\t<tr><td>Bahrain                 </td><td>Asia                    </td><td>2007                    </td><td>75.635                  </td><td>    708573              </td><td>29796.0483              </td></tr>\n",
       "\t<tr><td>Bangladesh              </td><td>Asia                    </td><td>2007                    </td><td>64.062                  </td><td> 150448339              </td><td> 1391.2538              </td></tr>\n",
       "\t<tr><td>Belgium                 </td><td>Europe                  </td><td>2007                    </td><td>79.441                  </td><td>  10392226              </td><td>33692.6051              </td></tr>\n",
       "\t<tr><td>Benin                   </td><td>Africa                  </td><td>2007                    </td><td>56.728                  </td><td>   8078314              </td><td> 1441.2849              </td></tr>\n",
       "\t<tr><td>Bolivia                 </td><td>Americas                </td><td>2007                    </td><td>65.554                  </td><td>   9119152              </td><td> 3822.1371              </td></tr>\n",
       "\t<tr><td>Bosnia and Herzegovina  </td><td>Europe                  </td><td>2007                    </td><td>74.852                  </td><td>   4552198              </td><td> 7446.2988              </td></tr>\n",
       "\t<tr><td>Botswana                </td><td>Africa                  </td><td>2007                    </td><td>50.728                  </td><td>   1639131              </td><td>12569.8518              </td></tr>\n",
       "\t<tr><td>Brazil                  </td><td>Americas                </td><td>2007                    </td><td>72.390                  </td><td> 190010647              </td><td> 9065.8008              </td></tr>\n",
       "\t<tr><td>Bulgaria                </td><td>Europe                  </td><td>2007                    </td><td>73.005                  </td><td>   7322858              </td><td>10680.7928              </td></tr>\n",
       "\t<tr><td>Burkina Faso            </td><td>Africa                  </td><td>2007                    </td><td>52.295                  </td><td>  14326203              </td><td> 1217.0330              </td></tr>\n",
       "\t<tr><td>Burundi                 </td><td>Africa                  </td><td>2007                    </td><td>49.580                  </td><td>   8390505              </td><td>  430.0707              </td></tr>\n",
       "\t<tr><td>Cambodia                </td><td>Asia                    </td><td>2007                    </td><td>59.723                  </td><td>  14131858              </td><td> 1713.7787              </td></tr>\n",
       "\t<tr><td>Cameroon                </td><td>Africa                  </td><td>2007                    </td><td>50.430                  </td><td>  17696293              </td><td> 2042.0952              </td></tr>\n",
       "\t<tr><td>Canada                  </td><td>Americas                </td><td>2007                    </td><td>80.653                  </td><td>  33390141              </td><td>36319.2350              </td></tr>\n",
       "\t<tr><td>Central African Republic</td><td>Africa                  </td><td>2007                    </td><td>44.741                  </td><td>   4369038              </td><td>  706.0165              </td></tr>\n",
       "\t<tr><td>Chad                    </td><td>Africa                  </td><td>2007                    </td><td>50.651                  </td><td>  10238807              </td><td> 1704.0637              </td></tr>\n",
       "\t<tr><td>Chile                   </td><td>Americas                </td><td>2007                    </td><td>78.553                  </td><td>  16284741              </td><td>13171.6388              </td></tr>\n",
       "\t<tr><td>China                   </td><td>Asia                    </td><td>2007                    </td><td>72.961                  </td><td>1318683096              </td><td> 4959.1149              </td></tr>\n",
       "\t<tr><td>Colombia                </td><td>Americas                </td><td>2007                    </td><td>72.889                  </td><td>  44227550              </td><td> 7006.5804              </td></tr>\n",
       "\t<tr><td>Comoros                 </td><td>Africa                  </td><td>2007                    </td><td>65.152                  </td><td>    710960              </td><td>  986.1479              </td></tr>\n",
       "\t<tr><td>Congo, Dem. Rep.        </td><td>Africa                  </td><td>2007                    </td><td>46.462                  </td><td>  64606759              </td><td>  277.5519              </td></tr>\n",
       "\t<tr><td>Congo, Rep.             </td><td>Africa                  </td><td>2007                    </td><td>55.322                  </td><td>   3800610              </td><td> 3632.5578              </td></tr>\n",
       "\t<tr><td>Costa Rica              </td><td>Americas                </td><td>2007                    </td><td>78.782                  </td><td>   4133884              </td><td> 9645.0614              </td></tr>\n",
       "\t<tr><td>...</td><td>...</td><td>...</td><td>...</td><td>...</td><td>...</td></tr>\n",
       "\t<tr><td>Sierra Leone       </td><td>Africa             </td><td>2007               </td><td>42.568             </td><td>  6144562          </td><td>  862.5408         </td></tr>\n",
       "\t<tr><td>Singapore          </td><td>Asia               </td><td>2007               </td><td>79.972             </td><td>  4553009          </td><td>47143.1796         </td></tr>\n",
       "\t<tr><td>Slovak Republic    </td><td>Europe             </td><td>2007               </td><td>74.663             </td><td>  5447502          </td><td>18678.3144         </td></tr>\n",
       "\t<tr><td>Slovenia           </td><td>Europe             </td><td>2007               </td><td>77.926             </td><td>  2009245          </td><td>25768.2576         </td></tr>\n",
       "\t<tr><td>Somalia            </td><td>Africa             </td><td>2007               </td><td>48.159             </td><td>  9118773          </td><td>  926.1411         </td></tr>\n",
       "\t<tr><td>South Africa       </td><td>Africa             </td><td>2007               </td><td>49.339             </td><td> 43997828          </td><td> 9269.6578         </td></tr>\n",
       "\t<tr><td>Spain              </td><td>Europe             </td><td>2007               </td><td>80.941             </td><td> 40448191          </td><td>28821.0637         </td></tr>\n",
       "\t<tr><td>Sri Lanka          </td><td>Asia               </td><td>2007               </td><td>72.396             </td><td> 20378239          </td><td> 3970.0954         </td></tr>\n",
       "\t<tr><td>Sudan              </td><td>Africa             </td><td>2007               </td><td>58.556             </td><td> 42292929          </td><td> 2602.3950         </td></tr>\n",
       "\t<tr><td>Swaziland          </td><td>Africa             </td><td>2007               </td><td>39.613             </td><td>  1133066          </td><td> 4513.4806         </td></tr>\n",
       "\t<tr><td>Sweden             </td><td>Europe             </td><td>2007               </td><td>80.884             </td><td>  9031088          </td><td>33859.7484         </td></tr>\n",
       "\t<tr><td>Switzerland        </td><td>Europe             </td><td>2007               </td><td>81.701             </td><td>  7554661          </td><td>37506.4191         </td></tr>\n",
       "\t<tr><td>Syria              </td><td>Asia               </td><td>2007               </td><td>74.143             </td><td> 19314747          </td><td> 4184.5481         </td></tr>\n",
       "\t<tr><td>Taiwan             </td><td>Asia               </td><td>2007               </td><td>78.400             </td><td> 23174294          </td><td>28718.2768         </td></tr>\n",
       "\t<tr><td>Tanzania           </td><td>Africa             </td><td>2007               </td><td>52.517             </td><td> 38139640          </td><td> 1107.4822         </td></tr>\n",
       "\t<tr><td>Thailand           </td><td>Asia               </td><td>2007               </td><td>70.616             </td><td> 65068149          </td><td> 7458.3963         </td></tr>\n",
       "\t<tr><td>Togo               </td><td>Africa             </td><td>2007               </td><td>58.420             </td><td>  5701579          </td><td>  882.9699         </td></tr>\n",
       "\t<tr><td>Trinidad and Tobago</td><td>Americas           </td><td>2007               </td><td>69.819             </td><td>  1056608          </td><td>18008.5092         </td></tr>\n",
       "\t<tr><td>Tunisia            </td><td>Africa             </td><td>2007               </td><td>73.923             </td><td> 10276158          </td><td> 7092.9230         </td></tr>\n",
       "\t<tr><td>Turkey             </td><td>Europe             </td><td>2007               </td><td>71.777             </td><td> 71158647          </td><td> 8458.2764         </td></tr>\n",
       "\t<tr><td>Uganda             </td><td>Africa             </td><td>2007               </td><td>51.542             </td><td> 29170398          </td><td> 1056.3801         </td></tr>\n",
       "\t<tr><td>United Kingdom     </td><td>Europe             </td><td>2007               </td><td>79.425             </td><td> 60776238          </td><td>33203.2613         </td></tr>\n",
       "\t<tr><td>United States      </td><td>Americas           </td><td>2007               </td><td>78.242             </td><td>301139947          </td><td>42951.6531         </td></tr>\n",
       "\t<tr><td>Uruguay            </td><td>Americas           </td><td>2007               </td><td>76.384             </td><td>  3447496          </td><td>10611.4630         </td></tr>\n",
       "\t<tr><td>Venezuela          </td><td>Americas           </td><td>2007               </td><td>73.747             </td><td> 26084662          </td><td>11415.8057         </td></tr>\n",
       "\t<tr><td>Vietnam            </td><td>Asia               </td><td>2007               </td><td>74.249             </td><td> 85262356          </td><td> 2441.5764         </td></tr>\n",
       "\t<tr><td>West Bank and Gaza </td><td>Asia               </td><td>2007               </td><td>73.422             </td><td>  4018332          </td><td> 3025.3498         </td></tr>\n",
       "\t<tr><td>Yemen, Rep.        </td><td>Asia               </td><td>2007               </td><td>62.698             </td><td> 22211743          </td><td> 2280.7699         </td></tr>\n",
       "\t<tr><td>Zambia             </td><td>Africa             </td><td>2007               </td><td>42.384             </td><td> 11746035          </td><td> 1271.2116         </td></tr>\n",
       "\t<tr><td>Zimbabwe           </td><td>Africa             </td><td>2007               </td><td>43.487             </td><td> 12311143          </td><td>  469.7093         </td></tr>\n",
       "</tbody>\n",
       "</table>\n"
      ],
      "text/latex": [
       "\\begin{tabular}{r|llllll}\n",
       " country & continent & year & lifeExp & pop & gdpPercap\\\\\n",
       "\\hline\n",
       "\t Afghanistan              & Asia                     & 2007                     & 43.828                   &   31889923               &   974.5803              \\\\\n",
       "\t Albania                  & Europe                   & 2007                     & 76.423                   &    3600523               &  5937.0295              \\\\\n",
       "\t Algeria                  & Africa                   & 2007                     & 72.301                   &   33333216               &  6223.3675              \\\\\n",
       "\t Angola                   & Africa                   & 2007                     & 42.731                   &   12420476               &  4797.2313              \\\\\n",
       "\t Argentina                & Americas                 & 2007                     & 75.320                   &   40301927               & 12779.3796              \\\\\n",
       "\t Australia                & Oceania                  & 2007                     & 81.235                   &   20434176               & 34435.3674              \\\\\n",
       "\t Austria                  & Europe                   & 2007                     & 79.829                   &    8199783               & 36126.4927              \\\\\n",
       "\t Bahrain                  & Asia                     & 2007                     & 75.635                   &     708573               & 29796.0483              \\\\\n",
       "\t Bangladesh               & Asia                     & 2007                     & 64.062                   &  150448339               &  1391.2538              \\\\\n",
       "\t Belgium                  & Europe                   & 2007                     & 79.441                   &   10392226               & 33692.6051              \\\\\n",
       "\t Benin                    & Africa                   & 2007                     & 56.728                   &    8078314               &  1441.2849              \\\\\n",
       "\t Bolivia                  & Americas                 & 2007                     & 65.554                   &    9119152               &  3822.1371              \\\\\n",
       "\t Bosnia and Herzegovina   & Europe                   & 2007                     & 74.852                   &    4552198               &  7446.2988              \\\\\n",
       "\t Botswana                 & Africa                   & 2007                     & 50.728                   &    1639131               & 12569.8518              \\\\\n",
       "\t Brazil                   & Americas                 & 2007                     & 72.390                   &  190010647               &  9065.8008              \\\\\n",
       "\t Bulgaria                 & Europe                   & 2007                     & 73.005                   &    7322858               & 10680.7928              \\\\\n",
       "\t Burkina Faso             & Africa                   & 2007                     & 52.295                   &   14326203               &  1217.0330              \\\\\n",
       "\t Burundi                  & Africa                   & 2007                     & 49.580                   &    8390505               &   430.0707              \\\\\n",
       "\t Cambodia                 & Asia                     & 2007                     & 59.723                   &   14131858               &  1713.7787              \\\\\n",
       "\t Cameroon                 & Africa                   & 2007                     & 50.430                   &   17696293               &  2042.0952              \\\\\n",
       "\t Canada                   & Americas                 & 2007                     & 80.653                   &   33390141               & 36319.2350              \\\\\n",
       "\t Central African Republic & Africa                   & 2007                     & 44.741                   &    4369038               &   706.0165              \\\\\n",
       "\t Chad                     & Africa                   & 2007                     & 50.651                   &   10238807               &  1704.0637              \\\\\n",
       "\t Chile                    & Americas                 & 2007                     & 78.553                   &   16284741               & 13171.6388              \\\\\n",
       "\t China                    & Asia                     & 2007                     & 72.961                   & 1318683096               &  4959.1149              \\\\\n",
       "\t Colombia                 & Americas                 & 2007                     & 72.889                   &   44227550               &  7006.5804              \\\\\n",
       "\t Comoros                  & Africa                   & 2007                     & 65.152                   &     710960               &   986.1479              \\\\\n",
       "\t Congo, Dem. Rep.         & Africa                   & 2007                     & 46.462                   &   64606759               &   277.5519              \\\\\n",
       "\t Congo, Rep.              & Africa                   & 2007                     & 55.322                   &    3800610               &  3632.5578              \\\\\n",
       "\t Costa Rica               & Americas                 & 2007                     & 78.782                   &    4133884               &  9645.0614              \\\\\n",
       "\t ... & ... & ... & ... & ... & ...\\\\\n",
       "\t Sierra Leone        & Africa              & 2007                & 42.568              &   6144562           &   862.5408         \\\\\n",
       "\t Singapore           & Asia                & 2007                & 79.972              &   4553009           & 47143.1796         \\\\\n",
       "\t Slovak Republic     & Europe              & 2007                & 74.663              &   5447502           & 18678.3144         \\\\\n",
       "\t Slovenia            & Europe              & 2007                & 77.926              &   2009245           & 25768.2576         \\\\\n",
       "\t Somalia             & Africa              & 2007                & 48.159              &   9118773           &   926.1411         \\\\\n",
       "\t South Africa        & Africa              & 2007                & 49.339              &  43997828           &  9269.6578         \\\\\n",
       "\t Spain               & Europe              & 2007                & 80.941              &  40448191           & 28821.0637         \\\\\n",
       "\t Sri Lanka           & Asia                & 2007                & 72.396              &  20378239           &  3970.0954         \\\\\n",
       "\t Sudan               & Africa              & 2007                & 58.556              &  42292929           &  2602.3950         \\\\\n",
       "\t Swaziland           & Africa              & 2007                & 39.613              &   1133066           &  4513.4806         \\\\\n",
       "\t Sweden              & Europe              & 2007                & 80.884              &   9031088           & 33859.7484         \\\\\n",
       "\t Switzerland         & Europe              & 2007                & 81.701              &   7554661           & 37506.4191         \\\\\n",
       "\t Syria               & Asia                & 2007                & 74.143              &  19314747           &  4184.5481         \\\\\n",
       "\t Taiwan              & Asia                & 2007                & 78.400              &  23174294           & 28718.2768         \\\\\n",
       "\t Tanzania            & Africa              & 2007                & 52.517              &  38139640           &  1107.4822         \\\\\n",
       "\t Thailand            & Asia                & 2007                & 70.616              &  65068149           &  7458.3963         \\\\\n",
       "\t Togo                & Africa              & 2007                & 58.420              &   5701579           &   882.9699         \\\\\n",
       "\t Trinidad and Tobago & Americas            & 2007                & 69.819              &   1056608           & 18008.5092         \\\\\n",
       "\t Tunisia             & Africa              & 2007                & 73.923              &  10276158           &  7092.9230         \\\\\n",
       "\t Turkey              & Europe              & 2007                & 71.777              &  71158647           &  8458.2764         \\\\\n",
       "\t Uganda              & Africa              & 2007                & 51.542              &  29170398           &  1056.3801         \\\\\n",
       "\t United Kingdom      & Europe              & 2007                & 79.425              &  60776238           & 33203.2613         \\\\\n",
       "\t United States       & Americas            & 2007                & 78.242              & 301139947           & 42951.6531         \\\\\n",
       "\t Uruguay             & Americas            & 2007                & 76.384              &   3447496           & 10611.4630         \\\\\n",
       "\t Venezuela           & Americas            & 2007                & 73.747              &  26084662           & 11415.8057         \\\\\n",
       "\t Vietnam             & Asia                & 2007                & 74.249              &  85262356           &  2441.5764         \\\\\n",
       "\t West Bank and Gaza  & Asia                & 2007                & 73.422              &   4018332           &  3025.3498         \\\\\n",
       "\t Yemen, Rep.         & Asia                & 2007                & 62.698              &  22211743           &  2280.7699         \\\\\n",
       "\t Zambia              & Africa              & 2007                & 42.384              &  11746035           &  1271.2116         \\\\\n",
       "\t Zimbabwe            & Africa              & 2007                & 43.487              &  12311143           &   469.7093         \\\\\n",
       "\\end{tabular}\n"
      ],
      "text/markdown": [
       "\n",
       "country | continent | year | lifeExp | pop | gdpPercap | \n",
       "|---|---|---|---|---|---|---|---|---|---|---|---|---|---|---|---|---|---|---|---|---|---|---|---|---|---|---|---|---|---|---|---|---|---|---|---|---|---|---|---|---|---|---|---|---|---|---|---|---|---|---|---|---|---|---|---|---|---|---|---|---|\n",
       "| Afghanistan              | Asia                     | 2007                     | 43.828                   |   31889923               |   974.5803               | \n",
       "| Albania                  | Europe                   | 2007                     | 76.423                   |    3600523               |  5937.0295               | \n",
       "| Algeria                  | Africa                   | 2007                     | 72.301                   |   33333216               |  6223.3675               | \n",
       "| Angola                   | Africa                   | 2007                     | 42.731                   |   12420476               |  4797.2313               | \n",
       "| Argentina                | Americas                 | 2007                     | 75.320                   |   40301927               | 12779.3796               | \n",
       "| Australia                | Oceania                  | 2007                     | 81.235                   |   20434176               | 34435.3674               | \n",
       "| Austria                  | Europe                   | 2007                     | 79.829                   |    8199783               | 36126.4927               | \n",
       "| Bahrain                  | Asia                     | 2007                     | 75.635                   |     708573               | 29796.0483               | \n",
       "| Bangladesh               | Asia                     | 2007                     | 64.062                   |  150448339               |  1391.2538               | \n",
       "| Belgium                  | Europe                   | 2007                     | 79.441                   |   10392226               | 33692.6051               | \n",
       "| Benin                    | Africa                   | 2007                     | 56.728                   |    8078314               |  1441.2849               | \n",
       "| Bolivia                  | Americas                 | 2007                     | 65.554                   |    9119152               |  3822.1371               | \n",
       "| Bosnia and Herzegovina   | Europe                   | 2007                     | 74.852                   |    4552198               |  7446.2988               | \n",
       "| Botswana                 | Africa                   | 2007                     | 50.728                   |    1639131               | 12569.8518               | \n",
       "| Brazil                   | Americas                 | 2007                     | 72.390                   |  190010647               |  9065.8008               | \n",
       "| Bulgaria                 | Europe                   | 2007                     | 73.005                   |    7322858               | 10680.7928               | \n",
       "| Burkina Faso             | Africa                   | 2007                     | 52.295                   |   14326203               |  1217.0330               | \n",
       "| Burundi                  | Africa                   | 2007                     | 49.580                   |    8390505               |   430.0707               | \n",
       "| Cambodia                 | Asia                     | 2007                     | 59.723                   |   14131858               |  1713.7787               | \n",
       "| Cameroon                 | Africa                   | 2007                     | 50.430                   |   17696293               |  2042.0952               | \n",
       "| Canada                   | Americas                 | 2007                     | 80.653                   |   33390141               | 36319.2350               | \n",
       "| Central African Republic | Africa                   | 2007                     | 44.741                   |    4369038               |   706.0165               | \n",
       "| Chad                     | Africa                   | 2007                     | 50.651                   |   10238807               |  1704.0637               | \n",
       "| Chile                    | Americas                 | 2007                     | 78.553                   |   16284741               | 13171.6388               | \n",
       "| China                    | Asia                     | 2007                     | 72.961                   | 1318683096               |  4959.1149               | \n",
       "| Colombia                 | Americas                 | 2007                     | 72.889                   |   44227550               |  7006.5804               | \n",
       "| Comoros                  | Africa                   | 2007                     | 65.152                   |     710960               |   986.1479               | \n",
       "| Congo, Dem. Rep.         | Africa                   | 2007                     | 46.462                   |   64606759               |   277.5519               | \n",
       "| Congo, Rep.              | Africa                   | 2007                     | 55.322                   |    3800610               |  3632.5578               | \n",
       "| Costa Rica               | Americas                 | 2007                     | 78.782                   |    4133884               |  9645.0614               | \n",
       "| ... | ... | ... | ... | ... | ... | \n",
       "| Sierra Leone        | Africa              | 2007                | 42.568              |   6144562           |   862.5408          | \n",
       "| Singapore           | Asia                | 2007                | 79.972              |   4553009           | 47143.1796          | \n",
       "| Slovak Republic     | Europe              | 2007                | 74.663              |   5447502           | 18678.3144          | \n",
       "| Slovenia            | Europe              | 2007                | 77.926              |   2009245           | 25768.2576          | \n",
       "| Somalia             | Africa              | 2007                | 48.159              |   9118773           |   926.1411          | \n",
       "| South Africa        | Africa              | 2007                | 49.339              |  43997828           |  9269.6578          | \n",
       "| Spain               | Europe              | 2007                | 80.941              |  40448191           | 28821.0637          | \n",
       "| Sri Lanka           | Asia                | 2007                | 72.396              |  20378239           |  3970.0954          | \n",
       "| Sudan               | Africa              | 2007                | 58.556              |  42292929           |  2602.3950          | \n",
       "| Swaziland           | Africa              | 2007                | 39.613              |   1133066           |  4513.4806          | \n",
       "| Sweden              | Europe              | 2007                | 80.884              |   9031088           | 33859.7484          | \n",
       "| Switzerland         | Europe              | 2007                | 81.701              |   7554661           | 37506.4191          | \n",
       "| Syria               | Asia                | 2007                | 74.143              |  19314747           |  4184.5481          | \n",
       "| Taiwan              | Asia                | 2007                | 78.400              |  23174294           | 28718.2768          | \n",
       "| Tanzania            | Africa              | 2007                | 52.517              |  38139640           |  1107.4822          | \n",
       "| Thailand            | Asia                | 2007                | 70.616              |  65068149           |  7458.3963          | \n",
       "| Togo                | Africa              | 2007                | 58.420              |   5701579           |   882.9699          | \n",
       "| Trinidad and Tobago | Americas            | 2007                | 69.819              |   1056608           | 18008.5092          | \n",
       "| Tunisia             | Africa              | 2007                | 73.923              |  10276158           |  7092.9230          | \n",
       "| Turkey              | Europe              | 2007                | 71.777              |  71158647           |  8458.2764          | \n",
       "| Uganda              | Africa              | 2007                | 51.542              |  29170398           |  1056.3801          | \n",
       "| United Kingdom      | Europe              | 2007                | 79.425              |  60776238           | 33203.2613          | \n",
       "| United States       | Americas            | 2007                | 78.242              | 301139947           | 42951.6531          | \n",
       "| Uruguay             | Americas            | 2007                | 76.384              |   3447496           | 10611.4630          | \n",
       "| Venezuela           | Americas            | 2007                | 73.747              |  26084662           | 11415.8057          | \n",
       "| Vietnam             | Asia                | 2007                | 74.249              |  85262356           |  2441.5764          | \n",
       "| West Bank and Gaza  | Asia                | 2007                | 73.422              |   4018332           |  3025.3498          | \n",
       "| Yemen, Rep.         | Asia                | 2007                | 62.698              |  22211743           |  2280.7699          | \n",
       "| Zambia              | Africa              | 2007                | 42.384              |  11746035           |  1271.2116          | \n",
       "| Zimbabwe            | Africa              | 2007                | 43.487              |  12311143           |   469.7093          | \n",
       "\n",
       "\n"
      ],
      "text/plain": [
       "    country                  continent year lifeExp pop        gdpPercap \n",
       "1   Afghanistan              Asia      2007 43.828    31889923   974.5803\n",
       "2   Albania                  Europe    2007 76.423     3600523  5937.0295\n",
       "3   Algeria                  Africa    2007 72.301    33333216  6223.3675\n",
       "4   Angola                   Africa    2007 42.731    12420476  4797.2313\n",
       "5   Argentina                Americas  2007 75.320    40301927 12779.3796\n",
       "6   Australia                Oceania   2007 81.235    20434176 34435.3674\n",
       "7   Austria                  Europe    2007 79.829     8199783 36126.4927\n",
       "8   Bahrain                  Asia      2007 75.635      708573 29796.0483\n",
       "9   Bangladesh               Asia      2007 64.062   150448339  1391.2538\n",
       "10  Belgium                  Europe    2007 79.441    10392226 33692.6051\n",
       "11  Benin                    Africa    2007 56.728     8078314  1441.2849\n",
       "12  Bolivia                  Americas  2007 65.554     9119152  3822.1371\n",
       "13  Bosnia and Herzegovina   Europe    2007 74.852     4552198  7446.2988\n",
       "14  Botswana                 Africa    2007 50.728     1639131 12569.8518\n",
       "15  Brazil                   Americas  2007 72.390   190010647  9065.8008\n",
       "16  Bulgaria                 Europe    2007 73.005     7322858 10680.7928\n",
       "17  Burkina Faso             Africa    2007 52.295    14326203  1217.0330\n",
       "18  Burundi                  Africa    2007 49.580     8390505   430.0707\n",
       "19  Cambodia                 Asia      2007 59.723    14131858  1713.7787\n",
       "20  Cameroon                 Africa    2007 50.430    17696293  2042.0952\n",
       "21  Canada                   Americas  2007 80.653    33390141 36319.2350\n",
       "22  Central African Republic Africa    2007 44.741     4369038   706.0165\n",
       "23  Chad                     Africa    2007 50.651    10238807  1704.0637\n",
       "24  Chile                    Americas  2007 78.553    16284741 13171.6388\n",
       "25  China                    Asia      2007 72.961  1318683096  4959.1149\n",
       "26  Colombia                 Americas  2007 72.889    44227550  7006.5804\n",
       "27  Comoros                  Africa    2007 65.152      710960   986.1479\n",
       "28  Congo, Dem. Rep.         Africa    2007 46.462    64606759   277.5519\n",
       "29  Congo, Rep.              Africa    2007 55.322     3800610  3632.5578\n",
       "30  Costa Rica               Americas  2007 78.782     4133884  9645.0614\n",
       "... ...                      ...       ...  ...     ...        ...       \n",
       "113 Sierra Leone             Africa    2007 42.568    6144562    862.5408\n",
       "114 Singapore                Asia      2007 79.972    4553009  47143.1796\n",
       "115 Slovak Republic          Europe    2007 74.663    5447502  18678.3144\n",
       "116 Slovenia                 Europe    2007 77.926    2009245  25768.2576\n",
       "117 Somalia                  Africa    2007 48.159    9118773    926.1411\n",
       "118 South Africa             Africa    2007 49.339   43997828   9269.6578\n",
       "119 Spain                    Europe    2007 80.941   40448191  28821.0637\n",
       "120 Sri Lanka                Asia      2007 72.396   20378239   3970.0954\n",
       "121 Sudan                    Africa    2007 58.556   42292929   2602.3950\n",
       "122 Swaziland                Africa    2007 39.613    1133066   4513.4806\n",
       "123 Sweden                   Europe    2007 80.884    9031088  33859.7484\n",
       "124 Switzerland              Europe    2007 81.701    7554661  37506.4191\n",
       "125 Syria                    Asia      2007 74.143   19314747   4184.5481\n",
       "126 Taiwan                   Asia      2007 78.400   23174294  28718.2768\n",
       "127 Tanzania                 Africa    2007 52.517   38139640   1107.4822\n",
       "128 Thailand                 Asia      2007 70.616   65068149   7458.3963\n",
       "129 Togo                     Africa    2007 58.420    5701579    882.9699\n",
       "130 Trinidad and Tobago      Americas  2007 69.819    1056608  18008.5092\n",
       "131 Tunisia                  Africa    2007 73.923   10276158   7092.9230\n",
       "132 Turkey                   Europe    2007 71.777   71158647   8458.2764\n",
       "133 Uganda                   Africa    2007 51.542   29170398   1056.3801\n",
       "134 United Kingdom           Europe    2007 79.425   60776238  33203.2613\n",
       "135 United States            Americas  2007 78.242  301139947  42951.6531\n",
       "136 Uruguay                  Americas  2007 76.384    3447496  10611.4630\n",
       "137 Venezuela                Americas  2007 73.747   26084662  11415.8057\n",
       "138 Vietnam                  Asia      2007 74.249   85262356   2441.5764\n",
       "139 West Bank and Gaza       Asia      2007 73.422    4018332   3025.3498\n",
       "140 Yemen, Rep.              Asia      2007 62.698   22211743   2280.7699\n",
       "141 Zambia                   Africa    2007 42.384   11746035   1271.2116\n",
       "142 Zimbabwe                 Africa    2007 43.487   12311143    469.7093"
      ]
     },
     "metadata": {},
     "output_type": "display_data"
    }
   ],
   "source": [
    "gapminder %>% filter(year == 2007) %>% arrange(country)"
   ]
  },
  {
   "cell_type": "code",
   "execution_count": 11,
   "metadata": {},
   "outputs": [
    {
     "data": {
      "text/html": [
       "<table>\n",
       "<thead><tr><th scope=col>country</th><th scope=col>continent</th><th scope=col>year</th><th scope=col>lifeExp</th><th scope=col>pop</th><th scope=col>gdpPercap</th></tr></thead>\n",
       "<tbody>\n",
       "\t<tr><td>Zimbabwe           </td><td>Africa             </td><td>2007               </td><td>43.487             </td><td> 12311143          </td><td>  469.7093         </td></tr>\n",
       "\t<tr><td>Zambia             </td><td>Africa             </td><td>2007               </td><td>42.384             </td><td> 11746035          </td><td> 1271.2116         </td></tr>\n",
       "\t<tr><td>Yemen, Rep.        </td><td>Asia               </td><td>2007               </td><td>62.698             </td><td> 22211743          </td><td> 2280.7699         </td></tr>\n",
       "\t<tr><td>West Bank and Gaza </td><td>Asia               </td><td>2007               </td><td>73.422             </td><td>  4018332          </td><td> 3025.3498         </td></tr>\n",
       "\t<tr><td>Vietnam            </td><td>Asia               </td><td>2007               </td><td>74.249             </td><td> 85262356          </td><td> 2441.5764         </td></tr>\n",
       "\t<tr><td>Venezuela          </td><td>Americas           </td><td>2007               </td><td>73.747             </td><td> 26084662          </td><td>11415.8057         </td></tr>\n",
       "\t<tr><td>Uruguay            </td><td>Americas           </td><td>2007               </td><td>76.384             </td><td>  3447496          </td><td>10611.4630         </td></tr>\n",
       "\t<tr><td>United States      </td><td>Americas           </td><td>2007               </td><td>78.242             </td><td>301139947          </td><td>42951.6531         </td></tr>\n",
       "\t<tr><td>United Kingdom     </td><td>Europe             </td><td>2007               </td><td>79.425             </td><td> 60776238          </td><td>33203.2613         </td></tr>\n",
       "\t<tr><td>Uganda             </td><td>Africa             </td><td>2007               </td><td>51.542             </td><td> 29170398          </td><td> 1056.3801         </td></tr>\n",
       "\t<tr><td>Turkey             </td><td>Europe             </td><td>2007               </td><td>71.777             </td><td> 71158647          </td><td> 8458.2764         </td></tr>\n",
       "\t<tr><td>Tunisia            </td><td>Africa             </td><td>2007               </td><td>73.923             </td><td> 10276158          </td><td> 7092.9230         </td></tr>\n",
       "\t<tr><td>Trinidad and Tobago</td><td>Americas           </td><td>2007               </td><td>69.819             </td><td>  1056608          </td><td>18008.5092         </td></tr>\n",
       "\t<tr><td>Togo               </td><td>Africa             </td><td>2007               </td><td>58.420             </td><td>  5701579          </td><td>  882.9699         </td></tr>\n",
       "\t<tr><td>Thailand           </td><td>Asia               </td><td>2007               </td><td>70.616             </td><td> 65068149          </td><td> 7458.3963         </td></tr>\n",
       "\t<tr><td>Tanzania           </td><td>Africa             </td><td>2007               </td><td>52.517             </td><td> 38139640          </td><td> 1107.4822         </td></tr>\n",
       "\t<tr><td>Taiwan             </td><td>Asia               </td><td>2007               </td><td>78.400             </td><td> 23174294          </td><td>28718.2768         </td></tr>\n",
       "\t<tr><td>Syria              </td><td>Asia               </td><td>2007               </td><td>74.143             </td><td> 19314747          </td><td> 4184.5481         </td></tr>\n",
       "\t<tr><td>Switzerland        </td><td>Europe             </td><td>2007               </td><td>81.701             </td><td>  7554661          </td><td>37506.4191         </td></tr>\n",
       "\t<tr><td>Sweden             </td><td>Europe             </td><td>2007               </td><td>80.884             </td><td>  9031088          </td><td>33859.7484         </td></tr>\n",
       "\t<tr><td>Swaziland          </td><td>Africa             </td><td>2007               </td><td>39.613             </td><td>  1133066          </td><td> 4513.4806         </td></tr>\n",
       "\t<tr><td>Sudan              </td><td>Africa             </td><td>2007               </td><td>58.556             </td><td> 42292929          </td><td> 2602.3950         </td></tr>\n",
       "\t<tr><td>Sri Lanka          </td><td>Asia               </td><td>2007               </td><td>72.396             </td><td> 20378239          </td><td> 3970.0954         </td></tr>\n",
       "\t<tr><td>Spain              </td><td>Europe             </td><td>2007               </td><td>80.941             </td><td> 40448191          </td><td>28821.0637         </td></tr>\n",
       "\t<tr><td>South Africa       </td><td>Africa             </td><td>2007               </td><td>49.339             </td><td> 43997828          </td><td> 9269.6578         </td></tr>\n",
       "\t<tr><td>Somalia            </td><td>Africa             </td><td>2007               </td><td>48.159             </td><td>  9118773          </td><td>  926.1411         </td></tr>\n",
       "\t<tr><td>Slovenia           </td><td>Europe             </td><td>2007               </td><td>77.926             </td><td>  2009245          </td><td>25768.2576         </td></tr>\n",
       "\t<tr><td>Slovak Republic    </td><td>Europe             </td><td>2007               </td><td>74.663             </td><td>  5447502          </td><td>18678.3144         </td></tr>\n",
       "\t<tr><td>Singapore          </td><td>Asia               </td><td>2007               </td><td>79.972             </td><td>  4553009          </td><td>47143.1796         </td></tr>\n",
       "\t<tr><td>Sierra Leone       </td><td>Africa             </td><td>2007               </td><td>42.568             </td><td>  6144562          </td><td>  862.5408         </td></tr>\n",
       "\t<tr><td>...</td><td>...</td><td>...</td><td>...</td><td>...</td><td>...</td></tr>\n",
       "\t<tr><td>Costa Rica              </td><td>Americas                </td><td>2007                    </td><td>78.782                  </td><td>   4133884              </td><td> 9645.0614              </td></tr>\n",
       "\t<tr><td>Congo, Rep.             </td><td>Africa                  </td><td>2007                    </td><td>55.322                  </td><td>   3800610              </td><td> 3632.5578              </td></tr>\n",
       "\t<tr><td>Congo, Dem. Rep.        </td><td>Africa                  </td><td>2007                    </td><td>46.462                  </td><td>  64606759              </td><td>  277.5519              </td></tr>\n",
       "\t<tr><td>Comoros                 </td><td>Africa                  </td><td>2007                    </td><td>65.152                  </td><td>    710960              </td><td>  986.1479              </td></tr>\n",
       "\t<tr><td>Colombia                </td><td>Americas                </td><td>2007                    </td><td>72.889                  </td><td>  44227550              </td><td> 7006.5804              </td></tr>\n",
       "\t<tr><td>China                   </td><td>Asia                    </td><td>2007                    </td><td>72.961                  </td><td>1318683096              </td><td> 4959.1149              </td></tr>\n",
       "\t<tr><td>Chile                   </td><td>Americas                </td><td>2007                    </td><td>78.553                  </td><td>  16284741              </td><td>13171.6388              </td></tr>\n",
       "\t<tr><td>Chad                    </td><td>Africa                  </td><td>2007                    </td><td>50.651                  </td><td>  10238807              </td><td> 1704.0637              </td></tr>\n",
       "\t<tr><td>Central African Republic</td><td>Africa                  </td><td>2007                    </td><td>44.741                  </td><td>   4369038              </td><td>  706.0165              </td></tr>\n",
       "\t<tr><td>Canada                  </td><td>Americas                </td><td>2007                    </td><td>80.653                  </td><td>  33390141              </td><td>36319.2350              </td></tr>\n",
       "\t<tr><td>Cameroon                </td><td>Africa                  </td><td>2007                    </td><td>50.430                  </td><td>  17696293              </td><td> 2042.0952              </td></tr>\n",
       "\t<tr><td>Cambodia                </td><td>Asia                    </td><td>2007                    </td><td>59.723                  </td><td>  14131858              </td><td> 1713.7787              </td></tr>\n",
       "\t<tr><td>Burundi                 </td><td>Africa                  </td><td>2007                    </td><td>49.580                  </td><td>   8390505              </td><td>  430.0707              </td></tr>\n",
       "\t<tr><td>Burkina Faso            </td><td>Africa                  </td><td>2007                    </td><td>52.295                  </td><td>  14326203              </td><td> 1217.0330              </td></tr>\n",
       "\t<tr><td>Bulgaria                </td><td>Europe                  </td><td>2007                    </td><td>73.005                  </td><td>   7322858              </td><td>10680.7928              </td></tr>\n",
       "\t<tr><td>Brazil                  </td><td>Americas                </td><td>2007                    </td><td>72.390                  </td><td> 190010647              </td><td> 9065.8008              </td></tr>\n",
       "\t<tr><td>Botswana                </td><td>Africa                  </td><td>2007                    </td><td>50.728                  </td><td>   1639131              </td><td>12569.8518              </td></tr>\n",
       "\t<tr><td>Bosnia and Herzegovina  </td><td>Europe                  </td><td>2007                    </td><td>74.852                  </td><td>   4552198              </td><td> 7446.2988              </td></tr>\n",
       "\t<tr><td>Bolivia                 </td><td>Americas                </td><td>2007                    </td><td>65.554                  </td><td>   9119152              </td><td> 3822.1371              </td></tr>\n",
       "\t<tr><td>Benin                   </td><td>Africa                  </td><td>2007                    </td><td>56.728                  </td><td>   8078314              </td><td> 1441.2849              </td></tr>\n",
       "\t<tr><td>Belgium                 </td><td>Europe                  </td><td>2007                    </td><td>79.441                  </td><td>  10392226              </td><td>33692.6051              </td></tr>\n",
       "\t<tr><td>Bangladesh              </td><td>Asia                    </td><td>2007                    </td><td>64.062                  </td><td> 150448339              </td><td> 1391.2538              </td></tr>\n",
       "\t<tr><td>Bahrain                 </td><td>Asia                    </td><td>2007                    </td><td>75.635                  </td><td>    708573              </td><td>29796.0483              </td></tr>\n",
       "\t<tr><td>Austria                 </td><td>Europe                  </td><td>2007                    </td><td>79.829                  </td><td>   8199783              </td><td>36126.4927              </td></tr>\n",
       "\t<tr><td>Australia               </td><td>Oceania                 </td><td>2007                    </td><td>81.235                  </td><td>  20434176              </td><td>34435.3674              </td></tr>\n",
       "\t<tr><td>Argentina               </td><td>Americas                </td><td>2007                    </td><td>75.320                  </td><td>  40301927              </td><td>12779.3796              </td></tr>\n",
       "\t<tr><td>Angola                  </td><td>Africa                  </td><td>2007                    </td><td>42.731                  </td><td>  12420476              </td><td> 4797.2313              </td></tr>\n",
       "\t<tr><td>Algeria                 </td><td>Africa                  </td><td>2007                    </td><td>72.301                  </td><td>  33333216              </td><td> 6223.3675              </td></tr>\n",
       "\t<tr><td>Albania                 </td><td>Europe                  </td><td>2007                    </td><td>76.423                  </td><td>   3600523              </td><td> 5937.0295              </td></tr>\n",
       "\t<tr><td>Afghanistan             </td><td>Asia                    </td><td>2007                    </td><td>43.828                  </td><td>  31889923              </td><td>  974.5803              </td></tr>\n",
       "</tbody>\n",
       "</table>\n"
      ],
      "text/latex": [
       "\\begin{tabular}{r|llllll}\n",
       " country & continent & year & lifeExp & pop & gdpPercap\\\\\n",
       "\\hline\n",
       "\t Zimbabwe            & Africa              & 2007                & 43.487              &  12311143           &   469.7093         \\\\\n",
       "\t Zambia              & Africa              & 2007                & 42.384              &  11746035           &  1271.2116         \\\\\n",
       "\t Yemen, Rep.         & Asia                & 2007                & 62.698              &  22211743           &  2280.7699         \\\\\n",
       "\t West Bank and Gaza  & Asia                & 2007                & 73.422              &   4018332           &  3025.3498         \\\\\n",
       "\t Vietnam             & Asia                & 2007                & 74.249              &  85262356           &  2441.5764         \\\\\n",
       "\t Venezuela           & Americas            & 2007                & 73.747              &  26084662           & 11415.8057         \\\\\n",
       "\t Uruguay             & Americas            & 2007                & 76.384              &   3447496           & 10611.4630         \\\\\n",
       "\t United States       & Americas            & 2007                & 78.242              & 301139947           & 42951.6531         \\\\\n",
       "\t United Kingdom      & Europe              & 2007                & 79.425              &  60776238           & 33203.2613         \\\\\n",
       "\t Uganda              & Africa              & 2007                & 51.542              &  29170398           &  1056.3801         \\\\\n",
       "\t Turkey              & Europe              & 2007                & 71.777              &  71158647           &  8458.2764         \\\\\n",
       "\t Tunisia             & Africa              & 2007                & 73.923              &  10276158           &  7092.9230         \\\\\n",
       "\t Trinidad and Tobago & Americas            & 2007                & 69.819              &   1056608           & 18008.5092         \\\\\n",
       "\t Togo                & Africa              & 2007                & 58.420              &   5701579           &   882.9699         \\\\\n",
       "\t Thailand            & Asia                & 2007                & 70.616              &  65068149           &  7458.3963         \\\\\n",
       "\t Tanzania            & Africa              & 2007                & 52.517              &  38139640           &  1107.4822         \\\\\n",
       "\t Taiwan              & Asia                & 2007                & 78.400              &  23174294           & 28718.2768         \\\\\n",
       "\t Syria               & Asia                & 2007                & 74.143              &  19314747           &  4184.5481         \\\\\n",
       "\t Switzerland         & Europe              & 2007                & 81.701              &   7554661           & 37506.4191         \\\\\n",
       "\t Sweden              & Europe              & 2007                & 80.884              &   9031088           & 33859.7484         \\\\\n",
       "\t Swaziland           & Africa              & 2007                & 39.613              &   1133066           &  4513.4806         \\\\\n",
       "\t Sudan               & Africa              & 2007                & 58.556              &  42292929           &  2602.3950         \\\\\n",
       "\t Sri Lanka           & Asia                & 2007                & 72.396              &  20378239           &  3970.0954         \\\\\n",
       "\t Spain               & Europe              & 2007                & 80.941              &  40448191           & 28821.0637         \\\\\n",
       "\t South Africa        & Africa              & 2007                & 49.339              &  43997828           &  9269.6578         \\\\\n",
       "\t Somalia             & Africa              & 2007                & 48.159              &   9118773           &   926.1411         \\\\\n",
       "\t Slovenia            & Europe              & 2007                & 77.926              &   2009245           & 25768.2576         \\\\\n",
       "\t Slovak Republic     & Europe              & 2007                & 74.663              &   5447502           & 18678.3144         \\\\\n",
       "\t Singapore           & Asia                & 2007                & 79.972              &   4553009           & 47143.1796         \\\\\n",
       "\t Sierra Leone        & Africa              & 2007                & 42.568              &   6144562           &   862.5408         \\\\\n",
       "\t ... & ... & ... & ... & ... & ...\\\\\n",
       "\t Costa Rica               & Americas                 & 2007                     & 78.782                   &    4133884               &  9645.0614              \\\\\n",
       "\t Congo, Rep.              & Africa                   & 2007                     & 55.322                   &    3800610               &  3632.5578              \\\\\n",
       "\t Congo, Dem. Rep.         & Africa                   & 2007                     & 46.462                   &   64606759               &   277.5519              \\\\\n",
       "\t Comoros                  & Africa                   & 2007                     & 65.152                   &     710960               &   986.1479              \\\\\n",
       "\t Colombia                 & Americas                 & 2007                     & 72.889                   &   44227550               &  7006.5804              \\\\\n",
       "\t China                    & Asia                     & 2007                     & 72.961                   & 1318683096               &  4959.1149              \\\\\n",
       "\t Chile                    & Americas                 & 2007                     & 78.553                   &   16284741               & 13171.6388              \\\\\n",
       "\t Chad                     & Africa                   & 2007                     & 50.651                   &   10238807               &  1704.0637              \\\\\n",
       "\t Central African Republic & Africa                   & 2007                     & 44.741                   &    4369038               &   706.0165              \\\\\n",
       "\t Canada                   & Americas                 & 2007                     & 80.653                   &   33390141               & 36319.2350              \\\\\n",
       "\t Cameroon                 & Africa                   & 2007                     & 50.430                   &   17696293               &  2042.0952              \\\\\n",
       "\t Cambodia                 & Asia                     & 2007                     & 59.723                   &   14131858               &  1713.7787              \\\\\n",
       "\t Burundi                  & Africa                   & 2007                     & 49.580                   &    8390505               &   430.0707              \\\\\n",
       "\t Burkina Faso             & Africa                   & 2007                     & 52.295                   &   14326203               &  1217.0330              \\\\\n",
       "\t Bulgaria                 & Europe                   & 2007                     & 73.005                   &    7322858               & 10680.7928              \\\\\n",
       "\t Brazil                   & Americas                 & 2007                     & 72.390                   &  190010647               &  9065.8008              \\\\\n",
       "\t Botswana                 & Africa                   & 2007                     & 50.728                   &    1639131               & 12569.8518              \\\\\n",
       "\t Bosnia and Herzegovina   & Europe                   & 2007                     & 74.852                   &    4552198               &  7446.2988              \\\\\n",
       "\t Bolivia                  & Americas                 & 2007                     & 65.554                   &    9119152               &  3822.1371              \\\\\n",
       "\t Benin                    & Africa                   & 2007                     & 56.728                   &    8078314               &  1441.2849              \\\\\n",
       "\t Belgium                  & Europe                   & 2007                     & 79.441                   &   10392226               & 33692.6051              \\\\\n",
       "\t Bangladesh               & Asia                     & 2007                     & 64.062                   &  150448339               &  1391.2538              \\\\\n",
       "\t Bahrain                  & Asia                     & 2007                     & 75.635                   &     708573               & 29796.0483              \\\\\n",
       "\t Austria                  & Europe                   & 2007                     & 79.829                   &    8199783               & 36126.4927              \\\\\n",
       "\t Australia                & Oceania                  & 2007                     & 81.235                   &   20434176               & 34435.3674              \\\\\n",
       "\t Argentina                & Americas                 & 2007                     & 75.320                   &   40301927               & 12779.3796              \\\\\n",
       "\t Angola                   & Africa                   & 2007                     & 42.731                   &   12420476               &  4797.2313              \\\\\n",
       "\t Algeria                  & Africa                   & 2007                     & 72.301                   &   33333216               &  6223.3675              \\\\\n",
       "\t Albania                  & Europe                   & 2007                     & 76.423                   &    3600523               &  5937.0295              \\\\\n",
       "\t Afghanistan              & Asia                     & 2007                     & 43.828                   &   31889923               &   974.5803              \\\\\n",
       "\\end{tabular}\n"
      ],
      "text/markdown": [
       "\n",
       "country | continent | year | lifeExp | pop | gdpPercap | \n",
       "|---|---|---|---|---|---|---|---|---|---|---|---|---|---|---|---|---|---|---|---|---|---|---|---|---|---|---|---|---|---|---|---|---|---|---|---|---|---|---|---|---|---|---|---|---|---|---|---|---|---|---|---|---|---|---|---|---|---|---|---|---|\n",
       "| Zimbabwe            | Africa              | 2007                | 43.487              |  12311143           |   469.7093          | \n",
       "| Zambia              | Africa              | 2007                | 42.384              |  11746035           |  1271.2116          | \n",
       "| Yemen, Rep.         | Asia                | 2007                | 62.698              |  22211743           |  2280.7699          | \n",
       "| West Bank and Gaza  | Asia                | 2007                | 73.422              |   4018332           |  3025.3498          | \n",
       "| Vietnam             | Asia                | 2007                | 74.249              |  85262356           |  2441.5764          | \n",
       "| Venezuela           | Americas            | 2007                | 73.747              |  26084662           | 11415.8057          | \n",
       "| Uruguay             | Americas            | 2007                | 76.384              |   3447496           | 10611.4630          | \n",
       "| United States       | Americas            | 2007                | 78.242              | 301139947           | 42951.6531          | \n",
       "| United Kingdom      | Europe              | 2007                | 79.425              |  60776238           | 33203.2613          | \n",
       "| Uganda              | Africa              | 2007                | 51.542              |  29170398           |  1056.3801          | \n",
       "| Turkey              | Europe              | 2007                | 71.777              |  71158647           |  8458.2764          | \n",
       "| Tunisia             | Africa              | 2007                | 73.923              |  10276158           |  7092.9230          | \n",
       "| Trinidad and Tobago | Americas            | 2007                | 69.819              |   1056608           | 18008.5092          | \n",
       "| Togo                | Africa              | 2007                | 58.420              |   5701579           |   882.9699          | \n",
       "| Thailand            | Asia                | 2007                | 70.616              |  65068149           |  7458.3963          | \n",
       "| Tanzania            | Africa              | 2007                | 52.517              |  38139640           |  1107.4822          | \n",
       "| Taiwan              | Asia                | 2007                | 78.400              |  23174294           | 28718.2768          | \n",
       "| Syria               | Asia                | 2007                | 74.143              |  19314747           |  4184.5481          | \n",
       "| Switzerland         | Europe              | 2007                | 81.701              |   7554661           | 37506.4191          | \n",
       "| Sweden              | Europe              | 2007                | 80.884              |   9031088           | 33859.7484          | \n",
       "| Swaziland           | Africa              | 2007                | 39.613              |   1133066           |  4513.4806          | \n",
       "| Sudan               | Africa              | 2007                | 58.556              |  42292929           |  2602.3950          | \n",
       "| Sri Lanka           | Asia                | 2007                | 72.396              |  20378239           |  3970.0954          | \n",
       "| Spain               | Europe              | 2007                | 80.941              |  40448191           | 28821.0637          | \n",
       "| South Africa        | Africa              | 2007                | 49.339              |  43997828           |  9269.6578          | \n",
       "| Somalia             | Africa              | 2007                | 48.159              |   9118773           |   926.1411          | \n",
       "| Slovenia            | Europe              | 2007                | 77.926              |   2009245           | 25768.2576          | \n",
       "| Slovak Republic     | Europe              | 2007                | 74.663              |   5447502           | 18678.3144          | \n",
       "| Singapore           | Asia                | 2007                | 79.972              |   4553009           | 47143.1796          | \n",
       "| Sierra Leone        | Africa              | 2007                | 42.568              |   6144562           |   862.5408          | \n",
       "| ... | ... | ... | ... | ... | ... | \n",
       "| Costa Rica               | Americas                 | 2007                     | 78.782                   |    4133884               |  9645.0614               | \n",
       "| Congo, Rep.              | Africa                   | 2007                     | 55.322                   |    3800610               |  3632.5578               | \n",
       "| Congo, Dem. Rep.         | Africa                   | 2007                     | 46.462                   |   64606759               |   277.5519               | \n",
       "| Comoros                  | Africa                   | 2007                     | 65.152                   |     710960               |   986.1479               | \n",
       "| Colombia                 | Americas                 | 2007                     | 72.889                   |   44227550               |  7006.5804               | \n",
       "| China                    | Asia                     | 2007                     | 72.961                   | 1318683096               |  4959.1149               | \n",
       "| Chile                    | Americas                 | 2007                     | 78.553                   |   16284741               | 13171.6388               | \n",
       "| Chad                     | Africa                   | 2007                     | 50.651                   |   10238807               |  1704.0637               | \n",
       "| Central African Republic | Africa                   | 2007                     | 44.741                   |    4369038               |   706.0165               | \n",
       "| Canada                   | Americas                 | 2007                     | 80.653                   |   33390141               | 36319.2350               | \n",
       "| Cameroon                 | Africa                   | 2007                     | 50.430                   |   17696293               |  2042.0952               | \n",
       "| Cambodia                 | Asia                     | 2007                     | 59.723                   |   14131858               |  1713.7787               | \n",
       "| Burundi                  | Africa                   | 2007                     | 49.580                   |    8390505               |   430.0707               | \n",
       "| Burkina Faso             | Africa                   | 2007                     | 52.295                   |   14326203               |  1217.0330               | \n",
       "| Bulgaria                 | Europe                   | 2007                     | 73.005                   |    7322858               | 10680.7928               | \n",
       "| Brazil                   | Americas                 | 2007                     | 72.390                   |  190010647               |  9065.8008               | \n",
       "| Botswana                 | Africa                   | 2007                     | 50.728                   |    1639131               | 12569.8518               | \n",
       "| Bosnia and Herzegovina   | Europe                   | 2007                     | 74.852                   |    4552198               |  7446.2988               | \n",
       "| Bolivia                  | Americas                 | 2007                     | 65.554                   |    9119152               |  3822.1371               | \n",
       "| Benin                    | Africa                   | 2007                     | 56.728                   |    8078314               |  1441.2849               | \n",
       "| Belgium                  | Europe                   | 2007                     | 79.441                   |   10392226               | 33692.6051               | \n",
       "| Bangladesh               | Asia                     | 2007                     | 64.062                   |  150448339               |  1391.2538               | \n",
       "| Bahrain                  | Asia                     | 2007                     | 75.635                   |     708573               | 29796.0483               | \n",
       "| Austria                  | Europe                   | 2007                     | 79.829                   |    8199783               | 36126.4927               | \n",
       "| Australia                | Oceania                  | 2007                     | 81.235                   |   20434176               | 34435.3674               | \n",
       "| Argentina                | Americas                 | 2007                     | 75.320                   |   40301927               | 12779.3796               | \n",
       "| Angola                   | Africa                   | 2007                     | 42.731                   |   12420476               |  4797.2313               | \n",
       "| Algeria                  | Africa                   | 2007                     | 72.301                   |   33333216               |  6223.3675               | \n",
       "| Albania                  | Europe                   | 2007                     | 76.423                   |    3600523               |  5937.0295               | \n",
       "| Afghanistan              | Asia                     | 2007                     | 43.828                   |   31889923               |   974.5803               | \n",
       "\n",
       "\n"
      ],
      "text/plain": [
       "    country                  continent year lifeExp pop        gdpPercap \n",
       "1   Zimbabwe                 Africa    2007 43.487   12311143    469.7093\n",
       "2   Zambia                   Africa    2007 42.384   11746035   1271.2116\n",
       "3   Yemen, Rep.              Asia      2007 62.698   22211743   2280.7699\n",
       "4   West Bank and Gaza       Asia      2007 73.422    4018332   3025.3498\n",
       "5   Vietnam                  Asia      2007 74.249   85262356   2441.5764\n",
       "6   Venezuela                Americas  2007 73.747   26084662  11415.8057\n",
       "7   Uruguay                  Americas  2007 76.384    3447496  10611.4630\n",
       "8   United States            Americas  2007 78.242  301139947  42951.6531\n",
       "9   United Kingdom           Europe    2007 79.425   60776238  33203.2613\n",
       "10  Uganda                   Africa    2007 51.542   29170398   1056.3801\n",
       "11  Turkey                   Europe    2007 71.777   71158647   8458.2764\n",
       "12  Tunisia                  Africa    2007 73.923   10276158   7092.9230\n",
       "13  Trinidad and Tobago      Americas  2007 69.819    1056608  18008.5092\n",
       "14  Togo                     Africa    2007 58.420    5701579    882.9699\n",
       "15  Thailand                 Asia      2007 70.616   65068149   7458.3963\n",
       "16  Tanzania                 Africa    2007 52.517   38139640   1107.4822\n",
       "17  Taiwan                   Asia      2007 78.400   23174294  28718.2768\n",
       "18  Syria                    Asia      2007 74.143   19314747   4184.5481\n",
       "19  Switzerland              Europe    2007 81.701    7554661  37506.4191\n",
       "20  Sweden                   Europe    2007 80.884    9031088  33859.7484\n",
       "21  Swaziland                Africa    2007 39.613    1133066   4513.4806\n",
       "22  Sudan                    Africa    2007 58.556   42292929   2602.3950\n",
       "23  Sri Lanka                Asia      2007 72.396   20378239   3970.0954\n",
       "24  Spain                    Europe    2007 80.941   40448191  28821.0637\n",
       "25  South Africa             Africa    2007 49.339   43997828   9269.6578\n",
       "26  Somalia                  Africa    2007 48.159    9118773    926.1411\n",
       "27  Slovenia                 Europe    2007 77.926    2009245  25768.2576\n",
       "28  Slovak Republic          Europe    2007 74.663    5447502  18678.3144\n",
       "29  Singapore                Asia      2007 79.972    4553009  47143.1796\n",
       "30  Sierra Leone             Africa    2007 42.568    6144562    862.5408\n",
       "... ...                      ...       ...  ...     ...        ...       \n",
       "113 Costa Rica               Americas  2007 78.782     4133884  9645.0614\n",
       "114 Congo, Rep.              Africa    2007 55.322     3800610  3632.5578\n",
       "115 Congo, Dem. Rep.         Africa    2007 46.462    64606759   277.5519\n",
       "116 Comoros                  Africa    2007 65.152      710960   986.1479\n",
       "117 Colombia                 Americas  2007 72.889    44227550  7006.5804\n",
       "118 China                    Asia      2007 72.961  1318683096  4959.1149\n",
       "119 Chile                    Americas  2007 78.553    16284741 13171.6388\n",
       "120 Chad                     Africa    2007 50.651    10238807  1704.0637\n",
       "121 Central African Republic Africa    2007 44.741     4369038   706.0165\n",
       "122 Canada                   Americas  2007 80.653    33390141 36319.2350\n",
       "123 Cameroon                 Africa    2007 50.430    17696293  2042.0952\n",
       "124 Cambodia                 Asia      2007 59.723    14131858  1713.7787\n",
       "125 Burundi                  Africa    2007 49.580     8390505   430.0707\n",
       "126 Burkina Faso             Africa    2007 52.295    14326203  1217.0330\n",
       "127 Bulgaria                 Europe    2007 73.005     7322858 10680.7928\n",
       "128 Brazil                   Americas  2007 72.390   190010647  9065.8008\n",
       "129 Botswana                 Africa    2007 50.728     1639131 12569.8518\n",
       "130 Bosnia and Herzegovina   Europe    2007 74.852     4552198  7446.2988\n",
       "131 Bolivia                  Americas  2007 65.554     9119152  3822.1371\n",
       "132 Benin                    Africa    2007 56.728     8078314  1441.2849\n",
       "133 Belgium                  Europe    2007 79.441    10392226 33692.6051\n",
       "134 Bangladesh               Asia      2007 64.062   150448339  1391.2538\n",
       "135 Bahrain                  Asia      2007 75.635      708573 29796.0483\n",
       "136 Austria                  Europe    2007 79.829     8199783 36126.4927\n",
       "137 Australia                Oceania   2007 81.235    20434176 34435.3674\n",
       "138 Argentina                Americas  2007 75.320    40301927 12779.3796\n",
       "139 Angola                   Africa    2007 42.731    12420476  4797.2313\n",
       "140 Algeria                  Africa    2007 72.301    33333216  6223.3675\n",
       "141 Albania                  Europe    2007 76.423     3600523  5937.0295\n",
       "142 Afghanistan              Asia      2007 43.828    31889923   974.5803"
      ]
     },
     "metadata": {},
     "output_type": "display_data"
    }
   ],
   "source": [
    "gapminder %>% filter(year == 2007) %>% arrange(desc(country))"
   ]
  },
  {
   "cell_type": "code",
   "execution_count": 12,
   "metadata": {},
   "outputs": [
    {
     "data": {
      "text/html": [
       "<table>\n",
       "<thead><tr><th scope=col>country</th><th scope=col>continent</th><th scope=col>year</th><th scope=col>lifeExp</th><th scope=col>pop</th><th scope=col>gdpPercap</th></tr></thead>\n",
       "<tbody>\n",
       "\t<tr><td>Afghanistan</td><td>Asia       </td><td>1952       </td><td>28.801     </td><td> 8.425333  </td><td> 779.4453  </td></tr>\n",
       "\t<tr><td>Afghanistan</td><td>Asia       </td><td>1957       </td><td>30.332     </td><td> 9.240934  </td><td> 820.8530  </td></tr>\n",
       "\t<tr><td>Afghanistan</td><td>Asia       </td><td>1962       </td><td>31.997     </td><td>10.267083  </td><td> 853.1007  </td></tr>\n",
       "\t<tr><td>Afghanistan</td><td>Asia       </td><td>1967       </td><td>34.020     </td><td>11.537966  </td><td> 836.1971  </td></tr>\n",
       "\t<tr><td>Afghanistan</td><td>Asia       </td><td>1972       </td><td>36.088     </td><td>13.079460  </td><td> 739.9811  </td></tr>\n",
       "\t<tr><td>Afghanistan</td><td>Asia       </td><td>1977       </td><td>38.438     </td><td>14.880372  </td><td> 786.1134  </td></tr>\n",
       "\t<tr><td>Afghanistan</td><td>Asia       </td><td>1982       </td><td>39.854     </td><td>12.881816  </td><td> 978.0114  </td></tr>\n",
       "\t<tr><td>Afghanistan</td><td>Asia       </td><td>1987       </td><td>40.822     </td><td>13.867957  </td><td> 852.3959  </td></tr>\n",
       "\t<tr><td>Afghanistan</td><td>Asia       </td><td>1992       </td><td>41.674     </td><td>16.317921  </td><td> 649.3414  </td></tr>\n",
       "\t<tr><td>Afghanistan</td><td>Asia       </td><td>1997       </td><td>41.763     </td><td>22.227415  </td><td> 635.3414  </td></tr>\n",
       "\t<tr><td>Afghanistan</td><td>Asia       </td><td>2002       </td><td>42.129     </td><td>25.268405  </td><td> 726.7341  </td></tr>\n",
       "\t<tr><td>Afghanistan</td><td>Asia       </td><td>2007       </td><td>43.828     </td><td>31.889923  </td><td> 974.5803  </td></tr>\n",
       "\t<tr><td>Albania    </td><td>Europe     </td><td>1952       </td><td>55.230     </td><td> 1.282697  </td><td>1601.0561  </td></tr>\n",
       "\t<tr><td>Albania    </td><td>Europe     </td><td>1957       </td><td>59.280     </td><td> 1.476505  </td><td>1942.2842  </td></tr>\n",
       "\t<tr><td>Albania    </td><td>Europe     </td><td>1962       </td><td>64.820     </td><td> 1.728137  </td><td>2312.8890  </td></tr>\n",
       "\t<tr><td>Albania    </td><td>Europe     </td><td>1967       </td><td>66.220     </td><td> 1.984060  </td><td>2760.1969  </td></tr>\n",
       "\t<tr><td>Albania    </td><td>Europe     </td><td>1972       </td><td>67.690     </td><td> 2.263554  </td><td>3313.4222  </td></tr>\n",
       "\t<tr><td>Albania    </td><td>Europe     </td><td>1977       </td><td>68.930     </td><td> 2.509048  </td><td>3533.0039  </td></tr>\n",
       "\t<tr><td>Albania    </td><td>Europe     </td><td>1982       </td><td>70.420     </td><td> 2.780097  </td><td>3630.8807  </td></tr>\n",
       "\t<tr><td>Albania    </td><td>Europe     </td><td>1987       </td><td>72.000     </td><td> 3.075321  </td><td>3738.9327  </td></tr>\n",
       "\t<tr><td>Albania    </td><td>Europe     </td><td>1992       </td><td>71.581     </td><td> 3.326498  </td><td>2497.4379  </td></tr>\n",
       "\t<tr><td>Albania    </td><td>Europe     </td><td>1997       </td><td>72.950     </td><td> 3.428038  </td><td>3193.0546  </td></tr>\n",
       "\t<tr><td>Albania    </td><td>Europe     </td><td>2002       </td><td>75.651     </td><td> 3.508512  </td><td>4604.2117  </td></tr>\n",
       "\t<tr><td>Albania    </td><td>Europe     </td><td>2007       </td><td>76.423     </td><td> 3.600523  </td><td>5937.0295  </td></tr>\n",
       "\t<tr><td>Algeria    </td><td>Africa     </td><td>1952       </td><td>43.077     </td><td> 9.279525  </td><td>2449.0082  </td></tr>\n",
       "\t<tr><td>Algeria    </td><td>Africa     </td><td>1957       </td><td>45.685     </td><td>10.270856  </td><td>3013.9760  </td></tr>\n",
       "\t<tr><td>Algeria    </td><td>Africa     </td><td>1962       </td><td>48.303     </td><td>11.000948  </td><td>2550.8169  </td></tr>\n",
       "\t<tr><td>Algeria    </td><td>Africa     </td><td>1967       </td><td>51.407     </td><td>12.760499  </td><td>3246.9918  </td></tr>\n",
       "\t<tr><td>Algeria    </td><td>Africa     </td><td>1972       </td><td>54.518     </td><td>14.760787  </td><td>4182.6638  </td></tr>\n",
       "\t<tr><td>Algeria    </td><td>Africa     </td><td>1977       </td><td>58.014     </td><td>17.152804  </td><td>4910.4168  </td></tr>\n",
       "\t<tr><td>...</td><td>...</td><td>...</td><td>...</td><td>...</td><td>...</td></tr>\n",
       "\t<tr><td>Yemen, Rep.</td><td>Asia       </td><td>1982       </td><td>49.113     </td><td> 9.657618  </td><td>1977.5570  </td></tr>\n",
       "\t<tr><td>Yemen, Rep.</td><td>Asia       </td><td>1987       </td><td>52.922     </td><td>11.219340  </td><td>1971.7415  </td></tr>\n",
       "\t<tr><td>Yemen, Rep.</td><td>Asia       </td><td>1992       </td><td>55.599     </td><td>13.367997  </td><td>1879.4967  </td></tr>\n",
       "\t<tr><td>Yemen, Rep.</td><td>Asia       </td><td>1997       </td><td>58.020     </td><td>15.826497  </td><td>2117.4845  </td></tr>\n",
       "\t<tr><td>Yemen, Rep.</td><td>Asia       </td><td>2002       </td><td>60.308     </td><td>18.701257  </td><td>2234.8208  </td></tr>\n",
       "\t<tr><td>Yemen, Rep.</td><td>Asia       </td><td>2007       </td><td>62.698     </td><td>22.211743  </td><td>2280.7699  </td></tr>\n",
       "\t<tr><td>Zambia     </td><td>Africa     </td><td>1952       </td><td>42.038     </td><td> 2.672000  </td><td>1147.3888  </td></tr>\n",
       "\t<tr><td>Zambia     </td><td>Africa     </td><td>1957       </td><td>44.077     </td><td> 3.016000  </td><td>1311.9568  </td></tr>\n",
       "\t<tr><td>Zambia     </td><td>Africa     </td><td>1962       </td><td>46.023     </td><td> 3.421000  </td><td>1452.7258  </td></tr>\n",
       "\t<tr><td>Zambia     </td><td>Africa     </td><td>1967       </td><td>47.768     </td><td> 3.900000  </td><td>1777.0773  </td></tr>\n",
       "\t<tr><td>Zambia     </td><td>Africa     </td><td>1972       </td><td>50.107     </td><td> 4.506497  </td><td>1773.4983  </td></tr>\n",
       "\t<tr><td>Zambia     </td><td>Africa     </td><td>1977       </td><td>51.386     </td><td> 5.216550  </td><td>1588.6883  </td></tr>\n",
       "\t<tr><td>Zambia     </td><td>Africa     </td><td>1982       </td><td>51.821     </td><td> 6.100407  </td><td>1408.6786  </td></tr>\n",
       "\t<tr><td>Zambia     </td><td>Africa     </td><td>1987       </td><td>50.821     </td><td> 7.272406  </td><td>1213.3151  </td></tr>\n",
       "\t<tr><td>Zambia     </td><td>Africa     </td><td>1992       </td><td>46.100     </td><td> 8.381163  </td><td>1210.8846  </td></tr>\n",
       "\t<tr><td>Zambia     </td><td>Africa     </td><td>1997       </td><td>40.238     </td><td> 9.417789  </td><td>1071.3538  </td></tr>\n",
       "\t<tr><td>Zambia     </td><td>Africa     </td><td>2002       </td><td>39.193     </td><td>10.595811  </td><td>1071.6139  </td></tr>\n",
       "\t<tr><td>Zambia     </td><td>Africa     </td><td>2007       </td><td>42.384     </td><td>11.746035  </td><td>1271.2116  </td></tr>\n",
       "\t<tr><td>Zimbabwe   </td><td>Africa     </td><td>1952       </td><td>48.451     </td><td> 3.080907  </td><td> 406.8841  </td></tr>\n",
       "\t<tr><td>Zimbabwe   </td><td>Africa     </td><td>1957       </td><td>50.469     </td><td> 3.646340  </td><td> 518.7643  </td></tr>\n",
       "\t<tr><td>Zimbabwe   </td><td>Africa     </td><td>1962       </td><td>52.358     </td><td> 4.277736  </td><td> 527.2722  </td></tr>\n",
       "\t<tr><td>Zimbabwe   </td><td>Africa     </td><td>1967       </td><td>53.995     </td><td> 4.995432  </td><td> 569.7951  </td></tr>\n",
       "\t<tr><td>Zimbabwe   </td><td>Africa     </td><td>1972       </td><td>55.635     </td><td> 5.861135  </td><td> 799.3622  </td></tr>\n",
       "\t<tr><td>Zimbabwe   </td><td>Africa     </td><td>1977       </td><td>57.674     </td><td> 6.642107  </td><td> 685.5877  </td></tr>\n",
       "\t<tr><td>Zimbabwe   </td><td>Africa     </td><td>1982       </td><td>60.363     </td><td> 7.636524  </td><td> 788.8550  </td></tr>\n",
       "\t<tr><td>Zimbabwe   </td><td>Africa     </td><td>1987       </td><td>62.351     </td><td> 9.216418  </td><td> 706.1573  </td></tr>\n",
       "\t<tr><td>Zimbabwe   </td><td>Africa     </td><td>1992       </td><td>60.377     </td><td>10.704340  </td><td> 693.4208  </td></tr>\n",
       "\t<tr><td>Zimbabwe   </td><td>Africa     </td><td>1997       </td><td>46.809     </td><td>11.404948  </td><td> 792.4500  </td></tr>\n",
       "\t<tr><td>Zimbabwe   </td><td>Africa     </td><td>2002       </td><td>39.989     </td><td>11.926563  </td><td> 672.0386  </td></tr>\n",
       "\t<tr><td>Zimbabwe   </td><td>Africa     </td><td>2007       </td><td>43.487     </td><td>12.311143  </td><td> 469.7093  </td></tr>\n",
       "</tbody>\n",
       "</table>\n"
      ],
      "text/latex": [
       "\\begin{tabular}{r|llllll}\n",
       " country & continent & year & lifeExp & pop & gdpPercap\\\\\n",
       "\\hline\n",
       "\t Afghanistan & Asia        & 1952        & 28.801      &  8.425333   &  779.4453  \\\\\n",
       "\t Afghanistan & Asia        & 1957        & 30.332      &  9.240934   &  820.8530  \\\\\n",
       "\t Afghanistan & Asia        & 1962        & 31.997      & 10.267083   &  853.1007  \\\\\n",
       "\t Afghanistan & Asia        & 1967        & 34.020      & 11.537966   &  836.1971  \\\\\n",
       "\t Afghanistan & Asia        & 1972        & 36.088      & 13.079460   &  739.9811  \\\\\n",
       "\t Afghanistan & Asia        & 1977        & 38.438      & 14.880372   &  786.1134  \\\\\n",
       "\t Afghanistan & Asia        & 1982        & 39.854      & 12.881816   &  978.0114  \\\\\n",
       "\t Afghanistan & Asia        & 1987        & 40.822      & 13.867957   &  852.3959  \\\\\n",
       "\t Afghanistan & Asia        & 1992        & 41.674      & 16.317921   &  649.3414  \\\\\n",
       "\t Afghanistan & Asia        & 1997        & 41.763      & 22.227415   &  635.3414  \\\\\n",
       "\t Afghanistan & Asia        & 2002        & 42.129      & 25.268405   &  726.7341  \\\\\n",
       "\t Afghanistan & Asia        & 2007        & 43.828      & 31.889923   &  974.5803  \\\\\n",
       "\t Albania     & Europe      & 1952        & 55.230      &  1.282697   & 1601.0561  \\\\\n",
       "\t Albania     & Europe      & 1957        & 59.280      &  1.476505   & 1942.2842  \\\\\n",
       "\t Albania     & Europe      & 1962        & 64.820      &  1.728137   & 2312.8890  \\\\\n",
       "\t Albania     & Europe      & 1967        & 66.220      &  1.984060   & 2760.1969  \\\\\n",
       "\t Albania     & Europe      & 1972        & 67.690      &  2.263554   & 3313.4222  \\\\\n",
       "\t Albania     & Europe      & 1977        & 68.930      &  2.509048   & 3533.0039  \\\\\n",
       "\t Albania     & Europe      & 1982        & 70.420      &  2.780097   & 3630.8807  \\\\\n",
       "\t Albania     & Europe      & 1987        & 72.000      &  3.075321   & 3738.9327  \\\\\n",
       "\t Albania     & Europe      & 1992        & 71.581      &  3.326498   & 2497.4379  \\\\\n",
       "\t Albania     & Europe      & 1997        & 72.950      &  3.428038   & 3193.0546  \\\\\n",
       "\t Albania     & Europe      & 2002        & 75.651      &  3.508512   & 4604.2117  \\\\\n",
       "\t Albania     & Europe      & 2007        & 76.423      &  3.600523   & 5937.0295  \\\\\n",
       "\t Algeria     & Africa      & 1952        & 43.077      &  9.279525   & 2449.0082  \\\\\n",
       "\t Algeria     & Africa      & 1957        & 45.685      & 10.270856   & 3013.9760  \\\\\n",
       "\t Algeria     & Africa      & 1962        & 48.303      & 11.000948   & 2550.8169  \\\\\n",
       "\t Algeria     & Africa      & 1967        & 51.407      & 12.760499   & 3246.9918  \\\\\n",
       "\t Algeria     & Africa      & 1972        & 54.518      & 14.760787   & 4182.6638  \\\\\n",
       "\t Algeria     & Africa      & 1977        & 58.014      & 17.152804   & 4910.4168  \\\\\n",
       "\t ... & ... & ... & ... & ... & ...\\\\\n",
       "\t Yemen, Rep. & Asia        & 1982        & 49.113      &  9.657618   & 1977.5570  \\\\\n",
       "\t Yemen, Rep. & Asia        & 1987        & 52.922      & 11.219340   & 1971.7415  \\\\\n",
       "\t Yemen, Rep. & Asia        & 1992        & 55.599      & 13.367997   & 1879.4967  \\\\\n",
       "\t Yemen, Rep. & Asia        & 1997        & 58.020      & 15.826497   & 2117.4845  \\\\\n",
       "\t Yemen, Rep. & Asia        & 2002        & 60.308      & 18.701257   & 2234.8208  \\\\\n",
       "\t Yemen, Rep. & Asia        & 2007        & 62.698      & 22.211743   & 2280.7699  \\\\\n",
       "\t Zambia      & Africa      & 1952        & 42.038      &  2.672000   & 1147.3888  \\\\\n",
       "\t Zambia      & Africa      & 1957        & 44.077      &  3.016000   & 1311.9568  \\\\\n",
       "\t Zambia      & Africa      & 1962        & 46.023      &  3.421000   & 1452.7258  \\\\\n",
       "\t Zambia      & Africa      & 1967        & 47.768      &  3.900000   & 1777.0773  \\\\\n",
       "\t Zambia      & Africa      & 1972        & 50.107      &  4.506497   & 1773.4983  \\\\\n",
       "\t Zambia      & Africa      & 1977        & 51.386      &  5.216550   & 1588.6883  \\\\\n",
       "\t Zambia      & Africa      & 1982        & 51.821      &  6.100407   & 1408.6786  \\\\\n",
       "\t Zambia      & Africa      & 1987        & 50.821      &  7.272406   & 1213.3151  \\\\\n",
       "\t Zambia      & Africa      & 1992        & 46.100      &  8.381163   & 1210.8846  \\\\\n",
       "\t Zambia      & Africa      & 1997        & 40.238      &  9.417789   & 1071.3538  \\\\\n",
       "\t Zambia      & Africa      & 2002        & 39.193      & 10.595811   & 1071.6139  \\\\\n",
       "\t Zambia      & Africa      & 2007        & 42.384      & 11.746035   & 1271.2116  \\\\\n",
       "\t Zimbabwe    & Africa      & 1952        & 48.451      &  3.080907   &  406.8841  \\\\\n",
       "\t Zimbabwe    & Africa      & 1957        & 50.469      &  3.646340   &  518.7643  \\\\\n",
       "\t Zimbabwe    & Africa      & 1962        & 52.358      &  4.277736   &  527.2722  \\\\\n",
       "\t Zimbabwe    & Africa      & 1967        & 53.995      &  4.995432   &  569.7951  \\\\\n",
       "\t Zimbabwe    & Africa      & 1972        & 55.635      &  5.861135   &  799.3622  \\\\\n",
       "\t Zimbabwe    & Africa      & 1977        & 57.674      &  6.642107   &  685.5877  \\\\\n",
       "\t Zimbabwe    & Africa      & 1982        & 60.363      &  7.636524   &  788.8550  \\\\\n",
       "\t Zimbabwe    & Africa      & 1987        & 62.351      &  9.216418   &  706.1573  \\\\\n",
       "\t Zimbabwe    & Africa      & 1992        & 60.377      & 10.704340   &  693.4208  \\\\\n",
       "\t Zimbabwe    & Africa      & 1997        & 46.809      & 11.404948   &  792.4500  \\\\\n",
       "\t Zimbabwe    & Africa      & 2002        & 39.989      & 11.926563   &  672.0386  \\\\\n",
       "\t Zimbabwe    & Africa      & 2007        & 43.487      & 12.311143   &  469.7093  \\\\\n",
       "\\end{tabular}\n"
      ],
      "text/markdown": [
       "\n",
       "country | continent | year | lifeExp | pop | gdpPercap | \n",
       "|---|---|---|---|---|---|---|---|---|---|---|---|---|---|---|---|---|---|---|---|---|---|---|---|---|---|---|---|---|---|---|---|---|---|---|---|---|---|---|---|---|---|---|---|---|---|---|---|---|---|---|---|---|---|---|---|---|---|---|---|---|\n",
       "| Afghanistan | Asia        | 1952        | 28.801      |  8.425333   |  779.4453   | \n",
       "| Afghanistan | Asia        | 1957        | 30.332      |  9.240934   |  820.8530   | \n",
       "| Afghanistan | Asia        | 1962        | 31.997      | 10.267083   |  853.1007   | \n",
       "| Afghanistan | Asia        | 1967        | 34.020      | 11.537966   |  836.1971   | \n",
       "| Afghanistan | Asia        | 1972        | 36.088      | 13.079460   |  739.9811   | \n",
       "| Afghanistan | Asia        | 1977        | 38.438      | 14.880372   |  786.1134   | \n",
       "| Afghanistan | Asia        | 1982        | 39.854      | 12.881816   |  978.0114   | \n",
       "| Afghanistan | Asia        | 1987        | 40.822      | 13.867957   |  852.3959   | \n",
       "| Afghanistan | Asia        | 1992        | 41.674      | 16.317921   |  649.3414   | \n",
       "| Afghanistan | Asia        | 1997        | 41.763      | 22.227415   |  635.3414   | \n",
       "| Afghanistan | Asia        | 2002        | 42.129      | 25.268405   |  726.7341   | \n",
       "| Afghanistan | Asia        | 2007        | 43.828      | 31.889923   |  974.5803   | \n",
       "| Albania     | Europe      | 1952        | 55.230      |  1.282697   | 1601.0561   | \n",
       "| Albania     | Europe      | 1957        | 59.280      |  1.476505   | 1942.2842   | \n",
       "| Albania     | Europe      | 1962        | 64.820      |  1.728137   | 2312.8890   | \n",
       "| Albania     | Europe      | 1967        | 66.220      |  1.984060   | 2760.1969   | \n",
       "| Albania     | Europe      | 1972        | 67.690      |  2.263554   | 3313.4222   | \n",
       "| Albania     | Europe      | 1977        | 68.930      |  2.509048   | 3533.0039   | \n",
       "| Albania     | Europe      | 1982        | 70.420      |  2.780097   | 3630.8807   | \n",
       "| Albania     | Europe      | 1987        | 72.000      |  3.075321   | 3738.9327   | \n",
       "| Albania     | Europe      | 1992        | 71.581      |  3.326498   | 2497.4379   | \n",
       "| Albania     | Europe      | 1997        | 72.950      |  3.428038   | 3193.0546   | \n",
       "| Albania     | Europe      | 2002        | 75.651      |  3.508512   | 4604.2117   | \n",
       "| Albania     | Europe      | 2007        | 76.423      |  3.600523   | 5937.0295   | \n",
       "| Algeria     | Africa      | 1952        | 43.077      |  9.279525   | 2449.0082   | \n",
       "| Algeria     | Africa      | 1957        | 45.685      | 10.270856   | 3013.9760   | \n",
       "| Algeria     | Africa      | 1962        | 48.303      | 11.000948   | 2550.8169   | \n",
       "| Algeria     | Africa      | 1967        | 51.407      | 12.760499   | 3246.9918   | \n",
       "| Algeria     | Africa      | 1972        | 54.518      | 14.760787   | 4182.6638   | \n",
       "| Algeria     | Africa      | 1977        | 58.014      | 17.152804   | 4910.4168   | \n",
       "| ... | ... | ... | ... | ... | ... | \n",
       "| Yemen, Rep. | Asia        | 1982        | 49.113      |  9.657618   | 1977.5570   | \n",
       "| Yemen, Rep. | Asia        | 1987        | 52.922      | 11.219340   | 1971.7415   | \n",
       "| Yemen, Rep. | Asia        | 1992        | 55.599      | 13.367997   | 1879.4967   | \n",
       "| Yemen, Rep. | Asia        | 1997        | 58.020      | 15.826497   | 2117.4845   | \n",
       "| Yemen, Rep. | Asia        | 2002        | 60.308      | 18.701257   | 2234.8208   | \n",
       "| Yemen, Rep. | Asia        | 2007        | 62.698      | 22.211743   | 2280.7699   | \n",
       "| Zambia      | Africa      | 1952        | 42.038      |  2.672000   | 1147.3888   | \n",
       "| Zambia      | Africa      | 1957        | 44.077      |  3.016000   | 1311.9568   | \n",
       "| Zambia      | Africa      | 1962        | 46.023      |  3.421000   | 1452.7258   | \n",
       "| Zambia      | Africa      | 1967        | 47.768      |  3.900000   | 1777.0773   | \n",
       "| Zambia      | Africa      | 1972        | 50.107      |  4.506497   | 1773.4983   | \n",
       "| Zambia      | Africa      | 1977        | 51.386      |  5.216550   | 1588.6883   | \n",
       "| Zambia      | Africa      | 1982        | 51.821      |  6.100407   | 1408.6786   | \n",
       "| Zambia      | Africa      | 1987        | 50.821      |  7.272406   | 1213.3151   | \n",
       "| Zambia      | Africa      | 1992        | 46.100      |  8.381163   | 1210.8846   | \n",
       "| Zambia      | Africa      | 1997        | 40.238      |  9.417789   | 1071.3538   | \n",
       "| Zambia      | Africa      | 2002        | 39.193      | 10.595811   | 1071.6139   | \n",
       "| Zambia      | Africa      | 2007        | 42.384      | 11.746035   | 1271.2116   | \n",
       "| Zimbabwe    | Africa      | 1952        | 48.451      |  3.080907   |  406.8841   | \n",
       "| Zimbabwe    | Africa      | 1957        | 50.469      |  3.646340   |  518.7643   | \n",
       "| Zimbabwe    | Africa      | 1962        | 52.358      |  4.277736   |  527.2722   | \n",
       "| Zimbabwe    | Africa      | 1967        | 53.995      |  4.995432   |  569.7951   | \n",
       "| Zimbabwe    | Africa      | 1972        | 55.635      |  5.861135   |  799.3622   | \n",
       "| Zimbabwe    | Africa      | 1977        | 57.674      |  6.642107   |  685.5877   | \n",
       "| Zimbabwe    | Africa      | 1982        | 60.363      |  7.636524   |  788.8550   | \n",
       "| Zimbabwe    | Africa      | 1987        | 62.351      |  9.216418   |  706.1573   | \n",
       "| Zimbabwe    | Africa      | 1992        | 60.377      | 10.704340   |  693.4208   | \n",
       "| Zimbabwe    | Africa      | 1997        | 46.809      | 11.404948   |  792.4500   | \n",
       "| Zimbabwe    | Africa      | 2002        | 39.989      | 11.926563   |  672.0386   | \n",
       "| Zimbabwe    | Africa      | 2007        | 43.487      | 12.311143   |  469.7093   | \n",
       "\n",
       "\n"
      ],
      "text/plain": [
       "     country     continent year lifeExp pop       gdpPercap\n",
       "1    Afghanistan Asia      1952 28.801   8.425333  779.4453\n",
       "2    Afghanistan Asia      1957 30.332   9.240934  820.8530\n",
       "3    Afghanistan Asia      1962 31.997  10.267083  853.1007\n",
       "4    Afghanistan Asia      1967 34.020  11.537966  836.1971\n",
       "5    Afghanistan Asia      1972 36.088  13.079460  739.9811\n",
       "6    Afghanistan Asia      1977 38.438  14.880372  786.1134\n",
       "7    Afghanistan Asia      1982 39.854  12.881816  978.0114\n",
       "8    Afghanistan Asia      1987 40.822  13.867957  852.3959\n",
       "9    Afghanistan Asia      1992 41.674  16.317921  649.3414\n",
       "10   Afghanistan Asia      1997 41.763  22.227415  635.3414\n",
       "11   Afghanistan Asia      2002 42.129  25.268405  726.7341\n",
       "12   Afghanistan Asia      2007 43.828  31.889923  974.5803\n",
       "13   Albania     Europe    1952 55.230   1.282697 1601.0561\n",
       "14   Albania     Europe    1957 59.280   1.476505 1942.2842\n",
       "15   Albania     Europe    1962 64.820   1.728137 2312.8890\n",
       "16   Albania     Europe    1967 66.220   1.984060 2760.1969\n",
       "17   Albania     Europe    1972 67.690   2.263554 3313.4222\n",
       "18   Albania     Europe    1977 68.930   2.509048 3533.0039\n",
       "19   Albania     Europe    1982 70.420   2.780097 3630.8807\n",
       "20   Albania     Europe    1987 72.000   3.075321 3738.9327\n",
       "21   Albania     Europe    1992 71.581   3.326498 2497.4379\n",
       "22   Albania     Europe    1997 72.950   3.428038 3193.0546\n",
       "23   Albania     Europe    2002 75.651   3.508512 4604.2117\n",
       "24   Albania     Europe    2007 76.423   3.600523 5937.0295\n",
       "25   Algeria     Africa    1952 43.077   9.279525 2449.0082\n",
       "26   Algeria     Africa    1957 45.685  10.270856 3013.9760\n",
       "27   Algeria     Africa    1962 48.303  11.000948 2550.8169\n",
       "28   Algeria     Africa    1967 51.407  12.760499 3246.9918\n",
       "29   Algeria     Africa    1972 54.518  14.760787 4182.6638\n",
       "30   Algeria     Africa    1977 58.014  17.152804 4910.4168\n",
       "...  ...         ...       ...  ...     ...       ...      \n",
       "1675 Yemen, Rep. Asia      1982 49.113   9.657618 1977.5570\n",
       "1676 Yemen, Rep. Asia      1987 52.922  11.219340 1971.7415\n",
       "1677 Yemen, Rep. Asia      1992 55.599  13.367997 1879.4967\n",
       "1678 Yemen, Rep. Asia      1997 58.020  15.826497 2117.4845\n",
       "1679 Yemen, Rep. Asia      2002 60.308  18.701257 2234.8208\n",
       "1680 Yemen, Rep. Asia      2007 62.698  22.211743 2280.7699\n",
       "1681 Zambia      Africa    1952 42.038   2.672000 1147.3888\n",
       "1682 Zambia      Africa    1957 44.077   3.016000 1311.9568\n",
       "1683 Zambia      Africa    1962 46.023   3.421000 1452.7258\n",
       "1684 Zambia      Africa    1967 47.768   3.900000 1777.0773\n",
       "1685 Zambia      Africa    1972 50.107   4.506497 1773.4983\n",
       "1686 Zambia      Africa    1977 51.386   5.216550 1588.6883\n",
       "1687 Zambia      Africa    1982 51.821   6.100407 1408.6786\n",
       "1688 Zambia      Africa    1987 50.821   7.272406 1213.3151\n",
       "1689 Zambia      Africa    1992 46.100   8.381163 1210.8846\n",
       "1690 Zambia      Africa    1997 40.238   9.417789 1071.3538\n",
       "1691 Zambia      Africa    2002 39.193  10.595811 1071.6139\n",
       "1692 Zambia      Africa    2007 42.384  11.746035 1271.2116\n",
       "1693 Zimbabwe    Africa    1952 48.451   3.080907  406.8841\n",
       "1694 Zimbabwe    Africa    1957 50.469   3.646340  518.7643\n",
       "1695 Zimbabwe    Africa    1962 52.358   4.277736  527.2722\n",
       "1696 Zimbabwe    Africa    1967 53.995   4.995432  569.7951\n",
       "1697 Zimbabwe    Africa    1972 55.635   5.861135  799.3622\n",
       "1698 Zimbabwe    Africa    1977 57.674   6.642107  685.5877\n",
       "1699 Zimbabwe    Africa    1982 60.363   7.636524  788.8550\n",
       "1700 Zimbabwe    Africa    1987 62.351   9.216418  706.1573\n",
       "1701 Zimbabwe    Africa    1992 60.377  10.704340  693.4208\n",
       "1702 Zimbabwe    Africa    1997 46.809  11.404948  792.4500\n",
       "1703 Zimbabwe    Africa    2002 39.989  11.926563  672.0386\n",
       "1704 Zimbabwe    Africa    2007 43.487  12.311143  469.7093"
      ]
     },
     "metadata": {},
     "output_type": "display_data"
    }
   ],
   "source": [
    "gapminder %>% mutate(pop = pop / 1000000)"
   ]
  },
  {
   "cell_type": "code",
   "execution_count": 15,
   "metadata": {},
   "outputs": [
    {
     "data": {
      "text/html": [
       "<table>\n",
       "<thead><tr><th scope=col>country</th><th scope=col>continent</th><th scope=col>year</th><th scope=col>lifeExp</th><th scope=col>pop</th><th scope=col>gdpPercap</th><th scope=col>lifeExpMonths</th></tr></thead>\n",
       "<tbody>\n",
       "\t<tr><td>Japan           </td><td>Asia            </td><td>2007            </td><td>82.603          </td><td>127467972       </td><td>31656.068       </td><td>991.236         </td></tr>\n",
       "\t<tr><td>Hong Kong, China</td><td>Asia            </td><td>2007            </td><td>82.208          </td><td>  6980412       </td><td>39724.979       </td><td>986.496         </td></tr>\n",
       "\t<tr><td>Iceland         </td><td>Europe          </td><td>2007            </td><td>81.757          </td><td>   301931       </td><td>36180.789       </td><td>981.084         </td></tr>\n",
       "\t<tr><td>Switzerland     </td><td>Europe          </td><td>2007            </td><td>81.701          </td><td>  7554661       </td><td>37506.419       </td><td>980.412         </td></tr>\n",
       "\t<tr><td>Australia       </td><td>Oceania         </td><td>2007            </td><td>81.235          </td><td> 20434176       </td><td>34435.367       </td><td>974.820         </td></tr>\n",
       "\t<tr><td>Spain           </td><td>Europe          </td><td>2007            </td><td>80.941          </td><td> 40448191       </td><td>28821.064       </td><td>971.292         </td></tr>\n",
       "\t<tr><td>Sweden          </td><td>Europe          </td><td>2007            </td><td>80.884          </td><td>  9031088       </td><td>33859.748       </td><td>970.608         </td></tr>\n",
       "\t<tr><td>Israel          </td><td>Asia            </td><td>2007            </td><td>80.745          </td><td>  6426679       </td><td>25523.277       </td><td>968.940         </td></tr>\n",
       "\t<tr><td>France          </td><td>Europe          </td><td>2007            </td><td>80.657          </td><td> 61083916       </td><td>30470.017       </td><td>967.884         </td></tr>\n",
       "\t<tr><td>Canada          </td><td>Americas        </td><td>2007            </td><td>80.653          </td><td> 33390141       </td><td>36319.235       </td><td>967.836         </td></tr>\n",
       "\t<tr><td>Italy           </td><td>Europe          </td><td>2007            </td><td>80.546          </td><td> 58147733       </td><td>28569.720       </td><td>966.552         </td></tr>\n",
       "\t<tr><td>New Zealand     </td><td>Oceania         </td><td>2007            </td><td>80.204          </td><td>  4115771       </td><td>25185.009       </td><td>962.448         </td></tr>\n",
       "\t<tr><td>Norway          </td><td>Europe          </td><td>2007            </td><td>80.196          </td><td>  4627926       </td><td>49357.190       </td><td>962.352         </td></tr>\n",
       "\t<tr><td>Singapore       </td><td>Asia            </td><td>2007            </td><td>79.972          </td><td>  4553009       </td><td>47143.180       </td><td>959.664         </td></tr>\n",
       "\t<tr><td>Austria         </td><td>Europe          </td><td>2007            </td><td>79.829          </td><td>  8199783       </td><td>36126.493       </td><td>957.948         </td></tr>\n",
       "\t<tr><td>Netherlands     </td><td>Europe          </td><td>2007            </td><td>79.762          </td><td> 16570613       </td><td>36797.933       </td><td>957.144         </td></tr>\n",
       "\t<tr><td>Greece          </td><td>Europe          </td><td>2007            </td><td>79.483          </td><td> 10706290       </td><td>27538.412       </td><td>953.796         </td></tr>\n",
       "\t<tr><td>Belgium         </td><td>Europe          </td><td>2007            </td><td>79.441          </td><td> 10392226       </td><td>33692.605       </td><td>953.292         </td></tr>\n",
       "\t<tr><td>United Kingdom  </td><td>Europe          </td><td>2007            </td><td>79.425          </td><td> 60776238       </td><td>33203.261       </td><td>953.100         </td></tr>\n",
       "\t<tr><td>Germany         </td><td>Europe          </td><td>2007            </td><td>79.406          </td><td> 82400996       </td><td>32170.374       </td><td>952.872         </td></tr>\n",
       "\t<tr><td>Finland         </td><td>Europe          </td><td>2007            </td><td>79.313          </td><td>  5238460       </td><td>33207.084       </td><td>951.756         </td></tr>\n",
       "\t<tr><td>Ireland         </td><td>Europe          </td><td>2007            </td><td>78.885          </td><td>  4109086       </td><td>40675.996       </td><td>946.620         </td></tr>\n",
       "\t<tr><td>Costa Rica      </td><td>Americas        </td><td>2007            </td><td>78.782          </td><td>  4133884       </td><td> 9645.061       </td><td>945.384         </td></tr>\n",
       "\t<tr><td>Puerto Rico     </td><td>Americas        </td><td>2007            </td><td>78.746          </td><td>  3942491       </td><td>19328.709       </td><td>944.952         </td></tr>\n",
       "\t<tr><td>Korea, Rep.     </td><td>Asia            </td><td>2007            </td><td>78.623          </td><td> 49044790       </td><td>23348.140       </td><td>943.476         </td></tr>\n",
       "\t<tr><td>Chile           </td><td>Americas        </td><td>2007            </td><td>78.553          </td><td> 16284741       </td><td>13171.639       </td><td>942.636         </td></tr>\n",
       "\t<tr><td>Taiwan          </td><td>Asia            </td><td>2007            </td><td>78.400          </td><td> 23174294       </td><td>28718.277       </td><td>940.800         </td></tr>\n",
       "\t<tr><td>Denmark         </td><td>Europe          </td><td>2007            </td><td>78.332          </td><td>  5468120       </td><td>35278.419       </td><td>939.984         </td></tr>\n",
       "\t<tr><td>Cuba            </td><td>Americas        </td><td>2007            </td><td>78.273          </td><td> 11416987       </td><td> 8948.103       </td><td>939.276         </td></tr>\n",
       "\t<tr><td>United States   </td><td>Americas        </td><td>2007            </td><td>78.242          </td><td>301139947       </td><td>42951.653       </td><td>938.904         </td></tr>\n",
       "\t<tr><td>...</td><td>...</td><td>...</td><td>...</td><td>...</td><td>...</td><td>...</td></tr>\n",
       "\t<tr><td>Mali                    </td><td>Africa                  </td><td>2007                    </td><td>54.467                  </td><td> 12031795               </td><td> 1042.5816              </td><td>653.604                 </td></tr>\n",
       "\t<tr><td>Kenya                   </td><td>Africa                  </td><td>2007                    </td><td>54.110                  </td><td> 35610177               </td><td> 1463.2493              </td><td>649.320                 </td></tr>\n",
       "\t<tr><td>Ethiopia                </td><td>Africa                  </td><td>2007                    </td><td>52.947                  </td><td> 76511887               </td><td>  690.8056              </td><td>635.364                 </td></tr>\n",
       "\t<tr><td>Namibia                 </td><td>Africa                  </td><td>2007                    </td><td>52.906                  </td><td>  2055080               </td><td> 4811.0604              </td><td>634.872                 </td></tr>\n",
       "\t<tr><td>Tanzania                </td><td>Africa                  </td><td>2007                    </td><td>52.517                  </td><td> 38139640               </td><td> 1107.4822              </td><td>630.204                 </td></tr>\n",
       "\t<tr><td>Burkina Faso            </td><td>Africa                  </td><td>2007                    </td><td>52.295                  </td><td> 14326203               </td><td> 1217.0330              </td><td>627.540                 </td></tr>\n",
       "\t<tr><td>Equatorial Guinea       </td><td>Africa                  </td><td>2007                    </td><td>51.579                  </td><td>   551201               </td><td>12154.0897              </td><td>618.948                 </td></tr>\n",
       "\t<tr><td>Uganda                  </td><td>Africa                  </td><td>2007                    </td><td>51.542                  </td><td> 29170398               </td><td> 1056.3801              </td><td>618.504                 </td></tr>\n",
       "\t<tr><td>Botswana                </td><td>Africa                  </td><td>2007                    </td><td>50.728                  </td><td>  1639131               </td><td>12569.8518              </td><td>608.736                 </td></tr>\n",
       "\t<tr><td>Chad                    </td><td>Africa                  </td><td>2007                    </td><td>50.651                  </td><td> 10238807               </td><td> 1704.0637              </td><td>607.812                 </td></tr>\n",
       "\t<tr><td>Cameroon                </td><td>Africa                  </td><td>2007                    </td><td>50.430                  </td><td> 17696293               </td><td> 2042.0952              </td><td>605.160                 </td></tr>\n",
       "\t<tr><td>Burundi                 </td><td>Africa                  </td><td>2007                    </td><td>49.580                  </td><td>  8390505               </td><td>  430.0707              </td><td>594.960                 </td></tr>\n",
       "\t<tr><td>South Africa            </td><td>Africa                  </td><td>2007                    </td><td>49.339                  </td><td> 43997828               </td><td> 9269.6578              </td><td>592.068                 </td></tr>\n",
       "\t<tr><td>Cote d'Ivoire           </td><td>Africa                  </td><td>2007                    </td><td>48.328                  </td><td> 18013409               </td><td> 1544.7501              </td><td>579.936                 </td></tr>\n",
       "\t<tr><td>Malawi                  </td><td>Africa                  </td><td>2007                    </td><td>48.303                  </td><td> 13327079               </td><td>  759.3499              </td><td>579.636                 </td></tr>\n",
       "\t<tr><td>Somalia                 </td><td>Africa                  </td><td>2007                    </td><td>48.159                  </td><td>  9118773               </td><td>  926.1411              </td><td>577.908                 </td></tr>\n",
       "\t<tr><td>Nigeria                 </td><td>Africa                  </td><td>2007                    </td><td>46.859                  </td><td>135031164               </td><td> 2013.9773              </td><td>562.308                 </td></tr>\n",
       "\t<tr><td>Congo, Dem. Rep.        </td><td>Africa                  </td><td>2007                    </td><td>46.462                  </td><td> 64606759               </td><td>  277.5519              </td><td>557.544                 </td></tr>\n",
       "\t<tr><td>Guinea-Bissau           </td><td>Africa                  </td><td>2007                    </td><td>46.388                  </td><td>  1472041               </td><td>  579.2317              </td><td>556.656                 </td></tr>\n",
       "\t<tr><td>Rwanda                  </td><td>Africa                  </td><td>2007                    </td><td>46.242                  </td><td>  8860588               </td><td>  863.0885              </td><td>554.904                 </td></tr>\n",
       "\t<tr><td>Liberia                 </td><td>Africa                  </td><td>2007                    </td><td>45.678                  </td><td>  3193942               </td><td>  414.5073              </td><td>548.136                 </td></tr>\n",
       "\t<tr><td>Central African Republic</td><td>Africa                  </td><td>2007                    </td><td>44.741                  </td><td>  4369038               </td><td>  706.0165              </td><td>536.892                 </td></tr>\n",
       "\t<tr><td>Afghanistan             </td><td>Asia                    </td><td>2007                    </td><td>43.828                  </td><td> 31889923               </td><td>  974.5803              </td><td>525.936                 </td></tr>\n",
       "\t<tr><td>Zimbabwe                </td><td>Africa                  </td><td>2007                    </td><td>43.487                  </td><td> 12311143               </td><td>  469.7093              </td><td>521.844                 </td></tr>\n",
       "\t<tr><td>Angola                  </td><td>Africa                  </td><td>2007                    </td><td>42.731                  </td><td> 12420476               </td><td> 4797.2313              </td><td>512.772                 </td></tr>\n",
       "\t<tr><td>Lesotho                 </td><td>Africa                  </td><td>2007                    </td><td>42.592                  </td><td>  2012649               </td><td> 1569.3314              </td><td>511.104                 </td></tr>\n",
       "\t<tr><td>Sierra Leone            </td><td>Africa                  </td><td>2007                    </td><td>42.568                  </td><td>  6144562               </td><td>  862.5408              </td><td>510.816                 </td></tr>\n",
       "\t<tr><td>Zambia                  </td><td>Africa                  </td><td>2007                    </td><td>42.384                  </td><td> 11746035               </td><td> 1271.2116              </td><td>508.608                 </td></tr>\n",
       "\t<tr><td>Mozambique              </td><td>Africa                  </td><td>2007                    </td><td>42.082                  </td><td> 19951656               </td><td>  823.6856              </td><td>504.984                 </td></tr>\n",
       "\t<tr><td>Swaziland               </td><td>Africa                  </td><td>2007                    </td><td>39.613                  </td><td>  1133066               </td><td> 4513.4806              </td><td>475.356                 </td></tr>\n",
       "</tbody>\n",
       "</table>\n"
      ],
      "text/latex": [
       "\\begin{tabular}{r|lllllll}\n",
       " country & continent & year & lifeExp & pop & gdpPercap & lifeExpMonths\\\\\n",
       "\\hline\n",
       "\t Japan            & Asia             & 2007             & 82.603           & 127467972        & 31656.068        & 991.236         \\\\\n",
       "\t Hong Kong, China & Asia             & 2007             & 82.208           &   6980412        & 39724.979        & 986.496         \\\\\n",
       "\t Iceland          & Europe           & 2007             & 81.757           &    301931        & 36180.789        & 981.084         \\\\\n",
       "\t Switzerland      & Europe           & 2007             & 81.701           &   7554661        & 37506.419        & 980.412         \\\\\n",
       "\t Australia        & Oceania          & 2007             & 81.235           &  20434176        & 34435.367        & 974.820         \\\\\n",
       "\t Spain            & Europe           & 2007             & 80.941           &  40448191        & 28821.064        & 971.292         \\\\\n",
       "\t Sweden           & Europe           & 2007             & 80.884           &   9031088        & 33859.748        & 970.608         \\\\\n",
       "\t Israel           & Asia             & 2007             & 80.745           &   6426679        & 25523.277        & 968.940         \\\\\n",
       "\t France           & Europe           & 2007             & 80.657           &  61083916        & 30470.017        & 967.884         \\\\\n",
       "\t Canada           & Americas         & 2007             & 80.653           &  33390141        & 36319.235        & 967.836         \\\\\n",
       "\t Italy            & Europe           & 2007             & 80.546           &  58147733        & 28569.720        & 966.552         \\\\\n",
       "\t New Zealand      & Oceania          & 2007             & 80.204           &   4115771        & 25185.009        & 962.448         \\\\\n",
       "\t Norway           & Europe           & 2007             & 80.196           &   4627926        & 49357.190        & 962.352         \\\\\n",
       "\t Singapore        & Asia             & 2007             & 79.972           &   4553009        & 47143.180        & 959.664         \\\\\n",
       "\t Austria          & Europe           & 2007             & 79.829           &   8199783        & 36126.493        & 957.948         \\\\\n",
       "\t Netherlands      & Europe           & 2007             & 79.762           &  16570613        & 36797.933        & 957.144         \\\\\n",
       "\t Greece           & Europe           & 2007             & 79.483           &  10706290        & 27538.412        & 953.796         \\\\\n",
       "\t Belgium          & Europe           & 2007             & 79.441           &  10392226        & 33692.605        & 953.292         \\\\\n",
       "\t United Kingdom   & Europe           & 2007             & 79.425           &  60776238        & 33203.261        & 953.100         \\\\\n",
       "\t Germany          & Europe           & 2007             & 79.406           &  82400996        & 32170.374        & 952.872         \\\\\n",
       "\t Finland          & Europe           & 2007             & 79.313           &   5238460        & 33207.084        & 951.756         \\\\\n",
       "\t Ireland          & Europe           & 2007             & 78.885           &   4109086        & 40675.996        & 946.620         \\\\\n",
       "\t Costa Rica       & Americas         & 2007             & 78.782           &   4133884        &  9645.061        & 945.384         \\\\\n",
       "\t Puerto Rico      & Americas         & 2007             & 78.746           &   3942491        & 19328.709        & 944.952         \\\\\n",
       "\t Korea, Rep.      & Asia             & 2007             & 78.623           &  49044790        & 23348.140        & 943.476         \\\\\n",
       "\t Chile            & Americas         & 2007             & 78.553           &  16284741        & 13171.639        & 942.636         \\\\\n",
       "\t Taiwan           & Asia             & 2007             & 78.400           &  23174294        & 28718.277        & 940.800         \\\\\n",
       "\t Denmark          & Europe           & 2007             & 78.332           &   5468120        & 35278.419        & 939.984         \\\\\n",
       "\t Cuba             & Americas         & 2007             & 78.273           &  11416987        &  8948.103        & 939.276         \\\\\n",
       "\t United States    & Americas         & 2007             & 78.242           & 301139947        & 42951.653        & 938.904         \\\\\n",
       "\t ... & ... & ... & ... & ... & ... & ...\\\\\n",
       "\t Mali                     & Africa                   & 2007                     & 54.467                   &  12031795                &  1042.5816               & 653.604                 \\\\\n",
       "\t Kenya                    & Africa                   & 2007                     & 54.110                   &  35610177                &  1463.2493               & 649.320                 \\\\\n",
       "\t Ethiopia                 & Africa                   & 2007                     & 52.947                   &  76511887                &   690.8056               & 635.364                 \\\\\n",
       "\t Namibia                  & Africa                   & 2007                     & 52.906                   &   2055080                &  4811.0604               & 634.872                 \\\\\n",
       "\t Tanzania                 & Africa                   & 2007                     & 52.517                   &  38139640                &  1107.4822               & 630.204                 \\\\\n",
       "\t Burkina Faso             & Africa                   & 2007                     & 52.295                   &  14326203                &  1217.0330               & 627.540                 \\\\\n",
       "\t Equatorial Guinea        & Africa                   & 2007                     & 51.579                   &    551201                & 12154.0897               & 618.948                 \\\\\n",
       "\t Uganda                   & Africa                   & 2007                     & 51.542                   &  29170398                &  1056.3801               & 618.504                 \\\\\n",
       "\t Botswana                 & Africa                   & 2007                     & 50.728                   &   1639131                & 12569.8518               & 608.736                 \\\\\n",
       "\t Chad                     & Africa                   & 2007                     & 50.651                   &  10238807                &  1704.0637               & 607.812                 \\\\\n",
       "\t Cameroon                 & Africa                   & 2007                     & 50.430                   &  17696293                &  2042.0952               & 605.160                 \\\\\n",
       "\t Burundi                  & Africa                   & 2007                     & 49.580                   &   8390505                &   430.0707               & 594.960                 \\\\\n",
       "\t South Africa             & Africa                   & 2007                     & 49.339                   &  43997828                &  9269.6578               & 592.068                 \\\\\n",
       "\t Cote d'Ivoire            & Africa                   & 2007                     & 48.328                   &  18013409                &  1544.7501               & 579.936                 \\\\\n",
       "\t Malawi                   & Africa                   & 2007                     & 48.303                   &  13327079                &   759.3499               & 579.636                 \\\\\n",
       "\t Somalia                  & Africa                   & 2007                     & 48.159                   &   9118773                &   926.1411               & 577.908                 \\\\\n",
       "\t Nigeria                  & Africa                   & 2007                     & 46.859                   & 135031164                &  2013.9773               & 562.308                 \\\\\n",
       "\t Congo, Dem. Rep.         & Africa                   & 2007                     & 46.462                   &  64606759                &   277.5519               & 557.544                 \\\\\n",
       "\t Guinea-Bissau            & Africa                   & 2007                     & 46.388                   &   1472041                &   579.2317               & 556.656                 \\\\\n",
       "\t Rwanda                   & Africa                   & 2007                     & 46.242                   &   8860588                &   863.0885               & 554.904                 \\\\\n",
       "\t Liberia                  & Africa                   & 2007                     & 45.678                   &   3193942                &   414.5073               & 548.136                 \\\\\n",
       "\t Central African Republic & Africa                   & 2007                     & 44.741                   &   4369038                &   706.0165               & 536.892                 \\\\\n",
       "\t Afghanistan              & Asia                     & 2007                     & 43.828                   &  31889923                &   974.5803               & 525.936                 \\\\\n",
       "\t Zimbabwe                 & Africa                   & 2007                     & 43.487                   &  12311143                &   469.7093               & 521.844                 \\\\\n",
       "\t Angola                   & Africa                   & 2007                     & 42.731                   &  12420476                &  4797.2313               & 512.772                 \\\\\n",
       "\t Lesotho                  & Africa                   & 2007                     & 42.592                   &   2012649                &  1569.3314               & 511.104                 \\\\\n",
       "\t Sierra Leone             & Africa                   & 2007                     & 42.568                   &   6144562                &   862.5408               & 510.816                 \\\\\n",
       "\t Zambia                   & Africa                   & 2007                     & 42.384                   &  11746035                &  1271.2116               & 508.608                 \\\\\n",
       "\t Mozambique               & Africa                   & 2007                     & 42.082                   &  19951656                &   823.6856               & 504.984                 \\\\\n",
       "\t Swaziland                & Africa                   & 2007                     & 39.613                   &   1133066                &  4513.4806               & 475.356                 \\\\\n",
       "\\end{tabular}\n"
      ],
      "text/markdown": [
       "\n",
       "country | continent | year | lifeExp | pop | gdpPercap | lifeExpMonths | \n",
       "|---|---|---|---|---|---|---|---|---|---|---|---|---|---|---|---|---|---|---|---|---|---|---|---|---|---|---|---|---|---|---|---|---|---|---|---|---|---|---|---|---|---|---|---|---|---|---|---|---|---|---|---|---|---|---|---|---|---|---|---|---|\n",
       "| Japan            | Asia             | 2007             | 82.603           | 127467972        | 31656.068        | 991.236          | \n",
       "| Hong Kong, China | Asia             | 2007             | 82.208           |   6980412        | 39724.979        | 986.496          | \n",
       "| Iceland          | Europe           | 2007             | 81.757           |    301931        | 36180.789        | 981.084          | \n",
       "| Switzerland      | Europe           | 2007             | 81.701           |   7554661        | 37506.419        | 980.412          | \n",
       "| Australia        | Oceania          | 2007             | 81.235           |  20434176        | 34435.367        | 974.820          | \n",
       "| Spain            | Europe           | 2007             | 80.941           |  40448191        | 28821.064        | 971.292          | \n",
       "| Sweden           | Europe           | 2007             | 80.884           |   9031088        | 33859.748        | 970.608          | \n",
       "| Israel           | Asia             | 2007             | 80.745           |   6426679        | 25523.277        | 968.940          | \n",
       "| France           | Europe           | 2007             | 80.657           |  61083916        | 30470.017        | 967.884          | \n",
       "| Canada           | Americas         | 2007             | 80.653           |  33390141        | 36319.235        | 967.836          | \n",
       "| Italy            | Europe           | 2007             | 80.546           |  58147733        | 28569.720        | 966.552          | \n",
       "| New Zealand      | Oceania          | 2007             | 80.204           |   4115771        | 25185.009        | 962.448          | \n",
       "| Norway           | Europe           | 2007             | 80.196           |   4627926        | 49357.190        | 962.352          | \n",
       "| Singapore        | Asia             | 2007             | 79.972           |   4553009        | 47143.180        | 959.664          | \n",
       "| Austria          | Europe           | 2007             | 79.829           |   8199783        | 36126.493        | 957.948          | \n",
       "| Netherlands      | Europe           | 2007             | 79.762           |  16570613        | 36797.933        | 957.144          | \n",
       "| Greece           | Europe           | 2007             | 79.483           |  10706290        | 27538.412        | 953.796          | \n",
       "| Belgium          | Europe           | 2007             | 79.441           |  10392226        | 33692.605        | 953.292          | \n",
       "| United Kingdom   | Europe           | 2007             | 79.425           |  60776238        | 33203.261        | 953.100          | \n",
       "| Germany          | Europe           | 2007             | 79.406           |  82400996        | 32170.374        | 952.872          | \n",
       "| Finland          | Europe           | 2007             | 79.313           |   5238460        | 33207.084        | 951.756          | \n",
       "| Ireland          | Europe           | 2007             | 78.885           |   4109086        | 40675.996        | 946.620          | \n",
       "| Costa Rica       | Americas         | 2007             | 78.782           |   4133884        |  9645.061        | 945.384          | \n",
       "| Puerto Rico      | Americas         | 2007             | 78.746           |   3942491        | 19328.709        | 944.952          | \n",
       "| Korea, Rep.      | Asia             | 2007             | 78.623           |  49044790        | 23348.140        | 943.476          | \n",
       "| Chile            | Americas         | 2007             | 78.553           |  16284741        | 13171.639        | 942.636          | \n",
       "| Taiwan           | Asia             | 2007             | 78.400           |  23174294        | 28718.277        | 940.800          | \n",
       "| Denmark          | Europe           | 2007             | 78.332           |   5468120        | 35278.419        | 939.984          | \n",
       "| Cuba             | Americas         | 2007             | 78.273           |  11416987        |  8948.103        | 939.276          | \n",
       "| United States    | Americas         | 2007             | 78.242           | 301139947        | 42951.653        | 938.904          | \n",
       "| ... | ... | ... | ... | ... | ... | ... | \n",
       "| Mali                     | Africa                   | 2007                     | 54.467                   |  12031795                |  1042.5816               | 653.604                  | \n",
       "| Kenya                    | Africa                   | 2007                     | 54.110                   |  35610177                |  1463.2493               | 649.320                  | \n",
       "| Ethiopia                 | Africa                   | 2007                     | 52.947                   |  76511887                |   690.8056               | 635.364                  | \n",
       "| Namibia                  | Africa                   | 2007                     | 52.906                   |   2055080                |  4811.0604               | 634.872                  | \n",
       "| Tanzania                 | Africa                   | 2007                     | 52.517                   |  38139640                |  1107.4822               | 630.204                  | \n",
       "| Burkina Faso             | Africa                   | 2007                     | 52.295                   |  14326203                |  1217.0330               | 627.540                  | \n",
       "| Equatorial Guinea        | Africa                   | 2007                     | 51.579                   |    551201                | 12154.0897               | 618.948                  | \n",
       "| Uganda                   | Africa                   | 2007                     | 51.542                   |  29170398                |  1056.3801               | 618.504                  | \n",
       "| Botswana                 | Africa                   | 2007                     | 50.728                   |   1639131                | 12569.8518               | 608.736                  | \n",
       "| Chad                     | Africa                   | 2007                     | 50.651                   |  10238807                |  1704.0637               | 607.812                  | \n",
       "| Cameroon                 | Africa                   | 2007                     | 50.430                   |  17696293                |  2042.0952               | 605.160                  | \n",
       "| Burundi                  | Africa                   | 2007                     | 49.580                   |   8390505                |   430.0707               | 594.960                  | \n",
       "| South Africa             | Africa                   | 2007                     | 49.339                   |  43997828                |  9269.6578               | 592.068                  | \n",
       "| Cote d'Ivoire            | Africa                   | 2007                     | 48.328                   |  18013409                |  1544.7501               | 579.936                  | \n",
       "| Malawi                   | Africa                   | 2007                     | 48.303                   |  13327079                |   759.3499               | 579.636                  | \n",
       "| Somalia                  | Africa                   | 2007                     | 48.159                   |   9118773                |   926.1411               | 577.908                  | \n",
       "| Nigeria                  | Africa                   | 2007                     | 46.859                   | 135031164                |  2013.9773               | 562.308                  | \n",
       "| Congo, Dem. Rep.         | Africa                   | 2007                     | 46.462                   |  64606759                |   277.5519               | 557.544                  | \n",
       "| Guinea-Bissau            | Africa                   | 2007                     | 46.388                   |   1472041                |   579.2317               | 556.656                  | \n",
       "| Rwanda                   | Africa                   | 2007                     | 46.242                   |   8860588                |   863.0885               | 554.904                  | \n",
       "| Liberia                  | Africa                   | 2007                     | 45.678                   |   3193942                |   414.5073               | 548.136                  | \n",
       "| Central African Republic | Africa                   | 2007                     | 44.741                   |   4369038                |   706.0165               | 536.892                  | \n",
       "| Afghanistan              | Asia                     | 2007                     | 43.828                   |  31889923                |   974.5803               | 525.936                  | \n",
       "| Zimbabwe                 | Africa                   | 2007                     | 43.487                   |  12311143                |   469.7093               | 521.844                  | \n",
       "| Angola                   | Africa                   | 2007                     | 42.731                   |  12420476                |  4797.2313               | 512.772                  | \n",
       "| Lesotho                  | Africa                   | 2007                     | 42.592                   |   2012649                |  1569.3314               | 511.104                  | \n",
       "| Sierra Leone             | Africa                   | 2007                     | 42.568                   |   6144562                |   862.5408               | 510.816                  | \n",
       "| Zambia                   | Africa                   | 2007                     | 42.384                   |  11746035                |  1271.2116               | 508.608                  | \n",
       "| Mozambique               | Africa                   | 2007                     | 42.082                   |  19951656                |   823.6856               | 504.984                  | \n",
       "| Swaziland                | Africa                   | 2007                     | 39.613                   |   1133066                |  4513.4806               | 475.356                  | \n",
       "\n",
       "\n"
      ],
      "text/plain": [
       "    country                  continent year lifeExp pop       gdpPercap \n",
       "1   Japan                    Asia      2007 82.603  127467972 31656.068 \n",
       "2   Hong Kong, China         Asia      2007 82.208    6980412 39724.979 \n",
       "3   Iceland                  Europe    2007 81.757     301931 36180.789 \n",
       "4   Switzerland              Europe    2007 81.701    7554661 37506.419 \n",
       "5   Australia                Oceania   2007 81.235   20434176 34435.367 \n",
       "6   Spain                    Europe    2007 80.941   40448191 28821.064 \n",
       "7   Sweden                   Europe    2007 80.884    9031088 33859.748 \n",
       "8   Israel                   Asia      2007 80.745    6426679 25523.277 \n",
       "9   France                   Europe    2007 80.657   61083916 30470.017 \n",
       "10  Canada                   Americas  2007 80.653   33390141 36319.235 \n",
       "11  Italy                    Europe    2007 80.546   58147733 28569.720 \n",
       "12  New Zealand              Oceania   2007 80.204    4115771 25185.009 \n",
       "13  Norway                   Europe    2007 80.196    4627926 49357.190 \n",
       "14  Singapore                Asia      2007 79.972    4553009 47143.180 \n",
       "15  Austria                  Europe    2007 79.829    8199783 36126.493 \n",
       "16  Netherlands              Europe    2007 79.762   16570613 36797.933 \n",
       "17  Greece                   Europe    2007 79.483   10706290 27538.412 \n",
       "18  Belgium                  Europe    2007 79.441   10392226 33692.605 \n",
       "19  United Kingdom           Europe    2007 79.425   60776238 33203.261 \n",
       "20  Germany                  Europe    2007 79.406   82400996 32170.374 \n",
       "21  Finland                  Europe    2007 79.313    5238460 33207.084 \n",
       "22  Ireland                  Europe    2007 78.885    4109086 40675.996 \n",
       "23  Costa Rica               Americas  2007 78.782    4133884  9645.061 \n",
       "24  Puerto Rico              Americas  2007 78.746    3942491 19328.709 \n",
       "25  Korea, Rep.              Asia      2007 78.623   49044790 23348.140 \n",
       "26  Chile                    Americas  2007 78.553   16284741 13171.639 \n",
       "27  Taiwan                   Asia      2007 78.400   23174294 28718.277 \n",
       "28  Denmark                  Europe    2007 78.332    5468120 35278.419 \n",
       "29  Cuba                     Americas  2007 78.273   11416987  8948.103 \n",
       "30  United States            Americas  2007 78.242  301139947 42951.653 \n",
       "... ...                      ...       ...  ...     ...       ...       \n",
       "113 Mali                     Africa    2007 54.467   12031795  1042.5816\n",
       "114 Kenya                    Africa    2007 54.110   35610177  1463.2493\n",
       "115 Ethiopia                 Africa    2007 52.947   76511887   690.8056\n",
       "116 Namibia                  Africa    2007 52.906    2055080  4811.0604\n",
       "117 Tanzania                 Africa    2007 52.517   38139640  1107.4822\n",
       "118 Burkina Faso             Africa    2007 52.295   14326203  1217.0330\n",
       "119 Equatorial Guinea        Africa    2007 51.579     551201 12154.0897\n",
       "120 Uganda                   Africa    2007 51.542   29170398  1056.3801\n",
       "121 Botswana                 Africa    2007 50.728    1639131 12569.8518\n",
       "122 Chad                     Africa    2007 50.651   10238807  1704.0637\n",
       "123 Cameroon                 Africa    2007 50.430   17696293  2042.0952\n",
       "124 Burundi                  Africa    2007 49.580    8390505   430.0707\n",
       "125 South Africa             Africa    2007 49.339   43997828  9269.6578\n",
       "126 Cote d'Ivoire            Africa    2007 48.328   18013409  1544.7501\n",
       "127 Malawi                   Africa    2007 48.303   13327079   759.3499\n",
       "128 Somalia                  Africa    2007 48.159    9118773   926.1411\n",
       "129 Nigeria                  Africa    2007 46.859  135031164  2013.9773\n",
       "130 Congo, Dem. Rep.         Africa    2007 46.462   64606759   277.5519\n",
       "131 Guinea-Bissau            Africa    2007 46.388    1472041   579.2317\n",
       "132 Rwanda                   Africa    2007 46.242    8860588   863.0885\n",
       "133 Liberia                  Africa    2007 45.678    3193942   414.5073\n",
       "134 Central African Republic Africa    2007 44.741    4369038   706.0165\n",
       "135 Afghanistan              Asia      2007 43.828   31889923   974.5803\n",
       "136 Zimbabwe                 Africa    2007 43.487   12311143   469.7093\n",
       "137 Angola                   Africa    2007 42.731   12420476  4797.2313\n",
       "138 Lesotho                  Africa    2007 42.592    2012649  1569.3314\n",
       "139 Sierra Leone             Africa    2007 42.568    6144562   862.5408\n",
       "140 Zambia                   Africa    2007 42.384   11746035  1271.2116\n",
       "141 Mozambique               Africa    2007 42.082   19951656   823.6856\n",
       "142 Swaziland                Africa    2007 39.613    1133066  4513.4806\n",
       "    lifeExpMonths\n",
       "1   991.236      \n",
       "2   986.496      \n",
       "3   981.084      \n",
       "4   980.412      \n",
       "5   974.820      \n",
       "6   971.292      \n",
       "7   970.608      \n",
       "8   968.940      \n",
       "9   967.884      \n",
       "10  967.836      \n",
       "11  966.552      \n",
       "12  962.448      \n",
       "13  962.352      \n",
       "14  959.664      \n",
       "15  957.948      \n",
       "16  957.144      \n",
       "17  953.796      \n",
       "18  953.292      \n",
       "19  953.100      \n",
       "20  952.872      \n",
       "21  951.756      \n",
       "22  946.620      \n",
       "23  945.384      \n",
       "24  944.952      \n",
       "25  943.476      \n",
       "26  942.636      \n",
       "27  940.800      \n",
       "28  939.984      \n",
       "29  939.276      \n",
       "30  938.904      \n",
       "... ...          \n",
       "113 653.604      \n",
       "114 649.320      \n",
       "115 635.364      \n",
       "116 634.872      \n",
       "117 630.204      \n",
       "118 627.540      \n",
       "119 618.948      \n",
       "120 618.504      \n",
       "121 608.736      \n",
       "122 607.812      \n",
       "123 605.160      \n",
       "124 594.960      \n",
       "125 592.068      \n",
       "126 579.936      \n",
       "127 579.636      \n",
       "128 577.908      \n",
       "129 562.308      \n",
       "130 557.544      \n",
       "131 556.656      \n",
       "132 554.904      \n",
       "133 548.136      \n",
       "134 536.892      \n",
       "135 525.936      \n",
       "136 521.844      \n",
       "137 512.772      \n",
       "138 511.104      \n",
       "139 510.816      \n",
       "140 508.608      \n",
       "141 504.984      \n",
       "142 475.356      "
      ]
     },
     "metadata": {},
     "output_type": "display_data"
    }
   ],
   "source": [
    "## filtering for observations for the year 2007\n",
    "\n",
    "gapminder %>% filter(year == 2007) %>% mutate(lifeExpMonths = lifeExp * 12) %>% arrange(desc(lifeExpMonths))"
   ]
  },
  {
   "cell_type": "code",
   "execution_count": 18,
   "metadata": {},
   "outputs": [],
   "source": [
    "gapminder_1952 <- gapminder %>% filter(year == 1952)"
   ]
  },
  {
   "cell_type": "code",
   "execution_count": 20,
   "metadata": {},
   "outputs": [
    {
     "data": {},
     "metadata": {},
     "output_type": "display_data"
    },
    {
     "data": {
      "image/png": "[encoded data removed]",
      "text/plain": [
       "plot without title"
      ]
     },
     "metadata": {},
     "output_type": "display_data"
    }
   ],
   "source": [
    "ggplot(gapminder_1952, aes(x = pop, y = gdpPercap)) + geom_point()"
   ]
  },
  {
   "cell_type": "code",
   "execution_count": 21,
   "metadata": {},
   "outputs": [
    {
     "data": {},
     "metadata": {},
     "output_type": "display_data"
    },
    {
     "data": {
      "image/png": "[encoded data removed]",
      "text/plain": [
       "plot without title"
      ]
     },
     "metadata": {},
     "output_type": "display_data"
    }
   ],
   "source": [
    "ggplot(gapminder_1952, aes(x = pop, y = lifeExp)) + geom_point()"
   ]
  },
  {
   "cell_type": "code",
   "execution_count": 22,
   "metadata": {},
   "outputs": [
    {
     "data": {},
     "metadata": {},
     "output_type": "display_data"
    },
    {
     "data": {
      "image/png": "[encoded data removed]",
      "text/plain": [
       "plot without title"
      ]
     },
     "metadata": {},
     "output_type": "display_data"
    }
   ],
   "source": [
    "## putting the x-axis on a log scale\n",
    "\n",
    "ggplot(gapminder_1952, aes(x = pop, y = lifeExp)) + geom_point() + scale_x_log10()"
   ]
  },
  {
   "cell_type": "code",
   "execution_count": 25,
   "metadata": {},
   "outputs": [
    {
     "data": {},
     "metadata": {},
     "output_type": "display_data"
    },
    {
     "data": {
      "image/png": "[encoded data removed]",
      "text/plain": [
       "plot without title"
      ]
     },
     "metadata": {},
     "output_type": "display_data"
    }
   ],
   "source": [
    "ggplot(gapminder_1952, aes(x = pop, y = gdpPercap)) + geom_point() + scale_x_log10() + scale_y_log10()"
   ]
  },
  {
   "cell_type": "code",
   "execution_count": 26,
   "metadata": {},
   "outputs": [
    {
     "data": {},
     "metadata": {},
     "output_type": "display_data"
    },
    {
     "data": {
      "image/png": "[encoded data removed]",
      "text/plain": [
       "plot without title"
      ]
     },
     "metadata": {},
     "output_type": "display_data"
    }
   ],
   "source": [
    "## additional aesthetics\n",
    "\n",
    "ggplot(gapminder_1952, aes(x = pop, y = lifeExp, color = continent)) + geom_point() + scale_x_log10()"
   ]
  },
  {
   "cell_type": "code",
   "execution_count": 27,
   "metadata": {},
   "outputs": [
    {
     "data": {},
     "metadata": {},
     "output_type": "display_data"
    },
    {
     "data": {
      "image/png": "[encoded data removed]",
      "text/plain": [
       "plot without title"
      ]
     },
     "metadata": {},
     "output_type": "display_data"
    }
   ],
   "source": [
    "ggplot(gapminder_1952, aes(x = pop, y = lifeExp, color = continent, size = gdpPercap)) + geom_point() + scale_x_log10()"
   ]
  },
  {
   "cell_type": "code",
   "execution_count": 28,
   "metadata": {},
   "outputs": [
    {
     "data": {},
     "metadata": {},
     "output_type": "display_data"
    },
    {
     "data": {
      "image/png": "[encoded data removed]",
      "text/plain": [
       "plot without title"
      ]
     },
     "metadata": {},
     "output_type": "display_data"
    }
   ],
   "source": [
    "options(repr.plot.width = 6, repr.plot.height = 4)\n",
    "\n",
    "ggplot(gapminder_1952, aes(x = pop, y = lifeExp)) + geom_point() + scale_x_log10() + facet_wrap(~ continent)"
   ]
  },
  {
   "cell_type": "code",
   "execution_count": 30,
   "metadata": {},
   "outputs": [
    {
     "data": {},
     "metadata": {},
     "output_type": "display_data"
    },
    {
     "data": {
      "image/png": "[encoded data removed]",
      "text/plain": [
       "plot without title"
      ]
     },
     "metadata": {},
     "output_type": "display_data"
    }
   ],
   "source": [
    "ggplot(gapminder, aes(x = gdpPercap, y = lifeExp, color = continent, size = pop)) + geom_point() + scale_x_log10() + facet_wrap(~ year)"
   ]
  },
  {
   "cell_type": "code",
   "execution_count": 31,
   "metadata": {},
   "outputs": [
    {
     "data": {
      "text/html": [
       "<table>\n",
       "<thead><tr><th scope=col>meanLifeExp</th></tr></thead>\n",
       "<tbody>\n",
       "\t<tr><td>59.47444</td></tr>\n",
       "</tbody>\n",
       "</table>\n"
      ],
      "text/latex": [
       "\\begin{tabular}{r|l}\n",
       " meanLifeExp\\\\\n",
       "\\hline\n",
       "\t 59.47444\\\\\n",
       "\\end{tabular}\n"
      ],
      "text/markdown": [
       "\n",
       "meanLifeExp | \n",
       "|---|\n",
       "| 59.47444 | \n",
       "\n",
       "\n"
      ],
      "text/plain": [
       "  meanLifeExp\n",
       "1 59.47444   "
      ]
     },
     "metadata": {},
     "output_type": "display_data"
    }
   ],
   "source": [
    "gapminder %>% summarize(meanLifeExp = mean(lifeExp))"
   ]
  },
  {
   "cell_type": "code",
   "execution_count": 32,
   "metadata": {},
   "outputs": [
    {
     "data": {
      "text/html": [
       "<table>\n",
       "<thead><tr><th scope=col>meanLifeExp</th></tr></thead>\n",
       "<tbody>\n",
       "\t<tr><td>67.00742</td></tr>\n",
       "</tbody>\n",
       "</table>\n"
      ],
      "text/latex": [
       "\\begin{tabular}{r|l}\n",
       " meanLifeExp\\\\\n",
       "\\hline\n",
       "\t 67.00742\\\\\n",
       "\\end{tabular}\n"
      ],
      "text/markdown": [
       "\n",
       "meanLifeExp | \n",
       "|---|\n",
       "| 67.00742 | \n",
       "\n",
       "\n"
      ],
      "text/plain": [
       "  meanLifeExp\n",
       "1 67.00742   "
      ]
     },
     "metadata": {},
     "output_type": "display_data"
    }
   ],
   "source": [
    "gapminder %>% filter(year == 2007) %>% summarize(meanLifeExp = mean(lifeExp))"
   ]
  },
  {
   "cell_type": "code",
   "execution_count": 34,
   "metadata": {},
   "outputs": [
    {
     "name": "stderr",
     "output_type": "stream",
     "text": [
      "`stat_bin()` using `bins = 30`. Pick better value with `binwidth`.\n"
     ]
    },
    {
     "data": {},
     "metadata": {},
     "output_type": "display_data"
    },
    {
     "data": {
      "image/png": "[encoded data removed]",
      "text/plain": [
       "plot without title"
      ]
     },
     "metadata": {},
     "output_type": "display_data"
    }
   ],
   "source": [
    "ggplot(gapminder %>% filter(year == 2007), aes(x = lifeExp)) + geom_histogram()"
   ]
  },
  {
   "cell_type": "code",
   "execution_count": 35,
   "metadata": {},
   "outputs": [
    {
     "data": {
      "text/html": [
       "<table>\n",
       "<thead><tr><th scope=col>medianLifeExp</th></tr></thead>\n",
       "<tbody>\n",
       "\t<tr><td>71.9355</td></tr>\n",
       "</tbody>\n",
       "</table>\n"
      ],
      "text/latex": [
       "\\begin{tabular}{r|l}\n",
       " medianLifeExp\\\\\n",
       "\\hline\n",
       "\t 71.9355\\\\\n",
       "\\end{tabular}\n"
      ],
      "text/markdown": [
       "\n",
       "medianLifeExp | \n",
       "|---|\n",
       "| 71.9355 | \n",
       "\n",
       "\n"
      ],
      "text/plain": [
       "  medianLifeExp\n",
       "1 71.9355      "
      ]
     },
     "metadata": {},
     "output_type": "display_data"
    }
   ],
   "source": [
    "gapminder %>% filter(year == 2007) %>% summarize(medianLifeExp = median(lifeExp))"
   ]
  },
  {
   "cell_type": "code",
   "execution_count": 36,
   "metadata": {},
   "outputs": [
    {
     "name": "stderr",
     "output_type": "stream",
     "text": [
      "Warning message in summarise_impl(.data, dots):\n",
      "\"integer overflow - use sum(as.numeric(.))\""
     ]
    },
    {
     "data": {
      "text/html": [
       "<table>\n",
       "<thead><tr><th scope=col>meanLifeExp</th><th scope=col>totalPop</th></tr></thead>\n",
       "<tbody>\n",
       "\t<tr><td>67.00742</td><td>NA      </td></tr>\n",
       "</tbody>\n",
       "</table>\n"
      ],
      "text/latex": [
       "\\begin{tabular}{r|ll}\n",
       " meanLifeExp & totalPop\\\\\n",
       "\\hline\n",
       "\t 67.00742 & NA      \\\\\n",
       "\\end{tabular}\n"
      ],
      "text/markdown": [
       "\n",
       "meanLifeExp | totalPop | \n",
       "|---|\n",
       "| 67.00742 | NA       | \n",
       "\n",
       "\n"
      ],
      "text/plain": [
       "  meanLifeExp totalPop\n",
       "1 67.00742    NA      "
      ]
     },
     "metadata": {},
     "output_type": "display_data"
    }
   ],
   "source": [
    "gapminder %>% filter(year == 2007) %>% summarize(meanLifeExp = mean(lifeExp), totalPop = sum(pop))"
   ]
  },
  {
   "cell_type": "code",
   "execution_count": 39,
   "metadata": {},
   "outputs": [
    {
     "data": {
      "text/html": [
       "<table>\n",
       "<thead><tr><th scope=col>meanLifeExp</th><th scope=col>totalPop</th></tr></thead>\n",
       "<tbody>\n",
       "\t<tr><td>67.00742  </td><td>6251013179</td></tr>\n",
       "</tbody>\n",
       "</table>\n"
      ],
      "text/latex": [
       "\\begin{tabular}{r|ll}\n",
       " meanLifeExp & totalPop\\\\\n",
       "\\hline\n",
       "\t 67.00742   & 6251013179\\\\\n",
       "\\end{tabular}\n"
      ],
      "text/markdown": [
       "\n",
       "meanLifeExp | totalPop | \n",
       "|---|\n",
       "| 67.00742   | 6251013179 | \n",
       "\n",
       "\n"
      ],
      "text/plain": [
       "  meanLifeExp totalPop  \n",
       "1 67.00742    6251013179"
      ]
     },
     "metadata": {},
     "output_type": "display_data"
    }
   ],
   "source": [
    "gapminder %>%\n",
    "  filter(year == 2007) %>%\n",
    "  summarize(meanLifeExp = mean(lifeExp),\n",
    "            totalPop = sum(as.numeric(pop)))"
   ]
  },
  {
   "cell_type": "code",
   "execution_count": 40,
   "metadata": {},
   "outputs": [
    {
     "data": {
      "text/html": [
       "<table>\n",
       "<thead><tr><th scope=col>medianLifeExp</th></tr></thead>\n",
       "<tbody>\n",
       "\t<tr><td>60.7125</td></tr>\n",
       "</tbody>\n",
       "</table>\n"
      ],
      "text/latex": [
       "\\begin{tabular}{r|l}\n",
       " medianLifeExp\\\\\n",
       "\\hline\n",
       "\t 60.7125\\\\\n",
       "\\end{tabular}\n"
      ],
      "text/markdown": [
       "\n",
       "medianLifeExp | \n",
       "|---|\n",
       "| 60.7125 | \n",
       "\n",
       "\n"
      ],
      "text/plain": [
       "  medianLifeExp\n",
       "1 60.7125      "
      ]
     },
     "metadata": {},
     "output_type": "display_data"
    }
   ],
   "source": [
    "gapminder %>% summarize(medianLifeExp = median(lifeExp))"
   ]
  },
  {
   "cell_type": "code",
   "execution_count": 41,
   "metadata": {},
   "outputs": [
    {
     "data": {
      "text/html": [
       "<table>\n",
       "<thead><tr><th scope=col>medianLifeExp</th></tr></thead>\n",
       "<tbody>\n",
       "\t<tr><td>48.3605</td></tr>\n",
       "</tbody>\n",
       "</table>\n"
      ],
      "text/latex": [
       "\\begin{tabular}{r|l}\n",
       " medianLifeExp\\\\\n",
       "\\hline\n",
       "\t 48.3605\\\\\n",
       "\\end{tabular}\n"
      ],
      "text/markdown": [
       "\n",
       "medianLifeExp | \n",
       "|---|\n",
       "| 48.3605 | \n",
       "\n",
       "\n"
      ],
      "text/plain": [
       "  medianLifeExp\n",
       "1 48.3605      "
      ]
     },
     "metadata": {},
     "output_type": "display_data"
    }
   ],
   "source": [
    "gapminder %>% filter(year == 1957) %>% summarize(medianLifeExp = median(lifeExp))"
   ]
  },
  {
   "cell_type": "code",
   "execution_count": 42,
   "metadata": {},
   "outputs": [
    {
     "data": {
      "text/html": [
       "<table>\n",
       "<thead><tr><th scope=col>medianLifeExp</th><th scope=col>maxGdpPercap</th></tr></thead>\n",
       "<tbody>\n",
       "\t<tr><td>48.3605 </td><td>113523.1</td></tr>\n",
       "</tbody>\n",
       "</table>\n"
      ],
      "text/latex": [
       "\\begin{tabular}{r|ll}\n",
       " medianLifeExp & maxGdpPercap\\\\\n",
       "\\hline\n",
       "\t 48.3605  & 113523.1\\\\\n",
       "\\end{tabular}\n"
      ],
      "text/markdown": [
       "\n",
       "medianLifeExp | maxGdpPercap | \n",
       "|---|\n",
       "| 48.3605  | 113523.1 | \n",
       "\n",
       "\n"
      ],
      "text/plain": [
       "  medianLifeExp maxGdpPercap\n",
       "1 48.3605       113523.1    "
      ]
     },
     "metadata": {},
     "output_type": "display_data"
    }
   ],
   "source": [
    "gapminder %>% filter(year == 1957) %>% summarize(medianLifeExp = median(lifeExp), maxGdpPercap = max(gdpPercap))"
   ]
  },
  {
   "cell_type": "code",
   "execution_count": 44,
   "metadata": {},
   "outputs": [
    {
     "data": {
      "text/html": [
       "<table>\n",
       "<thead><tr><th scope=col>year</th><th scope=col>meanLifeExp</th><th scope=col>totalPop</th></tr></thead>\n",
       "<tbody>\n",
       "\t<tr><td>1952      </td><td>49.05762  </td><td>2406957150</td></tr>\n",
       "\t<tr><td>1957      </td><td>51.50740  </td><td>2664404580</td></tr>\n",
       "\t<tr><td>1962      </td><td>53.60925  </td><td>2899782974</td></tr>\n",
       "\t<tr><td>1967      </td><td>55.67829  </td><td>3217478384</td></tr>\n",
       "\t<tr><td>1972      </td><td>57.64739  </td><td>3576977158</td></tr>\n",
       "\t<tr><td>1977      </td><td>59.57016  </td><td>3930045807</td></tr>\n",
       "\t<tr><td>1982      </td><td>61.53320  </td><td>4289436840</td></tr>\n",
       "\t<tr><td>1987      </td><td>63.21261  </td><td>4691477418</td></tr>\n",
       "\t<tr><td>1992      </td><td>64.16034  </td><td>5110710260</td></tr>\n",
       "\t<tr><td>1997      </td><td>65.01468  </td><td>5515204472</td></tr>\n",
       "\t<tr><td>2002      </td><td>65.69492  </td><td>5886977579</td></tr>\n",
       "\t<tr><td>2007      </td><td>67.00742  </td><td>6251013179</td></tr>\n",
       "</tbody>\n",
       "</table>\n"
      ],
      "text/latex": [
       "\\begin{tabular}{r|lll}\n",
       " year & meanLifeExp & totalPop\\\\\n",
       "\\hline\n",
       "\t 1952       & 49.05762   & 2406957150\\\\\n",
       "\t 1957       & 51.50740   & 2664404580\\\\\n",
       "\t 1962       & 53.60925   & 2899782974\\\\\n",
       "\t 1967       & 55.67829   & 3217478384\\\\\n",
       "\t 1972       & 57.64739   & 3576977158\\\\\n",
       "\t 1977       & 59.57016   & 3930045807\\\\\n",
       "\t 1982       & 61.53320   & 4289436840\\\\\n",
       "\t 1987       & 63.21261   & 4691477418\\\\\n",
       "\t 1992       & 64.16034   & 5110710260\\\\\n",
       "\t 1997       & 65.01468   & 5515204472\\\\\n",
       "\t 2002       & 65.69492   & 5886977579\\\\\n",
       "\t 2007       & 67.00742   & 6251013179\\\\\n",
       "\\end{tabular}\n"
      ],
      "text/markdown": [
       "\n",
       "year | meanLifeExp | totalPop | \n",
       "|---|---|---|---|---|---|---|---|---|---|---|---|\n",
       "| 1952       | 49.05762   | 2406957150 | \n",
       "| 1957       | 51.50740   | 2664404580 | \n",
       "| 1962       | 53.60925   | 2899782974 | \n",
       "| 1967       | 55.67829   | 3217478384 | \n",
       "| 1972       | 57.64739   | 3576977158 | \n",
       "| 1977       | 59.57016   | 3930045807 | \n",
       "| 1982       | 61.53320   | 4289436840 | \n",
       "| 1987       | 63.21261   | 4691477418 | \n",
       "| 1992       | 64.16034   | 5110710260 | \n",
       "| 1997       | 65.01468   | 5515204472 | \n",
       "| 2002       | 65.69492   | 5886977579 | \n",
       "| 2007       | 67.00742   | 6251013179 | \n",
       "\n",
       "\n"
      ],
      "text/plain": [
       "   year meanLifeExp totalPop  \n",
       "1  1952 49.05762    2406957150\n",
       "2  1957 51.50740    2664404580\n",
       "3  1962 53.60925    2899782974\n",
       "4  1967 55.67829    3217478384\n",
       "5  1972 57.64739    3576977158\n",
       "6  1977 59.57016    3930045807\n",
       "7  1982 61.53320    4289436840\n",
       "8  1987 63.21261    4691477418\n",
       "9  1992 64.16034    5110710260\n",
       "10 1997 65.01468    5515204472\n",
       "11 2002 65.69492    5886977579\n",
       "12 2007 67.00742    6251013179"
      ]
     },
     "metadata": {},
     "output_type": "display_data"
    }
   ],
   "source": [
    "gapminder %>% group_by(year) %>% summarize(meanLifeExp = mean(lifeExp),\n",
    "            totalPop = sum(as.numeric(pop)))"
   ]
  },
  {
   "cell_type": "code",
   "execution_count": 45,
   "metadata": {},
   "outputs": [
    {
     "data": {
      "text/html": [
       "<table>\n",
       "<thead><tr><th scope=col>continent</th><th scope=col>meanLifeExp</th><th scope=col>totalPop</th></tr></thead>\n",
       "<tbody>\n",
       "\t<tr><td>Africa    </td><td>54.80604  </td><td> 929539692</td></tr>\n",
       "\t<tr><td>Americas  </td><td>73.60812  </td><td> 898871184</td></tr>\n",
       "\t<tr><td>Asia      </td><td>70.72848  </td><td>3811953827</td></tr>\n",
       "\t<tr><td>Europe    </td><td>77.64860  </td><td> 586098529</td></tr>\n",
       "\t<tr><td>Oceania   </td><td>80.71950  </td><td>  24549947</td></tr>\n",
       "</tbody>\n",
       "</table>\n"
      ],
      "text/latex": [
       "\\begin{tabular}{r|lll}\n",
       " continent & meanLifeExp & totalPop\\\\\n",
       "\\hline\n",
       "\t Africa     & 54.80604   &  929539692\\\\\n",
       "\t Americas   & 73.60812   &  898871184\\\\\n",
       "\t Asia       & 70.72848   & 3811953827\\\\\n",
       "\t Europe     & 77.64860   &  586098529\\\\\n",
       "\t Oceania    & 80.71950   &   24549947\\\\\n",
       "\\end{tabular}\n"
      ],
      "text/markdown": [
       "\n",
       "continent | meanLifeExp | totalPop | \n",
       "|---|---|---|---|---|\n",
       "| Africa     | 54.80604   |  929539692 | \n",
       "| Americas   | 73.60812   |  898871184 | \n",
       "| Asia       | 70.72848   | 3811953827 | \n",
       "| Europe     | 77.64860   |  586098529 | \n",
       "| Oceania    | 80.71950   |   24549947 | \n",
       "\n",
       "\n"
      ],
      "text/plain": [
       "  continent meanLifeExp totalPop  \n",
       "1 Africa    54.80604     929539692\n",
       "2 Americas  73.60812     898871184\n",
       "3 Asia      70.72848    3811953827\n",
       "4 Europe    77.64860     586098529\n",
       "5 Oceania   80.71950      24549947"
      ]
     },
     "metadata": {},
     "output_type": "display_data"
    }
   ],
   "source": [
    "gapminder %>% filter(year == 2007) %>% group_by(continent) %>% summarize(meanLifeExp = mean(lifeExp), totalPop = sum(as.numeric(pop)))"
   ]
  },
  {
   "cell_type": "code",
   "execution_count": 47,
   "metadata": {},
   "outputs": [
    {
     "data": {
      "text/html": [
       "<table>\n",
       "<thead><tr><th scope=col>continent</th><th scope=col>meanLifeExp</th><th scope=col>totalPop</th></tr></thead>\n",
       "<tbody>\n",
       "\t<tr><td>Africa    </td><td>54.80604  </td><td> 929539692</td></tr>\n",
       "\t<tr><td>Americas  </td><td>73.60812  </td><td> 898871184</td></tr>\n",
       "\t<tr><td>Asia      </td><td>70.72848  </td><td>3811953827</td></tr>\n",
       "\t<tr><td>Europe    </td><td>77.64860  </td><td> 586098529</td></tr>\n",
       "\t<tr><td>Oceania   </td><td>80.71950  </td><td>  24549947</td></tr>\n",
       "</tbody>\n",
       "</table>\n"
      ],
      "text/latex": [
       "\\begin{tabular}{r|lll}\n",
       " continent & meanLifeExp & totalPop\\\\\n",
       "\\hline\n",
       "\t Africa     & 54.80604   &  929539692\\\\\n",
       "\t Americas   & 73.60812   &  898871184\\\\\n",
       "\t Asia       & 70.72848   & 3811953827\\\\\n",
       "\t Europe     & 77.64860   &  586098529\\\\\n",
       "\t Oceania    & 80.71950   &   24549947\\\\\n",
       "\\end{tabular}\n"
      ],
      "text/markdown": [
       "\n",
       "continent | meanLifeExp | totalPop | \n",
       "|---|---|---|---|---|\n",
       "| Africa     | 54.80604   |  929539692 | \n",
       "| Americas   | 73.60812   |  898871184 | \n",
       "| Asia       | 70.72848   | 3811953827 | \n",
       "| Europe     | 77.64860   |  586098529 | \n",
       "| Oceania    | 80.71950   |   24549947 | \n",
       "\n",
       "\n"
      ],
      "text/plain": [
       "  continent meanLifeExp totalPop  \n",
       "1 Africa    54.80604     929539692\n",
       "2 Americas  73.60812     898871184\n",
       "3 Asia      70.72848    3811953827\n",
       "4 Europe    77.64860     586098529\n",
       "5 Oceania   80.71950      24549947"
      ]
     },
     "metadata": {},
     "output_type": "display_data"
    }
   ],
   "source": [
    "gapminder %>%\n",
    "  filter(year == 2007) %>%\n",
    "  group_by(continent) %>%\n",
    "  summarize(meanLifeExp = mean(lifeExp),\n",
    "            totalPop = sum(as.numeric(pop)))"
   ]
  },
  {
   "cell_type": "code",
   "execution_count": 50,
   "metadata": {},
   "outputs": [
    {
     "data": {
      "text/html": [
       "<table>\n",
       "<thead><tr><th scope=col>continent</th><th scope=col>year</th><th scope=col>meanLifeExp</th><th scope=col>totalPop</th></tr></thead>\n",
       "<tbody>\n",
       "\t<tr><td>Africa    </td><td>1952      </td><td>39.13550  </td><td> 237640501</td></tr>\n",
       "\t<tr><td>Africa    </td><td>1957      </td><td>41.26635  </td><td> 264837738</td></tr>\n",
       "\t<tr><td>Africa    </td><td>1962      </td><td>43.31944  </td><td> 296516865</td></tr>\n",
       "\t<tr><td>Africa    </td><td>1967      </td><td>45.33454  </td><td> 335289489</td></tr>\n",
       "\t<tr><td>Africa    </td><td>1972      </td><td>47.45094  </td><td> 379879541</td></tr>\n",
       "\t<tr><td>Africa    </td><td>1977      </td><td>49.58042  </td><td> 433061021</td></tr>\n",
       "\t<tr><td>Africa    </td><td>1982      </td><td>51.59287  </td><td> 499348587</td></tr>\n",
       "\t<tr><td>Africa    </td><td>1987      </td><td>53.34479  </td><td> 574834110</td></tr>\n",
       "\t<tr><td>Africa    </td><td>1992      </td><td>53.62958  </td><td> 659081517</td></tr>\n",
       "\t<tr><td>Africa    </td><td>1997      </td><td>53.59827  </td><td> 743832984</td></tr>\n",
       "\t<tr><td>Africa    </td><td>2002      </td><td>53.32523  </td><td> 833723916</td></tr>\n",
       "\t<tr><td>Africa    </td><td>2007      </td><td>54.80604  </td><td> 929539692</td></tr>\n",
       "\t<tr><td>Americas  </td><td>1952      </td><td>53.27984  </td><td> 345152446</td></tr>\n",
       "\t<tr><td>Americas  </td><td>1957      </td><td>55.96028  </td><td> 386953916</td></tr>\n",
       "\t<tr><td>Americas  </td><td>1962      </td><td>58.39876  </td><td> 433270254</td></tr>\n",
       "\t<tr><td>Americas  </td><td>1967      </td><td>60.41092  </td><td> 480746623</td></tr>\n",
       "\t<tr><td>Americas  </td><td>1972      </td><td>62.39492  </td><td> 529384210</td></tr>\n",
       "\t<tr><td>Americas  </td><td>1977      </td><td>64.39156  </td><td> 578067699</td></tr>\n",
       "\t<tr><td>Americas  </td><td>1982      </td><td>66.22884  </td><td> 630290920</td></tr>\n",
       "\t<tr><td>Americas  </td><td>1987      </td><td>68.09072  </td><td> 682753971</td></tr>\n",
       "\t<tr><td>Americas  </td><td>1992      </td><td>69.56836  </td><td> 739274104</td></tr>\n",
       "\t<tr><td>Americas  </td><td>1997      </td><td>71.15048  </td><td> 796900410</td></tr>\n",
       "\t<tr><td>Americas  </td><td>2002      </td><td>72.42204  </td><td> 849772762</td></tr>\n",
       "\t<tr><td>Americas  </td><td>2007      </td><td>73.60812  </td><td> 898871184</td></tr>\n",
       "\t<tr><td>Asia      </td><td>1952      </td><td>46.31439  </td><td>1395357351</td></tr>\n",
       "\t<tr><td>Asia      </td><td>1957      </td><td>49.31854  </td><td>1562780599</td></tr>\n",
       "\t<tr><td>Asia      </td><td>1962      </td><td>51.56322  </td><td>1696357182</td></tr>\n",
       "\t<tr><td>Asia      </td><td>1967      </td><td>54.66364  </td><td>1905662900</td></tr>\n",
       "\t<tr><td>Asia      </td><td>1972      </td><td>57.31927  </td><td>2150972248</td></tr>\n",
       "\t<tr><td>Asia      </td><td>1977      </td><td>59.61056  </td><td>2384513556</td></tr>\n",
       "\t<tr><td>Asia      </td><td>1982      </td><td>62.61794  </td><td>2610135582</td></tr>\n",
       "\t<tr><td>Asia      </td><td>1987      </td><td>64.85118  </td><td>2871220762</td></tr>\n",
       "\t<tr><td>Asia      </td><td>1992      </td><td>66.53721  </td><td>3133292191</td></tr>\n",
       "\t<tr><td>Asia      </td><td>1997      </td><td>68.02052  </td><td>3383285500</td></tr>\n",
       "\t<tr><td>Asia      </td><td>2002      </td><td>69.23388  </td><td>3601802203</td></tr>\n",
       "\t<tr><td>Asia      </td><td>2007      </td><td>70.72848  </td><td>3811953827</td></tr>\n",
       "\t<tr><td>Europe    </td><td>1952      </td><td>64.40850  </td><td> 418120846</td></tr>\n",
       "\t<tr><td>Europe    </td><td>1957      </td><td>66.70307  </td><td> 437890351</td></tr>\n",
       "\t<tr><td>Europe    </td><td>1962      </td><td>68.53923  </td><td> 460355155</td></tr>\n",
       "\t<tr><td>Europe    </td><td>1967      </td><td>69.73760  </td><td> 481178958</td></tr>\n",
       "\t<tr><td>Europe    </td><td>1972      </td><td>70.77503  </td><td> 500635059</td></tr>\n",
       "\t<tr><td>Europe    </td><td>1977      </td><td>71.93777  </td><td> 517164531</td></tr>\n",
       "\t<tr><td>Europe    </td><td>1982      </td><td>72.80640  </td><td> 531266901</td></tr>\n",
       "\t<tr><td>Europe    </td><td>1987      </td><td>73.64217  </td><td> 543094160</td></tr>\n",
       "\t<tr><td>Europe    </td><td>1992      </td><td>74.44010  </td><td> 558142797</td></tr>\n",
       "\t<tr><td>Europe    </td><td>1997      </td><td>75.50517  </td><td> 568944148</td></tr>\n",
       "\t<tr><td>Europe    </td><td>2002      </td><td>76.70060  </td><td> 578223869</td></tr>\n",
       "\t<tr><td>Europe    </td><td>2007      </td><td>77.64860  </td><td> 586098529</td></tr>\n",
       "\t<tr><td>Oceania   </td><td>1952      </td><td>69.25500  </td><td>  10686006</td></tr>\n",
       "\t<tr><td>Oceania   </td><td>1957      </td><td>70.29500  </td><td>  11941976</td></tr>\n",
       "\t<tr><td>Oceania   </td><td>1962      </td><td>71.08500  </td><td>  13283518</td></tr>\n",
       "\t<tr><td>Oceania   </td><td>1967      </td><td>71.31000  </td><td>  14600414</td></tr>\n",
       "\t<tr><td>Oceania   </td><td>1972      </td><td>71.91000  </td><td>  16106100</td></tr>\n",
       "\t<tr><td>Oceania   </td><td>1977      </td><td>72.85500  </td><td>  17239000</td></tr>\n",
       "\t<tr><td>Oceania   </td><td>1982      </td><td>74.29000  </td><td>  18394850</td></tr>\n",
       "\t<tr><td>Oceania   </td><td>1987      </td><td>75.32000  </td><td>  19574415</td></tr>\n",
       "\t<tr><td>Oceania   </td><td>1992      </td><td>76.94500  </td><td>  20919651</td></tr>\n",
       "\t<tr><td>Oceania   </td><td>1997      </td><td>78.19000  </td><td>  22241430</td></tr>\n",
       "\t<tr><td>Oceania   </td><td>2002      </td><td>79.74000  </td><td>  23454829</td></tr>\n",
       "\t<tr><td>Oceania   </td><td>2007      </td><td>80.71950  </td><td>  24549947</td></tr>\n",
       "</tbody>\n",
       "</table>\n"
      ],
      "text/latex": [
       "\\begin{tabular}{r|llll}\n",
       " continent & year & meanLifeExp & totalPop\\\\\n",
       "\\hline\n",
       "\t Africa     & 1952       & 39.13550   &  237640501\\\\\n",
       "\t Africa     & 1957       & 41.26635   &  264837738\\\\\n",
       "\t Africa     & 1962       & 43.31944   &  296516865\\\\\n",
       "\t Africa     & 1967       & 45.33454   &  335289489\\\\\n",
       "\t Africa     & 1972       & 47.45094   &  379879541\\\\\n",
       "\t Africa     & 1977       & 49.58042   &  433061021\\\\\n",
       "\t Africa     & 1982       & 51.59287   &  499348587\\\\\n",
       "\t Africa     & 1987       & 53.34479   &  574834110\\\\\n",
       "\t Africa     & 1992       & 53.62958   &  659081517\\\\\n",
       "\t Africa     & 1997       & 53.59827   &  743832984\\\\\n",
       "\t Africa     & 2002       & 53.32523   &  833723916\\\\\n",
       "\t Africa     & 2007       & 54.80604   &  929539692\\\\\n",
       "\t Americas   & 1952       & 53.27984   &  345152446\\\\\n",
       "\t Americas   & 1957       & 55.96028   &  386953916\\\\\n",
       "\t Americas   & 1962       & 58.39876   &  433270254\\\\\n",
       "\t Americas   & 1967       & 60.41092   &  480746623\\\\\n",
       "\t Americas   & 1972       & 62.39492   &  529384210\\\\\n",
       "\t Americas   & 1977       & 64.39156   &  578067699\\\\\n",
       "\t Americas   & 1982       & 66.22884   &  630290920\\\\\n",
       "\t Americas   & 1987       & 68.09072   &  682753971\\\\\n",
       "\t Americas   & 1992       & 69.56836   &  739274104\\\\\n",
       "\t Americas   & 1997       & 71.15048   &  796900410\\\\\n",
       "\t Americas   & 2002       & 72.42204   &  849772762\\\\\n",
       "\t Americas   & 2007       & 73.60812   &  898871184\\\\\n",
       "\t Asia       & 1952       & 46.31439   & 1395357351\\\\\n",
       "\t Asia       & 1957       & 49.31854   & 1562780599\\\\\n",
       "\t Asia       & 1962       & 51.56322   & 1696357182\\\\\n",
       "\t Asia       & 1967       & 54.66364   & 1905662900\\\\\n",
       "\t Asia       & 1972       & 57.31927   & 2150972248\\\\\n",
       "\t Asia       & 1977       & 59.61056   & 2384513556\\\\\n",
       "\t Asia       & 1982       & 62.61794   & 2610135582\\\\\n",
       "\t Asia       & 1987       & 64.85118   & 2871220762\\\\\n",
       "\t Asia       & 1992       & 66.53721   & 3133292191\\\\\n",
       "\t Asia       & 1997       & 68.02052   & 3383285500\\\\\n",
       "\t Asia       & 2002       & 69.23388   & 3601802203\\\\\n",
       "\t Asia       & 2007       & 70.72848   & 3811953827\\\\\n",
       "\t Europe     & 1952       & 64.40850   &  418120846\\\\\n",
       "\t Europe     & 1957       & 66.70307   &  437890351\\\\\n",
       "\t Europe     & 1962       & 68.53923   &  460355155\\\\\n",
       "\t Europe     & 1967       & 69.73760   &  481178958\\\\\n",
       "\t Europe     & 1972       & 70.77503   &  500635059\\\\\n",
       "\t Europe     & 1977       & 71.93777   &  517164531\\\\\n",
       "\t Europe     & 1982       & 72.80640   &  531266901\\\\\n",
       "\t Europe     & 1987       & 73.64217   &  543094160\\\\\n",
       "\t Europe     & 1992       & 74.44010   &  558142797\\\\\n",
       "\t Europe     & 1997       & 75.50517   &  568944148\\\\\n",
       "\t Europe     & 2002       & 76.70060   &  578223869\\\\\n",
       "\t Europe     & 2007       & 77.64860   &  586098529\\\\\n",
       "\t Oceania    & 1952       & 69.25500   &   10686006\\\\\n",
       "\t Oceania    & 1957       & 70.29500   &   11941976\\\\\n",
       "\t Oceania    & 1962       & 71.08500   &   13283518\\\\\n",
       "\t Oceania    & 1967       & 71.31000   &   14600414\\\\\n",
       "\t Oceania    & 1972       & 71.91000   &   16106100\\\\\n",
       "\t Oceania    & 1977       & 72.85500   &   17239000\\\\\n",
       "\t Oceania    & 1982       & 74.29000   &   18394850\\\\\n",
       "\t Oceania    & 1987       & 75.32000   &   19574415\\\\\n",
       "\t Oceania    & 1992       & 76.94500   &   20919651\\\\\n",
       "\t Oceania    & 1997       & 78.19000   &   22241430\\\\\n",
       "\t Oceania    & 2002       & 79.74000   &   23454829\\\\\n",
       "\t Oceania    & 2007       & 80.71950   &   24549947\\\\\n",
       "\\end{tabular}\n"
      ],
      "text/markdown": [
       "\n",
       "continent | year | meanLifeExp | totalPop | \n",
       "|---|---|---|---|---|---|---|---|---|---|---|---|---|---|---|---|---|---|---|---|---|---|---|---|---|---|---|---|---|---|---|---|---|---|---|---|---|---|---|---|---|---|---|---|---|---|---|---|---|---|---|---|---|---|---|---|---|---|---|---|\n",
       "| Africa     | 1952       | 39.13550   |  237640501 | \n",
       "| Africa     | 1957       | 41.26635   |  264837738 | \n",
       "| Africa     | 1962       | 43.31944   |  296516865 | \n",
       "| Africa     | 1967       | 45.33454   |  335289489 | \n",
       "| Africa     | 1972       | 47.45094   |  379879541 | \n",
       "| Africa     | 1977       | 49.58042   |  433061021 | \n",
       "| Africa     | 1982       | 51.59287   |  499348587 | \n",
       "| Africa     | 1987       | 53.34479   |  574834110 | \n",
       "| Africa     | 1992       | 53.62958   |  659081517 | \n",
       "| Africa     | 1997       | 53.59827   |  743832984 | \n",
       "| Africa     | 2002       | 53.32523   |  833723916 | \n",
       "| Africa     | 2007       | 54.80604   |  929539692 | \n",
       "| Americas   | 1952       | 53.27984   |  345152446 | \n",
       "| Americas   | 1957       | 55.96028   |  386953916 | \n",
       "| Americas   | 1962       | 58.39876   |  433270254 | \n",
       "| Americas   | 1967       | 60.41092   |  480746623 | \n",
       "| Americas   | 1972       | 62.39492   |  529384210 | \n",
       "| Americas   | 1977       | 64.39156   |  578067699 | \n",
       "| Americas   | 1982       | 66.22884   |  630290920 | \n",
       "| Americas   | 1987       | 68.09072   |  682753971 | \n",
       "| Americas   | 1992       | 69.56836   |  739274104 | \n",
       "| Americas   | 1997       | 71.15048   |  796900410 | \n",
       "| Americas   | 2002       | 72.42204   |  849772762 | \n",
       "| Americas   | 2007       | 73.60812   |  898871184 | \n",
       "| Asia       | 1952       | 46.31439   | 1395357351 | \n",
       "| Asia       | 1957       | 49.31854   | 1562780599 | \n",
       "| Asia       | 1962       | 51.56322   | 1696357182 | \n",
       "| Asia       | 1967       | 54.66364   | 1905662900 | \n",
       "| Asia       | 1972       | 57.31927   | 2150972248 | \n",
       "| Asia       | 1977       | 59.61056   | 2384513556 | \n",
       "| Asia       | 1982       | 62.61794   | 2610135582 | \n",
       "| Asia       | 1987       | 64.85118   | 2871220762 | \n",
       "| Asia       | 1992       | 66.53721   | 3133292191 | \n",
       "| Asia       | 1997       | 68.02052   | 3383285500 | \n",
       "| Asia       | 2002       | 69.23388   | 3601802203 | \n",
       "| Asia       | 2007       | 70.72848   | 3811953827 | \n",
       "| Europe     | 1952       | 64.40850   |  418120846 | \n",
       "| Europe     | 1957       | 66.70307   |  437890351 | \n",
       "| Europe     | 1962       | 68.53923   |  460355155 | \n",
       "| Europe     | 1967       | 69.73760   |  481178958 | \n",
       "| Europe     | 1972       | 70.77503   |  500635059 | \n",
       "| Europe     | 1977       | 71.93777   |  517164531 | \n",
       "| Europe     | 1982       | 72.80640   |  531266901 | \n",
       "| Europe     | 1987       | 73.64217   |  543094160 | \n",
       "| Europe     | 1992       | 74.44010   |  558142797 | \n",
       "| Europe     | 1997       | 75.50517   |  568944148 | \n",
       "| Europe     | 2002       | 76.70060   |  578223869 | \n",
       "| Europe     | 2007       | 77.64860   |  586098529 | \n",
       "| Oceania    | 1952       | 69.25500   |   10686006 | \n",
       "| Oceania    | 1957       | 70.29500   |   11941976 | \n",
       "| Oceania    | 1962       | 71.08500   |   13283518 | \n",
       "| Oceania    | 1967       | 71.31000   |   14600414 | \n",
       "| Oceania    | 1972       | 71.91000   |   16106100 | \n",
       "| Oceania    | 1977       | 72.85500   |   17239000 | \n",
       "| Oceania    | 1982       | 74.29000   |   18394850 | \n",
       "| Oceania    | 1987       | 75.32000   |   19574415 | \n",
       "| Oceania    | 1992       | 76.94500   |   20919651 | \n",
       "| Oceania    | 1997       | 78.19000   |   22241430 | \n",
       "| Oceania    | 2002       | 79.74000   |   23454829 | \n",
       "| Oceania    | 2007       | 80.71950   |   24549947 | \n",
       "\n",
       "\n"
      ],
      "text/plain": [
       "   continent year meanLifeExp totalPop  \n",
       "1  Africa    1952 39.13550     237640501\n",
       "2  Africa    1957 41.26635     264837738\n",
       "3  Africa    1962 43.31944     296516865\n",
       "4  Africa    1967 45.33454     335289489\n",
       "5  Africa    1972 47.45094     379879541\n",
       "6  Africa    1977 49.58042     433061021\n",
       "7  Africa    1982 51.59287     499348587\n",
       "8  Africa    1987 53.34479     574834110\n",
       "9  Africa    1992 53.62958     659081517\n",
       "10 Africa    1997 53.59827     743832984\n",
       "11 Africa    2002 53.32523     833723916\n",
       "12 Africa    2007 54.80604     929539692\n",
       "13 Americas  1952 53.27984     345152446\n",
       "14 Americas  1957 55.96028     386953916\n",
       "15 Americas  1962 58.39876     433270254\n",
       "16 Americas  1967 60.41092     480746623\n",
       "17 Americas  1972 62.39492     529384210\n",
       "18 Americas  1977 64.39156     578067699\n",
       "19 Americas  1982 66.22884     630290920\n",
       "20 Americas  1987 68.09072     682753971\n",
       "21 Americas  1992 69.56836     739274104\n",
       "22 Americas  1997 71.15048     796900410\n",
       "23 Americas  2002 72.42204     849772762\n",
       "24 Americas  2007 73.60812     898871184\n",
       "25 Asia      1952 46.31439    1395357351\n",
       "26 Asia      1957 49.31854    1562780599\n",
       "27 Asia      1962 51.56322    1696357182\n",
       "28 Asia      1967 54.66364    1905662900\n",
       "29 Asia      1972 57.31927    2150972248\n",
       "30 Asia      1977 59.61056    2384513556\n",
       "31 Asia      1982 62.61794    2610135582\n",
       "32 Asia      1987 64.85118    2871220762\n",
       "33 Asia      1992 66.53721    3133292191\n",
       "34 Asia      1997 68.02052    3383285500\n",
       "35 Asia      2002 69.23388    3601802203\n",
       "36 Asia      2007 70.72848    3811953827\n",
       "37 Europe    1952 64.40850     418120846\n",
       "38 Europe    1957 66.70307     437890351\n",
       "39 Europe    1962 68.53923     460355155\n",
       "40 Europe    1967 69.73760     481178958\n",
       "41 Europe    1972 70.77503     500635059\n",
       "42 Europe    1977 71.93777     517164531\n",
       "43 Europe    1982 72.80640     531266901\n",
       "44 Europe    1987 73.64217     543094160\n",
       "45 Europe    1992 74.44010     558142797\n",
       "46 Europe    1997 75.50517     568944148\n",
       "47 Europe    2002 76.70060     578223869\n",
       "48 Europe    2007 77.64860     586098529\n",
       "49 Oceania   1952 69.25500      10686006\n",
       "50 Oceania   1957 70.29500      11941976\n",
       "51 Oceania   1962 71.08500      13283518\n",
       "52 Oceania   1967 71.31000      14600414\n",
       "53 Oceania   1972 71.91000      16106100\n",
       "54 Oceania   1977 72.85500      17239000\n",
       "55 Oceania   1982 74.29000      18394850\n",
       "56 Oceania   1987 75.32000      19574415\n",
       "57 Oceania   1992 76.94500      20919651\n",
       "58 Oceania   1997 78.19000      22241430\n",
       "59 Oceania   2002 79.74000      23454829\n",
       "60 Oceania   2007 80.71950      24549947"
      ]
     },
     "metadata": {},
     "output_type": "display_data"
    }
   ],
   "source": [
    "gapminder %>%\n",
    "  group_by(continent, year) %>%\n",
    "  summarize(meanLifeExp = mean(lifeExp),\n",
    "            totalPop = sum(as.numeric(pop)))"
   ]
  },
  {
   "cell_type": "code",
   "execution_count": 51,
   "metadata": {},
   "outputs": [
    {
     "data": {
      "text/html": [
       "<table>\n",
       "<thead><tr><th scope=col>year</th><th scope=col>continent</th><th scope=col>meanLifeExp</th><th scope=col>totalPop</th></tr></thead>\n",
       "<tbody>\n",
       "\t<tr><td>1952      </td><td>Africa    </td><td>39.13550  </td><td> 237640501</td></tr>\n",
       "\t<tr><td>1952      </td><td>Americas  </td><td>53.27984  </td><td> 345152446</td></tr>\n",
       "\t<tr><td>1952      </td><td>Asia      </td><td>46.31439  </td><td>1395357351</td></tr>\n",
       "\t<tr><td>1952      </td><td>Europe    </td><td>64.40850  </td><td> 418120846</td></tr>\n",
       "\t<tr><td>1952      </td><td>Oceania   </td><td>69.25500  </td><td>  10686006</td></tr>\n",
       "\t<tr><td>1957      </td><td>Africa    </td><td>41.26635  </td><td> 264837738</td></tr>\n",
       "\t<tr><td>1957      </td><td>Americas  </td><td>55.96028  </td><td> 386953916</td></tr>\n",
       "\t<tr><td>1957      </td><td>Asia      </td><td>49.31854  </td><td>1562780599</td></tr>\n",
       "\t<tr><td>1957      </td><td>Europe    </td><td>66.70307  </td><td> 437890351</td></tr>\n",
       "\t<tr><td>1957      </td><td>Oceania   </td><td>70.29500  </td><td>  11941976</td></tr>\n",
       "\t<tr><td>1962      </td><td>Africa    </td><td>43.31944  </td><td> 296516865</td></tr>\n",
       "\t<tr><td>1962      </td><td>Americas  </td><td>58.39876  </td><td> 433270254</td></tr>\n",
       "\t<tr><td>1962      </td><td>Asia      </td><td>51.56322  </td><td>1696357182</td></tr>\n",
       "\t<tr><td>1962      </td><td>Europe    </td><td>68.53923  </td><td> 460355155</td></tr>\n",
       "\t<tr><td>1962      </td><td>Oceania   </td><td>71.08500  </td><td>  13283518</td></tr>\n",
       "\t<tr><td>1967      </td><td>Africa    </td><td>45.33454  </td><td> 335289489</td></tr>\n",
       "\t<tr><td>1967      </td><td>Americas  </td><td>60.41092  </td><td> 480746623</td></tr>\n",
       "\t<tr><td>1967      </td><td>Asia      </td><td>54.66364  </td><td>1905662900</td></tr>\n",
       "\t<tr><td>1967      </td><td>Europe    </td><td>69.73760  </td><td> 481178958</td></tr>\n",
       "\t<tr><td>1967      </td><td>Oceania   </td><td>71.31000  </td><td>  14600414</td></tr>\n",
       "\t<tr><td>1972      </td><td>Africa    </td><td>47.45094  </td><td> 379879541</td></tr>\n",
       "\t<tr><td>1972      </td><td>Americas  </td><td>62.39492  </td><td> 529384210</td></tr>\n",
       "\t<tr><td>1972      </td><td>Asia      </td><td>57.31927  </td><td>2150972248</td></tr>\n",
       "\t<tr><td>1972      </td><td>Europe    </td><td>70.77503  </td><td> 500635059</td></tr>\n",
       "\t<tr><td>1972      </td><td>Oceania   </td><td>71.91000  </td><td>  16106100</td></tr>\n",
       "\t<tr><td>1977      </td><td>Africa    </td><td>49.58042  </td><td> 433061021</td></tr>\n",
       "\t<tr><td>1977      </td><td>Americas  </td><td>64.39156  </td><td> 578067699</td></tr>\n",
       "\t<tr><td>1977      </td><td>Asia      </td><td>59.61056  </td><td>2384513556</td></tr>\n",
       "\t<tr><td>1977      </td><td>Europe    </td><td>71.93777  </td><td> 517164531</td></tr>\n",
       "\t<tr><td>1977      </td><td>Oceania   </td><td>72.85500  </td><td>  17239000</td></tr>\n",
       "\t<tr><td>1982      </td><td>Africa    </td><td>51.59287  </td><td> 499348587</td></tr>\n",
       "\t<tr><td>1982      </td><td>Americas  </td><td>66.22884  </td><td> 630290920</td></tr>\n",
       "\t<tr><td>1982      </td><td>Asia      </td><td>62.61794  </td><td>2610135582</td></tr>\n",
       "\t<tr><td>1982      </td><td>Europe    </td><td>72.80640  </td><td> 531266901</td></tr>\n",
       "\t<tr><td>1982      </td><td>Oceania   </td><td>74.29000  </td><td>  18394850</td></tr>\n",
       "\t<tr><td>1987      </td><td>Africa    </td><td>53.34479  </td><td> 574834110</td></tr>\n",
       "\t<tr><td>1987      </td><td>Americas  </td><td>68.09072  </td><td> 682753971</td></tr>\n",
       "\t<tr><td>1987      </td><td>Asia      </td><td>64.85118  </td><td>2871220762</td></tr>\n",
       "\t<tr><td>1987      </td><td>Europe    </td><td>73.64217  </td><td> 543094160</td></tr>\n",
       "\t<tr><td>1987      </td><td>Oceania   </td><td>75.32000  </td><td>  19574415</td></tr>\n",
       "\t<tr><td>1992      </td><td>Africa    </td><td>53.62958  </td><td> 659081517</td></tr>\n",
       "\t<tr><td>1992      </td><td>Americas  </td><td>69.56836  </td><td> 739274104</td></tr>\n",
       "\t<tr><td>1992      </td><td>Asia      </td><td>66.53721  </td><td>3133292191</td></tr>\n",
       "\t<tr><td>1992      </td><td>Europe    </td><td>74.44010  </td><td> 558142797</td></tr>\n",
       "\t<tr><td>1992      </td><td>Oceania   </td><td>76.94500  </td><td>  20919651</td></tr>\n",
       "\t<tr><td>1997      </td><td>Africa    </td><td>53.59827  </td><td> 743832984</td></tr>\n",
       "\t<tr><td>1997      </td><td>Americas  </td><td>71.15048  </td><td> 796900410</td></tr>\n",
       "\t<tr><td>1997      </td><td>Asia      </td><td>68.02052  </td><td>3383285500</td></tr>\n",
       "\t<tr><td>1997      </td><td>Europe    </td><td>75.50517  </td><td> 568944148</td></tr>\n",
       "\t<tr><td>1997      </td><td>Oceania   </td><td>78.19000  </td><td>  22241430</td></tr>\n",
       "\t<tr><td>2002      </td><td>Africa    </td><td>53.32523  </td><td> 833723916</td></tr>\n",
       "\t<tr><td>2002      </td><td>Americas  </td><td>72.42204  </td><td> 849772762</td></tr>\n",
       "\t<tr><td>2002      </td><td>Asia      </td><td>69.23388  </td><td>3601802203</td></tr>\n",
       "\t<tr><td>2002      </td><td>Europe    </td><td>76.70060  </td><td> 578223869</td></tr>\n",
       "\t<tr><td>2002      </td><td>Oceania   </td><td>79.74000  </td><td>  23454829</td></tr>\n",
       "\t<tr><td>2007      </td><td>Africa    </td><td>54.80604  </td><td> 929539692</td></tr>\n",
       "\t<tr><td>2007      </td><td>Americas  </td><td>73.60812  </td><td> 898871184</td></tr>\n",
       "\t<tr><td>2007      </td><td>Asia      </td><td>70.72848  </td><td>3811953827</td></tr>\n",
       "\t<tr><td>2007      </td><td>Europe    </td><td>77.64860  </td><td> 586098529</td></tr>\n",
       "\t<tr><td>2007      </td><td>Oceania   </td><td>80.71950  </td><td>  24549947</td></tr>\n",
       "</tbody>\n",
       "</table>\n"
      ],
      "text/latex": [
       "\\begin{tabular}{r|llll}\n",
       " year & continent & meanLifeExp & totalPop\\\\\n",
       "\\hline\n",
       "\t 1952       & Africa     & 39.13550   &  237640501\\\\\n",
       "\t 1952       & Americas   & 53.27984   &  345152446\\\\\n",
       "\t 1952       & Asia       & 46.31439   & 1395357351\\\\\n",
       "\t 1952       & Europe     & 64.40850   &  418120846\\\\\n",
       "\t 1952       & Oceania    & 69.25500   &   10686006\\\\\n",
       "\t 1957       & Africa     & 41.26635   &  264837738\\\\\n",
       "\t 1957       & Americas   & 55.96028   &  386953916\\\\\n",
       "\t 1957       & Asia       & 49.31854   & 1562780599\\\\\n",
       "\t 1957       & Europe     & 66.70307   &  437890351\\\\\n",
       "\t 1957       & Oceania    & 70.29500   &   11941976\\\\\n",
       "\t 1962       & Africa     & 43.31944   &  296516865\\\\\n",
       "\t 1962       & Americas   & 58.39876   &  433270254\\\\\n",
       "\t 1962       & Asia       & 51.56322   & 1696357182\\\\\n",
       "\t 1962       & Europe     & 68.53923   &  460355155\\\\\n",
       "\t 1962       & Oceania    & 71.08500   &   13283518\\\\\n",
       "\t 1967       & Africa     & 45.33454   &  335289489\\\\\n",
       "\t 1967       & Americas   & 60.41092   &  480746623\\\\\n",
       "\t 1967       & Asia       & 54.66364   & 1905662900\\\\\n",
       "\t 1967       & Europe     & 69.73760   &  481178958\\\\\n",
       "\t 1967       & Oceania    & 71.31000   &   14600414\\\\\n",
       "\t 1972       & Africa     & 47.45094   &  379879541\\\\\n",
       "\t 1972       & Americas   & 62.39492   &  529384210\\\\\n",
       "\t 1972       & Asia       & 57.31927   & 2150972248\\\\\n",
       "\t 1972       & Europe     & 70.77503   &  500635059\\\\\n",
       "\t 1972       & Oceania    & 71.91000   &   16106100\\\\\n",
       "\t 1977       & Africa     & 49.58042   &  433061021\\\\\n",
       "\t 1977       & Americas   & 64.39156   &  578067699\\\\\n",
       "\t 1977       & Asia       & 59.61056   & 2384513556\\\\\n",
       "\t 1977       & Europe     & 71.93777   &  517164531\\\\\n",
       "\t 1977       & Oceania    & 72.85500   &   17239000\\\\\n",
       "\t 1982       & Africa     & 51.59287   &  499348587\\\\\n",
       "\t 1982       & Americas   & 66.22884   &  630290920\\\\\n",
       "\t 1982       & Asia       & 62.61794   & 2610135582\\\\\n",
       "\t 1982       & Europe     & 72.80640   &  531266901\\\\\n",
       "\t 1982       & Oceania    & 74.29000   &   18394850\\\\\n",
       "\t 1987       & Africa     & 53.34479   &  574834110\\\\\n",
       "\t 1987       & Americas   & 68.09072   &  682753971\\\\\n",
       "\t 1987       & Asia       & 64.85118   & 2871220762\\\\\n",
       "\t 1987       & Europe     & 73.64217   &  543094160\\\\\n",
       "\t 1987       & Oceania    & 75.32000   &   19574415\\\\\n",
       "\t 1992       & Africa     & 53.62958   &  659081517\\\\\n",
       "\t 1992       & Americas   & 69.56836   &  739274104\\\\\n",
       "\t 1992       & Asia       & 66.53721   & 3133292191\\\\\n",
       "\t 1992       & Europe     & 74.44010   &  558142797\\\\\n",
       "\t 1992       & Oceania    & 76.94500   &   20919651\\\\\n",
       "\t 1997       & Africa     & 53.59827   &  743832984\\\\\n",
       "\t 1997       & Americas   & 71.15048   &  796900410\\\\\n",
       "\t 1997       & Asia       & 68.02052   & 3383285500\\\\\n",
       "\t 1997       & Europe     & 75.50517   &  568944148\\\\\n",
       "\t 1997       & Oceania    & 78.19000   &   22241430\\\\\n",
       "\t 2002       & Africa     & 53.32523   &  833723916\\\\\n",
       "\t 2002       & Americas   & 72.42204   &  849772762\\\\\n",
       "\t 2002       & Asia       & 69.23388   & 3601802203\\\\\n",
       "\t 2002       & Europe     & 76.70060   &  578223869\\\\\n",
       "\t 2002       & Oceania    & 79.74000   &   23454829\\\\\n",
       "\t 2007       & Africa     & 54.80604   &  929539692\\\\\n",
       "\t 2007       & Americas   & 73.60812   &  898871184\\\\\n",
       "\t 2007       & Asia       & 70.72848   & 3811953827\\\\\n",
       "\t 2007       & Europe     & 77.64860   &  586098529\\\\\n",
       "\t 2007       & Oceania    & 80.71950   &   24549947\\\\\n",
       "\\end{tabular}\n"
      ],
      "text/markdown": [
       "\n",
       "year | continent | meanLifeExp | totalPop | \n",
       "|---|---|---|---|---|---|---|---|---|---|---|---|---|---|---|---|---|---|---|---|---|---|---|---|---|---|---|---|---|---|---|---|---|---|---|---|---|---|---|---|---|---|---|---|---|---|---|---|---|---|---|---|---|---|---|---|---|---|---|---|\n",
       "| 1952       | Africa     | 39.13550   |  237640501 | \n",
       "| 1952       | Americas   | 53.27984   |  345152446 | \n",
       "| 1952       | Asia       | 46.31439   | 1395357351 | \n",
       "| 1952       | Europe     | 64.40850   |  418120846 | \n",
       "| 1952       | Oceania    | 69.25500   |   10686006 | \n",
       "| 1957       | Africa     | 41.26635   |  264837738 | \n",
       "| 1957       | Americas   | 55.96028   |  386953916 | \n",
       "| 1957       | Asia       | 49.31854   | 1562780599 | \n",
       "| 1957       | Europe     | 66.70307   |  437890351 | \n",
       "| 1957       | Oceania    | 70.29500   |   11941976 | \n",
       "| 1962       | Africa     | 43.31944   |  296516865 | \n",
       "| 1962       | Americas   | 58.39876   |  433270254 | \n",
       "| 1962       | Asia       | 51.56322   | 1696357182 | \n",
       "| 1962       | Europe     | 68.53923   |  460355155 | \n",
       "| 1962       | Oceania    | 71.08500   |   13283518 | \n",
       "| 1967       | Africa     | 45.33454   |  335289489 | \n",
       "| 1967       | Americas   | 60.41092   |  480746623 | \n",
       "| 1967       | Asia       | 54.66364   | 1905662900 | \n",
       "| 1967       | Europe     | 69.73760   |  481178958 | \n",
       "| 1967       | Oceania    | 71.31000   |   14600414 | \n",
       "| 1972       | Africa     | 47.45094   |  379879541 | \n",
       "| 1972       | Americas   | 62.39492   |  529384210 | \n",
       "| 1972       | Asia       | 57.31927   | 2150972248 | \n",
       "| 1972       | Europe     | 70.77503   |  500635059 | \n",
       "| 1972       | Oceania    | 71.91000   |   16106100 | \n",
       "| 1977       | Africa     | 49.58042   |  433061021 | \n",
       "| 1977       | Americas   | 64.39156   |  578067699 | \n",
       "| 1977       | Asia       | 59.61056   | 2384513556 | \n",
       "| 1977       | Europe     | 71.93777   |  517164531 | \n",
       "| 1977       | Oceania    | 72.85500   |   17239000 | \n",
       "| 1982       | Africa     | 51.59287   |  499348587 | \n",
       "| 1982       | Americas   | 66.22884   |  630290920 | \n",
       "| 1982       | Asia       | 62.61794   | 2610135582 | \n",
       "| 1982       | Europe     | 72.80640   |  531266901 | \n",
       "| 1982       | Oceania    | 74.29000   |   18394850 | \n",
       "| 1987       | Africa     | 53.34479   |  574834110 | \n",
       "| 1987       | Americas   | 68.09072   |  682753971 | \n",
       "| 1987       | Asia       | 64.85118   | 2871220762 | \n",
       "| 1987       | Europe     | 73.64217   |  543094160 | \n",
       "| 1987       | Oceania    | 75.32000   |   19574415 | \n",
       "| 1992       | Africa     | 53.62958   |  659081517 | \n",
       "| 1992       | Americas   | 69.56836   |  739274104 | \n",
       "| 1992       | Asia       | 66.53721   | 3133292191 | \n",
       "| 1992       | Europe     | 74.44010   |  558142797 | \n",
       "| 1992       | Oceania    | 76.94500   |   20919651 | \n",
       "| 1997       | Africa     | 53.59827   |  743832984 | \n",
       "| 1997       | Americas   | 71.15048   |  796900410 | \n",
       "| 1997       | Asia       | 68.02052   | 3383285500 | \n",
       "| 1997       | Europe     | 75.50517   |  568944148 | \n",
       "| 1997       | Oceania    | 78.19000   |   22241430 | \n",
       "| 2002       | Africa     | 53.32523   |  833723916 | \n",
       "| 2002       | Americas   | 72.42204   |  849772762 | \n",
       "| 2002       | Asia       | 69.23388   | 3601802203 | \n",
       "| 2002       | Europe     | 76.70060   |  578223869 | \n",
       "| 2002       | Oceania    | 79.74000   |   23454829 | \n",
       "| 2007       | Africa     | 54.80604   |  929539692 | \n",
       "| 2007       | Americas   | 73.60812   |  898871184 | \n",
       "| 2007       | Asia       | 70.72848   | 3811953827 | \n",
       "| 2007       | Europe     | 77.64860   |  586098529 | \n",
       "| 2007       | Oceania    | 80.71950   |   24549947 | \n",
       "\n",
       "\n"
      ],
      "text/plain": [
       "   year continent meanLifeExp totalPop  \n",
       "1  1952 Africa    39.13550     237640501\n",
       "2  1952 Americas  53.27984     345152446\n",
       "3  1952 Asia      46.31439    1395357351\n",
       "4  1952 Europe    64.40850     418120846\n",
       "5  1952 Oceania   69.25500      10686006\n",
       "6  1957 Africa    41.26635     264837738\n",
       "7  1957 Americas  55.96028     386953916\n",
       "8  1957 Asia      49.31854    1562780599\n",
       "9  1957 Europe    66.70307     437890351\n",
       "10 1957 Oceania   70.29500      11941976\n",
       "11 1962 Africa    43.31944     296516865\n",
       "12 1962 Americas  58.39876     433270254\n",
       "13 1962 Asia      51.56322    1696357182\n",
       "14 1962 Europe    68.53923     460355155\n",
       "15 1962 Oceania   71.08500      13283518\n",
       "16 1967 Africa    45.33454     335289489\n",
       "17 1967 Americas  60.41092     480746623\n",
       "18 1967 Asia      54.66364    1905662900\n",
       "19 1967 Europe    69.73760     481178958\n",
       "20 1967 Oceania   71.31000      14600414\n",
       "21 1972 Africa    47.45094     379879541\n",
       "22 1972 Americas  62.39492     529384210\n",
       "23 1972 Asia      57.31927    2150972248\n",
       "24 1972 Europe    70.77503     500635059\n",
       "25 1972 Oceania   71.91000      16106100\n",
       "26 1977 Africa    49.58042     433061021\n",
       "27 1977 Americas  64.39156     578067699\n",
       "28 1977 Asia      59.61056    2384513556\n",
       "29 1977 Europe    71.93777     517164531\n",
       "30 1977 Oceania   72.85500      17239000\n",
       "31 1982 Africa    51.59287     499348587\n",
       "32 1982 Americas  66.22884     630290920\n",
       "33 1982 Asia      62.61794    2610135582\n",
       "34 1982 Europe    72.80640     531266901\n",
       "35 1982 Oceania   74.29000      18394850\n",
       "36 1987 Africa    53.34479     574834110\n",
       "37 1987 Americas  68.09072     682753971\n",
       "38 1987 Asia      64.85118    2871220762\n",
       "39 1987 Europe    73.64217     543094160\n",
       "40 1987 Oceania   75.32000      19574415\n",
       "41 1992 Africa    53.62958     659081517\n",
       "42 1992 Americas  69.56836     739274104\n",
       "43 1992 Asia      66.53721    3133292191\n",
       "44 1992 Europe    74.44010     558142797\n",
       "45 1992 Oceania   76.94500      20919651\n",
       "46 1997 Africa    53.59827     743832984\n",
       "47 1997 Americas  71.15048     796900410\n",
       "48 1997 Asia      68.02052    3383285500\n",
       "49 1997 Europe    75.50517     568944148\n",
       "50 1997 Oceania   78.19000      22241430\n",
       "51 2002 Africa    53.32523     833723916\n",
       "52 2002 Americas  72.42204     849772762\n",
       "53 2002 Asia      69.23388    3601802203\n",
       "54 2002 Europe    76.70060     578223869\n",
       "55 2002 Oceania   79.74000      23454829\n",
       "56 2007 Africa    54.80604     929539692\n",
       "57 2007 Americas  73.60812     898871184\n",
       "58 2007 Asia      70.72848    3811953827\n",
       "59 2007 Europe    77.64860     586098529\n",
       "60 2007 Oceania   80.71950      24549947"
      ]
     },
     "metadata": {},
     "output_type": "display_data"
    }
   ],
   "source": [
    "gapminder %>%\n",
    "  group_by(year, continent) %>%\n",
    "  summarize(meanLifeExp = mean(lifeExp),\n",
    "            totalPop = sum(as.numeric(pop)))"
   ]
  },
  {
   "cell_type": "code",
   "execution_count": 52,
   "metadata": {},
   "outputs": [
    {
     "data": {
      "text/html": [
       "<table>\n",
       "<thead><tr><th scope=col>year</th><th scope=col>continent</th><th scope=col>meanLifeExp</th><th scope=col>totalPop</th></tr></thead>\n",
       "<tbody>\n",
       "\t<tr><td>1952      </td><td>Africa    </td><td>39.13550  </td><td> 237640501</td></tr>\n",
       "\t<tr><td>1952      </td><td>Americas  </td><td>53.27984  </td><td> 345152446</td></tr>\n",
       "\t<tr><td>1952      </td><td>Asia      </td><td>46.31439  </td><td>1395357351</td></tr>\n",
       "\t<tr><td>1952      </td><td>Europe    </td><td>64.40850  </td><td> 418120846</td></tr>\n",
       "\t<tr><td>1952      </td><td>Oceania   </td><td>69.25500  </td><td>  10686006</td></tr>\n",
       "</tbody>\n",
       "</table>\n"
      ],
      "text/latex": [
       "\\begin{tabular}{r|llll}\n",
       " year & continent & meanLifeExp & totalPop\\\\\n",
       "\\hline\n",
       "\t 1952       & Africa     & 39.13550   &  237640501\\\\\n",
       "\t 1952       & Americas   & 53.27984   &  345152446\\\\\n",
       "\t 1952       & Asia       & 46.31439   & 1395357351\\\\\n",
       "\t 1952       & Europe     & 64.40850   &  418120846\\\\\n",
       "\t 1952       & Oceania    & 69.25500   &   10686006\\\\\n",
       "\\end{tabular}\n"
      ],
      "text/markdown": [
       "\n",
       "year | continent | meanLifeExp | totalPop | \n",
       "|---|---|---|---|---|\n",
       "| 1952       | Africa     | 39.13550   |  237640501 | \n",
       "| 1952       | Americas   | 53.27984   |  345152446 | \n",
       "| 1952       | Asia       | 46.31439   | 1395357351 | \n",
       "| 1952       | Europe     | 64.40850   |  418120846 | \n",
       "| 1952       | Oceania    | 69.25500   |   10686006 | \n",
       "\n",
       "\n"
      ],
      "text/plain": [
       "  year continent meanLifeExp totalPop  \n",
       "1 1952 Africa    39.13550     237640501\n",
       "2 1952 Americas  53.27984     345152446\n",
       "3 1952 Asia      46.31439    1395357351\n",
       "4 1952 Europe    64.40850     418120846\n",
       "5 1952 Oceania   69.25500      10686006"
      ]
     },
     "metadata": {},
     "output_type": "display_data"
    }
   ],
   "source": [
    "gapminder %>%\n",
    "  group_by(year, continent) %>%\n",
    "  summarize(meanLifeExp = mean(lifeExp),\n",
    "            totalPop = sum(as.numeric(pop))) %>% filter(year == 1952)"
   ]
  },
  {
   "cell_type": "code",
   "execution_count": 53,
   "metadata": {},
   "outputs": [
    {
     "data": {
      "text/html": [
       "<table>\n",
       "<thead><tr><th scope=col>continent</th><th scope=col>medianLifeExp</th><th scope=col>maxGdpPercap</th></tr></thead>\n",
       "<tbody>\n",
       "\t<tr><td>Africa    </td><td>40.5925   </td><td>  5487.104</td></tr>\n",
       "\t<tr><td>Americas  </td><td>56.0740   </td><td> 14847.127</td></tr>\n",
       "\t<tr><td>Asia      </td><td>48.2840   </td><td>113523.133</td></tr>\n",
       "\t<tr><td>Europe    </td><td>67.6500   </td><td> 17909.490</td></tr>\n",
       "\t<tr><td>Oceania   </td><td>70.2950   </td><td> 12247.395</td></tr>\n",
       "</tbody>\n",
       "</table>\n"
      ],
      "text/latex": [
       "\\begin{tabular}{r|lll}\n",
       " continent & medianLifeExp & maxGdpPercap\\\\\n",
       "\\hline\n",
       "\t Africa     & 40.5925    &   5487.104\\\\\n",
       "\t Americas   & 56.0740    &  14847.127\\\\\n",
       "\t Asia       & 48.2840    & 113523.133\\\\\n",
       "\t Europe     & 67.6500    &  17909.490\\\\\n",
       "\t Oceania    & 70.2950    &  12247.395\\\\\n",
       "\\end{tabular}\n"
      ],
      "text/markdown": [
       "\n",
       "continent | medianLifeExp | maxGdpPercap | \n",
       "|---|---|---|---|---|\n",
       "| Africa     | 40.5925    |   5487.104 | \n",
       "| Americas   | 56.0740    |  14847.127 | \n",
       "| Asia       | 48.2840    | 113523.133 | \n",
       "| Europe     | 67.6500    |  17909.490 | \n",
       "| Oceania    | 70.2950    |  12247.395 | \n",
       "\n",
       "\n"
      ],
      "text/plain": [
       "  continent medianLifeExp maxGdpPercap\n",
       "1 Africa    40.5925         5487.104  \n",
       "2 Americas  56.0740        14847.127  \n",
       "3 Asia      48.2840       113523.133  \n",
       "4 Europe    67.6500        17909.490  \n",
       "5 Oceania   70.2950        12247.395  "
      ]
     },
     "metadata": {},
     "output_type": "display_data"
    }
   ],
   "source": [
    "gapminder %>% filter(year == 1957) %>% group_by(continent) %>% summarize(\n",
    "medianLifeExp = median(lifeExp), maxGdpPercap = max(gdpPercap))"
   ]
  },
  {
   "cell_type": "code",
   "execution_count": 55,
   "metadata": {},
   "outputs": [
    {
     "data": {
      "text/html": [
       "<table>\n",
       "<thead><tr><th scope=col>year</th><th scope=col>totalPop</th><th scope=col>meanLifeExp</th></tr></thead>\n",
       "<tbody>\n",
       "\t<tr><td>1952      </td><td>2406957150</td><td>49.05762  </td></tr>\n",
       "\t<tr><td>1957      </td><td>2664404580</td><td>51.50740  </td></tr>\n",
       "\t<tr><td>1962      </td><td>2899782974</td><td>53.60925  </td></tr>\n",
       "\t<tr><td>1967      </td><td>3217478384</td><td>55.67829  </td></tr>\n",
       "\t<tr><td>1972      </td><td>3576977158</td><td>57.64739  </td></tr>\n",
       "\t<tr><td>1977      </td><td>3930045807</td><td>59.57016  </td></tr>\n",
       "\t<tr><td>1982      </td><td>4289436840</td><td>61.53320  </td></tr>\n",
       "\t<tr><td>1987      </td><td>4691477418</td><td>63.21261  </td></tr>\n",
       "\t<tr><td>1992      </td><td>5110710260</td><td>64.16034  </td></tr>\n",
       "\t<tr><td>1997      </td><td>5515204472</td><td>65.01468  </td></tr>\n",
       "\t<tr><td>2002      </td><td>5886977579</td><td>65.69492  </td></tr>\n",
       "\t<tr><td>2007      </td><td>6251013179</td><td>67.00742  </td></tr>\n",
       "</tbody>\n",
       "</table>\n"
      ],
      "text/latex": [
       "\\begin{tabular}{r|lll}\n",
       " year & totalPop & meanLifeExp\\\\\n",
       "\\hline\n",
       "\t 1952       & 2406957150 & 49.05762  \\\\\n",
       "\t 1957       & 2664404580 & 51.50740  \\\\\n",
       "\t 1962       & 2899782974 & 53.60925  \\\\\n",
       "\t 1967       & 3217478384 & 55.67829  \\\\\n",
       "\t 1972       & 3576977158 & 57.64739  \\\\\n",
       "\t 1977       & 3930045807 & 59.57016  \\\\\n",
       "\t 1982       & 4289436840 & 61.53320  \\\\\n",
       "\t 1987       & 4691477418 & 63.21261  \\\\\n",
       "\t 1992       & 5110710260 & 64.16034  \\\\\n",
       "\t 1997       & 5515204472 & 65.01468  \\\\\n",
       "\t 2002       & 5886977579 & 65.69492  \\\\\n",
       "\t 2007       & 6251013179 & 67.00742  \\\\\n",
       "\\end{tabular}\n"
      ],
      "text/markdown": [
       "\n",
       "year | totalPop | meanLifeExp | \n",
       "|---|---|---|---|---|---|---|---|---|---|---|---|\n",
       "| 1952       | 2406957150 | 49.05762   | \n",
       "| 1957       | 2664404580 | 51.50740   | \n",
       "| 1962       | 2899782974 | 53.60925   | \n",
       "| 1967       | 3217478384 | 55.67829   | \n",
       "| 1972       | 3576977158 | 57.64739   | \n",
       "| 1977       | 3930045807 | 59.57016   | \n",
       "| 1982       | 4289436840 | 61.53320   | \n",
       "| 1987       | 4691477418 | 63.21261   | \n",
       "| 1992       | 5110710260 | 64.16034   | \n",
       "| 1997       | 5515204472 | 65.01468   | \n",
       "| 2002       | 5886977579 | 65.69492   | \n",
       "| 2007       | 6251013179 | 67.00742   | \n",
       "\n",
       "\n"
      ],
      "text/plain": [
       "   year totalPop   meanLifeExp\n",
       "1  1952 2406957150 49.05762   \n",
       "2  1957 2664404580 51.50740   \n",
       "3  1962 2899782974 53.60925   \n",
       "4  1967 3217478384 55.67829   \n",
       "5  1972 3576977158 57.64739   \n",
       "6  1977 3930045807 59.57016   \n",
       "7  1982 4289436840 61.53320   \n",
       "8  1987 4691477418 63.21261   \n",
       "9  1992 5110710260 64.16034   \n",
       "10 1997 5515204472 65.01468   \n",
       "11 2002 5886977579 65.69492   \n",
       "12 2007 6251013179 67.00742   "
      ]
     },
     "metadata": {},
     "output_type": "display_data"
    }
   ],
   "source": [
    "by_year <- gapminder %>%\n",
    "  group_by(year) %>%\n",
    "  summarize(totalPop = sum(as.numeric(pop)),\n",
    "            meanLifeExp = mean(lifeExp))\n",
    "\n",
    "by_year"
   ]
  },
  {
   "cell_type": "code",
   "execution_count": 58,
   "metadata": {},
   "outputs": [
    {
     "data": {},
     "metadata": {},
     "output_type": "display_data"
    },
    {
     "data": {
      "image/png": "[encoded data removed]",
      "text/plain": [
       "plot without title"
      ]
     },
     "metadata": {},
     "output_type": "display_data"
    }
   ],
   "source": [
    "ggplot(by_year, aes(x = year, y = totalPop)) + geom_point() + expand_limits(y = 0)"
   ]
  },
  {
   "cell_type": "code",
   "execution_count": 57,
   "metadata": {},
   "outputs": [
    {
     "data": {},
     "metadata": {},
     "output_type": "display_data"
    },
    {
     "data": {
      "image/png": "[encoded data removed]",
      "text/plain": [
       "plot without title"
      ]
     },
     "metadata": {},
     "output_type": "display_data"
    }
   ],
   "source": [
    "ggplot(by_year, aes(x = year, y = meanLifeExp)) + geom_point()"
   ]
  },
  {
   "cell_type": "code",
   "execution_count": 71,
   "metadata": {},
   "outputs": [
    {
     "data": {
      "text/html": [
       "<table>\n",
       "<thead><tr><th scope=col>year</th><th scope=col>continent</th><th scope=col>totalPop</th><th scope=col>meanLifeExp</th></tr></thead>\n",
       "<tbody>\n",
       "\t<tr><td>1952      </td><td>Africa    </td><td> 237640501</td><td>39.13550  </td></tr>\n",
       "\t<tr><td>1952      </td><td>Americas  </td><td> 345152446</td><td>53.27984  </td></tr>\n",
       "\t<tr><td>1952      </td><td>Asia      </td><td>1395357351</td><td>46.31439  </td></tr>\n",
       "\t<tr><td>1952      </td><td>Europe    </td><td> 418120846</td><td>64.40850  </td></tr>\n",
       "\t<tr><td>1952      </td><td>Oceania   </td><td>  10686006</td><td>69.25500  </td></tr>\n",
       "\t<tr><td>1957      </td><td>Africa    </td><td> 264837738</td><td>41.26635  </td></tr>\n",
       "\t<tr><td>1957      </td><td>Americas  </td><td> 386953916</td><td>55.96028  </td></tr>\n",
       "\t<tr><td>1957      </td><td>Asia      </td><td>1562780599</td><td>49.31854  </td></tr>\n",
       "\t<tr><td>1957      </td><td>Europe    </td><td> 437890351</td><td>66.70307  </td></tr>\n",
       "\t<tr><td>1957      </td><td>Oceania   </td><td>  11941976</td><td>70.29500  </td></tr>\n",
       "\t<tr><td>1962      </td><td>Africa    </td><td> 296516865</td><td>43.31944  </td></tr>\n",
       "\t<tr><td>1962      </td><td>Americas  </td><td> 433270254</td><td>58.39876  </td></tr>\n",
       "\t<tr><td>1962      </td><td>Asia      </td><td>1696357182</td><td>51.56322  </td></tr>\n",
       "\t<tr><td>1962      </td><td>Europe    </td><td> 460355155</td><td>68.53923  </td></tr>\n",
       "\t<tr><td>1962      </td><td>Oceania   </td><td>  13283518</td><td>71.08500  </td></tr>\n",
       "\t<tr><td>1967      </td><td>Africa    </td><td> 335289489</td><td>45.33454  </td></tr>\n",
       "\t<tr><td>1967      </td><td>Americas  </td><td> 480746623</td><td>60.41092  </td></tr>\n",
       "\t<tr><td>1967      </td><td>Asia      </td><td>1905662900</td><td>54.66364  </td></tr>\n",
       "\t<tr><td>1967      </td><td>Europe    </td><td> 481178958</td><td>69.73760  </td></tr>\n",
       "\t<tr><td>1967      </td><td>Oceania   </td><td>  14600414</td><td>71.31000  </td></tr>\n",
       "\t<tr><td>1972      </td><td>Africa    </td><td> 379879541</td><td>47.45094  </td></tr>\n",
       "\t<tr><td>1972      </td><td>Americas  </td><td> 529384210</td><td>62.39492  </td></tr>\n",
       "\t<tr><td>1972      </td><td>Asia      </td><td>2150972248</td><td>57.31927  </td></tr>\n",
       "\t<tr><td>1972      </td><td>Europe    </td><td> 500635059</td><td>70.77503  </td></tr>\n",
       "\t<tr><td>1972      </td><td>Oceania   </td><td>  16106100</td><td>71.91000  </td></tr>\n",
       "\t<tr><td>1977      </td><td>Africa    </td><td> 433061021</td><td>49.58042  </td></tr>\n",
       "\t<tr><td>1977      </td><td>Americas  </td><td> 578067699</td><td>64.39156  </td></tr>\n",
       "\t<tr><td>1977      </td><td>Asia      </td><td>2384513556</td><td>59.61056  </td></tr>\n",
       "\t<tr><td>1977      </td><td>Europe    </td><td> 517164531</td><td>71.93777  </td></tr>\n",
       "\t<tr><td>1977      </td><td>Oceania   </td><td>  17239000</td><td>72.85500  </td></tr>\n",
       "\t<tr><td>1982      </td><td>Africa    </td><td> 499348587</td><td>51.59287  </td></tr>\n",
       "\t<tr><td>1982      </td><td>Americas  </td><td> 630290920</td><td>66.22884  </td></tr>\n",
       "\t<tr><td>1982      </td><td>Asia      </td><td>2610135582</td><td>62.61794  </td></tr>\n",
       "\t<tr><td>1982      </td><td>Europe    </td><td> 531266901</td><td>72.80640  </td></tr>\n",
       "\t<tr><td>1982      </td><td>Oceania   </td><td>  18394850</td><td>74.29000  </td></tr>\n",
       "\t<tr><td>1987      </td><td>Africa    </td><td> 574834110</td><td>53.34479  </td></tr>\n",
       "\t<tr><td>1987      </td><td>Americas  </td><td> 682753971</td><td>68.09072  </td></tr>\n",
       "\t<tr><td>1987      </td><td>Asia      </td><td>2871220762</td><td>64.85118  </td></tr>\n",
       "\t<tr><td>1987      </td><td>Europe    </td><td> 543094160</td><td>73.64217  </td></tr>\n",
       "\t<tr><td>1987      </td><td>Oceania   </td><td>  19574415</td><td>75.32000  </td></tr>\n",
       "\t<tr><td>1992      </td><td>Africa    </td><td> 659081517</td><td>53.62958  </td></tr>\n",
       "\t<tr><td>1992      </td><td>Americas  </td><td> 739274104</td><td>69.56836  </td></tr>\n",
       "\t<tr><td>1992      </td><td>Asia      </td><td>3133292191</td><td>66.53721  </td></tr>\n",
       "\t<tr><td>1992      </td><td>Europe    </td><td> 558142797</td><td>74.44010  </td></tr>\n",
       "\t<tr><td>1992      </td><td>Oceania   </td><td>  20919651</td><td>76.94500  </td></tr>\n",
       "\t<tr><td>1997      </td><td>Africa    </td><td> 743832984</td><td>53.59827  </td></tr>\n",
       "\t<tr><td>1997      </td><td>Americas  </td><td> 796900410</td><td>71.15048  </td></tr>\n",
       "\t<tr><td>1997      </td><td>Asia      </td><td>3383285500</td><td>68.02052  </td></tr>\n",
       "\t<tr><td>1997      </td><td>Europe    </td><td> 568944148</td><td>75.50517  </td></tr>\n",
       "\t<tr><td>1997      </td><td>Oceania   </td><td>  22241430</td><td>78.19000  </td></tr>\n",
       "\t<tr><td>2002      </td><td>Africa    </td><td> 833723916</td><td>53.32523  </td></tr>\n",
       "\t<tr><td>2002      </td><td>Americas  </td><td> 849772762</td><td>72.42204  </td></tr>\n",
       "\t<tr><td>2002      </td><td>Asia      </td><td>3601802203</td><td>69.23388  </td></tr>\n",
       "\t<tr><td>2002      </td><td>Europe    </td><td> 578223869</td><td>76.70060  </td></tr>\n",
       "\t<tr><td>2002      </td><td>Oceania   </td><td>  23454829</td><td>79.74000  </td></tr>\n",
       "\t<tr><td>2007      </td><td>Africa    </td><td> 929539692</td><td>54.80604  </td></tr>\n",
       "\t<tr><td>2007      </td><td>Americas  </td><td> 898871184</td><td>73.60812  </td></tr>\n",
       "\t<tr><td>2007      </td><td>Asia      </td><td>3811953827</td><td>70.72848  </td></tr>\n",
       "\t<tr><td>2007      </td><td>Europe    </td><td> 586098529</td><td>77.64860  </td></tr>\n",
       "\t<tr><td>2007      </td><td>Oceania   </td><td>  24549947</td><td>80.71950  </td></tr>\n",
       "</tbody>\n",
       "</table>\n"
      ],
      "text/latex": [
       "\\begin{tabular}{r|llll}\n",
       " year & continent & totalPop & meanLifeExp\\\\\n",
       "\\hline\n",
       "\t 1952       & Africa     &  237640501 & 39.13550  \\\\\n",
       "\t 1952       & Americas   &  345152446 & 53.27984  \\\\\n",
       "\t 1952       & Asia       & 1395357351 & 46.31439  \\\\\n",
       "\t 1952       & Europe     &  418120846 & 64.40850  \\\\\n",
       "\t 1952       & Oceania    &   10686006 & 69.25500  \\\\\n",
       "\t 1957       & Africa     &  264837738 & 41.26635  \\\\\n",
       "\t 1957       & Americas   &  386953916 & 55.96028  \\\\\n",
       "\t 1957       & Asia       & 1562780599 & 49.31854  \\\\\n",
       "\t 1957       & Europe     &  437890351 & 66.70307  \\\\\n",
       "\t 1957       & Oceania    &   11941976 & 70.29500  \\\\\n",
       "\t 1962       & Africa     &  296516865 & 43.31944  \\\\\n",
       "\t 1962       & Americas   &  433270254 & 58.39876  \\\\\n",
       "\t 1962       & Asia       & 1696357182 & 51.56322  \\\\\n",
       "\t 1962       & Europe     &  460355155 & 68.53923  \\\\\n",
       "\t 1962       & Oceania    &   13283518 & 71.08500  \\\\\n",
       "\t 1967       & Africa     &  335289489 & 45.33454  \\\\\n",
       "\t 1967       & Americas   &  480746623 & 60.41092  \\\\\n",
       "\t 1967       & Asia       & 1905662900 & 54.66364  \\\\\n",
       "\t 1967       & Europe     &  481178958 & 69.73760  \\\\\n",
       "\t 1967       & Oceania    &   14600414 & 71.31000  \\\\\n",
       "\t 1972       & Africa     &  379879541 & 47.45094  \\\\\n",
       "\t 1972       & Americas   &  529384210 & 62.39492  \\\\\n",
       "\t 1972       & Asia       & 2150972248 & 57.31927  \\\\\n",
       "\t 1972       & Europe     &  500635059 & 70.77503  \\\\\n",
       "\t 1972       & Oceania    &   16106100 & 71.91000  \\\\\n",
       "\t 1977       & Africa     &  433061021 & 49.58042  \\\\\n",
       "\t 1977       & Americas   &  578067699 & 64.39156  \\\\\n",
       "\t 1977       & Asia       & 2384513556 & 59.61056  \\\\\n",
       "\t 1977       & Europe     &  517164531 & 71.93777  \\\\\n",
       "\t 1977       & Oceania    &   17239000 & 72.85500  \\\\\n",
       "\t 1982       & Africa     &  499348587 & 51.59287  \\\\\n",
       "\t 1982       & Americas   &  630290920 & 66.22884  \\\\\n",
       "\t 1982       & Asia       & 2610135582 & 62.61794  \\\\\n",
       "\t 1982       & Europe     &  531266901 & 72.80640  \\\\\n",
       "\t 1982       & Oceania    &   18394850 & 74.29000  \\\\\n",
       "\t 1987       & Africa     &  574834110 & 53.34479  \\\\\n",
       "\t 1987       & Americas   &  682753971 & 68.09072  \\\\\n",
       "\t 1987       & Asia       & 2871220762 & 64.85118  \\\\\n",
       "\t 1987       & Europe     &  543094160 & 73.64217  \\\\\n",
       "\t 1987       & Oceania    &   19574415 & 75.32000  \\\\\n",
       "\t 1992       & Africa     &  659081517 & 53.62958  \\\\\n",
       "\t 1992       & Americas   &  739274104 & 69.56836  \\\\\n",
       "\t 1992       & Asia       & 3133292191 & 66.53721  \\\\\n",
       "\t 1992       & Europe     &  558142797 & 74.44010  \\\\\n",
       "\t 1992       & Oceania    &   20919651 & 76.94500  \\\\\n",
       "\t 1997       & Africa     &  743832984 & 53.59827  \\\\\n",
       "\t 1997       & Americas   &  796900410 & 71.15048  \\\\\n",
       "\t 1997       & Asia       & 3383285500 & 68.02052  \\\\\n",
       "\t 1997       & Europe     &  568944148 & 75.50517  \\\\\n",
       "\t 1997       & Oceania    &   22241430 & 78.19000  \\\\\n",
       "\t 2002       & Africa     &  833723916 & 53.32523  \\\\\n",
       "\t 2002       & Americas   &  849772762 & 72.42204  \\\\\n",
       "\t 2002       & Asia       & 3601802203 & 69.23388  \\\\\n",
       "\t 2002       & Europe     &  578223869 & 76.70060  \\\\\n",
       "\t 2002       & Oceania    &   23454829 & 79.74000  \\\\\n",
       "\t 2007       & Africa     &  929539692 & 54.80604  \\\\\n",
       "\t 2007       & Americas   &  898871184 & 73.60812  \\\\\n",
       "\t 2007       & Asia       & 3811953827 & 70.72848  \\\\\n",
       "\t 2007       & Europe     &  586098529 & 77.64860  \\\\\n",
       "\t 2007       & Oceania    &   24549947 & 80.71950  \\\\\n",
       "\\end{tabular}\n"
      ],
      "text/markdown": [
       "\n",
       "year | continent | totalPop | meanLifeExp | \n",
       "|---|---|---|---|---|---|---|---|---|---|---|---|---|---|---|---|---|---|---|---|---|---|---|---|---|---|---|---|---|---|---|---|---|---|---|---|---|---|---|---|---|---|---|---|---|---|---|---|---|---|---|---|---|---|---|---|---|---|---|---|\n",
       "| 1952       | Africa     |  237640501 | 39.13550   | \n",
       "| 1952       | Americas   |  345152446 | 53.27984   | \n",
       "| 1952       | Asia       | 1395357351 | 46.31439   | \n",
       "| 1952       | Europe     |  418120846 | 64.40850   | \n",
       "| 1952       | Oceania    |   10686006 | 69.25500   | \n",
       "| 1957       | Africa     |  264837738 | 41.26635   | \n",
       "| 1957       | Americas   |  386953916 | 55.96028   | \n",
       "| 1957       | Asia       | 1562780599 | 49.31854   | \n",
       "| 1957       | Europe     |  437890351 | 66.70307   | \n",
       "| 1957       | Oceania    |   11941976 | 70.29500   | \n",
       "| 1962       | Africa     |  296516865 | 43.31944   | \n",
       "| 1962       | Americas   |  433270254 | 58.39876   | \n",
       "| 1962       | Asia       | 1696357182 | 51.56322   | \n",
       "| 1962       | Europe     |  460355155 | 68.53923   | \n",
       "| 1962       | Oceania    |   13283518 | 71.08500   | \n",
       "| 1967       | Africa     |  335289489 | 45.33454   | \n",
       "| 1967       | Americas   |  480746623 | 60.41092   | \n",
       "| 1967       | Asia       | 1905662900 | 54.66364   | \n",
       "| 1967       | Europe     |  481178958 | 69.73760   | \n",
       "| 1967       | Oceania    |   14600414 | 71.31000   | \n",
       "| 1972       | Africa     |  379879541 | 47.45094   | \n",
       "| 1972       | Americas   |  529384210 | 62.39492   | \n",
       "| 1972       | Asia       | 2150972248 | 57.31927   | \n",
       "| 1972       | Europe     |  500635059 | 70.77503   | \n",
       "| 1972       | Oceania    |   16106100 | 71.91000   | \n",
       "| 1977       | Africa     |  433061021 | 49.58042   | \n",
       "| 1977       | Americas   |  578067699 | 64.39156   | \n",
       "| 1977       | Asia       | 2384513556 | 59.61056   | \n",
       "| 1977       | Europe     |  517164531 | 71.93777   | \n",
       "| 1977       | Oceania    |   17239000 | 72.85500   | \n",
       "| 1982       | Africa     |  499348587 | 51.59287   | \n",
       "| 1982       | Americas   |  630290920 | 66.22884   | \n",
       "| 1982       | Asia       | 2610135582 | 62.61794   | \n",
       "| 1982       | Europe     |  531266901 | 72.80640   | \n",
       "| 1982       | Oceania    |   18394850 | 74.29000   | \n",
       "| 1987       | Africa     |  574834110 | 53.34479   | \n",
       "| 1987       | Americas   |  682753971 | 68.09072   | \n",
       "| 1987       | Asia       | 2871220762 | 64.85118   | \n",
       "| 1987       | Europe     |  543094160 | 73.64217   | \n",
       "| 1987       | Oceania    |   19574415 | 75.32000   | \n",
       "| 1992       | Africa     |  659081517 | 53.62958   | \n",
       "| 1992       | Americas   |  739274104 | 69.56836   | \n",
       "| 1992       | Asia       | 3133292191 | 66.53721   | \n",
       "| 1992       | Europe     |  558142797 | 74.44010   | \n",
       "| 1992       | Oceania    |   20919651 | 76.94500   | \n",
       "| 1997       | Africa     |  743832984 | 53.59827   | \n",
       "| 1997       | Americas   |  796900410 | 71.15048   | \n",
       "| 1997       | Asia       | 3383285500 | 68.02052   | \n",
       "| 1997       | Europe     |  568944148 | 75.50517   | \n",
       "| 1997       | Oceania    |   22241430 | 78.19000   | \n",
       "| 2002       | Africa     |  833723916 | 53.32523   | \n",
       "| 2002       | Americas   |  849772762 | 72.42204   | \n",
       "| 2002       | Asia       | 3601802203 | 69.23388   | \n",
       "| 2002       | Europe     |  578223869 | 76.70060   | \n",
       "| 2002       | Oceania    |   23454829 | 79.74000   | \n",
       "| 2007       | Africa     |  929539692 | 54.80604   | \n",
       "| 2007       | Americas   |  898871184 | 73.60812   | \n",
       "| 2007       | Asia       | 3811953827 | 70.72848   | \n",
       "| 2007       | Europe     |  586098529 | 77.64860   | \n",
       "| 2007       | Oceania    |   24549947 | 80.71950   | \n",
       "\n",
       "\n"
      ],
      "text/plain": [
       "   year continent totalPop   meanLifeExp\n",
       "1  1952 Africa     237640501 39.13550   \n",
       "2  1952 Americas   345152446 53.27984   \n",
       "3  1952 Asia      1395357351 46.31439   \n",
       "4  1952 Europe     418120846 64.40850   \n",
       "5  1952 Oceania     10686006 69.25500   \n",
       "6  1957 Africa     264837738 41.26635   \n",
       "7  1957 Americas   386953916 55.96028   \n",
       "8  1957 Asia      1562780599 49.31854   \n",
       "9  1957 Europe     437890351 66.70307   \n",
       "10 1957 Oceania     11941976 70.29500   \n",
       "11 1962 Africa     296516865 43.31944   \n",
       "12 1962 Americas   433270254 58.39876   \n",
       "13 1962 Asia      1696357182 51.56322   \n",
       "14 1962 Europe     460355155 68.53923   \n",
       "15 1962 Oceania     13283518 71.08500   \n",
       "16 1967 Africa     335289489 45.33454   \n",
       "17 1967 Americas   480746623 60.41092   \n",
       "18 1967 Asia      1905662900 54.66364   \n",
       "19 1967 Europe     481178958 69.73760   \n",
       "20 1967 Oceania     14600414 71.31000   \n",
       "21 1972 Africa     379879541 47.45094   \n",
       "22 1972 Americas   529384210 62.39492   \n",
       "23 1972 Asia      2150972248 57.31927   \n",
       "24 1972 Europe     500635059 70.77503   \n",
       "25 1972 Oceania     16106100 71.91000   \n",
       "26 1977 Africa     433061021 49.58042   \n",
       "27 1977 Americas   578067699 64.39156   \n",
       "28 1977 Asia      2384513556 59.61056   \n",
       "29 1977 Europe     517164531 71.93777   \n",
       "30 1977 Oceania     17239000 72.85500   \n",
       "31 1982 Africa     499348587 51.59287   \n",
       "32 1982 Americas   630290920 66.22884   \n",
       "33 1982 Asia      2610135582 62.61794   \n",
       "34 1982 Europe     531266901 72.80640   \n",
       "35 1982 Oceania     18394850 74.29000   \n",
       "36 1987 Africa     574834110 53.34479   \n",
       "37 1987 Americas   682753971 68.09072   \n",
       "38 1987 Asia      2871220762 64.85118   \n",
       "39 1987 Europe     543094160 73.64217   \n",
       "40 1987 Oceania     19574415 75.32000   \n",
       "41 1992 Africa     659081517 53.62958   \n",
       "42 1992 Americas   739274104 69.56836   \n",
       "43 1992 Asia      3133292191 66.53721   \n",
       "44 1992 Europe     558142797 74.44010   \n",
       "45 1992 Oceania     20919651 76.94500   \n",
       "46 1997 Africa     743832984 53.59827   \n",
       "47 1997 Americas   796900410 71.15048   \n",
       "48 1997 Asia      3383285500 68.02052   \n",
       "49 1997 Europe     568944148 75.50517   \n",
       "50 1997 Oceania     22241430 78.19000   \n",
       "51 2002 Africa     833723916 53.32523   \n",
       "52 2002 Americas   849772762 72.42204   \n",
       "53 2002 Asia      3601802203 69.23388   \n",
       "54 2002 Europe     578223869 76.70060   \n",
       "55 2002 Oceania     23454829 79.74000   \n",
       "56 2007 Africa     929539692 54.80604   \n",
       "57 2007 Americas   898871184 73.60812   \n",
       "58 2007 Asia      3811953827 70.72848   \n",
       "59 2007 Europe     586098529 77.64860   \n",
       "60 2007 Oceania     24549947 80.71950   "
      ]
     },
     "metadata": {},
     "output_type": "display_data"
    }
   ],
   "source": [
    "by_year_continent <- gapminder %>%\n",
    "  group_by(year, continent) %>%\n",
    "  summarize(totalPop = sum(as.numeric(pop)),\n",
    "            meanLifeExp = mean(lifeExp))\n",
    "\n",
    "by_year_continent"
   ]
  },
  {
   "cell_type": "code",
   "execution_count": 64,
   "metadata": {},
   "outputs": [
    {
     "data": {},
     "metadata": {},
     "output_type": "display_data"
    },
    {
     "data": {
      "image/png": "[encoded data removed]",
      "text/plain": [
       "plot without title"
      ]
     },
     "metadata": {},
     "output_type": "display_data"
    }
   ],
   "source": [
    "ggplot(by_year_continent, aes(x = year, y = totalPop, color = continent)) + geom_point()"
   ]
  },
  {
   "cell_type": "code",
   "execution_count": 62,
   "metadata": {},
   "outputs": [
    {
     "data": {},
     "metadata": {},
     "output_type": "display_data"
    },
    {
     "data": {
      "image/png": "[encoded data removed]",
      "text/plain": [
       "plot without title"
      ]
     },
     "metadata": {},
     "output_type": "display_data"
    }
   ],
   "source": [
    "ggplot(by_year_continent, aes(x = year, y = totalPop, color = continent)) + geom_point() + expand_limits(y = 0)"
   ]
  },
  {
   "cell_type": "code",
   "execution_count": 63,
   "metadata": {},
   "outputs": [
    {
     "data": {},
     "metadata": {},
     "output_type": "display_data"
    },
    {
     "data": {
      "image/png": "[encoded data removed]",
      "text/plain": [
       "plot without title"
      ]
     },
     "metadata": {},
     "output_type": "display_data"
    }
   ],
   "source": [
    "ggplot(by_year_continent, aes(x = year, y = meanLifeExp, color = continent)) + geom_point() + expand_limits(y = 0)"
   ]
  },
  {
   "cell_type": "code",
   "execution_count": 72,
   "metadata": {},
   "outputs": [
    {
     "data": {},
     "metadata": {},
     "output_type": "display_data"
    },
    {
     "data": {
      "image/png": "[encoded data removed]",
      "text/plain": [
       "plot without title"
      ]
     },
     "metadata": {},
     "output_type": "display_data"
    }
   ],
   "source": [
    "## line plot\n",
    "\n",
    "ggplot(by_year_continent, aes(x = year, y = meanLifeExp, color = continent)) + geom_line() + expand_limits(y = 0)"
   ]
  },
  {
   "cell_type": "code",
   "execution_count": 69,
   "metadata": {},
   "outputs": [
    {
     "data": {},
     "metadata": {},
     "output_type": "display_data"
    },
    {
     "data": {
      "image/png": "[encoded data removed]",
      "text/plain": [
       "plot without title"
      ]
     },
     "metadata": {},
     "output_type": "display_data"
    }
   ],
   "source": [
    "by_year_continent <- gapminder %>% group_by(year, continent) %>% summarize(medianGdpPercap = median(gdpPercap))\n",
    "\n",
    "# Plot the change in medianGdpPercap in each continent over time\n",
    "ggplot(by_year_continent, aes(x = year, y = medianGdpPercap, color = continent)) + geom_point() + expand_limits(y = 0)"
   ]
  },
  {
   "cell_type": "code",
   "execution_count": 73,
   "metadata": {},
   "outputs": [
    {
     "data": {},
     "metadata": {},
     "output_type": "display_data"
    },
    {
     "data": {
      "image/png": "[encoded data removed]",
      "text/plain": [
       "plot without title"
      ]
     },
     "metadata": {},
     "output_type": "display_data"
    }
   ],
   "source": [
    "by_year_medianGdp <- gapminder %>% group_by(year) %>% summarize(medianGdpPercap = median(gdpPercap))\n",
    "\n",
    "ggplot(by_year_medianGdp, aes(x = year, y = medianGdpPercap)) + geom_line() + expand_limits(y = 0)"
   ]
  },
  {
   "cell_type": "code",
   "execution_count": 75,
   "metadata": {},
   "outputs": [
    {
     "data": {},
     "metadata": {},
     "output_type": "display_data"
    },
    {
     "data": {
      "image/png": "[encoded data removed]",
      "text/plain": [
       "plot without title"
      ]
     },
     "metadata": {},
     "output_type": "display_data"
    }
   ],
   "source": [
    "by_year_continent_medianGDP <- gapminder %>% group_by(year, continent) %>% summarize(medianGdpPercap = median(gdpPercap))\n",
    "\n",
    "\n",
    "\n",
    "# Create a line plot showing the change in medianGdpPercap by continent over time\n",
    "ggplot(by_year_continent_medianGDP, aes(x = year, y = medianGdpPercap, color = continent)) + geom_line() + expand_limits(y = 0)"
   ]
  },
  {
   "cell_type": "code",
   "execution_count": 77,
   "metadata": {},
   "outputs": [
    {
     "data": {
      "text/html": [
       "<table>\n",
       "<thead><tr><th scope=col>continent</th><th scope=col>meanLifeExp</th></tr></thead>\n",
       "<tbody>\n",
       "\t<tr><td>Africa  </td><td>54.80604</td></tr>\n",
       "\t<tr><td>Americas</td><td>73.60812</td></tr>\n",
       "\t<tr><td>Asia    </td><td>70.72848</td></tr>\n",
       "\t<tr><td>Europe  </td><td>77.64860</td></tr>\n",
       "\t<tr><td>Oceania </td><td>80.71950</td></tr>\n",
       "</tbody>\n",
       "</table>\n"
      ],
      "text/latex": [
       "\\begin{tabular}{r|ll}\n",
       " continent & meanLifeExp\\\\\n",
       "\\hline\n",
       "\t Africa   & 54.80604\\\\\n",
       "\t Americas & 73.60812\\\\\n",
       "\t Asia     & 70.72848\\\\\n",
       "\t Europe   & 77.64860\\\\\n",
       "\t Oceania  & 80.71950\\\\\n",
       "\\end{tabular}\n"
      ],
      "text/markdown": [
       "\n",
       "continent | meanLifeExp | \n",
       "|---|---|---|---|---|\n",
       "| Africa   | 54.80604 | \n",
       "| Americas | 73.60812 | \n",
       "| Asia     | 70.72848 | \n",
       "| Europe   | 77.64860 | \n",
       "| Oceania  | 80.71950 | \n",
       "\n",
       "\n"
      ],
      "text/plain": [
       "  continent meanLifeExp\n",
       "1 Africa    54.80604   \n",
       "2 Americas  73.60812   \n",
       "3 Asia      70.72848   \n",
       "4 Europe    77.64860   \n",
       "5 Oceania   80.71950   "
      ]
     },
     "metadata": {},
     "output_type": "display_data"
    }
   ],
   "source": [
    "by_continent_lifeExp <- gapminder %>%\n",
    "  filter(year == 2007) %>%\n",
    "  group_by(continent) %>%\n",
    "  summarize(meanLifeExp = mean(lifeExp))\n",
    "\n",
    "by_continent_lifeExp"
   ]
  },
  {
   "cell_type": "code",
   "execution_count": 78,
   "metadata": {},
   "outputs": [
    {
     "data": {},
     "metadata": {},
     "output_type": "display_data"
    },
    {
     "data": {
      "image/png": "[encoded data removed]",
      "text/plain": [
       "plot without title"
      ]
     },
     "metadata": {},
     "output_type": "display_data"
    }
   ],
   "source": [
    "ggplot(by_continent_lifeExp, aes(x = continent, y = meanLifeExp)) +\n",
    "  geom_col()"
   ]
  },
  {
   "cell_type": "code",
   "execution_count": 79,
   "metadata": {},
   "outputs": [
    {
     "data": {},
     "metadata": {},
     "output_type": "display_data"
    },
    {
     "data": {
      "image/png": "[encoded data removed]",
      "text/plain": [
       "plot without title"
      ]
     },
     "metadata": {},
     "output_type": "display_data"
    }
   ],
   "source": [
    "by_continent <- gapminder %>% filter(year == 1952) %>% group_by(continent) %>% summarize(medianGdpPercap = median(gdpPercap))\n",
    "\n",
    "# Create a bar plot showing medianGdp by continent\n",
    "ggplot(by_continent, aes(x = continent, y = medianGdpPercap)) + geom_col()"
   ]
  },
  {
   "cell_type": "code",
   "execution_count": 81,
   "metadata": {},
   "outputs": [
    {
     "name": "stderr",
     "output_type": "stream",
     "text": [
      "`stat_bin()` using `bins = 30`. Pick better value with `binwidth`.\n"
     ]
    },
    {
     "data": {},
     "metadata": {},
     "output_type": "display_data"
    },
    {
     "data": {
      "image/png": "[encoded data removed]",
      "text/plain": [
       "plot without title"
      ]
     },
     "metadata": {},
     "output_type": "display_data"
    }
   ],
   "source": [
    "gapminder_2007 <- gapminder %>% filter(year == 2007)\n",
    "\n",
    "ggplot(gapminder_2007, aes(x = lifeExp)) +\n",
    "  geom_histogram()"
   ]
  },
  {
   "cell_type": "code",
   "execution_count": 83,
   "metadata": {},
   "outputs": [
    {
     "data": {},
     "metadata": {},
     "output_type": "display_data"
    },
    {
     "data": {
      "image/png": "[encoded data removed]",
      "text/plain": [
       "plot without title"
      ]
     },
     "metadata": {},
     "output_type": "display_data"
    }
   ],
   "source": [
    "ggplot(gapminder_2007, aes(x = lifeExp)) +\n",
    "  geom_histogram(binwidth = 20)"
   ]
  },
  {
   "cell_type": "code",
   "execution_count": 84,
   "metadata": {},
   "outputs": [
    {
     "name": "stderr",
     "output_type": "stream",
     "text": [
      "`stat_bin()` using `bins = 30`. Pick better value with `binwidth`.\n"
     ]
    },
    {
     "data": {},
     "metadata": {},
     "output_type": "display_data"
    },
    {
     "data": {
      "image/png": "[encoded data removed]",
      "text/plain": [
       "plot without title"
      ]
     },
     "metadata": {},
     "output_type": "display_data"
    }
   ],
   "source": [
    "gapminder_1952 <- gapminder %>%\n",
    "  filter(year == 1952)\n",
    "\n",
    "# Create a histogram of population (pop)\n",
    "ggplot(gapminder_1952, aes(x = pop)) + geom_histogram()"
   ]
  },
  {
   "cell_type": "code",
   "execution_count": 85,
   "metadata": {},
   "outputs": [
    {
     "name": "stderr",
     "output_type": "stream",
     "text": [
      "`stat_bin()` using `bins = 30`. Pick better value with `binwidth`.\n"
     ]
    },
    {
     "data": {},
     "metadata": {},
     "output_type": "display_data"
    },
    {
     "data": {
      "image/png": "[encoded data removed]",
      "text/plain": [
       "plot without title"
      ]
     },
     "metadata": {},
     "output_type": "display_data"
    }
   ],
   "source": [
    "gapminder_1952 <- gapminder %>%\n",
    "  filter(year == 1952)\n",
    "\n",
    "# Create a histogram of population (pop)\n",
    "ggplot(gapminder_1952, aes(x = pop)) + geom_histogram() + scale_x_log10()"
   ]
  },
  {
   "cell_type": "code",
   "execution_count": 86,
   "metadata": {},
   "outputs": [
    {
     "data": {},
     "metadata": {},
     "output_type": "display_data"
    },
    {
     "data": {
      "image/png": "[encoded data removed]",
      "text/plain": [
       "plot without title"
      ]
     },
     "metadata": {},
     "output_type": "display_data"
    }
   ],
   "source": [
    "ggplot(gapminder_2007, aes(x = continent, y = lifeExp)) +\n",
    "  geom_boxplot()"
   ]
  },
  {
   "cell_type": "code",
   "execution_count": 87,
   "metadata": {},
   "outputs": [
    {
     "data": {},
     "metadata": {},
     "output_type": "display_data"
    },
    {
     "data": {
      "image/png": "[encoded data removed]",
      "text/plain": [
       "plot without title"
      ]
     },
     "metadata": {},
     "output_type": "display_data"
    }
   ],
   "source": [
    "gapminder_1952 <- gapminder %>%\n",
    "  filter(year == 1952)\n",
    "\n",
    "# Create a boxplot comparing gdpPercap among continents\n",
    "ggplot(gapminder_1952, aes(x = continent, y = gdpPercap)) + geom_boxplot() + scale_y_log10()"
   ]
  },
  {
   "cell_type": "code",
   "execution_count": 88,
   "metadata": {},
   "outputs": [
    {
     "data": {},
     "metadata": {},
     "output_type": "display_data"
    },
    {
     "data": {
      "image/png": "[encoded data removed]",
      "text/plain": [
       "plot without title"
      ]
     },
     "metadata": {},
     "output_type": "display_data"
    }
   ],
   "source": [
    "ggplot(gapminder_1952, aes(x = continent, y = gdpPercap)) +\n",
    "  geom_boxplot() +\n",
    "  scale_y_log10() + ggtitle(\"Comparing GDP per capita across continents\")"
   ]
  },
  {
   "cell_type": "code",
   "execution_count": null,
   "metadata": {},
   "outputs": [],
   "source": []
  }
 ],
 "metadata": {
  "kernelspec": {
   "display_name": "R",
   "language": "R",
   "name": "ir"
  },
  "language_info": {
   "codemirror_mode": "r",
   "file_extension": ".r",
   "mimetype": "text/x-r-source",
   "name": "R",
   "pygments_lexer": "r",
   "version": "3.5.1"
  }
 },
 "nbformat": 4,
 "nbformat_minor": 2
}
