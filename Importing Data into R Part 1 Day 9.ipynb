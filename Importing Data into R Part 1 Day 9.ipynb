{
 "cells": [
  {
   "cell_type": "markdown",
   "metadata": {},
   "source": [
    "# Importing Excel data"
   ]
  },
  {
   "cell_type": "code",
   "execution_count": 1,
   "metadata": {},
   "outputs": [],
   "source": [
    "library(readxl)"
   ]
  },
  {
   "cell_type": "code",
   "execution_count": 2,
   "metadata": {},
   "outputs": [
    {
     "data": {
      "text/html": [
       "<ol class=list-inline>\n",
       "\t<li>'1960-1966'</li>\n",
       "\t<li>'1967-1974'</li>\n",
       "\t<li>'1975-2011'</li>\n",
       "</ol>\n"
      ],
      "text/latex": [
       "\\begin{enumerate*}\n",
       "\\item '1960-1966'\n",
       "\\item '1967-1974'\n",
       "\\item '1975-2011'\n",
       "\\end{enumerate*}\n"
      ],
      "text/markdown": [
       "1. '1960-1966'\n",
       "2. '1967-1974'\n",
       "3. '1975-2011'\n",
       "\n",
       "\n"
      ],
      "text/plain": [
       "[1] \"1960-1966\" \"1967-1974\" \"1975-2011\""
      ]
     },
     "metadata": {},
     "output_type": "display_data"
    }
   ],
   "source": [
    "## listing the sheets of an excel file\n",
    "\n",
    "excel_sheets(\"urbanpop.xlsx\")"
   ]
  },
  {
   "cell_type": "code",
   "execution_count": 3,
   "metadata": {},
   "outputs": [],
   "source": [
    "## importing an excel sheet\n",
    "\n",
    "pop_1 <- read_excel(\"urbanpop.xlsx\", sheet = 1)"
   ]
  },
  {
   "cell_type": "code",
   "execution_count": 4,
   "metadata": {},
   "outputs": [
    {
     "name": "stdout",
     "output_type": "stream",
     "text": [
      "Classes 'tbl_df', 'tbl' and 'data.frame':\t209 obs. of  8 variables:\n",
      " $ country: chr  \"Afghanistan\" \"Albania\" \"Algeria\" \"American Samoa\" ...\n",
      " $ 1960   : num  769308 494443 3293999 NA NA ...\n",
      " $ 1961   : num  814923 511803 3515148 13660 8724 ...\n",
      " $ 1962   : num  858522 529439 3739963 14166 9700 ...\n",
      " $ 1963   : num  903914 547377 3973289 14759 10748 ...\n",
      " $ 1964   : num  951226 565572 4220987 15396 11866 ...\n",
      " $ 1965   : num  1000582 583983 4488176 16045 13053 ...\n",
      " $ 1966   : num  1058743 602512 4649105 16693 14217 ...\n"
     ]
    }
   ],
   "source": [
    "str(pop_1)"
   ]
  },
  {
   "cell_type": "code",
   "execution_count": 5,
   "metadata": {},
   "outputs": [],
   "source": [
    "pop_2 <- read_excel(\"urbanpop.xlsx\", sheet = 2)"
   ]
  },
  {
   "cell_type": "code",
   "execution_count": 6,
   "metadata": {},
   "outputs": [
    {
     "name": "stdout",
     "output_type": "stream",
     "text": [
      "Classes 'tbl_df', 'tbl' and 'data.frame':\t209 obs. of  9 variables:\n",
      " $ country: chr  \"Afghanistan\" \"Albania\" \"Algeria\" \"American Samoa\" ...\n",
      " $ 1967   : num  1119067 621180 4826104 17349 15440 ...\n",
      " $ 1968   : num  1182159 639964 5017299 17996 16727 ...\n",
      " $ 1969   : num  1248901 658853 5219332 18619 18088 ...\n",
      " $ 1970   : num  1319849 677839 5429743 19206 19529 ...\n",
      " $ 1971   : num  1409001 698932 5619042 19752 20929 ...\n",
      " $ 1972   : num  1502402 720207 5815734 20263 22406 ...\n",
      " $ 1973   : num  1598835 741681 6020647 20742 23937 ...\n",
      " $ 1974   : num  1696445 763385 6235114 21194 25482 ...\n"
     ]
    }
   ],
   "source": [
    "str(pop_2)"
   ]
  },
  {
   "cell_type": "code",
   "execution_count": 7,
   "metadata": {},
   "outputs": [],
   "source": [
    "pop_3 <- read_excel(\"urbanpop.xlsx\", sheet = 3)"
   ]
  },
  {
   "cell_type": "code",
   "execution_count": 8,
   "metadata": {},
   "outputs": [
    {
     "data": {
      "text/html": [
       "<table>\n",
       "<thead><tr><th scope=col>country</th><th scope=col>1975</th><th scope=col>1976</th><th scope=col>1977</th><th scope=col>1978</th><th scope=col>1979</th><th scope=col>1980</th><th scope=col>1981</th><th scope=col>1982</th><th scope=col>1983</th><th scope=col>...</th><th scope=col>2002</th><th scope=col>2003</th><th scope=col>2004</th><th scope=col>2005</th><th scope=col>2006</th><th scope=col>2007</th><th scope=col>2008</th><th scope=col>2009</th><th scope=col>2010</th><th scope=col>2011</th></tr></thead>\n",
       "<tbody>\n",
       "\t<tr><td>Afghanistan</td><td>1793266    </td><td>1905032.6  </td><td>2021307.7  </td><td>2142247.7  </td><td>2268014.6  </td><td>2398775.0  </td><td>2493265.0  </td><td>2590846.4  </td><td>2691611.8  </td><td>...        </td><td>5795940    </td><td>6036100    </td><td>6285281    </td><td>6543804    </td><td>6812538    </td><td>7091245    </td><td>7380272    </td><td>7679982    </td><td>7990746    </td><td>8316976    </td></tr>\n",
       "\t<tr><td>Albania    </td><td> 785350    </td><td> 807989.8  </td><td> 830959.2  </td><td> 854262.4  </td><td> 877898.1  </td><td> 901884.3  </td><td> 927223.8  </td><td> 952447.4  </td><td> 978476.4  </td><td>...        </td><td>1352278    </td><td>1391143    </td><td>1430918    </td><td>1470488    </td><td>1512255    </td><td>1553491    </td><td>1594351    </td><td>1635262    </td><td>1676545    </td><td>1716842    </td></tr>\n",
       "</tbody>\n",
       "</table>\n"
      ],
      "text/latex": [
       "\\begin{tabular}{r|llllllllllllllllllllllllllllllllllllll}\n",
       " country & 1975 & 1976 & 1977 & 1978 & 1979 & 1980 & 1981 & 1982 & 1983 & ... & 2002 & 2003 & 2004 & 2005 & 2006 & 2007 & 2008 & 2009 & 2010 & 2011\\\\\n",
       "\\hline\n",
       "\t Afghanistan & 1793266     & 1905032.6   & 2021307.7   & 2142247.7   & 2268014.6   & 2398775.0   & 2493265.0   & 2590846.4   & 2691611.8   & ...         & 5795940     & 6036100     & 6285281     & 6543804     & 6812538     & 7091245     & 7380272     & 7679982     & 7990746     & 8316976    \\\\\n",
       "\t Albania     &  785350     &  807989.8   &  830959.2   &  854262.4   &  877898.1   &  901884.3   &  927223.8   &  952447.4   &  978476.4   & ...         & 1352278     & 1391143     & 1430918     & 1470488     & 1512255     & 1553491     & 1594351     & 1635262     & 1676545     & 1716842    \\\\\n",
       "\\end{tabular}\n"
      ],
      "text/markdown": [
       "\n",
       "country | 1975 | 1976 | 1977 | 1978 | 1979 | 1980 | 1981 | 1982 | 1983 | ... | 2002 | 2003 | 2004 | 2005 | 2006 | 2007 | 2008 | 2009 | 2010 | 2011 | \n",
       "|---|---|\n",
       "| Afghanistan | 1793266     | 1905032.6   | 2021307.7   | 2142247.7   | 2268014.6   | 2398775.0   | 2493265.0   | 2590846.4   | 2691611.8   | ...         | 5795940     | 6036100     | 6285281     | 6543804     | 6812538     | 7091245     | 7380272     | 7679982     | 7990746     | 8316976     | \n",
       "| Albania     |  785350     |  807989.8   |  830959.2   |  854262.4   |  877898.1   |  901884.3   |  927223.8   |  952447.4   |  978476.4   | ...         | 1352278     | 1391143     | 1430918     | 1470488     | 1512255     | 1553491     | 1594351     | 1635262     | 1676545     | 1716842     | \n",
       "\n",
       "\n"
      ],
      "text/plain": [
       "  country     1975    1976      1977      1978      1979      1980     \n",
       "1 Afghanistan 1793266 1905032.6 2021307.7 2142247.7 2268014.6 2398775.0\n",
       "2 Albania      785350  807989.8  830959.2  854262.4  877898.1  901884.3\n",
       "  1981      1982      1983      ... 2002    2003    2004    2005    2006   \n",
       "1 2493265.0 2590846.4 2691611.8 ... 5795940 6036100 6285281 6543804 6812538\n",
       "2  927223.8  952447.4  978476.4 ... 1352278 1391143 1430918 1470488 1512255\n",
       "  2007    2008    2009    2010    2011   \n",
       "1 7091245 7380272 7679982 7990746 8316976\n",
       "2 1553491 1594351 1635262 1676545 1716842"
      ]
     },
     "metadata": {},
     "output_type": "display_data"
    }
   ],
   "source": [
    "head(pop_3, 2)"
   ]
  },
  {
   "cell_type": "code",
   "execution_count": 9,
   "metadata": {},
   "outputs": [],
   "source": [
    "## arguments in the read_excel function: read_excel(path, sheet = 1, col_names, col_types, skip = )"
   ]
  },
  {
   "cell_type": "code",
   "execution_count": 13,
   "metadata": {},
   "outputs": [],
   "source": [
    "## the col_names argument"
   ]
  },
  {
   "cell_type": "code",
   "execution_count": 14,
   "metadata": {},
   "outputs": [],
   "source": [
    "pop_a <- read_excel(\"urbanpop.xlsx\", sheet = 1, col_names = F)"
   ]
  },
  {
   "cell_type": "code",
   "execution_count": 15,
   "metadata": {},
   "outputs": [
    {
     "data": {
      "text/html": [
       "<table>\n",
       "<thead><tr><th scope=col>X__1</th><th scope=col>X__2</th><th scope=col>X__3</th><th scope=col>X__4</th><th scope=col>X__5</th><th scope=col>X__6</th><th scope=col>X__7</th><th scope=col>X__8</th></tr></thead>\n",
       "<tbody>\n",
       "\t<tr><td>country       </td><td>  1960        </td><td>1961          </td><td>1962          </td><td>1963          </td><td>1964          </td><td>1965          </td><td>1966          </td></tr>\n",
       "\t<tr><td>Afghanistan   </td><td>769308        </td><td>814923.0492   </td><td>858521.6976   </td><td>903913.86486  </td><td>951225.94143  </td><td>1000582.34999 </td><td>1058743.467464</td></tr>\n",
       "</tbody>\n",
       "</table>\n"
      ],
      "text/latex": [
       "\\begin{tabular}{r|llllllll}\n",
       " X\\_\\_1 & X\\_\\_2 & X\\_\\_3 & X\\_\\_4 & X\\_\\_5 & X\\_\\_6 & X\\_\\_7 & X\\_\\_8\\\\\n",
       "\\hline\n",
       "\t country        &   1960         & 1961           & 1962           & 1963           & 1964           & 1965           & 1966          \\\\\n",
       "\t Afghanistan    & 769308         & 814923.0492    & 858521.6976    & 903913.86486   & 951225.94143   & 1000582.34999  & 1058743.467464\\\\\n",
       "\\end{tabular}\n"
      ],
      "text/markdown": [
       "\n",
       "X__1 | X__2 | X__3 | X__4 | X__5 | X__6 | X__7 | X__8 | \n",
       "|---|---|\n",
       "| country        |   1960         | 1961           | 1962           | 1963           | 1964           | 1965           | 1966           | \n",
       "| Afghanistan    | 769308         | 814923.0492    | 858521.6976    | 903913.86486   | 951225.94143   | 1000582.34999  | 1058743.467464 | \n",
       "\n",
       "\n"
      ],
      "text/plain": [
       "  X__1        X__2   X__3        X__4        X__5         X__6        \n",
       "1 country       1960 1961        1962        1963         1964        \n",
       "2 Afghanistan 769308 814923.0492 858521.6976 903913.86486 951225.94143\n",
       "  X__7          X__8          \n",
       "1 1965          1966          \n",
       "2 1000582.34999 1058743.467464"
      ]
     },
     "metadata": {},
     "output_type": "display_data"
    }
   ],
   "source": [
    "head(pop_a, 2)"
   ]
  },
  {
   "cell_type": "code",
   "execution_count": 17,
   "metadata": {},
   "outputs": [],
   "source": [
    "cols <- c(\"country\", paste0(\"year_\", 1960:1966))\n",
    "pop_b <- read_excel(\"urbanpop_nonames.xlsx\", sheet = 1, col_names = cols)"
   ]
  },
  {
   "cell_type": "code",
   "execution_count": 18,
   "metadata": {},
   "outputs": [
    {
     "data": {
      "text/html": [
       "<table>\n",
       "<thead><tr><th scope=col>country</th><th scope=col>year_1960</th><th scope=col>year_1961</th><th scope=col>year_1962</th><th scope=col>year_1963</th><th scope=col>year_1964</th><th scope=col>year_1965</th><th scope=col>year_1966</th></tr></thead>\n",
       "<tbody>\n",
       "\t<tr><td>Afghanistan</td><td> 769308    </td><td> 814923.0  </td><td> 858521.7  </td><td> 903913.9  </td><td> 951225.9  </td><td>1000582.3  </td><td>1058743.5  </td></tr>\n",
       "\t<tr><td>Albania    </td><td> 494443    </td><td> 511802.8  </td><td> 529438.9  </td><td> 547376.7  </td><td> 565571.8  </td><td> 583982.9  </td><td> 602512.2  </td></tr>\n",
       "\t<tr><td>Algeria    </td><td>3293999    </td><td>3515147.5  </td><td>3739963.0  </td><td>3973289.1  </td><td>4220987.0  </td><td>4488175.6  </td><td>4649105.2  </td></tr>\n",
       "</tbody>\n",
       "</table>\n"
      ],
      "text/latex": [
       "\\begin{tabular}{r|llllllll}\n",
       " country & year\\_1960 & year\\_1961 & year\\_1962 & year\\_1963 & year\\_1964 & year\\_1965 & year\\_1966\\\\\n",
       "\\hline\n",
       "\t Afghanistan &  769308     &  814923.0   &  858521.7   &  903913.9   &  951225.9   & 1000582.3   & 1058743.5  \\\\\n",
       "\t Albania     &  494443     &  511802.8   &  529438.9   &  547376.7   &  565571.8   &  583982.9   &  602512.2  \\\\\n",
       "\t Algeria     & 3293999     & 3515147.5   & 3739963.0   & 3973289.1   & 4220987.0   & 4488175.6   & 4649105.2  \\\\\n",
       "\\end{tabular}\n"
      ],
      "text/markdown": [
       "\n",
       "country | year_1960 | year_1961 | year_1962 | year_1963 | year_1964 | year_1965 | year_1966 | \n",
       "|---|---|---|\n",
       "| Afghanistan |  769308     |  814923.0   |  858521.7   |  903913.9   |  951225.9   | 1000582.3   | 1058743.5   | \n",
       "| Albania     |  494443     |  511802.8   |  529438.9   |  547376.7   |  565571.8   |  583982.9   |  602512.2   | \n",
       "| Algeria     | 3293999     | 3515147.5   | 3739963.0   | 3973289.1   | 4220987.0   | 4488175.6   | 4649105.2   | \n",
       "\n",
       "\n"
      ],
      "text/plain": [
       "  country     year_1960 year_1961 year_1962 year_1963 year_1964 year_1965\n",
       "1 Afghanistan  769308    814923.0  858521.7  903913.9  951225.9 1000582.3\n",
       "2 Albania      494443    511802.8  529438.9  547376.7  565571.8  583982.9\n",
       "3 Algeria     3293999   3515147.5 3739963.0 3973289.1 4220987.0 4488175.6\n",
       "  year_1966\n",
       "1 1058743.5\n",
       "2  602512.2\n",
       "3 4649105.2"
      ]
     },
     "metadata": {},
     "output_type": "display_data"
    }
   ],
   "source": [
    "head(pop_b, 3)"
   ]
  },
  {
   "cell_type": "code",
   "execution_count": 19,
   "metadata": {},
   "outputs": [],
   "source": [
    "urbanpop_sel <- read_excel(\"urbanpop.xlsx\",\n",
    "                          sheet = 2,\n",
    "                          col_names = F,\n",
    "                          skip = 21)"
   ]
  },
  {
   "cell_type": "code",
   "execution_count": 20,
   "metadata": {},
   "outputs": [
    {
     "data": {
      "text/html": [
       "<table>\n",
       "<thead><tr><th scope=col>X__1</th><th scope=col>X__2</th><th scope=col>X__3</th><th scope=col>X__4</th><th scope=col>X__5</th><th scope=col>X__6</th><th scope=col>X__7</th><th scope=col>X__8</th><th scope=col>X__9</th></tr></thead>\n",
       "<tbody>\n",
       "\t<tr><td>Benin   </td><td>382022.1</td><td>411859.5</td><td>443013.1</td><td>475611.4</td><td>515819.5</td><td>557937.6</td><td>602093.2</td><td>648409.7</td></tr>\n",
       "</tbody>\n",
       "</table>\n"
      ],
      "text/latex": [
       "\\begin{tabular}{r|lllllllll}\n",
       " X\\_\\_1 & X\\_\\_2 & X\\_\\_3 & X\\_\\_4 & X\\_\\_5 & X\\_\\_6 & X\\_\\_7 & X\\_\\_8 & X\\_\\_9\\\\\n",
       "\\hline\n",
       "\t Benin    & 382022.1 & 411859.5 & 443013.1 & 475611.4 & 515819.5 & 557937.6 & 602093.2 & 648409.7\\\\\n",
       "\\end{tabular}\n"
      ],
      "text/markdown": [
       "\n",
       "X__1 | X__2 | X__3 | X__4 | X__5 | X__6 | X__7 | X__8 | X__9 | \n",
       "|---|\n",
       "| Benin    | 382022.1 | 411859.5 | 443013.1 | 475611.4 | 515819.5 | 557937.6 | 602093.2 | 648409.7 | \n",
       "\n",
       "\n"
      ],
      "text/plain": [
       "  X__1  X__2     X__3     X__4     X__5     X__6     X__7     X__8     X__9    \n",
       "1 Benin 382022.1 411859.5 443013.1 475611.4 515819.5 557937.6 602093.2 648409.7"
      ]
     },
     "metadata": {},
     "output_type": "display_data"
    }
   ],
   "source": [
    "head(urbanpop_sel,1)"
   ]
  },
  {
   "cell_type": "markdown",
   "metadata": {},
   "source": [
    "# gdata"
   ]
  },
  {
   "cell_type": "code",
   "execution_count": 22,
   "metadata": {},
   "outputs": [
    {
     "name": "stderr",
     "output_type": "stream",
     "text": [
      "gdata: read.xls support for 'XLS' (Excel 97-2004) files ENABLED.\n",
      "\n",
      "gdata: read.xls support for 'XLSX' (Excel 2007+) files ENABLED.\n",
      "\n",
      "Attaching package: 'gdata'\n",
      "\n",
      "The following object is masked from 'package:stats':\n",
      "\n",
      "    nobs\n",
      "\n",
      "The following object is masked from 'package:utils':\n",
      "\n",
      "    object.size\n",
      "\n",
      "The following object is masked from 'package:base':\n",
      "\n",
      "    startsWith\n",
      "\n"
     ]
    }
   ],
   "source": [
    "library(gdata)"
   ]
  },
  {
   "cell_type": "code",
   "execution_count": 23,
   "metadata": {},
   "outputs": [],
   "source": [
    "urban_pop <- read.xls(\"urbanpop.xls\", sheet = \"1967-1974\")"
   ]
  },
  {
   "cell_type": "code",
   "execution_count": 24,
   "metadata": {},
   "outputs": [
    {
     "data": {
      "text/html": [
       "<table>\n",
       "<thead><tr><th scope=col>country</th><th scope=col>X1967</th><th scope=col>X1968</th><th scope=col>X1969</th><th scope=col>X1970</th><th scope=col>X1971</th><th scope=col>X1972</th><th scope=col>X1973</th><th scope=col>X1974</th></tr></thead>\n",
       "<tbody>\n",
       "\t<tr><td>Afghanistan        </td><td> 1119067.20        </td><td> 1182159.06        </td><td> 1248900.79        </td><td> 1319848.78        </td><td> 1409001.09        </td><td> 1502401.79        </td><td> 1598835.45        </td><td> 1696444.83        </td></tr>\n",
       "\t<tr><td>Albania            </td><td>  621179.85        </td><td>  639964.46        </td><td>  658853.12        </td><td>  677839.12        </td><td>  698932.25        </td><td>  720206.57        </td><td>  741681.04        </td><td>  763385.45        </td></tr>\n",
       "\t<tr><td>Algeria            </td><td> 4826104.22        </td><td> 5017298.60        </td><td> 5219331.87        </td><td> 5429743.08        </td><td> 5619041.53        </td><td> 5815734.49        </td><td> 6020647.35        </td><td> 6235114.38        </td></tr>\n",
       "\t<tr><td>American Samoa     </td><td>   17348.66        </td><td>   17995.51        </td><td>   18618.68        </td><td>   19206.39        </td><td>   19752.02        </td><td>   20262.67        </td><td>   20741.97        </td><td>   21194.38        </td></tr>\n",
       "\t<tr><td>Andorra            </td><td>   15439.62        </td><td>   16726.99        </td><td>   18088.32        </td><td>   19528.96        </td><td>   20928.73        </td><td>   22405.84        </td><td>   23937.05        </td><td>   25481.98        </td></tr>\n",
       "\t<tr><td>Angola             </td><td>  757496.32        </td><td>  798459.26        </td><td>  841261.96        </td><td>  886401.63        </td><td>  955010.09        </td><td> 1027397.35        </td><td> 1103829.78        </td><td> 1184486.23        </td></tr>\n",
       "\t<tr><td>Antigua and Barbuda</td><td>   22086.25        </td><td>   22149.39        </td><td>   22182.92        </td><td>   22180.87        </td><td>   22560.87        </td><td>   22907.76        </td><td>   23221.29        </td><td>   23502.92        </td></tr>\n",
       "\t<tr><td>Argentina          </td><td>17753280.98        </td><td>18124103.64        </td><td>18510462.30        </td><td>18918072.79        </td><td>19329718.16        </td><td>19763078.00        </td><td>20211424.85        </td><td>20664728.90        </td></tr>\n",
       "\t<tr><td>Armenia            </td><td> 1337032.09        </td><td> 1392892.13        </td><td> 1449641.49        </td><td> 1507619.77        </td><td> 1564367.60        </td><td> 1622103.53        </td><td> 1680497.75        </td><td> 1739063.02        </td></tr>\n",
       "\t<tr><td>Aruba              </td><td>   29414.72        </td><td>   29576.09        </td><td>   29737.87        </td><td>   29901.57        </td><td>   30081.36        </td><td>   30279.76        </td><td>   30467.42        </td><td>   30602.87        </td></tr>\n",
       "\t<tr><td>Australia          </td><td> 9934404.03        </td><td>10153969.77        </td><td>10412390.67        </td><td>10664093.55        </td><td>11047706.39        </td><td>11269945.50        </td><td>11461120.68        </td><td>11772934.25        </td></tr>\n",
       "</tbody>\n",
       "</table>\n"
      ],
      "text/latex": [
       "\\begin{tabular}{r|lllllllll}\n",
       " country & X1967 & X1968 & X1969 & X1970 & X1971 & X1972 & X1973 & X1974\\\\\n",
       "\\hline\n",
       "\t Afghanistan         &  1119067.20         &  1182159.06         &  1248900.79         &  1319848.78         &  1409001.09         &  1502401.79         &  1598835.45         &  1696444.83        \\\\\n",
       "\t Albania             &   621179.85         &   639964.46         &   658853.12         &   677839.12         &   698932.25         &   720206.57         &   741681.04         &   763385.45        \\\\\n",
       "\t Algeria             &  4826104.22         &  5017298.60         &  5219331.87         &  5429743.08         &  5619041.53         &  5815734.49         &  6020647.35         &  6235114.38        \\\\\n",
       "\t American Samoa      &    17348.66         &    17995.51         &    18618.68         &    19206.39         &    19752.02         &    20262.67         &    20741.97         &    21194.38        \\\\\n",
       "\t Andorra             &    15439.62         &    16726.99         &    18088.32         &    19528.96         &    20928.73         &    22405.84         &    23937.05         &    25481.98        \\\\\n",
       "\t Angola              &   757496.32         &   798459.26         &   841261.96         &   886401.63         &   955010.09         &  1027397.35         &  1103829.78         &  1184486.23        \\\\\n",
       "\t Antigua and Barbuda &    22086.25         &    22149.39         &    22182.92         &    22180.87         &    22560.87         &    22907.76         &    23221.29         &    23502.92        \\\\\n",
       "\t Argentina           & 17753280.98         & 18124103.64         & 18510462.30         & 18918072.79         & 19329718.16         & 19763078.00         & 20211424.85         & 20664728.90        \\\\\n",
       "\t Armenia             &  1337032.09         &  1392892.13         &  1449641.49         &  1507619.77         &  1564367.60         &  1622103.53         &  1680497.75         &  1739063.02        \\\\\n",
       "\t Aruba               &    29414.72         &    29576.09         &    29737.87         &    29901.57         &    30081.36         &    30279.76         &    30467.42         &    30602.87        \\\\\n",
       "\t Australia           &  9934404.03         & 10153969.77         & 10412390.67         & 10664093.55         & 11047706.39         & 11269945.50         & 11461120.68         & 11772934.25        \\\\\n",
       "\\end{tabular}\n"
      ],
      "text/markdown": [
       "\n",
       "country | X1967 | X1968 | X1969 | X1970 | X1971 | X1972 | X1973 | X1974 | \n",
       "|---|---|---|---|---|---|---|---|---|---|---|\n",
       "| Afghanistan         |  1119067.20         |  1182159.06         |  1248900.79         |  1319848.78         |  1409001.09         |  1502401.79         |  1598835.45         |  1696444.83         | \n",
       "| Albania             |   621179.85         |   639964.46         |   658853.12         |   677839.12         |   698932.25         |   720206.57         |   741681.04         |   763385.45         | \n",
       "| Algeria             |  4826104.22         |  5017298.60         |  5219331.87         |  5429743.08         |  5619041.53         |  5815734.49         |  6020647.35         |  6235114.38         | \n",
       "| American Samoa      |    17348.66         |    17995.51         |    18618.68         |    19206.39         |    19752.02         |    20262.67         |    20741.97         |    21194.38         | \n",
       "| Andorra             |    15439.62         |    16726.99         |    18088.32         |    19528.96         |    20928.73         |    22405.84         |    23937.05         |    25481.98         | \n",
       "| Angola              |   757496.32         |   798459.26         |   841261.96         |   886401.63         |   955010.09         |  1027397.35         |  1103829.78         |  1184486.23         | \n",
       "| Antigua and Barbuda |    22086.25         |    22149.39         |    22182.92         |    22180.87         |    22560.87         |    22907.76         |    23221.29         |    23502.92         | \n",
       "| Argentina           | 17753280.98         | 18124103.64         | 18510462.30         | 18918072.79         | 19329718.16         | 19763078.00         | 20211424.85         | 20664728.90         | \n",
       "| Armenia             |  1337032.09         |  1392892.13         |  1449641.49         |  1507619.77         |  1564367.60         |  1622103.53         |  1680497.75         |  1739063.02         | \n",
       "| Aruba               |    29414.72         |    29576.09         |    29737.87         |    29901.57         |    30081.36         |    30279.76         |    30467.42         |    30602.87         | \n",
       "| Australia           |  9934404.03         | 10153969.77         | 10412390.67         | 10664093.55         | 11047706.39         | 11269945.50         | 11461120.68         | 11772934.25         | \n",
       "\n",
       "\n"
      ],
      "text/plain": [
       "   country             X1967       X1968       X1969       X1970      \n",
       "1  Afghanistan          1119067.20  1182159.06  1248900.79  1319848.78\n",
       "2  Albania               621179.85   639964.46   658853.12   677839.12\n",
       "3  Algeria              4826104.22  5017298.60  5219331.87  5429743.08\n",
       "4  American Samoa         17348.66    17995.51    18618.68    19206.39\n",
       "5  Andorra                15439.62    16726.99    18088.32    19528.96\n",
       "6  Angola                757496.32   798459.26   841261.96   886401.63\n",
       "7  Antigua and Barbuda    22086.25    22149.39    22182.92    22180.87\n",
       "8  Argentina           17753280.98 18124103.64 18510462.30 18918072.79\n",
       "9  Armenia              1337032.09  1392892.13  1449641.49  1507619.77\n",
       "10 Aruba                  29414.72    29576.09    29737.87    29901.57\n",
       "11 Australia            9934404.03 10153969.77 10412390.67 10664093.55\n",
       "   X1971       X1972       X1973       X1974      \n",
       "1   1409001.09  1502401.79  1598835.45  1696444.83\n",
       "2    698932.25   720206.57   741681.04   763385.45\n",
       "3   5619041.53  5815734.49  6020647.35  6235114.38\n",
       "4     19752.02    20262.67    20741.97    21194.38\n",
       "5     20928.73    22405.84    23937.05    25481.98\n",
       "6    955010.09  1027397.35  1103829.78  1184486.23\n",
       "7     22560.87    22907.76    23221.29    23502.92\n",
       "8  19329718.16 19763078.00 20211424.85 20664728.90\n",
       "9   1564367.60  1622103.53  1680497.75  1739063.02\n",
       "10    30081.36    30279.76    30467.42    30602.87\n",
       "11 11047706.39 11269945.50 11461120.68 11772934.25"
      ]
     },
     "metadata": {},
     "output_type": "display_data"
    }
   ],
   "source": [
    "head(urban_pop, 11)"
   ]
  },
  {
   "cell_type": "code",
   "execution_count": 25,
   "metadata": {},
   "outputs": [],
   "source": [
    "## read.xls() wraps around read.table()"
   ]
  },
  {
   "cell_type": "code",
   "execution_count": 26,
   "metadata": {},
   "outputs": [
    {
     "data": {
      "text/html": [
       "<table>\n",
       "<thead><tr><th scope=col>country</th><th scope=col>year_1967</th><th scope=col>year_1968</th><th scope=col>year_1969</th><th scope=col>year_1970</th><th scope=col>year_1971</th><th scope=col>year_1972</th><th scope=col>year_1973</th><th scope=col>year_1974</th></tr></thead>\n",
       "<tbody>\n",
       "\t<tr><td>Cyprus            </td><td>  231929.74       </td><td>  237831.38       </td><td>  243983.34       </td><td>  250164.52       </td><td>  261213.21       </td><td>  272407.99       </td><td>  283774.90       </td><td>  295379.83       </td></tr>\n",
       "\t<tr><td>Czech Republic    </td><td> 6204409.91       </td><td> 6266304.50       </td><td> 6326368.97       </td><td> 6348794.89       </td><td> 6437055.17       </td><td> 6572632.32       </td><td> 6718465.53       </td><td> 6873458.18       </td></tr>\n",
       "\t<tr><td>Denmark           </td><td> 3777552.62       </td><td> 3826785.08       </td><td> 3874313.99       </td><td> 3930042.97       </td><td> 3981360.12       </td><td> 4028247.92       </td><td> 4076867.28       </td><td> 4120201.43       </td></tr>\n",
       "\t<tr><td>Djibouti          </td><td>   77788.04       </td><td>   84694.35       </td><td>   92045.77       </td><td>   99845.22       </td><td>  107799.69       </td><td>  116098.23       </td><td>  125391.58       </td><td>  136606.25       </td></tr>\n",
       "\t<tr><td>Dominica          </td><td>   27550.36       </td><td>   29527.32       </td><td>   31475.62       </td><td>   33328.25       </td><td>   34761.52       </td><td>   36049.99       </td><td>   37260.05       </td><td>   38501.47       </td></tr>\n",
       "\t<tr><td>Dominican Republic</td><td> 1535485.43       </td><td> 1625455.76       </td><td> 1718315.40       </td><td> 1814060.00       </td><td> 1915590.38       </td><td> 2020157.01       </td><td> 2127714.45       </td><td> 2238203.87       </td></tr>\n",
       "\t<tr><td>Ecuador           </td><td> 2059355.12       </td><td> 2151395.14       </td><td> 2246890.79       </td><td> 2345864.41       </td><td> 2453817.78       </td><td> 2565644.81       </td><td> 2681525.25       </td><td> 2801692.62       </td></tr>\n",
       "\t<tr><td>Egypt             </td><td>13798171.00       </td><td>14248342.19       </td><td>14703858.22       </td><td>15162858.52       </td><td>15603661.36       </td><td>16047814.69       </td><td>16498633.27       </td><td>16960827.93       </td></tr>\n",
       "\t<tr><td>El Salvador       </td><td> 1345528.98       </td><td> 1387218.33       </td><td> 1429378.98       </td><td> 1472181.26       </td><td> 1527985.34       </td><td> 1584758.18       </td><td> 1642098.95       </td><td> 1699470.87       </td></tr>\n",
       "\t<tr><td>Equatorial Guinea </td><td>   75364.50       </td><td>   77295.03       </td><td>   78445.74       </td><td>   78411.07       </td><td>   77055.29       </td><td>   74596.06       </td><td>   71438.96       </td><td>   68179.26       </td></tr>\n",
       "</tbody>\n",
       "</table>\n"
      ],
      "text/latex": [
       "\\begin{tabular}{r|lllllllll}\n",
       " country & year\\_1967 & year\\_1968 & year\\_1969 & year\\_1970 & year\\_1971 & year\\_1972 & year\\_1973 & year\\_1974\\\\\n",
       "\\hline\n",
       "\t Cyprus             &   231929.74        &   237831.38        &   243983.34        &   250164.52        &   261213.21        &   272407.99        &   283774.90        &   295379.83       \\\\\n",
       "\t Czech Republic     &  6204409.91        &  6266304.50        &  6326368.97        &  6348794.89        &  6437055.17        &  6572632.32        &  6718465.53        &  6873458.18       \\\\\n",
       "\t Denmark            &  3777552.62        &  3826785.08        &  3874313.99        &  3930042.97        &  3981360.12        &  4028247.92        &  4076867.28        &  4120201.43       \\\\\n",
       "\t Djibouti           &    77788.04        &    84694.35        &    92045.77        &    99845.22        &   107799.69        &   116098.23        &   125391.58        &   136606.25       \\\\\n",
       "\t Dominica           &    27550.36        &    29527.32        &    31475.62        &    33328.25        &    34761.52        &    36049.99        &    37260.05        &    38501.47       \\\\\n",
       "\t Dominican Republic &  1535485.43        &  1625455.76        &  1718315.40        &  1814060.00        &  1915590.38        &  2020157.01        &  2127714.45        &  2238203.87       \\\\\n",
       "\t Ecuador            &  2059355.12        &  2151395.14        &  2246890.79        &  2345864.41        &  2453817.78        &  2565644.81        &  2681525.25        &  2801692.62       \\\\\n",
       "\t Egypt              & 13798171.00        & 14248342.19        & 14703858.22        & 15162858.52        & 15603661.36        & 16047814.69        & 16498633.27        & 16960827.93       \\\\\n",
       "\t El Salvador        &  1345528.98        &  1387218.33        &  1429378.98        &  1472181.26        &  1527985.34        &  1584758.18        &  1642098.95        &  1699470.87       \\\\\n",
       "\t Equatorial Guinea  &    75364.50        &    77295.03        &    78445.74        &    78411.07        &    77055.29        &    74596.06        &    71438.96        &    68179.26       \\\\\n",
       "\\end{tabular}\n"
      ],
      "text/markdown": [
       "\n",
       "country | year_1967 | year_1968 | year_1969 | year_1970 | year_1971 | year_1972 | year_1973 | year_1974 | \n",
       "|---|---|---|---|---|---|---|---|---|---|\n",
       "| Cyprus             |   231929.74        |   237831.38        |   243983.34        |   250164.52        |   261213.21        |   272407.99        |   283774.90        |   295379.83        | \n",
       "| Czech Republic     |  6204409.91        |  6266304.50        |  6326368.97        |  6348794.89        |  6437055.17        |  6572632.32        |  6718465.53        |  6873458.18        | \n",
       "| Denmark            |  3777552.62        |  3826785.08        |  3874313.99        |  3930042.97        |  3981360.12        |  4028247.92        |  4076867.28        |  4120201.43        | \n",
       "| Djibouti           |    77788.04        |    84694.35        |    92045.77        |    99845.22        |   107799.69        |   116098.23        |   125391.58        |   136606.25        | \n",
       "| Dominica           |    27550.36        |    29527.32        |    31475.62        |    33328.25        |    34761.52        |    36049.99        |    37260.05        |    38501.47        | \n",
       "| Dominican Republic |  1535485.43        |  1625455.76        |  1718315.40        |  1814060.00        |  1915590.38        |  2020157.01        |  2127714.45        |  2238203.87        | \n",
       "| Ecuador            |  2059355.12        |  2151395.14        |  2246890.79        |  2345864.41        |  2453817.78        |  2565644.81        |  2681525.25        |  2801692.62        | \n",
       "| Egypt              | 13798171.00        | 14248342.19        | 14703858.22        | 15162858.52        | 15603661.36        | 16047814.69        | 16498633.27        | 16960827.93        | \n",
       "| El Salvador        |  1345528.98        |  1387218.33        |  1429378.98        |  1472181.26        |  1527985.34        |  1584758.18        |  1642098.95        |  1699470.87        | \n",
       "| Equatorial Guinea  |    75364.50        |    77295.03        |    78445.74        |    78411.07        |    77055.29        |    74596.06        |    71438.96        |    68179.26        | \n",
       "\n",
       "\n"
      ],
      "text/plain": [
       "   country            year_1967   year_1968   year_1969   year_1970  \n",
       "1  Cyprus               231929.74   237831.38   243983.34   250164.52\n",
       "2  Czech Republic      6204409.91  6266304.50  6326368.97  6348794.89\n",
       "3  Denmark             3777552.62  3826785.08  3874313.99  3930042.97\n",
       "4  Djibouti              77788.04    84694.35    92045.77    99845.22\n",
       "5  Dominica              27550.36    29527.32    31475.62    33328.25\n",
       "6  Dominican Republic  1535485.43  1625455.76  1718315.40  1814060.00\n",
       "7  Ecuador             2059355.12  2151395.14  2246890.79  2345864.41\n",
       "8  Egypt              13798171.00 14248342.19 14703858.22 15162858.52\n",
       "9  El Salvador         1345528.98  1387218.33  1429378.98  1472181.26\n",
       "10 Equatorial Guinea     75364.50    77295.03    78445.74    78411.07\n",
       "   year_1971   year_1972   year_1973   year_1974  \n",
       "1    261213.21   272407.99   283774.90   295379.83\n",
       "2   6437055.17  6572632.32  6718465.53  6873458.18\n",
       "3   3981360.12  4028247.92  4076867.28  4120201.43\n",
       "4    107799.69   116098.23   125391.58   136606.25\n",
       "5     34761.52    36049.99    37260.05    38501.47\n",
       "6   1915590.38  2020157.01  2127714.45  2238203.87\n",
       "7   2453817.78  2565644.81  2681525.25  2801692.62\n",
       "8  15603661.36 16047814.69 16498633.27 16960827.93\n",
       "9   1527985.34  1584758.18  1642098.95  1699470.87\n",
       "10    77055.29    74596.06    71438.96    68179.26"
      ]
     },
     "metadata": {},
     "output_type": "display_data"
    }
   ],
   "source": [
    "columns <- c(\"country\", paste0(\"year_\", 1967:1974))\n",
    "\n",
    "# Finish the read.xls call\n",
    "urban_pop <- read.xls(\"urbanpop.xls\", sheet = 2,\n",
    "                      skip = 50, header = FALSE, stringsAsFactors = FALSE,\n",
    "                      col.names = columns)\n",
    "\n",
    "# Print first 10 observation of urban_pop\n",
    "head(urban_pop,10)"
   ]
  },
  {
   "cell_type": "code",
   "execution_count": 27,
   "metadata": {},
   "outputs": [
    {
     "data": {
      "text/html": [
       "<table>\n",
       "<thead><tr><th scope=col>country</th><th scope=col>year_1967</th><th scope=col>year_1968</th><th scope=col>year_1969</th><th scope=col>year_1970</th><th scope=col>year_1971</th><th scope=col>year_1972</th><th scope=col>year_1973</th><th scope=col>year_1974</th></tr></thead>\n",
       "<tbody>\n",
       "\t<tr><td>Czech Republic    </td><td> 6204409.91       </td><td> 6266304.50       </td><td> 6326368.97       </td><td> 6348794.89       </td><td> 6437055.17       </td><td> 6572632.32       </td><td> 6718465.53       </td><td> 6873458.18       </td></tr>\n",
       "\t<tr><td>Denmark           </td><td> 3777552.62       </td><td> 3826785.08       </td><td> 3874313.99       </td><td> 3930042.97       </td><td> 3981360.12       </td><td> 4028247.92       </td><td> 4076867.28       </td><td> 4120201.43       </td></tr>\n",
       "\t<tr><td>Djibouti          </td><td>   77788.04       </td><td>   84694.35       </td><td>   92045.77       </td><td>   99845.22       </td><td>  107799.69       </td><td>  116098.23       </td><td>  125391.58       </td><td>  136606.25       </td></tr>\n",
       "\t<tr><td>Dominica          </td><td>   27550.36       </td><td>   29527.32       </td><td>   31475.62       </td><td>   33328.25       </td><td>   34761.52       </td><td>   36049.99       </td><td>   37260.05       </td><td>   38501.47       </td></tr>\n",
       "\t<tr><td>Dominican Republic</td><td> 1535485.43       </td><td> 1625455.76       </td><td> 1718315.40       </td><td> 1814060.00       </td><td> 1915590.38       </td><td> 2020157.01       </td><td> 2127714.45       </td><td> 2238203.87       </td></tr>\n",
       "\t<tr><td>Ecuador           </td><td> 2059355.12       </td><td> 2151395.14       </td><td> 2246890.79       </td><td> 2345864.41       </td><td> 2453817.78       </td><td> 2565644.81       </td><td> 2681525.25       </td><td> 2801692.62       </td></tr>\n",
       "\t<tr><td>Egypt             </td><td>13798171.00       </td><td>14248342.19       </td><td>14703858.22       </td><td>15162858.52       </td><td>15603661.36       </td><td>16047814.69       </td><td>16498633.27       </td><td>16960827.93       </td></tr>\n",
       "\t<tr><td>El Salvador       </td><td> 1345528.98       </td><td> 1387218.33       </td><td> 1429378.98       </td><td> 1472181.26       </td><td> 1527985.34       </td><td> 1584758.18       </td><td> 1642098.95       </td><td> 1699470.87       </td></tr>\n",
       "\t<tr><td>Equatorial Guinea </td><td>   75364.50       </td><td>   77295.03       </td><td>   78445.74       </td><td>   78411.07       </td><td>   77055.29       </td><td>   74596.06       </td><td>   71438.96       </td><td>   68179.26       </td></tr>\n",
       "\t<tr><td>Eritrea           </td><td>  202514.98       </td><td>  212164.57       </td><td>  222186.34       </td><td>  232592.71       </td><td>  242031.77       </td><td>  251789.36       </td><td>  262012.66       </td><td>  272904.73       </td></tr>\n",
       "</tbody>\n",
       "</table>\n"
      ],
      "text/latex": [
       "\\begin{tabular}{r|lllllllll}\n",
       " country & year\\_1967 & year\\_1968 & year\\_1969 & year\\_1970 & year\\_1971 & year\\_1972 & year\\_1973 & year\\_1974\\\\\n",
       "\\hline\n",
       "\t Czech Republic     &  6204409.91        &  6266304.50        &  6326368.97        &  6348794.89        &  6437055.17        &  6572632.32        &  6718465.53        &  6873458.18       \\\\\n",
       "\t Denmark            &  3777552.62        &  3826785.08        &  3874313.99        &  3930042.97        &  3981360.12        &  4028247.92        &  4076867.28        &  4120201.43       \\\\\n",
       "\t Djibouti           &    77788.04        &    84694.35        &    92045.77        &    99845.22        &   107799.69        &   116098.23        &   125391.58        &   136606.25       \\\\\n",
       "\t Dominica           &    27550.36        &    29527.32        &    31475.62        &    33328.25        &    34761.52        &    36049.99        &    37260.05        &    38501.47       \\\\\n",
       "\t Dominican Republic &  1535485.43        &  1625455.76        &  1718315.40        &  1814060.00        &  1915590.38        &  2020157.01        &  2127714.45        &  2238203.87       \\\\\n",
       "\t Ecuador            &  2059355.12        &  2151395.14        &  2246890.79        &  2345864.41        &  2453817.78        &  2565644.81        &  2681525.25        &  2801692.62       \\\\\n",
       "\t Egypt              & 13798171.00        & 14248342.19        & 14703858.22        & 15162858.52        & 15603661.36        & 16047814.69        & 16498633.27        & 16960827.93       \\\\\n",
       "\t El Salvador        &  1345528.98        &  1387218.33        &  1429378.98        &  1472181.26        &  1527985.34        &  1584758.18        &  1642098.95        &  1699470.87       \\\\\n",
       "\t Equatorial Guinea  &    75364.50        &    77295.03        &    78445.74        &    78411.07        &    77055.29        &    74596.06        &    71438.96        &    68179.26       \\\\\n",
       "\t Eritrea            &   202514.98        &   212164.57        &   222186.34        &   232592.71        &   242031.77        &   251789.36        &   262012.66        &   272904.73       \\\\\n",
       "\\end{tabular}\n"
      ],
      "text/markdown": [
       "\n",
       "country | year_1967 | year_1968 | year_1969 | year_1970 | year_1971 | year_1972 | year_1973 | year_1974 | \n",
       "|---|---|---|---|---|---|---|---|---|---|\n",
       "| Czech Republic     |  6204409.91        |  6266304.50        |  6326368.97        |  6348794.89        |  6437055.17        |  6572632.32        |  6718465.53        |  6873458.18        | \n",
       "| Denmark            |  3777552.62        |  3826785.08        |  3874313.99        |  3930042.97        |  3981360.12        |  4028247.92        |  4076867.28        |  4120201.43        | \n",
       "| Djibouti           |    77788.04        |    84694.35        |    92045.77        |    99845.22        |   107799.69        |   116098.23        |   125391.58        |   136606.25        | \n",
       "| Dominica           |    27550.36        |    29527.32        |    31475.62        |    33328.25        |    34761.52        |    36049.99        |    37260.05        |    38501.47        | \n",
       "| Dominican Republic |  1535485.43        |  1625455.76        |  1718315.40        |  1814060.00        |  1915590.38        |  2020157.01        |  2127714.45        |  2238203.87        | \n",
       "| Ecuador            |  2059355.12        |  2151395.14        |  2246890.79        |  2345864.41        |  2453817.78        |  2565644.81        |  2681525.25        |  2801692.62        | \n",
       "| Egypt              | 13798171.00        | 14248342.19        | 14703858.22        | 15162858.52        | 15603661.36        | 16047814.69        | 16498633.27        | 16960827.93        | \n",
       "| El Salvador        |  1345528.98        |  1387218.33        |  1429378.98        |  1472181.26        |  1527985.34        |  1584758.18        |  1642098.95        |  1699470.87        | \n",
       "| Equatorial Guinea  |    75364.50        |    77295.03        |    78445.74        |    78411.07        |    77055.29        |    74596.06        |    71438.96        |    68179.26        | \n",
       "| Eritrea            |   202514.98        |   212164.57        |   222186.34        |   232592.71        |   242031.77        |   251789.36        |   262012.66        |   272904.73        | \n",
       "\n",
       "\n"
      ],
      "text/plain": [
       "   country            year_1967   year_1968   year_1969   year_1970  \n",
       "1  Czech Republic      6204409.91  6266304.50  6326368.97  6348794.89\n",
       "2  Denmark             3777552.62  3826785.08  3874313.99  3930042.97\n",
       "3  Djibouti              77788.04    84694.35    92045.77    99845.22\n",
       "4  Dominica              27550.36    29527.32    31475.62    33328.25\n",
       "5  Dominican Republic  1535485.43  1625455.76  1718315.40  1814060.00\n",
       "6  Ecuador             2059355.12  2151395.14  2246890.79  2345864.41\n",
       "7  Egypt              13798171.00 14248342.19 14703858.22 15162858.52\n",
       "8  El Salvador         1345528.98  1387218.33  1429378.98  1472181.26\n",
       "9  Equatorial Guinea     75364.50    77295.03    78445.74    78411.07\n",
       "10 Eritrea              202514.98   212164.57   222186.34   232592.71\n",
       "   year_1971   year_1972   year_1973   year_1974  \n",
       "1   6437055.17  6572632.32  6718465.53  6873458.18\n",
       "2   3981360.12  4028247.92  4076867.28  4120201.43\n",
       "3    107799.69   116098.23   125391.58   136606.25\n",
       "4     34761.52    36049.99    37260.05    38501.47\n",
       "5   1915590.38  2020157.01  2127714.45  2238203.87\n",
       "6   2453817.78  2565644.81  2681525.25  2801692.62\n",
       "7  15603661.36 16047814.69 16498633.27 16960827.93\n",
       "8   1527985.34  1584758.18  1642098.95  1699470.87\n",
       "9     77055.29    74596.06    71438.96    68179.26\n",
       "10   242031.77   251789.36   262012.66   272904.73"
      ]
     },
     "metadata": {},
     "output_type": "display_data"
    }
   ],
   "source": [
    "columns <- c(\"country\", paste0(\"year_\", 1967:1974))\n",
    "\n",
    "# Finish the read.xls call\n",
    "urban_pop <- read.xls(\"urbanpop.xls\", sheet = 2,\n",
    "                      skip = 50, header = TRUE, stringsAsFactors = FALSE,\n",
    "                      col.names = columns)\n",
    "\n",
    "# Print first 10 observation of urban_pop\n",
    "head(urban_pop,10)"
   ]
  },
  {
   "cell_type": "code",
   "execution_count": 28,
   "metadata": {},
   "outputs": [
    {
     "data": {
      "text/html": [
       "<table>\n",
       "<thead><tr><th scope=col>country</th><th scope=col>year_1967</th><th scope=col>year_1968</th><th scope=col>year_1969</th><th scope=col>year_1970</th><th scope=col>year_1971</th><th scope=col>year_1972</th><th scope=col>year_1973</th><th scope=col>year_1974</th></tr></thead>\n",
       "<tbody>\n",
       "\t<tr><td>country            </td><td>    1967.00        </td><td>    1968.00        </td><td>    1969.00        </td><td>    1970.00        </td><td>    1971.00        </td><td>    1972.00        </td><td>    1973.00        </td><td>    1974.00        </td></tr>\n",
       "\t<tr><td>Afghanistan        </td><td> 1119067.20        </td><td> 1182159.06        </td><td> 1248900.79        </td><td> 1319848.78        </td><td> 1409001.09        </td><td> 1502401.79        </td><td> 1598835.45        </td><td> 1696444.83        </td></tr>\n",
       "\t<tr><td>Albania            </td><td>  621179.85        </td><td>  639964.46        </td><td>  658853.12        </td><td>  677839.12        </td><td>  698932.25        </td><td>  720206.57        </td><td>  741681.04        </td><td>  763385.45        </td></tr>\n",
       "\t<tr><td>Algeria            </td><td> 4826104.22        </td><td> 5017298.60        </td><td> 5219331.87        </td><td> 5429743.08        </td><td> 5619041.53        </td><td> 5815734.49        </td><td> 6020647.35        </td><td> 6235114.38        </td></tr>\n",
       "\t<tr><td>American Samoa     </td><td>   17348.66        </td><td>   17995.51        </td><td>   18618.68        </td><td>   19206.39        </td><td>   19752.02        </td><td>   20262.67        </td><td>   20741.97        </td><td>   21194.38        </td></tr>\n",
       "\t<tr><td>Andorra            </td><td>   15439.62        </td><td>   16726.99        </td><td>   18088.32        </td><td>   19528.96        </td><td>   20928.73        </td><td>   22405.84        </td><td>   23937.05        </td><td>   25481.98        </td></tr>\n",
       "\t<tr><td>Angola             </td><td>  757496.32        </td><td>  798459.26        </td><td>  841261.96        </td><td>  886401.63        </td><td>  955010.09        </td><td> 1027397.35        </td><td> 1103829.78        </td><td> 1184486.23        </td></tr>\n",
       "\t<tr><td>Antigua and Barbuda</td><td>   22086.25        </td><td>   22149.39        </td><td>   22182.92        </td><td>   22180.87        </td><td>   22560.87        </td><td>   22907.76        </td><td>   23221.29        </td><td>   23502.92        </td></tr>\n",
       "\t<tr><td>Argentina          </td><td>17753280.98        </td><td>18124103.64        </td><td>18510462.30        </td><td>18918072.79        </td><td>19329718.16        </td><td>19763078.00        </td><td>20211424.85        </td><td>20664728.90        </td></tr>\n",
       "\t<tr><td>Armenia            </td><td> 1337032.09        </td><td> 1392892.13        </td><td> 1449641.49        </td><td> 1507619.77        </td><td> 1564367.60        </td><td> 1622103.53        </td><td> 1680497.75        </td><td> 1739063.02        </td></tr>\n",
       "</tbody>\n",
       "</table>\n"
      ],
      "text/latex": [
       "\\begin{tabular}{r|lllllllll}\n",
       " country & year\\_1967 & year\\_1968 & year\\_1969 & year\\_1970 & year\\_1971 & year\\_1972 & year\\_1973 & year\\_1974\\\\\n",
       "\\hline\n",
       "\t country             &     1967.00         &     1968.00         &     1969.00         &     1970.00         &     1971.00         &     1972.00         &     1973.00         &     1974.00        \\\\\n",
       "\t Afghanistan         &  1119067.20         &  1182159.06         &  1248900.79         &  1319848.78         &  1409001.09         &  1502401.79         &  1598835.45         &  1696444.83        \\\\\n",
       "\t Albania             &   621179.85         &   639964.46         &   658853.12         &   677839.12         &   698932.25         &   720206.57         &   741681.04         &   763385.45        \\\\\n",
       "\t Algeria             &  4826104.22         &  5017298.60         &  5219331.87         &  5429743.08         &  5619041.53         &  5815734.49         &  6020647.35         &  6235114.38        \\\\\n",
       "\t American Samoa      &    17348.66         &    17995.51         &    18618.68         &    19206.39         &    19752.02         &    20262.67         &    20741.97         &    21194.38        \\\\\n",
       "\t Andorra             &    15439.62         &    16726.99         &    18088.32         &    19528.96         &    20928.73         &    22405.84         &    23937.05         &    25481.98        \\\\\n",
       "\t Angola              &   757496.32         &   798459.26         &   841261.96         &   886401.63         &   955010.09         &  1027397.35         &  1103829.78         &  1184486.23        \\\\\n",
       "\t Antigua and Barbuda &    22086.25         &    22149.39         &    22182.92         &    22180.87         &    22560.87         &    22907.76         &    23221.29         &    23502.92        \\\\\n",
       "\t Argentina           & 17753280.98         & 18124103.64         & 18510462.30         & 18918072.79         & 19329718.16         & 19763078.00         & 20211424.85         & 20664728.90        \\\\\n",
       "\t Armenia             &  1337032.09         &  1392892.13         &  1449641.49         &  1507619.77         &  1564367.60         &  1622103.53         &  1680497.75         &  1739063.02        \\\\\n",
       "\\end{tabular}\n"
      ],
      "text/markdown": [
       "\n",
       "country | year_1967 | year_1968 | year_1969 | year_1970 | year_1971 | year_1972 | year_1973 | year_1974 | \n",
       "|---|---|---|---|---|---|---|---|---|---|\n",
       "| country             |     1967.00         |     1968.00         |     1969.00         |     1970.00         |     1971.00         |     1972.00         |     1973.00         |     1974.00         | \n",
       "| Afghanistan         |  1119067.20         |  1182159.06         |  1248900.79         |  1319848.78         |  1409001.09         |  1502401.79         |  1598835.45         |  1696444.83         | \n",
       "| Albania             |   621179.85         |   639964.46         |   658853.12         |   677839.12         |   698932.25         |   720206.57         |   741681.04         |   763385.45         | \n",
       "| Algeria             |  4826104.22         |  5017298.60         |  5219331.87         |  5429743.08         |  5619041.53         |  5815734.49         |  6020647.35         |  6235114.38         | \n",
       "| American Samoa      |    17348.66         |    17995.51         |    18618.68         |    19206.39         |    19752.02         |    20262.67         |    20741.97         |    21194.38         | \n",
       "| Andorra             |    15439.62         |    16726.99         |    18088.32         |    19528.96         |    20928.73         |    22405.84         |    23937.05         |    25481.98         | \n",
       "| Angola              |   757496.32         |   798459.26         |   841261.96         |   886401.63         |   955010.09         |  1027397.35         |  1103829.78         |  1184486.23         | \n",
       "| Antigua and Barbuda |    22086.25         |    22149.39         |    22182.92         |    22180.87         |    22560.87         |    22907.76         |    23221.29         |    23502.92         | \n",
       "| Argentina           | 17753280.98         | 18124103.64         | 18510462.30         | 18918072.79         | 19329718.16         | 19763078.00         | 20211424.85         | 20664728.90         | \n",
       "| Armenia             |  1337032.09         |  1392892.13         |  1449641.49         |  1507619.77         |  1564367.60         |  1622103.53         |  1680497.75         |  1739063.02         | \n",
       "\n",
       "\n"
      ],
      "text/plain": [
       "   country             year_1967   year_1968   year_1969   year_1970  \n",
       "1  country                 1967.00     1968.00     1969.00     1970.00\n",
       "2  Afghanistan          1119067.20  1182159.06  1248900.79  1319848.78\n",
       "3  Albania               621179.85   639964.46   658853.12   677839.12\n",
       "4  Algeria              4826104.22  5017298.60  5219331.87  5429743.08\n",
       "5  American Samoa         17348.66    17995.51    18618.68    19206.39\n",
       "6  Andorra                15439.62    16726.99    18088.32    19528.96\n",
       "7  Angola                757496.32   798459.26   841261.96   886401.63\n",
       "8  Antigua and Barbuda    22086.25    22149.39    22182.92    22180.87\n",
       "9  Argentina           17753280.98 18124103.64 18510462.30 18918072.79\n",
       "10 Armenia              1337032.09  1392892.13  1449641.49  1507619.77\n",
       "   year_1971   year_1972   year_1973   year_1974  \n",
       "1      1971.00     1972.00     1973.00     1974.00\n",
       "2   1409001.09  1502401.79  1598835.45  1696444.83\n",
       "3    698932.25   720206.57   741681.04   763385.45\n",
       "4   5619041.53  5815734.49  6020647.35  6235114.38\n",
       "5     19752.02    20262.67    20741.97    21194.38\n",
       "6     20928.73    22405.84    23937.05    25481.98\n",
       "7    955010.09  1027397.35  1103829.78  1184486.23\n",
       "8     22560.87    22907.76    23221.29    23502.92\n",
       "9  19329718.16 19763078.00 20211424.85 20664728.90\n",
       "10  1564367.60  1622103.53  1680497.75  1739063.02"
      ]
     },
     "metadata": {},
     "output_type": "display_data"
    }
   ],
   "source": [
    "# Finish the read.xls call\n",
    "urban_pop <- read.xls(\"urbanpop.xls\", sheet = 2,\n",
    "                      header = FALSE, stringsAsFactors = FALSE,\n",
    "                      col.names = columns)\n",
    "\n",
    "# Print first 10 observation of urban_pop\n",
    "head(urban_pop,10)"
   ]
  },
  {
   "cell_type": "code",
   "execution_count": 29,
   "metadata": {},
   "outputs": [
    {
     "data": {
      "text/html": [
       "<table>\n",
       "<thead><tr><th scope=col>country</th><th scope=col>year_1967</th><th scope=col>year_1968</th><th scope=col>year_1969</th><th scope=col>year_1970</th><th scope=col>year_1971</th><th scope=col>year_1972</th><th scope=col>year_1973</th><th scope=col>year_1974</th></tr></thead>\n",
       "<tbody>\n",
       "\t<tr><td>Afghanistan        </td><td> 1119067.20        </td><td> 1182159.06        </td><td> 1248900.79        </td><td> 1319848.78        </td><td> 1409001.09        </td><td> 1502401.79        </td><td> 1598835.45        </td><td> 1696444.83        </td></tr>\n",
       "\t<tr><td>Albania            </td><td>  621179.85        </td><td>  639964.46        </td><td>  658853.12        </td><td>  677839.12        </td><td>  698932.25        </td><td>  720206.57        </td><td>  741681.04        </td><td>  763385.45        </td></tr>\n",
       "\t<tr><td>Algeria            </td><td> 4826104.22        </td><td> 5017298.60        </td><td> 5219331.87        </td><td> 5429743.08        </td><td> 5619041.53        </td><td> 5815734.49        </td><td> 6020647.35        </td><td> 6235114.38        </td></tr>\n",
       "\t<tr><td>American Samoa     </td><td>   17348.66        </td><td>   17995.51        </td><td>   18618.68        </td><td>   19206.39        </td><td>   19752.02        </td><td>   20262.67        </td><td>   20741.97        </td><td>   21194.38        </td></tr>\n",
       "\t<tr><td>Andorra            </td><td>   15439.62        </td><td>   16726.99        </td><td>   18088.32        </td><td>   19528.96        </td><td>   20928.73        </td><td>   22405.84        </td><td>   23937.05        </td><td>   25481.98        </td></tr>\n",
       "\t<tr><td>Angola             </td><td>  757496.32        </td><td>  798459.26        </td><td>  841261.96        </td><td>  886401.63        </td><td>  955010.09        </td><td> 1027397.35        </td><td> 1103829.78        </td><td> 1184486.23        </td></tr>\n",
       "\t<tr><td>Antigua and Barbuda</td><td>   22086.25        </td><td>   22149.39        </td><td>   22182.92        </td><td>   22180.87        </td><td>   22560.87        </td><td>   22907.76        </td><td>   23221.29        </td><td>   23502.92        </td></tr>\n",
       "\t<tr><td>Argentina          </td><td>17753280.98        </td><td>18124103.64        </td><td>18510462.30        </td><td>18918072.79        </td><td>19329718.16        </td><td>19763078.00        </td><td>20211424.85        </td><td>20664728.90        </td></tr>\n",
       "\t<tr><td>Armenia            </td><td> 1337032.09        </td><td> 1392892.13        </td><td> 1449641.49        </td><td> 1507619.77        </td><td> 1564367.60        </td><td> 1622103.53        </td><td> 1680497.75        </td><td> 1739063.02        </td></tr>\n",
       "\t<tr><td>Aruba              </td><td>   29414.72        </td><td>   29576.09        </td><td>   29737.87        </td><td>   29901.57        </td><td>   30081.36        </td><td>   30279.76        </td><td>   30467.42        </td><td>   30602.87        </td></tr>\n",
       "</tbody>\n",
       "</table>\n"
      ],
      "text/latex": [
       "\\begin{tabular}{r|lllllllll}\n",
       " country & year\\_1967 & year\\_1968 & year\\_1969 & year\\_1970 & year\\_1971 & year\\_1972 & year\\_1973 & year\\_1974\\\\\n",
       "\\hline\n",
       "\t Afghanistan         &  1119067.20         &  1182159.06         &  1248900.79         &  1319848.78         &  1409001.09         &  1502401.79         &  1598835.45         &  1696444.83        \\\\\n",
       "\t Albania             &   621179.85         &   639964.46         &   658853.12         &   677839.12         &   698932.25         &   720206.57         &   741681.04         &   763385.45        \\\\\n",
       "\t Algeria             &  4826104.22         &  5017298.60         &  5219331.87         &  5429743.08         &  5619041.53         &  5815734.49         &  6020647.35         &  6235114.38        \\\\\n",
       "\t American Samoa      &    17348.66         &    17995.51         &    18618.68         &    19206.39         &    19752.02         &    20262.67         &    20741.97         &    21194.38        \\\\\n",
       "\t Andorra             &    15439.62         &    16726.99         &    18088.32         &    19528.96         &    20928.73         &    22405.84         &    23937.05         &    25481.98        \\\\\n",
       "\t Angola              &   757496.32         &   798459.26         &   841261.96         &   886401.63         &   955010.09         &  1027397.35         &  1103829.78         &  1184486.23        \\\\\n",
       "\t Antigua and Barbuda &    22086.25         &    22149.39         &    22182.92         &    22180.87         &    22560.87         &    22907.76         &    23221.29         &    23502.92        \\\\\n",
       "\t Argentina           & 17753280.98         & 18124103.64         & 18510462.30         & 18918072.79         & 19329718.16         & 19763078.00         & 20211424.85         & 20664728.90        \\\\\n",
       "\t Armenia             &  1337032.09         &  1392892.13         &  1449641.49         &  1507619.77         &  1564367.60         &  1622103.53         &  1680497.75         &  1739063.02        \\\\\n",
       "\t Aruba               &    29414.72         &    29576.09         &    29737.87         &    29901.57         &    30081.36         &    30279.76         &    30467.42         &    30602.87        \\\\\n",
       "\\end{tabular}\n"
      ],
      "text/markdown": [
       "\n",
       "country | year_1967 | year_1968 | year_1969 | year_1970 | year_1971 | year_1972 | year_1973 | year_1974 | \n",
       "|---|---|---|---|---|---|---|---|---|---|\n",
       "| Afghanistan         |  1119067.20         |  1182159.06         |  1248900.79         |  1319848.78         |  1409001.09         |  1502401.79         |  1598835.45         |  1696444.83         | \n",
       "| Albania             |   621179.85         |   639964.46         |   658853.12         |   677839.12         |   698932.25         |   720206.57         |   741681.04         |   763385.45         | \n",
       "| Algeria             |  4826104.22         |  5017298.60         |  5219331.87         |  5429743.08         |  5619041.53         |  5815734.49         |  6020647.35         |  6235114.38         | \n",
       "| American Samoa      |    17348.66         |    17995.51         |    18618.68         |    19206.39         |    19752.02         |    20262.67         |    20741.97         |    21194.38         | \n",
       "| Andorra             |    15439.62         |    16726.99         |    18088.32         |    19528.96         |    20928.73         |    22405.84         |    23937.05         |    25481.98         | \n",
       "| Angola              |   757496.32         |   798459.26         |   841261.96         |   886401.63         |   955010.09         |  1027397.35         |  1103829.78         |  1184486.23         | \n",
       "| Antigua and Barbuda |    22086.25         |    22149.39         |    22182.92         |    22180.87         |    22560.87         |    22907.76         |    23221.29         |    23502.92         | \n",
       "| Argentina           | 17753280.98         | 18124103.64         | 18510462.30         | 18918072.79         | 19329718.16         | 19763078.00         | 20211424.85         | 20664728.90         | \n",
       "| Armenia             |  1337032.09         |  1392892.13         |  1449641.49         |  1507619.77         |  1564367.60         |  1622103.53         |  1680497.75         |  1739063.02         | \n",
       "| Aruba               |    29414.72         |    29576.09         |    29737.87         |    29901.57         |    30081.36         |    30279.76         |    30467.42         |    30602.87         | \n",
       "\n",
       "\n"
      ],
      "text/plain": [
       "   country             year_1967   year_1968   year_1969   year_1970  \n",
       "1  Afghanistan          1119067.20  1182159.06  1248900.79  1319848.78\n",
       "2  Albania               621179.85   639964.46   658853.12   677839.12\n",
       "3  Algeria              4826104.22  5017298.60  5219331.87  5429743.08\n",
       "4  American Samoa         17348.66    17995.51    18618.68    19206.39\n",
       "5  Andorra                15439.62    16726.99    18088.32    19528.96\n",
       "6  Angola                757496.32   798459.26   841261.96   886401.63\n",
       "7  Antigua and Barbuda    22086.25    22149.39    22182.92    22180.87\n",
       "8  Argentina           17753280.98 18124103.64 18510462.30 18918072.79\n",
       "9  Armenia              1337032.09  1392892.13  1449641.49  1507619.77\n",
       "10 Aruba                  29414.72    29576.09    29737.87    29901.57\n",
       "   year_1971   year_1972   year_1973   year_1974  \n",
       "1   1409001.09  1502401.79  1598835.45  1696444.83\n",
       "2    698932.25   720206.57   741681.04   763385.45\n",
       "3   5619041.53  5815734.49  6020647.35  6235114.38\n",
       "4     19752.02    20262.67    20741.97    21194.38\n",
       "5     20928.73    22405.84    23937.05    25481.98\n",
       "6    955010.09  1027397.35  1103829.78  1184486.23\n",
       "7     22560.87    22907.76    23221.29    23502.92\n",
       "8  19329718.16 19763078.00 20211424.85 20664728.90\n",
       "9   1564367.60  1622103.53  1680497.75  1739063.02\n",
       "10    30081.36    30279.76    30467.42    30602.87"
      ]
     },
     "metadata": {},
     "output_type": "display_data"
    }
   ],
   "source": [
    "# Finish the read.xls call\n",
    "urban_pop <- read.xls(\"urbanpop.xls\", sheet = 2,\n",
    "                      header = TRUE, stringsAsFactors = FALSE,\n",
    "                      col.names = columns)\n",
    "\n",
    "# Print first 10 observation of urban_pop\n",
    "head(urban_pop,10)"
   ]
  },
  {
   "cell_type": "markdown",
   "metadata": {},
   "source": [
    "## check the issue of header TRUE and header FALSE combined with passing column names"
   ]
  },
  {
   "cell_type": "code",
   "execution_count": 31,
   "metadata": {},
   "outputs": [],
   "source": [
    "# Add code to import data from all three sheets in urbanpop.xls\n",
    "path <- \"urbanpop.xls\"\n",
    "urban_sheet1 <- read.xls(path, sheet = 1, stringsAsFactors = FALSE)\n",
    "urban_sheet2 <- read.xls(path, sheet = 2, stringsAsFactors = FALSE)\n",
    "urban_sheet3 <- read.xls(path, sheet = 3, stringsAsFactors = FALSE)"
   ]
  },
  {
   "cell_type": "code",
   "execution_count": 33,
   "metadata": {},
   "outputs": [
    {
     "data": {
      "text/html": [
       "<table>\n",
       "<thead><tr><th scope=col>country</th><th scope=col>X1967</th><th scope=col>X1968</th><th scope=col>X1969</th><th scope=col>X1970</th><th scope=col>X1971</th><th scope=col>X1972</th><th scope=col>X1973</th><th scope=col>X1974</th></tr></thead>\n",
       "<tbody>\n",
       "\t<tr><td>Afghanistan</td><td>1119067.2  </td><td>1182159.1  </td><td>1248900.8  </td><td>1319848.8  </td><td>1409001.1  </td><td>1502401.8  </td><td>1598835    </td><td>1696444.8  </td></tr>\n",
       "\t<tr><td>Albania    </td><td> 621179.8  </td><td> 639964.5  </td><td> 658853.1  </td><td> 677839.1  </td><td> 698932.2  </td><td> 720206.6  </td><td> 741681    </td><td> 763385.5  </td></tr>\n",
       "\t<tr><td>Algeria    </td><td>4826104.2  </td><td>5017298.6  </td><td>5219331.9  </td><td>5429743.1  </td><td>5619041.5  </td><td>5815734.5  </td><td>6020647    </td><td>6235114.4  </td></tr>\n",
       "</tbody>\n",
       "</table>\n"
      ],
      "text/latex": [
       "\\begin{tabular}{r|lllllllll}\n",
       " country & X1967 & X1968 & X1969 & X1970 & X1971 & X1972 & X1973 & X1974\\\\\n",
       "\\hline\n",
       "\t Afghanistan & 1119067.2   & 1182159.1   & 1248900.8   & 1319848.8   & 1409001.1   & 1502401.8   & 1598835     & 1696444.8  \\\\\n",
       "\t Albania     &  621179.8   &  639964.5   &  658853.1   &  677839.1   &  698932.2   &  720206.6   &  741681     &  763385.5  \\\\\n",
       "\t Algeria     & 4826104.2   & 5017298.6   & 5219331.9   & 5429743.1   & 5619041.5   & 5815734.5   & 6020647     & 6235114.4  \\\\\n",
       "\\end{tabular}\n"
      ],
      "text/markdown": [
       "\n",
       "country | X1967 | X1968 | X1969 | X1970 | X1971 | X1972 | X1973 | X1974 | \n",
       "|---|---|---|\n",
       "| Afghanistan | 1119067.2   | 1182159.1   | 1248900.8   | 1319848.8   | 1409001.1   | 1502401.8   | 1598835     | 1696444.8   | \n",
       "| Albania     |  621179.8   |  639964.5   |  658853.1   |  677839.1   |  698932.2   |  720206.6   |  741681     |  763385.5   | \n",
       "| Algeria     | 4826104.2   | 5017298.6   | 5219331.9   | 5429743.1   | 5619041.5   | 5815734.5   | 6020647     | 6235114.4   | \n",
       "\n",
       "\n"
      ],
      "text/plain": [
       "  country     X1967     X1968     X1969     X1970     X1971     X1972    \n",
       "1 Afghanistan 1119067.2 1182159.1 1248900.8 1319848.8 1409001.1 1502401.8\n",
       "2 Albania      621179.8  639964.5  658853.1  677839.1  698932.2  720206.6\n",
       "3 Algeria     4826104.2 5017298.6 5219331.9 5429743.1 5619041.5 5815734.5\n",
       "  X1973   X1974    \n",
       "1 1598835 1696444.8\n",
       "2  741681  763385.5\n",
       "3 6020647 6235114.4"
      ]
     },
     "metadata": {},
     "output_type": "display_data"
    }
   ],
   "source": [
    "head(urban_sheet2,3)"
   ]
  },
  {
   "cell_type": "code",
   "execution_count": 34,
   "metadata": {},
   "outputs": [
    {
     "data": {
      "text/html": [
       "<table>\n",
       "<thead><tr><th scope=col>X1967</th><th scope=col>X1968</th><th scope=col>X1969</th><th scope=col>X1970</th><th scope=col>X1971</th><th scope=col>X1972</th><th scope=col>X1973</th><th scope=col>X1974</th></tr></thead>\n",
       "<tbody>\n",
       "\t<tr><td>1119067.2</td><td>1182159.1</td><td>1248900.8</td><td>1319848.8</td><td>1409001.1</td><td>1502401.8</td><td>1598835  </td><td>1696444.8</td></tr>\n",
       "\t<tr><td> 621179.8</td><td> 639964.5</td><td> 658853.1</td><td> 677839.1</td><td> 698932.2</td><td> 720206.6</td><td> 741681  </td><td> 763385.5</td></tr>\n",
       "\t<tr><td>4826104.2</td><td>5017298.6</td><td>5219331.9</td><td>5429743.1</td><td>5619041.5</td><td>5815734.5</td><td>6020647  </td><td>6235114.4</td></tr>\n",
       "</tbody>\n",
       "</table>\n"
      ],
      "text/latex": [
       "\\begin{tabular}{r|llllllll}\n",
       " X1967 & X1968 & X1969 & X1970 & X1971 & X1972 & X1973 & X1974\\\\\n",
       "\\hline\n",
       "\t 1119067.2 & 1182159.1 & 1248900.8 & 1319848.8 & 1409001.1 & 1502401.8 & 1598835   & 1696444.8\\\\\n",
       "\t  621179.8 &  639964.5 &  658853.1 &  677839.1 &  698932.2 &  720206.6 &  741681   &  763385.5\\\\\n",
       "\t 4826104.2 & 5017298.6 & 5219331.9 & 5429743.1 & 5619041.5 & 5815734.5 & 6020647   & 6235114.4\\\\\n",
       "\\end{tabular}\n"
      ],
      "text/markdown": [
       "\n",
       "X1967 | X1968 | X1969 | X1970 | X1971 | X1972 | X1973 | X1974 | \n",
       "|---|---|---|\n",
       "| 1119067.2 | 1182159.1 | 1248900.8 | 1319848.8 | 1409001.1 | 1502401.8 | 1598835   | 1696444.8 | \n",
       "|  621179.8 |  639964.5 |  658853.1 |  677839.1 |  698932.2 |  720206.6 |  741681   |  763385.5 | \n",
       "| 4826104.2 | 5017298.6 | 5219331.9 | 5429743.1 | 5619041.5 | 5815734.5 | 6020647   | 6235114.4 | \n",
       "\n",
       "\n"
      ],
      "text/plain": [
       "  X1967     X1968     X1969     X1970     X1971     X1972     X1973   X1974    \n",
       "1 1119067.2 1182159.1 1248900.8 1319848.8 1409001.1 1502401.8 1598835 1696444.8\n",
       "2  621179.8  639964.5  658853.1  677839.1  698932.2  720206.6  741681  763385.5\n",
       "3 4826104.2 5017298.6 5219331.9 5429743.1 5619041.5 5815734.5 6020647 6235114.4"
      ]
     },
     "metadata": {},
     "output_type": "display_data"
    }
   ],
   "source": [
    "head(urban_sheet2[-1],3)"
   ]
  },
  {
   "cell_type": "code",
   "execution_count": 35,
   "metadata": {},
   "outputs": [],
   "source": [
    "# Extend the cbind() call to include urban_sheet3: urban\n",
    "urban <- cbind(urban_sheet1, urban_sheet2[-1], urban_sheet3[-1])"
   ]
  },
  {
   "cell_type": "code",
   "execution_count": 36,
   "metadata": {},
   "outputs": [],
   "source": [
    "# Remove all rows with NAs from urban: urban_clean\n",
    "urban_clean <- na.omit(urban)"
   ]
  },
  {
   "cell_type": "code",
   "execution_count": 37,
   "metadata": {},
   "outputs": [
    {
     "data": {
      "text/plain": [
       "   country              X1960               X1961               X1962          \n",
       " Length:197         Min.   :     3378   Min.   :     3433   Min.   :     3481  \n",
       " Class :character   1st Qu.:    87735   1st Qu.:    92905   1st Qu.:    98331  \n",
       " Mode  :character   Median :   599714   Median :   630788   Median :   659464  \n",
       "                    Mean   :  5012388   Mean   :  5282488   Mean   :  5440972  \n",
       "                    3rd Qu.:  3130085   3rd Qu.:  3155370   3rd Qu.:  3250211  \n",
       "                    Max.   :126469700   Max.   :129268133   Max.   :131974143  \n",
       "     X1963               X1964               X1965          \n",
       " Min.   :     3532   Min.   :     3586   Min.   :     3644  \n",
       " 1st Qu.:   104988   1st Qu.:   112084   1st Qu.:   119322  \n",
       " Median :   704989   Median :   740609   Median :   774957  \n",
       " Mean   :  5612312   Mean   :  5786961   Mean   :  5964970  \n",
       " 3rd Qu.:  3416490   3rd Qu.:  3585464   3rd Qu.:  3666724  \n",
       " Max.   :134599886   Max.   :137205240   Max.   :139663053  \n",
       "     X1966               X1967               X1968          \n",
       " Min.   :     3706   Min.   :     3771   Min.   :     3835  \n",
       " 1st Qu.:   128565   1st Qu.:   138024   1st Qu.:   147846  \n",
       " Median :   809768   Median :   838449   Median :   890270  \n",
       " Mean   :  6126413   Mean   :  6288771   Mean   :  6451367  \n",
       " 3rd Qu.:  3871757   3rd Qu.:  4019906   3rd Qu.:  4158186  \n",
       " Max.   :141962708   Max.   :144201722   Max.   :146340364  \n",
       "     X1969               X1970               X1971          \n",
       " Min.   :     3893   Min.   :     3941   Min.   :     4017  \n",
       " 1st Qu.:   158252   1st Qu.:   171063   1st Qu.:   181483  \n",
       " Median :   929450   Median :   976471   Median :  1008630  \n",
       " Mean   :  6624909   Mean   :  6799110   Mean   :  6980895  \n",
       " 3rd Qu.:  4300669   3rd Qu.:  4440047   3rd Qu.:  4595966  \n",
       " Max.   :148475901   Max.   :150922373   Max.   :152863831  \n",
       "     X1972               X1973               X1974          \n",
       " Min.   :     4084   Min.   :     4146   Min.   :     4206  \n",
       " 1st Qu.:   189492   1st Qu.:   197792   1st Qu.:   205410  \n",
       " Median :  1048738   Median :  1097293   Median :  1159402  \n",
       " Mean   :  7165338   Mean   :  7349454   Mean   :  7540446  \n",
       " 3rd Qu.:  4766545   3rd Qu.:  4838297   3rd Qu.:  4906384  \n",
       " Max.   :154530473   Max.   :156034106   Max.   :157488074  \n",
       "     X1975               X1976               X1977          \n",
       " Min.   :     4267   Min.   :     4334   Min.   :     4402  \n",
       " 1st Qu.:   211746   1st Qu.:   216991   1st Qu.:   222209  \n",
       " Median :  1223146   Median :  1249829   Median :  1311276  \n",
       " Mean   :  7731973   Mean   :  7936401   Mean   :  8145945  \n",
       " 3rd Qu.:  5003370   3rd Qu.:  5121118   3rd Qu.:  5227677  \n",
       " Max.   :159452730   Max.   :165583752   Max.   :171550310  \n",
       "     X1978               X1979               X1980          \n",
       " Min.   :     4470   Min.   :     4539   Min.   :     4607  \n",
       " 1st Qu.:   227605   1st Qu.:   233461   1st Qu.:   242583  \n",
       " Median :  1340811   Median :  1448185   Median :  1592397  \n",
       " Mean   :  8361360   Mean   :  8583138   Mean   :  8808772  \n",
       " 3rd Qu.:  5352746   3rd Qu.:  5558850   3rd Qu.:  5815772  \n",
       " Max.   :177605736   Max.   :183785364   Max.   :189947471  \n",
       "     X1981               X1982               X1983          \n",
       " Min.   :     4645   Min.   :     4681   Min.   :     4716  \n",
       " 1st Qu.:   248948   1st Qu.:   257944   1st Qu.:   274139  \n",
       " Median :  1673079   Median :  1713060   Median :  1730626  \n",
       " Mean   :  9049163   Mean   :  9295226   Mean   :  9545035  \n",
       " 3rd Qu.:  6070457   3rd Qu.:  6337995   3rd Qu.:  6619987  \n",
       " Max.   :199385258   Max.   :209435968   Max.   :219680098  \n",
       "     X1984               X1985               X1986          \n",
       " Min.   :     4750   Min.   :     4782   Min.   :     4809  \n",
       " 1st Qu.:   284939   1st Qu.:   300928   1st Qu.:   307699  \n",
       " Median :  1749033   Median :  1786125   Median :  1850910  \n",
       " Mean   :  9798559   Mean   : 10058661   Mean   : 10323839  \n",
       " 3rd Qu.:  6918261   3rd Qu.:  6931780   3rd Qu.:  6935763  \n",
       " Max.   :229872397   Max.   :240414890   Max.   :251630158  \n",
       "     X1987               X1988               X1989          \n",
       " Min.   :     4835   Min.   :     4859   Min.   :     4883  \n",
       " 1st Qu.:   321125   1st Qu.:   334616   1st Qu.:   347348  \n",
       " Median :  1953694   Median :  1997011   Median :  1993544  \n",
       " Mean   : 10595817   Mean   : 10873041   Mean   : 11154458  \n",
       " 3rd Qu.:  6939905   3rd Qu.:  6945022   3rd Qu.:  6885378  \n",
       " Max.   :263433513   Max.   :275570541   Max.   :287810747  \n",
       "     X1990               X1991               X1992          \n",
       " Min.   :     4907   Min.   :     4946   Min.   :     4985  \n",
       " 1st Qu.:   370152   1st Qu.:   394611   1st Qu.:   418788  \n",
       " Median :  2066505   Median :  2150230   Median :  2237405  \n",
       " Mean   : 11438543   Mean   : 11725076   Mean   : 12010922  \n",
       " 3rd Qu.:  6830026   3rd Qu.:  6816589   3rd Qu.:  6820099  \n",
       " Max.   :300165618   Max.   :314689997   Max.   :329099365  \n",
       "     X1993               X1994               X1995          \n",
       " Min.   :     5024   Min.   :     5062   Min.   :     5100  \n",
       " 1st Qu.:   427457   1st Qu.:   435959   1st Qu.:   461993  \n",
       " Median :  2322158   Median :  2410297   Median :  2482393  \n",
       " Mean   : 12296949   Mean   : 12582930   Mean   : 12871480  \n",
       " 3rd Qu.:  7139656   3rd Qu.:  7499901   3rd Qu.:  7708571  \n",
       " Max.   :343555327   Max.   :358232230   Max.   :373035157  \n",
       "     X1996               X1997               X1998          \n",
       " Min.   :     5079   Min.   :     5055   Min.   :     5029  \n",
       " 1st Qu.:   488136   1st Qu.:   494203   1st Qu.:   498002  \n",
       " Median :  2522460   Median :  2606125   Median :  2664983  \n",
       " Mean   : 13165924   Mean   : 13463675   Mean   : 13762861  \n",
       " 3rd Qu.:  7686092   3rd Qu.:  7664316   3rd Qu.:  7784056  \n",
       " Max.   :388936607   Max.   :405031716   Max.   :421147610  \n",
       "     X1999               X2000               X2001          \n",
       " Min.   :     5001   Min.   :     4971   Min.   :     5003  \n",
       " 1st Qu.:   505144   1st Qu.:   525629   1st Qu.:   550638  \n",
       " Median :  2737809   Median :  2826647   Median :  2925851  \n",
       " Mean   : 14063387   Mean   : 14369278   Mean   : 14705743  \n",
       " 3rd Qu.:  8083488   3rd Qu.:  8305564   3rd Qu.:  8421967  \n",
       " Max.   :437126845   Max.   :452999147   Max.   :473204511  \n",
       "     X2002               X2003               X2004          \n",
       " Min.   :     5034   Min.   :     5064   Min.   :     5090  \n",
       " 1st Qu.:   567531   1st Qu.:   572094   1st Qu.:   593900  \n",
       " Median :  2928252   Median :  2944934   Median :  2994356  \n",
       " Mean   : 15043381   Mean   : 15384513   Mean   : 15730299  \n",
       " 3rd Qu.:  8448628   3rd Qu.:  8622732   3rd Qu.:  8999112  \n",
       " Max.   :493402140   Max.   :513607776   Max.   :533892175  \n",
       "     X2005               X2006               X2007          \n",
       " Min.   :     5111   Min.   :     5135   Min.   :     5155  \n",
       " 1st Qu.:   620511   1st Qu.:   632659   1st Qu.:   645172  \n",
       " Median :  3057923   Median :  3269963   Median :  3432024  \n",
       " Mean   : 16080262   Mean   : 16435872   Mean   : 16797484  \n",
       " 3rd Qu.:  9394001   3rd Qu.:  9689807   3rd Qu.:  9803381  \n",
       " Max.   :554367818   Max.   :575050081   Max.   :595731464  \n",
       "     X2008               X2009               X2010          \n",
       " Min.   :     5172   Min.   :     5189   Min.   :     5206  \n",
       " 1st Qu.:   658017   1st Qu.:   671085   1st Qu.:   684302  \n",
       " Median :  3589395   Median :  3652338   Median :  3676309  \n",
       " Mean   : 17164898   Mean   : 17533997   Mean   : 17904811  \n",
       " 3rd Qu.: 10210317   3rd Qu.: 10518289   3rd Qu.: 10618596  \n",
       " Max.   :616552722   Max.   :637533976   Max.   :658557734  \n",
       "     X2011          \n",
       " Min.   :     5233  \n",
       " 1st Qu.:   698009  \n",
       " Median :  3664664  \n",
       " Mean   : 18276297  \n",
       " 3rd Qu.: 10731193  \n",
       " Max.   :678796403  "
      ]
     },
     "metadata": {},
     "output_type": "display_data"
    }
   ],
   "source": [
    "# Print out a summary of urban_clean\n",
    "summary(urban_clean)"
   ]
  },
  {
   "cell_type": "markdown",
   "metadata": {},
   "source": [
    "# Reproducible Excel work with XLConnect"
   ]
  },
  {
   "cell_type": "code",
   "execution_count": 38,
   "metadata": {},
   "outputs": [
    {
     "name": "stderr",
     "output_type": "stream",
     "text": [
      "Loading required package: XLConnectJars\n",
      "XLConnect 0.2-15 by Mirai Solutions GmbH [aut],\n",
      "  Martin Studer [cre],\n",
      "  The Apache Software Foundation [ctb, cph] (Apache POI),\n",
      "  Graph Builder [ctb, cph] (Curvesapi Java library)\n",
      "http://www.mirai-solutions.com\n",
      "https://github.com/miraisolutions/xlconnect\n"
     ]
    }
   ],
   "source": [
    "library(XLConnect)"
   ]
  },
  {
   "cell_type": "code",
   "execution_count": 39,
   "metadata": {},
   "outputs": [],
   "source": [
    "my_book <- loadWorkbook(\"urbanpop.xlsx\")"
   ]
  },
  {
   "cell_type": "code",
   "execution_count": 40,
   "metadata": {},
   "outputs": [
    {
     "data": {
      "text/html": [
       "'workbook'"
      ],
      "text/latex": [
       "'workbook'"
      ],
      "text/markdown": [
       "'workbook'"
      ],
      "text/plain": [
       "[1] \"workbook\"\n",
       "attr(,\"package\")\n",
       "[1] \"XLConnect\""
      ]
     },
     "metadata": {},
     "output_type": "display_data"
    }
   ],
   "source": [
    "class(my_book)"
   ]
  },
  {
   "cell_type": "code",
   "execution_count": 41,
   "metadata": {},
   "outputs": [
    {
     "data": {
      "text/html": [
       "<ol class=list-inline>\n",
       "\t<li>'1960-1966'</li>\n",
       "\t<li>'1967-1974'</li>\n",
       "\t<li>'1975-2011'</li>\n",
       "</ol>\n"
      ],
      "text/latex": [
       "\\begin{enumerate*}\n",
       "\\item '1960-1966'\n",
       "\\item '1967-1974'\n",
       "\\item '1975-2011'\n",
       "\\end{enumerate*}\n"
      ],
      "text/markdown": [
       "1. '1960-1966'\n",
       "2. '1967-1974'\n",
       "3. '1975-2011'\n",
       "\n",
       "\n"
      ],
      "text/plain": [
       "[1] \"1960-1966\" \"1967-1974\" \"1975-2011\""
      ]
     },
     "metadata": {},
     "output_type": "display_data"
    }
   ],
   "source": [
    "## list and read excel sheets\n",
    "\n",
    "getSheets(my_book)"
   ]
  },
  {
   "cell_type": "code",
   "execution_count": 46,
   "metadata": {},
   "outputs": [
    {
     "data": {
      "text/html": [
       "<ol class=list-inline>\n",
       "\t<li>'1960-1966'</li>\n",
       "\t<li>'1967-1974'</li>\n",
       "\t<li>'1975-2011'</li>\n",
       "</ol>\n"
      ],
      "text/latex": [
       "\\begin{enumerate*}\n",
       "\\item '1960-1966'\n",
       "\\item '1967-1974'\n",
       "\\item '1975-2011'\n",
       "\\end{enumerate*}\n"
      ],
      "text/markdown": [
       "1. '1960-1966'\n",
       "2. '1967-1974'\n",
       "3. '1975-2011'\n",
       "\n",
       "\n"
      ],
      "text/plain": [
       "[1] \"1960-1966\" \"1967-1974\" \"1975-2011\""
      ]
     },
     "metadata": {},
     "output_type": "display_data"
    },
    {
     "data": {
      "text/html": [
       "<table>\n",
       "<thead><tr><th scope=col>country</th><th scope=col>X1967</th><th scope=col>X1968</th><th scope=col>X1969</th><th scope=col>X1970</th><th scope=col>X1971</th><th scope=col>X1972</th><th scope=col>X1973</th><th scope=col>X1974</th></tr></thead>\n",
       "<tbody>\n",
       "\t<tr><td>Afghanistan</td><td>1119067.2  </td><td>1182159.1  </td><td>1248900.8  </td><td>1319848.8  </td><td>1409001.1  </td><td>1502401.8  </td><td>1598835    </td><td>1696444.8  </td></tr>\n",
       "\t<tr><td>Albania    </td><td> 621179.8  </td><td> 639964.5  </td><td> 658853.1  </td><td> 677839.1  </td><td> 698932.2  </td><td> 720206.6  </td><td> 741681    </td><td> 763385.5  </td></tr>\n",
       "</tbody>\n",
       "</table>\n"
      ],
      "text/latex": [
       "\\begin{tabular}{r|lllllllll}\n",
       " country & X1967 & X1968 & X1969 & X1970 & X1971 & X1972 & X1973 & X1974\\\\\n",
       "\\hline\n",
       "\t Afghanistan & 1119067.2   & 1182159.1   & 1248900.8   & 1319848.8   & 1409001.1   & 1502401.8   & 1598835     & 1696444.8  \\\\\n",
       "\t Albania     &  621179.8   &  639964.5   &  658853.1   &  677839.1   &  698932.2   &  720206.6   &  741681     &  763385.5  \\\\\n",
       "\\end{tabular}\n"
      ],
      "text/markdown": [
       "\n",
       "country | X1967 | X1968 | X1969 | X1970 | X1971 | X1972 | X1973 | X1974 | \n",
       "|---|---|\n",
       "| Afghanistan | 1119067.2   | 1182159.1   | 1248900.8   | 1319848.8   | 1409001.1   | 1502401.8   | 1598835     | 1696444.8   | \n",
       "| Albania     |  621179.8   |  639964.5   |  658853.1   |  677839.1   |  698932.2   |  720206.6   |  741681     |  763385.5   | \n",
       "\n",
       "\n"
      ],
      "text/plain": [
       "  country     X1967     X1968     X1969     X1970     X1971     X1972    \n",
       "1 Afghanistan 1119067.2 1182159.1 1248900.8 1319848.8 1409001.1 1502401.8\n",
       "2 Albania      621179.8  639964.5  658853.1  677839.1  698932.2  720206.6\n",
       "  X1973   X1974    \n",
       "1 1598835 1696444.8\n",
       "2  741681  763385.5"
      ]
     },
     "metadata": {},
     "output_type": "display_data"
    }
   ],
   "source": [
    "my_book <- loadWorkbook(\"urbanpop.xlsx\")\n",
    "\n",
    "# List the sheets in my_book\n",
    "getSheets(my_book)\n",
    "\n",
    "# Import the second sheet in my_book\n",
    "readWorksheet(my_book, sheet = 2, startRow = 0, endRow = 3)"
   ]
  },
  {
   "cell_type": "code",
   "execution_count": 45,
   "metadata": {},
   "outputs": [],
   "source": [
    "## customize readWorksheet\n",
    "\n"
   ]
  },
  {
   "cell_type": "code",
   "execution_count": 47,
   "metadata": {},
   "outputs": [],
   "source": [
    "?readWorksheet"
   ]
  },
  {
   "cell_type": "code",
   "execution_count": 48,
   "metadata": {},
   "outputs": [],
   "source": [
    "## build connection to urbanpop.xlsx\n",
    "\n",
    "my_book <- loadWorkbook(\"urbanpop.xlsx\")"
   ]
  },
  {
   "cell_type": "code",
   "execution_count": 49,
   "metadata": {},
   "outputs": [],
   "source": [
    "# Import columns 3, 4, and 5 from second sheet in my_book: urbanpop_sel\n",
    "\n",
    "urbanpop_sel <- readWorksheet(my_book, startCol = 3, endCol = 5, sheet = 2)"
   ]
  },
  {
   "cell_type": "code",
   "execution_count": 50,
   "metadata": {},
   "outputs": [],
   "source": [
    "# Import first column from second sheet in my_book: countries\n",
    "\n",
    "countries <- readWorksheet(my_book, sheet = 2, startCol = 1, endCol = 1)"
   ]
  },
  {
   "cell_type": "code",
   "execution_count": 51,
   "metadata": {},
   "outputs": [],
   "source": [
    "selection <- cbind(countries, urbanpop_sel)"
   ]
  },
  {
   "cell_type": "code",
   "execution_count": 53,
   "metadata": {},
   "outputs": [
    {
     "data": {
      "text/html": [
       "<table>\n",
       "<thead><tr><th scope=col>country</th><th scope=col>X1968</th><th scope=col>X1969</th><th scope=col>X1970</th></tr></thead>\n",
       "<tbody>\n",
       "\t<tr><td>Afghanistan   </td><td>1182159.06    </td><td>1248900.79    </td><td>1319848.78    </td></tr>\n",
       "\t<tr><td>Albania       </td><td> 639964.46    </td><td> 658853.12    </td><td> 677839.12    </td></tr>\n",
       "\t<tr><td>Algeria       </td><td>5017298.60    </td><td>5219331.87    </td><td>5429743.08    </td></tr>\n",
       "\t<tr><td>American Samoa</td><td>  17995.51    </td><td>  18618.68    </td><td>  19206.39    </td></tr>\n",
       "\t<tr><td>Andorra       </td><td>  16726.99    </td><td>  18088.32    </td><td>  19528.96    </td></tr>\n",
       "\t<tr><td>Angola        </td><td> 798459.26    </td><td> 841261.96    </td><td> 886401.63    </td></tr>\n",
       "</tbody>\n",
       "</table>\n"
      ],
      "text/latex": [
       "\\begin{tabular}{r|llll}\n",
       " country & X1968 & X1969 & X1970\\\\\n",
       "\\hline\n",
       "\t Afghanistan    & 1182159.06     & 1248900.79     & 1319848.78    \\\\\n",
       "\t Albania        &  639964.46     &  658853.12     &  677839.12    \\\\\n",
       "\t Algeria        & 5017298.60     & 5219331.87     & 5429743.08    \\\\\n",
       "\t American Samoa &   17995.51     &   18618.68     &   19206.39    \\\\\n",
       "\t Andorra        &   16726.99     &   18088.32     &   19528.96    \\\\\n",
       "\t Angola         &  798459.26     &  841261.96     &  886401.63    \\\\\n",
       "\\end{tabular}\n"
      ],
      "text/markdown": [
       "\n",
       "country | X1968 | X1969 | X1970 | \n",
       "|---|---|---|---|---|---|\n",
       "| Afghanistan    | 1182159.06     | 1248900.79     | 1319848.78     | \n",
       "| Albania        |  639964.46     |  658853.12     |  677839.12     | \n",
       "| Algeria        | 5017298.60     | 5219331.87     | 5429743.08     | \n",
       "| American Samoa |   17995.51     |   18618.68     |   19206.39     | \n",
       "| Andorra        |   16726.99     |   18088.32     |   19528.96     | \n",
       "| Angola         |  798459.26     |  841261.96     |  886401.63     | \n",
       "\n",
       "\n"
      ],
      "text/plain": [
       "  country        X1968      X1969      X1970     \n",
       "1 Afghanistan    1182159.06 1248900.79 1319848.78\n",
       "2 Albania         639964.46  658853.12  677839.12\n",
       "3 Algeria        5017298.60 5219331.87 5429743.08\n",
       "4 American Samoa   17995.51   18618.68   19206.39\n",
       "5 Andorra          16726.99   18088.32   19528.96\n",
       "6 Angola          798459.26  841261.96  886401.63"
      ]
     },
     "metadata": {},
     "output_type": "display_data"
    }
   ],
   "source": [
    "head(selection)"
   ]
  },
  {
   "cell_type": "markdown",
   "metadata": {},
   "source": [
    "# Adapting sheets"
   ]
  },
  {
   "cell_type": "code",
   "execution_count": 54,
   "metadata": {},
   "outputs": [],
   "source": [
    "## some new info\n",
    "\n",
    "pop_2010 <- data.frame(\n",
    "Capital = c(\"New York\", \"Berlin\", \"Madrid\", \"Stockholm\"),\n",
    "    Population = c(8191900, 3460725, 3273000, 1372565)\n",
    ")"
   ]
  },
  {
   "cell_type": "code",
   "execution_count": 55,
   "metadata": {},
   "outputs": [
    {
     "data": {
      "text/html": [
       "<table>\n",
       "<thead><tr><th scope=col>Capital</th><th scope=col>Population</th></tr></thead>\n",
       "<tbody>\n",
       "\t<tr><td>New York </td><td>8191900  </td></tr>\n",
       "\t<tr><td>Berlin   </td><td>3460725  </td></tr>\n",
       "\t<tr><td>Madrid   </td><td>3273000  </td></tr>\n",
       "\t<tr><td>Stockholm</td><td>1372565  </td></tr>\n",
       "</tbody>\n",
       "</table>\n"
      ],
      "text/latex": [
       "\\begin{tabular}{r|ll}\n",
       " Capital & Population\\\\\n",
       "\\hline\n",
       "\t New York  & 8191900  \\\\\n",
       "\t Berlin    & 3460725  \\\\\n",
       "\t Madrid    & 3273000  \\\\\n",
       "\t Stockholm & 1372565  \\\\\n",
       "\\end{tabular}\n"
      ],
      "text/markdown": [
       "\n",
       "Capital | Population | \n",
       "|---|---|---|---|\n",
       "| New York  | 8191900   | \n",
       "| Berlin    | 3460725   | \n",
       "| Madrid    | 3273000   | \n",
       "| Stockholm | 1372565   | \n",
       "\n",
       "\n"
      ],
      "text/plain": [
       "  Capital   Population\n",
       "1 New York  8191900   \n",
       "2 Berlin    3460725   \n",
       "3 Madrid    3273000   \n",
       "4 Stockholm 1372565   "
      ]
     },
     "metadata": {},
     "output_type": "display_data"
    }
   ],
   "source": [
    "pop_2010"
   ]
  },
  {
   "cell_type": "code",
   "execution_count": 57,
   "metadata": {},
   "outputs": [],
   "source": [
    "book <- loadWorkbook(\"cities.xlsx\")"
   ]
  },
  {
   "cell_type": "code",
   "execution_count": 58,
   "metadata": {},
   "outputs": [],
   "source": [
    "createSheet(book, name = \"year_2010\")"
   ]
  },
  {
   "cell_type": "code",
   "execution_count": 59,
   "metadata": {},
   "outputs": [],
   "source": [
    "## add data to the sheet year_2010\n",
    "\n",
    "writeWorksheet(book, pop_2010, sheet = \"year_2010\")"
   ]
  },
  {
   "cell_type": "code",
   "execution_count": 65,
   "metadata": {},
   "outputs": [],
   "source": [
    "## saving workbook\n",
    "\n",
    "saveWorkbook(book, file = \"cities2.xlsx\")"
   ]
  },
  {
   "cell_type": "code",
   "execution_count": 61,
   "metadata": {},
   "outputs": [],
   "source": [
    "renameSheet(book, \"year_1990\", \"Y1990\")\n",
    "renameSheet(book, \"year_2000\", \"Y2000\")\n",
    "renameSheet(book, \"year_2010\", \"Y2010\")\n",
    "\n",
    "saveWorkbook(book, \"cities3.xlsx\")"
   ]
  },
  {
   "cell_type": "code",
   "execution_count": 64,
   "metadata": {},
   "outputs": [
    {
     "data": {
      "text/html": [
       "<ol class=list-inline>\n",
       "\t<li>'year_1990'</li>\n",
       "\t<li>'year_2000'</li>\n",
       "\t<li>'data_summary'</li>\n",
       "</ol>\n"
      ],
      "text/latex": [
       "\\begin{enumerate*}\n",
       "\\item 'year\\_1990'\n",
       "\\item 'year\\_2000'\n",
       "\\item 'data\\_summary'\n",
       "\\end{enumerate*}\n"
      ],
      "text/markdown": [
       "1. 'year_1990'\n",
       "2. 'year_2000'\n",
       "3. 'data_summary'\n",
       "\n",
       "\n"
      ],
      "text/plain": [
       "[1] \"year_1990\"    \"year_2000\"    \"data_summary\""
      ]
     },
     "metadata": {},
     "output_type": "display_data"
    }
   ],
   "source": [
    "## add worksheet\n",
    "\n",
    "## load workbook\n",
    "\n",
    "urban_pop <- loadWorkbook(\"urbanpop.xlsx\")\n",
    "\n",
    "## add a worksheet named data_summary\n",
    "\n",
    "createSheet(my_book, name = \"data_summary\")\n",
    "\n",
    "## check the sheet names\n",
    "\n",
    "getSheets(my_book)"
   ]
  },
  {
   "cell_type": "code",
   "execution_count": 66,
   "metadata": {},
   "outputs": [],
   "source": [
    "## Populate sheet\n",
    "\n",
    "# XLConnect is already available\n",
    "\n",
    "# Build connection to urbanpop.xlsx\n",
    "my_book <- loadWorkbook(\"urbanpop.xlsx\")\n",
    "\n",
    "# Add a worksheet to my_book, named \"data_summary\"\n",
    "createSheet(my_book, \"data_summary\")\n",
    "\n",
    "# Create data frame: summ\n",
    "sheets <- getSheets(my_book)[1:3]\n",
    "dims <- sapply(sheets, function(x) dim(readWorksheet(my_book, sheet = x)), USE.NAMES = FALSE)\n",
    "summ <- data.frame(sheets = sheets,\n",
    "                   nrows = dims[1, ],\n",
    "                   ncols = dims[2, ])\n",
    "\n",
    "# Add data in summ to \"data_summary\" sheet\n",
    "writeWorksheet(my_book, summ, sheet = \"data_summary\")\n",
    "\n",
    "# Save workbook as summary.xlsx\n",
    "saveWorkbook(my_book, \"summary.xlsx\")"
   ]
  },
  {
   "cell_type": "code",
   "execution_count": 67,
   "metadata": {},
   "outputs": [
    {
     "data": {
      "text/html": [
       "<ol class=list-inline>\n",
       "\t<li>'1960-1966'</li>\n",
       "\t<li>'1967-1974'</li>\n",
       "\t<li>'1975-2011'</li>\n",
       "\t<li>'summary'</li>\n",
       "</ol>\n"
      ],
      "text/latex": [
       "\\begin{enumerate*}\n",
       "\\item '1960-1966'\n",
       "\\item '1967-1974'\n",
       "\\item '1975-2011'\n",
       "\\item 'summary'\n",
       "\\end{enumerate*}\n"
      ],
      "text/markdown": [
       "1. '1960-1966'\n",
       "2. '1967-1974'\n",
       "3. '1975-2011'\n",
       "4. 'summary'\n",
       "\n",
       "\n"
      ],
      "text/plain": [
       "[1] \"1960-1966\" \"1967-1974\" \"1975-2011\" \"summary\"  "
      ]
     },
     "metadata": {},
     "output_type": "display_data"
    }
   ],
   "source": [
    "## renaming sheets\n",
    "\n",
    "# Rename \"data_summary\" sheet to \"summary\"\n",
    "renameSheet(my_book, \"data_summary\", \"summary\")\n",
    "\n",
    "# Print out sheets of my_book\n",
    "getSheets(my_book)\n",
    "\n",
    "# Save workbook to \"renamed.xlsx\"\n",
    "saveWorkbook(my_book, \"renamed.xlsx\")"
   ]
  },
  {
   "cell_type": "code",
   "execution_count": 68,
   "metadata": {},
   "outputs": [],
   "source": [
    "## removing sheets\n",
    "\n",
    "# Build connection to renamed.xlsx: my_book\n",
    "my_book <- loadWorkbook(\"renamed.xlsx\")\n",
    "\n",
    "# Remove the fourth sheet\n",
    "removeSheet(my_book, sheet = \"summary\")\n",
    "\n",
    "# Save workbook to \"clean.xlsx\"\n",
    "saveWorkbook(my_book, \"clean.xlsx\")"
   ]
  },
  {
   "cell_type": "code",
   "execution_count": null,
   "metadata": {},
   "outputs": [],
   "source": []
  }
 ],
 "metadata": {
  "kernelspec": {
   "display_name": "R",
   "language": "R",
   "name": "ir"
  },
  "language_info": {
   "codemirror_mode": "r",
   "file_extension": ".r",
   "mimetype": "text/x-r-source",
   "name": "R",
   "pygments_lexer": "r",
   "version": "3.5.1"
  }
 },
 "nbformat": 4,
 "nbformat_minor": 2
}
