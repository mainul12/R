{
 "cells": [
  {
   "cell_type": "markdown",
   "id": "005d9c3c",
   "metadata": {},
   "source": [
    "[Source:](http://www.cookbook-r.com/Manipulating_data/Converting_data_between_wide_and_long_format/)\n",
    "\n",
    "[Pivot longer](https://tidyr.tidyverse.org/reference/pivot_longer.html)"
   ]
  },
  {
   "cell_type": "code",
   "execution_count": 3,
   "id": "f25e944b",
   "metadata": {},
   "outputs": [
    {
     "name": "stderr",
     "output_type": "stream",
     "text": [
      "-- \u001b[1mAttaching packages\u001b[22m ----------------------------------------------------------- tidyverse 1.3.1 --\n",
      "\n",
      "\u001b[32mv\u001b[39m \u001b[34mggplot2\u001b[39m 3.3.4     \u001b[32mv\u001b[39m \u001b[34mpurrr  \u001b[39m 0.3.4\n",
      "\u001b[32mv\u001b[39m \u001b[34mtibble \u001b[39m 3.1.1     \u001b[32mv\u001b[39m \u001b[34mdplyr  \u001b[39m 1.0.6\n",
      "\u001b[32mv\u001b[39m \u001b[34mtidyr  \u001b[39m 1.1.3     \u001b[32mv\u001b[39m \u001b[34mstringr\u001b[39m 1.4.0\n",
      "\u001b[32mv\u001b[39m \u001b[34mreadr  \u001b[39m 1.4.0     \u001b[32mv\u001b[39m \u001b[34mforcats\u001b[39m 0.5.1\n",
      "\n",
      "-- \u001b[1mConflicts\u001b[22m -------------------------------------------------------------- tidyverse_conflicts() --\n",
      "\u001b[31mx\u001b[39m \u001b[34mdplyr\u001b[39m::\u001b[32mfilter()\u001b[39m masks \u001b[34mstats\u001b[39m::filter()\n",
      "\u001b[31mx\u001b[39m \u001b[34mdplyr\u001b[39m::\u001b[32mlag()\u001b[39m    masks \u001b[34mstats\u001b[39m::lag()\n",
      "\n"
     ]
    }
   ],
   "source": [
    "library(tidyverse)"
   ]
  },
  {
   "cell_type": "code",
   "execution_count": 8,
   "id": "bce5fdc6",
   "metadata": {},
   "outputs": [],
   "source": [
    "wide_data <- data.frame(subject = factor(c(1, 2, 3, 4)), sex = factor(x = c(\"M\", \"F\", \"F\", \"M\")),\n",
    "                       control = rnorm(4, mean = 10, sd = 3), \n",
    "                        cond1 = rnorm(4, mean = 20, sd = 10), \n",
    "                        cond2 = rnorm(4, mean = 9, sd = 0.1))"
   ]
  },
  {
   "cell_type": "code",
   "execution_count": 9,
   "id": "172925f0",
   "metadata": {},
   "outputs": [
    {
     "data": {
      "text/html": [
       "<table class=\"dataframe\">\n",
       "<caption>A data.frame: 4 × 5</caption>\n",
       "<thead>\n",
       "\t<tr><th scope=col>subject</th><th scope=col>sex</th><th scope=col>control</th><th scope=col>cond1</th><th scope=col>cond2</th></tr>\n",
       "\t<tr><th scope=col>&lt;fct&gt;</th><th scope=col>&lt;fct&gt;</th><th scope=col>&lt;dbl&gt;</th><th scope=col>&lt;dbl&gt;</th><th scope=col>&lt;dbl&gt;</th></tr>\n",
       "</thead>\n",
       "<tbody>\n",
       "\t<tr><td>1</td><td>M</td><td>11.54463</td><td>10.95272</td><td>9.212448</td></tr>\n",
       "\t<tr><td>2</td><td>F</td><td>13.08664</td><td>32.11338</td><td>9.016546</td></tr>\n",
       "\t<tr><td>3</td><td>F</td><td>11.20870</td><td>18.20959</td><td>9.047161</td></tr>\n",
       "\t<tr><td>4</td><td>M</td><td>10.10808</td><td>24.01204</td><td>8.934286</td></tr>\n",
       "</tbody>\n",
       "</table>\n"
      ],
      "text/latex": [
       "A data.frame: 4 × 5\n",
       "\\begin{tabular}{lllll}\n",
       " subject & sex & control & cond1 & cond2\\\\\n",
       " <fct> & <fct> & <dbl> & <dbl> & <dbl>\\\\\n",
       "\\hline\n",
       "\t 1 & M & 11.54463 & 10.95272 & 9.212448\\\\\n",
       "\t 2 & F & 13.08664 & 32.11338 & 9.016546\\\\\n",
       "\t 3 & F & 11.20870 & 18.20959 & 9.047161\\\\\n",
       "\t 4 & M & 10.10808 & 24.01204 & 8.934286\\\\\n",
       "\\end{tabular}\n"
      ],
      "text/markdown": [
       "\n",
       "A data.frame: 4 × 5\n",
       "\n",
       "| subject &lt;fct&gt; | sex &lt;fct&gt; | control &lt;dbl&gt; | cond1 &lt;dbl&gt; | cond2 &lt;dbl&gt; |\n",
       "|---|---|---|---|---|\n",
       "| 1 | M | 11.54463 | 10.95272 | 9.212448 |\n",
       "| 2 | F | 13.08664 | 32.11338 | 9.016546 |\n",
       "| 3 | F | 11.20870 | 18.20959 | 9.047161 |\n",
       "| 4 | M | 10.10808 | 24.01204 | 8.934286 |\n",
       "\n"
      ],
      "text/plain": [
       "  subject sex control  cond1    cond2   \n",
       "1 1       M   11.54463 10.95272 9.212448\n",
       "2 2       F   13.08664 32.11338 9.016546\n",
       "3 3       F   11.20870 18.20959 9.047161\n",
       "4 4       M   10.10808 24.01204 8.934286"
      ]
     },
     "metadata": {},
     "output_type": "display_data"
    }
   ],
   "source": [
    "wide_data"
   ]
  },
  {
   "cell_type": "code",
   "execution_count": 13,
   "id": "c1076715",
   "metadata": {},
   "outputs": [
    {
     "data": {
      "text/html": [
       "<table class=\"dataframe\">\n",
       "<caption>A tibble: 12 × 4</caption>\n",
       "<thead>\n",
       "\t<tr><th scope=col>subject</th><th scope=col>sex</th><th scope=col>condition</th><th scope=col>measurement</th></tr>\n",
       "\t<tr><th scope=col>&lt;fct&gt;</th><th scope=col>&lt;fct&gt;</th><th scope=col>&lt;chr&gt;</th><th scope=col>&lt;dbl&gt;</th></tr>\n",
       "</thead>\n",
       "<tbody>\n",
       "\t<tr><td>1</td><td>M</td><td>control</td><td>11.544628</td></tr>\n",
       "\t<tr><td>1</td><td>M</td><td>cond1  </td><td>10.952724</td></tr>\n",
       "\t<tr><td>1</td><td>M</td><td>cond2  </td><td> 9.212448</td></tr>\n",
       "\t<tr><td>2</td><td>F</td><td>control</td><td>13.086637</td></tr>\n",
       "\t<tr><td>2</td><td>F</td><td>cond1  </td><td>32.113385</td></tr>\n",
       "\t<tr><td>2</td><td>F</td><td>cond2  </td><td> 9.016546</td></tr>\n",
       "\t<tr><td>3</td><td>F</td><td>control</td><td>11.208701</td></tr>\n",
       "\t<tr><td>3</td><td>F</td><td>cond1  </td><td>18.209586</td></tr>\n",
       "\t<tr><td>3</td><td>F</td><td>cond2  </td><td> 9.047161</td></tr>\n",
       "\t<tr><td>4</td><td>M</td><td>control</td><td>10.108083</td></tr>\n",
       "\t<tr><td>4</td><td>M</td><td>cond1  </td><td>24.012037</td></tr>\n",
       "\t<tr><td>4</td><td>M</td><td>cond2  </td><td> 8.934286</td></tr>\n",
       "</tbody>\n",
       "</table>\n"
      ],
      "text/latex": [
       "A tibble: 12 × 4\n",
       "\\begin{tabular}{llll}\n",
       " subject & sex & condition & measurement\\\\\n",
       " <fct> & <fct> & <chr> & <dbl>\\\\\n",
       "\\hline\n",
       "\t 1 & M & control & 11.544628\\\\\n",
       "\t 1 & M & cond1   & 10.952724\\\\\n",
       "\t 1 & M & cond2   &  9.212448\\\\\n",
       "\t 2 & F & control & 13.086637\\\\\n",
       "\t 2 & F & cond1   & 32.113385\\\\\n",
       "\t 2 & F & cond2   &  9.016546\\\\\n",
       "\t 3 & F & control & 11.208701\\\\\n",
       "\t 3 & F & cond1   & 18.209586\\\\\n",
       "\t 3 & F & cond2   &  9.047161\\\\\n",
       "\t 4 & M & control & 10.108083\\\\\n",
       "\t 4 & M & cond1   & 24.012037\\\\\n",
       "\t 4 & M & cond2   &  8.934286\\\\\n",
       "\\end{tabular}\n"
      ],
      "text/markdown": [
       "\n",
       "A tibble: 12 × 4\n",
       "\n",
       "| subject &lt;fct&gt; | sex &lt;fct&gt; | condition &lt;chr&gt; | measurement &lt;dbl&gt; |\n",
       "|---|---|---|---|\n",
       "| 1 | M | control | 11.544628 |\n",
       "| 1 | M | cond1   | 10.952724 |\n",
       "| 1 | M | cond2   |  9.212448 |\n",
       "| 2 | F | control | 13.086637 |\n",
       "| 2 | F | cond1   | 32.113385 |\n",
       "| 2 | F | cond2   |  9.016546 |\n",
       "| 3 | F | control | 11.208701 |\n",
       "| 3 | F | cond1   | 18.209586 |\n",
       "| 3 | F | cond2   |  9.047161 |\n",
       "| 4 | M | control | 10.108083 |\n",
       "| 4 | M | cond1   | 24.012037 |\n",
       "| 4 | M | cond2   |  8.934286 |\n",
       "\n"
      ],
      "text/plain": [
       "   subject sex condition measurement\n",
       "1  1       M   control   11.544628  \n",
       "2  1       M   cond1     10.952724  \n",
       "3  1       M   cond2      9.212448  \n",
       "4  2       F   control   13.086637  \n",
       "5  2       F   cond1     32.113385  \n",
       "6  2       F   cond2      9.016546  \n",
       "7  3       F   control   11.208701  \n",
       "8  3       F   cond1     18.209586  \n",
       "9  3       F   cond2      9.047161  \n",
       "10 4       M   control   10.108083  \n",
       "11 4       M   cond1     24.012037  \n",
       "12 4       M   cond2      8.934286  "
      ]
     },
     "metadata": {},
     "output_type": "display_data"
    }
   ],
   "source": [
    "pivot_longer(wide_data, names_to = \"condition\", cols = c(control, cond1, cond2), values_to = \"measurement\")"
   ]
  },
  {
   "cell_type": "code",
   "execution_count": null,
   "id": "32d21c9f",
   "metadata": {},
   "outputs": [],
   "source": []
  }
 ],
 "metadata": {
  "kernelspec": {
   "display_name": "R",
   "language": "R",
   "name": "ir"
  },
  "language_info": {
   "codemirror_mode": "r",
   "file_extension": ".r",
   "mimetype": "text/x-r-source",
   "name": "R",
   "pygments_lexer": "r",
   "version": "4.0.5"
  }
 },
 "nbformat": 4,
 "nbformat_minor": 5
}
