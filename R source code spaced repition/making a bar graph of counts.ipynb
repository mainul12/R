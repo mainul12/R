{
 "cells": [
  {
   "cell_type": "markdown",
   "id": "23d3a9b0",
   "metadata": {},
   "source": [
    "[source](https://r-graphics.org/recipe-bar-graph-counts)"
   ]
  },
  {
   "cell_type": "code",
   "execution_count": 1,
   "id": "d3980679",
   "metadata": {},
   "outputs": [
    {
     "name": "stderr",
     "output_type": "stream",
     "text": [
      "-- \u001b[1mAttaching packages\u001b[22m ------------------------------------------------------------------------------- tidyverse 1.3.1 --\n",
      "\n",
      "\u001b[32mv\u001b[39m \u001b[34mggplot2\u001b[39m 3.3.4     \u001b[32mv\u001b[39m \u001b[34mpurrr  \u001b[39m 0.3.4\n",
      "\u001b[32mv\u001b[39m \u001b[34mtibble \u001b[39m 3.1.1     \u001b[32mv\u001b[39m \u001b[34mdplyr  \u001b[39m 1.0.6\n",
      "\u001b[32mv\u001b[39m \u001b[34mtidyr  \u001b[39m 1.1.3     \u001b[32mv\u001b[39m \u001b[34mstringr\u001b[39m 1.4.0\n",
      "\u001b[32mv\u001b[39m \u001b[34mreadr  \u001b[39m 1.4.0     \u001b[32mv\u001b[39m \u001b[34mforcats\u001b[39m 0.5.1\n",
      "\n",
      "-- \u001b[1mConflicts\u001b[22m ---------------------------------------------------------------------------------- tidyverse_conflicts() --\n",
      "\u001b[31mx\u001b[39m \u001b[34mdplyr\u001b[39m::\u001b[32mfilter()\u001b[39m masks \u001b[34mstats\u001b[39m::filter()\n",
      "\u001b[31mx\u001b[39m \u001b[34mdplyr\u001b[39m::\u001b[32mlag()\u001b[39m    masks \u001b[34mstats\u001b[39m::lag()\n",
      "\n"
     ]
    }
   ],
   "source": [
    "library(tidyverse)"
   ]
  },
  {
   "cell_type": "code",
   "execution_count": 2,
   "id": "b1d4705a",
   "metadata": {},
   "outputs": [
    {
     "name": "stderr",
     "output_type": "stream",
     "text": [
      "\n",
      "Attaching package: 'wakefield'\n",
      "\n",
      "\n",
      "The following object is masked from 'package:dplyr':\n",
      "\n",
      "    id\n",
      "\n",
      "\n"
     ]
    }
   ],
   "source": [
    "library(wakefield)"
   ]
  },
  {
   "cell_type": "code",
   "execution_count": 3,
   "id": "dffeaaef",
   "metadata": {},
   "outputs": [],
   "source": [
    "race_cat <- race(1000)"
   ]
  },
  {
   "cell_type": "code",
   "execution_count": 4,
   "id": "152f2d16",
   "metadata": {},
   "outputs": [],
   "source": [
    "sex_cat <- sex(1000)"
   ]
  },
  {
   "cell_type": "code",
   "execution_count": 5,
   "id": "af324eda",
   "metadata": {},
   "outputs": [],
   "source": [
    "age <- age(1000, 18:45) + rnorm(1000, mean = 5, sd = 1)"
   ]
  },
  {
   "cell_type": "code",
   "execution_count": 6,
   "id": "bfd74cfb",
   "metadata": {},
   "outputs": [],
   "source": [
    "df <- data.frame(race = race_cat, sex = sex_cat, age = age)"
   ]
  },
  {
   "cell_type": "code",
   "execution_count": 7,
   "id": "02fb1f32",
   "metadata": {},
   "outputs": [
    {
     "data": {
      "text/html": [
       "<table class=\"dataframe\">\n",
       "<caption>A data.frame: 6 × 3</caption>\n",
       "<thead>\n",
       "\t<tr><th></th><th scope=col>race</th><th scope=col>sex</th><th scope=col>age</th></tr>\n",
       "\t<tr><th></th><th scope=col>&lt;fct&gt;</th><th scope=col>&lt;fct&gt;</th><th scope=col>&lt;dbl&gt;</th></tr>\n",
       "</thead>\n",
       "<tbody>\n",
       "\t<tr><th scope=row>1</th><td>Hispanic</td><td>Female</td><td>38.89694</td></tr>\n",
       "\t<tr><th scope=row>2</th><td>Hispanic</td><td>Male  </td><td>22.26031</td></tr>\n",
       "\t<tr><th scope=row>3</th><td>Asian   </td><td>Male  </td><td>27.15858</td></tr>\n",
       "\t<tr><th scope=row>4</th><td>White   </td><td>Male  </td><td>23.45190</td></tr>\n",
       "\t<tr><th scope=row>5</th><td>Black   </td><td>Female</td><td>36.67182</td></tr>\n",
       "\t<tr><th scope=row>6</th><td>Hispanic</td><td>Male  </td><td>48.55575</td></tr>\n",
       "</tbody>\n",
       "</table>\n"
      ],
      "text/latex": [
       "A data.frame: 6 × 3\n",
       "\\begin{tabular}{r|lll}\n",
       "  & race & sex & age\\\\\n",
       "  & <fct> & <fct> & <dbl>\\\\\n",
       "\\hline\n",
       "\t1 & Hispanic & Female & 38.89694\\\\\n",
       "\t2 & Hispanic & Male   & 22.26031\\\\\n",
       "\t3 & Asian    & Male   & 27.15858\\\\\n",
       "\t4 & White    & Male   & 23.45190\\\\\n",
       "\t5 & Black    & Female & 36.67182\\\\\n",
       "\t6 & Hispanic & Male   & 48.55575\\\\\n",
       "\\end{tabular}\n"
      ],
      "text/markdown": [
       "\n",
       "A data.frame: 6 × 3\n",
       "\n",
       "| <!--/--> | race &lt;fct&gt; | sex &lt;fct&gt; | age &lt;dbl&gt; |\n",
       "|---|---|---|---|\n",
       "| 1 | Hispanic | Female | 38.89694 |\n",
       "| 2 | Hispanic | Male   | 22.26031 |\n",
       "| 3 | Asian    | Male   | 27.15858 |\n",
       "| 4 | White    | Male   | 23.45190 |\n",
       "| 5 | Black    | Female | 36.67182 |\n",
       "| 6 | Hispanic | Male   | 48.55575 |\n",
       "\n"
      ],
      "text/plain": [
       "  race     sex    age     \n",
       "1 Hispanic Female 38.89694\n",
       "2 Hispanic Male   22.26031\n",
       "3 Asian    Male   27.15858\n",
       "4 White    Male   23.45190\n",
       "5 Black    Female 36.67182\n",
       "6 Hispanic Male   48.55575"
      ]
     },
     "metadata": {},
     "output_type": "display_data"
    }
   ],
   "source": [
    "head(df)"
   ]
  },
  {
   "cell_type": "code",
   "execution_count": 8,
   "id": "23f178fc",
   "metadata": {},
   "outputs": [
    {
     "data": {
      "text/html": [
       "<table class=\"dataframe\">\n",
       "<caption>A tibble: 8 × 2</caption>\n",
       "<thead>\n",
       "\t<tr><th scope=col>race</th><th scope=col>count</th></tr>\n",
       "\t<tr><th scope=col>&lt;fct&gt;</th><th scope=col>&lt;int&gt;</th></tr>\n",
       "</thead>\n",
       "<tbody>\n",
       "\t<tr><td>White    </td><td>644</td></tr>\n",
       "\t<tr><td>Hispanic </td><td>170</td></tr>\n",
       "\t<tr><td>Black    </td><td>110</td></tr>\n",
       "\t<tr><td>Asian    </td><td> 53</td></tr>\n",
       "\t<tr><td>Bi-Racial</td><td> 12</td></tr>\n",
       "\t<tr><td>Native   </td><td>  5</td></tr>\n",
       "\t<tr><td>Other    </td><td>  2</td></tr>\n",
       "\t<tr><td>Hawaiian </td><td>  4</td></tr>\n",
       "</tbody>\n",
       "</table>\n"
      ],
      "text/latex": [
       "A tibble: 8 × 2\n",
       "\\begin{tabular}{ll}\n",
       " race & count\\\\\n",
       " <fct> & <int>\\\\\n",
       "\\hline\n",
       "\t White     & 644\\\\\n",
       "\t Hispanic  & 170\\\\\n",
       "\t Black     & 110\\\\\n",
       "\t Asian     &  53\\\\\n",
       "\t Bi-Racial &  12\\\\\n",
       "\t Native    &   5\\\\\n",
       "\t Other     &   2\\\\\n",
       "\t Hawaiian  &   4\\\\\n",
       "\\end{tabular}\n"
      ],
      "text/markdown": [
       "\n",
       "A tibble: 8 × 2\n",
       "\n",
       "| race &lt;fct&gt; | count &lt;int&gt; |\n",
       "|---|---|\n",
       "| White     | 644 |\n",
       "| Hispanic  | 170 |\n",
       "| Black     | 110 |\n",
       "| Asian     |  53 |\n",
       "| Bi-Racial |  12 |\n",
       "| Native    |   5 |\n",
       "| Other     |   2 |\n",
       "| Hawaiian  |   4 |\n",
       "\n"
      ],
      "text/plain": [
       "  race      count\n",
       "1 White     644  \n",
       "2 Hispanic  170  \n",
       "3 Black     110  \n",
       "4 Asian      53  \n",
       "5 Bi-Racial  12  \n",
       "6 Native      5  \n",
       "7 Other       2  \n",
       "8 Hawaiian    4  "
      ]
     },
     "metadata": {},
     "output_type": "display_data"
    }
   ],
   "source": [
    "df %>%\n",
    "    group_by(race) %>%\n",
    "    summarise(count = n())"
   ]
  },
  {
   "cell_type": "code",
   "execution_count": 9,
   "id": "596dbe79",
   "metadata": {},
   "outputs": [
    {
     "data": {
      "image/png": "[encoded data removed]",
      "text/plain": [
       "plot without title"
      ]
     },
     "metadata": {
      "image/png": {
       "height": 420,
       "width": 420
      }
     },
     "output_type": "display_data"
    }
   ],
   "source": [
    "ggplot(df, aes(race)) + \n",
    "    geom_bar()"
   ]
  },
  {
   "cell_type": "code",
   "execution_count": 11,
   "id": "eacabf2e",
   "metadata": {},
   "outputs": [
    {
     "data": {
      "image/png": "[encoded data removed]",
      "text/plain": [
       "plot without title"
      ]
     },
     "metadata": {
      "image/png": {
       "height": 420,
       "width": 420
      }
     },
     "output_type": "display_data"
    }
   ],
   "source": [
    "ggplot(df, aes(x = race, fill = sex)) + \n",
    "    geom_bar(position = \"dodge\")"
   ]
  },
  {
   "cell_type": "code",
   "execution_count": 12,
   "id": "3f7c62b3",
   "metadata": {},
   "outputs": [
    {
     "name": "stderr",
     "output_type": "stream",
     "text": [
      "`summarise()` has grouped output by 'race'. You can override using the `.groups` argument.\n",
      "\n"
     ]
    },
    {
     "data": {
      "text/html": [
       "<table class=\"dataframe\">\n",
       "<caption>A grouped_df: 16 × 3</caption>\n",
       "<thead>\n",
       "\t<tr><th scope=col>race</th><th scope=col>sex</th><th scope=col>count</th></tr>\n",
       "\t<tr><th scope=col>&lt;fct&gt;</th><th scope=col>&lt;fct&gt;</th><th scope=col>&lt;int&gt;</th></tr>\n",
       "</thead>\n",
       "<tbody>\n",
       "\t<tr><td>White    </td><td>Male  </td><td>353</td></tr>\n",
       "\t<tr><td>White    </td><td>Female</td><td>291</td></tr>\n",
       "\t<tr><td>Hispanic </td><td>Male  </td><td> 79</td></tr>\n",
       "\t<tr><td>Hispanic </td><td>Female</td><td> 91</td></tr>\n",
       "\t<tr><td>Black    </td><td>Male  </td><td> 64</td></tr>\n",
       "\t<tr><td>Black    </td><td>Female</td><td> 46</td></tr>\n",
       "\t<tr><td>Asian    </td><td>Male  </td><td> 26</td></tr>\n",
       "\t<tr><td>Asian    </td><td>Female</td><td> 27</td></tr>\n",
       "\t<tr><td>Bi-Racial</td><td>Male  </td><td>  8</td></tr>\n",
       "\t<tr><td>Bi-Racial</td><td>Female</td><td>  4</td></tr>\n",
       "\t<tr><td>Native   </td><td>Male  </td><td>  1</td></tr>\n",
       "\t<tr><td>Native   </td><td>Female</td><td>  4</td></tr>\n",
       "\t<tr><td>Other    </td><td>Male  </td><td>  1</td></tr>\n",
       "\t<tr><td>Other    </td><td>Female</td><td>  1</td></tr>\n",
       "\t<tr><td>Hawaiian </td><td>Male  </td><td>  2</td></tr>\n",
       "\t<tr><td>Hawaiian </td><td>Female</td><td>  2</td></tr>\n",
       "</tbody>\n",
       "</table>\n"
      ],
      "text/latex": [
       "A grouped\\_df: 16 × 3\n",
       "\\begin{tabular}{lll}\n",
       " race & sex & count\\\\\n",
       " <fct> & <fct> & <int>\\\\\n",
       "\\hline\n",
       "\t White     & Male   & 353\\\\\n",
       "\t White     & Female & 291\\\\\n",
       "\t Hispanic  & Male   &  79\\\\\n",
       "\t Hispanic  & Female &  91\\\\\n",
       "\t Black     & Male   &  64\\\\\n",
       "\t Black     & Female &  46\\\\\n",
       "\t Asian     & Male   &  26\\\\\n",
       "\t Asian     & Female &  27\\\\\n",
       "\t Bi-Racial & Male   &   8\\\\\n",
       "\t Bi-Racial & Female &   4\\\\\n",
       "\t Native    & Male   &   1\\\\\n",
       "\t Native    & Female &   4\\\\\n",
       "\t Other     & Male   &   1\\\\\n",
       "\t Other     & Female &   1\\\\\n",
       "\t Hawaiian  & Male   &   2\\\\\n",
       "\t Hawaiian  & Female &   2\\\\\n",
       "\\end{tabular}\n"
      ],
      "text/markdown": [
       "\n",
       "A grouped_df: 16 × 3\n",
       "\n",
       "| race &lt;fct&gt; | sex &lt;fct&gt; | count &lt;int&gt; |\n",
       "|---|---|---|\n",
       "| White     | Male   | 353 |\n",
       "| White     | Female | 291 |\n",
       "| Hispanic  | Male   |  79 |\n",
       "| Hispanic  | Female |  91 |\n",
       "| Black     | Male   |  64 |\n",
       "| Black     | Female |  46 |\n",
       "| Asian     | Male   |  26 |\n",
       "| Asian     | Female |  27 |\n",
       "| Bi-Racial | Male   |   8 |\n",
       "| Bi-Racial | Female |   4 |\n",
       "| Native    | Male   |   1 |\n",
       "| Native    | Female |   4 |\n",
       "| Other     | Male   |   1 |\n",
       "| Other     | Female |   1 |\n",
       "| Hawaiian  | Male   |   2 |\n",
       "| Hawaiian  | Female |   2 |\n",
       "\n"
      ],
      "text/plain": [
       "   race      sex    count\n",
       "1  White     Male   353  \n",
       "2  White     Female 291  \n",
       "3  Hispanic  Male    79  \n",
       "4  Hispanic  Female  91  \n",
       "5  Black     Male    64  \n",
       "6  Black     Female  46  \n",
       "7  Asian     Male    26  \n",
       "8  Asian     Female  27  \n",
       "9  Bi-Racial Male     8  \n",
       "10 Bi-Racial Female   4  \n",
       "11 Native    Male     1  \n",
       "12 Native    Female   4  \n",
       "13 Other     Male     1  \n",
       "14 Other     Female   1  \n",
       "15 Hawaiian  Male     2  \n",
       "16 Hawaiian  Female   2  "
      ]
     },
     "metadata": {},
     "output_type": "display_data"
    }
   ],
   "source": [
    "df %>%\n",
    "    group_by(race, sex) %>%\n",
    "    summarize(count = n())"
   ]
  },
  {
   "cell_type": "code",
   "execution_count": null,
   "id": "770a67bb",
   "metadata": {},
   "outputs": [],
   "source": []
  }
 ],
 "metadata": {
  "kernelspec": {
   "display_name": "R",
   "language": "R",
   "name": "ir"
  },
  "language_info": {
   "codemirror_mode": "r",
   "file_extension": ".r",
   "mimetype": "text/x-r-source",
   "name": "R",
   "pygments_lexer": "r",
   "version": "4.0.5"
  }
 },
 "nbformat": 4,
 "nbformat_minor": 5
}
