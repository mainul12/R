{
 "cells": [
  {
   "cell_type": "code",
   "execution_count": 1,
   "metadata": {},
   "outputs": [],
   "source": [
    "data <- rnorm(10000, mean = 400, sd = 10)"
   ]
  },
  {
   "cell_type": "code",
   "execution_count": 2,
   "metadata": {},
   "outputs": [],
   "source": [
    "df <- data.frame(data)"
   ]
  },
  {
   "cell_type": "code",
   "execution_count": 4,
   "metadata": {},
   "outputs": [
    {
     "name": "stderr",
     "output_type": "stream",
     "text": [
      "Warning message:\n",
      "\"package 'ggplot2' was built under R version 4.0.5\"\n"
     ]
    }
   ],
   "source": [
    "library(ggplot2)"
   ]
  },
  {
   "cell_type": "code",
   "execution_count": 5,
   "metadata": {},
   "outputs": [
    {
     "data": {
      "text/html": [
       "<table>\n",
       "<caption>A data.frame: 6 × 1</caption>\n",
       "<thead>\n",
       "\t<tr><th></th><th scope=col>data</th></tr>\n",
       "\t<tr><th></th><th scope=col>&lt;dbl&gt;</th></tr>\n",
       "</thead>\n",
       "<tbody>\n",
       "\t<tr><th scope=row>1</th><td>411.6342</td></tr>\n",
       "\t<tr><th scope=row>2</th><td>407.6488</td></tr>\n",
       "\t<tr><th scope=row>3</th><td>378.6183</td></tr>\n",
       "\t<tr><th scope=row>4</th><td>389.3958</td></tr>\n",
       "\t<tr><th scope=row>5</th><td>419.7316</td></tr>\n",
       "\t<tr><th scope=row>6</th><td>412.5048</td></tr>\n",
       "</tbody>\n",
       "</table>\n"
      ],
      "text/latex": [
       "A data.frame: 6 × 1\n",
       "\\begin{tabular}{r|l}\n",
       "  & data\\\\\n",
       "  & <dbl>\\\\\n",
       "\\hline\n",
       "\t1 & 411.6342\\\\\n",
       "\t2 & 407.6488\\\\\n",
       "\t3 & 378.6183\\\\\n",
       "\t4 & 389.3958\\\\\n",
       "\t5 & 419.7316\\\\\n",
       "\t6 & 412.5048\\\\\n",
       "\\end{tabular}\n"
      ],
      "text/markdown": [
       "\n",
       "A data.frame: 6 × 1\n",
       "\n",
       "| <!--/--> | data &lt;dbl&gt; |\n",
       "|---|---|\n",
       "| 1 | 411.6342 |\n",
       "| 2 | 407.6488 |\n",
       "| 3 | 378.6183 |\n",
       "| 4 | 389.3958 |\n",
       "| 5 | 419.7316 |\n",
       "| 6 | 412.5048 |\n",
       "\n"
      ],
      "text/plain": [
       "  data    \n",
       "1 411.6342\n",
       "2 407.6488\n",
       "3 378.6183\n",
       "4 389.3958\n",
       "5 419.7316\n",
       "6 412.5048"
      ]
     },
     "metadata": {},
     "output_type": "display_data"
    }
   ],
   "source": [
    "head(df)"
   ]
  },
  {
   "cell_type": "code",
   "execution_count": 10,
   "metadata": {},
   "outputs": [
    {
     "data": {
      "image/png": "[encoded data removed]",
      "text/plain": [
       "plot without title"
      ]
     },
     "metadata": {
      "image/png": {
       "height": 420,
       "width": 420
      }
     },
     "output_type": "display_data"
    }
   ],
   "source": [
    "ggplot(data = df, aes(data)) + \n",
    "    geom_histogram(fill=\"orange\", bins=100, color=\"black\")"
   ]
  },
  {
   "cell_type": "code",
   "execution_count": null,
   "metadata": {},
   "outputs": [],
   "source": []
  }
 ],
 "metadata": {
  "kernelspec": {
   "display_name": "R",
   "language": "R",
   "name": "ir"
  },
  "language_info": {
   "codemirror_mode": "r",
   "file_extension": ".r",
   "mimetype": "text/x-r-source",
   "name": "R",
   "pygments_lexer": "r",
   "version": "4.0.3"
  }
 },
 "nbformat": 4,
 "nbformat_minor": 4
}
