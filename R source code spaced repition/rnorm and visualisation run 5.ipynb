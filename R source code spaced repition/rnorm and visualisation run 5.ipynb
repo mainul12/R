{
 "cells": [
  {
   "cell_type": "code",
   "execution_count": 1,
   "id": "04d3a9e1",
   "metadata": {},
   "outputs": [
    {
     "name": "stderr",
     "output_type": "stream",
     "text": [
      "-- \u001b[1mAttaching packages\u001b[22m ------------------------------------------------------------------------------- tidyverse 1.3.1 --\n",
      "\n",
      "\u001b[32mv\u001b[39m \u001b[34mggplot2\u001b[39m 3.3.3     \u001b[32mv\u001b[39m \u001b[34mpurrr  \u001b[39m 0.3.4\n",
      "\u001b[32mv\u001b[39m \u001b[34mtibble \u001b[39m 3.1.1     \u001b[32mv\u001b[39m \u001b[34mdplyr  \u001b[39m 1.0.6\n",
      "\u001b[32mv\u001b[39m \u001b[34mtidyr  \u001b[39m 1.1.3     \u001b[32mv\u001b[39m \u001b[34mstringr\u001b[39m 1.4.0\n",
      "\u001b[32mv\u001b[39m \u001b[34mreadr  \u001b[39m 1.4.0     \u001b[32mv\u001b[39m \u001b[34mforcats\u001b[39m 0.5.1\n",
      "\n",
      "-- \u001b[1mConflicts\u001b[22m ---------------------------------------------------------------------------------- tidyverse_conflicts() --\n",
      "\u001b[31mx\u001b[39m \u001b[34mdplyr\u001b[39m::\u001b[32mfilter()\u001b[39m masks \u001b[34mstats\u001b[39m::filter()\n",
      "\u001b[31mx\u001b[39m \u001b[34mdplyr\u001b[39m::\u001b[32mlag()\u001b[39m    masks \u001b[34mstats\u001b[39m::lag()\n",
      "\n"
     ]
    }
   ],
   "source": [
    "library(tidyverse)"
   ]
  },
  {
   "cell_type": "code",
   "execution_count": 8,
   "id": "385b83b2",
   "metadata": {},
   "outputs": [],
   "source": [
    "tbl <- tibble(numbers = rnorm(1000))"
   ]
  },
  {
   "cell_type": "code",
   "execution_count": 3,
   "id": "4be0a8a4",
   "metadata": {},
   "outputs": [
    {
     "data": {
      "text/html": [
       "<table class=\"dataframe\">\n",
       "<caption>A tibble: 6 × 1</caption>\n",
       "<thead>\n",
       "\t<tr><th scope=col>numbers</th></tr>\n",
       "\t<tr><th scope=col>&lt;dbl&gt;</th></tr>\n",
       "</thead>\n",
       "<tbody>\n",
       "\t<tr><td> 0.3670377</td></tr>\n",
       "\t<tr><td> 1.5151441</td></tr>\n",
       "\t<tr><td> 0.8170056</td></tr>\n",
       "\t<tr><td>-0.6447385</td></tr>\n",
       "\t<tr><td>-0.1718367</td></tr>\n",
       "\t<tr><td> 1.1247673</td></tr>\n",
       "</tbody>\n",
       "</table>\n"
      ],
      "text/latex": [
       "A tibble: 6 × 1\n",
       "\\begin{tabular}{l}\n",
       " numbers\\\\\n",
       " <dbl>\\\\\n",
       "\\hline\n",
       "\t  0.3670377\\\\\n",
       "\t  1.5151441\\\\\n",
       "\t  0.8170056\\\\\n",
       "\t -0.6447385\\\\\n",
       "\t -0.1718367\\\\\n",
       "\t  1.1247673\\\\\n",
       "\\end{tabular}\n"
      ],
      "text/markdown": [
       "\n",
       "A tibble: 6 × 1\n",
       "\n",
       "| numbers &lt;dbl&gt; |\n",
       "|---|\n",
       "|  0.3670377 |\n",
       "|  1.5151441 |\n",
       "|  0.8170056 |\n",
       "| -0.6447385 |\n",
       "| -0.1718367 |\n",
       "|  1.1247673 |\n",
       "\n"
      ],
      "text/plain": [
       "  numbers   \n",
       "1  0.3670377\n",
       "2  1.5151441\n",
       "3  0.8170056\n",
       "4 -0.6447385\n",
       "5 -0.1718367\n",
       "6  1.1247673"
      ]
     },
     "metadata": {},
     "output_type": "display_data"
    }
   ],
   "source": [
    "tbl %>%\n",
    "    head()"
   ]
  },
  {
   "cell_type": "code",
   "execution_count": 4,
   "id": "6f454915",
   "metadata": {},
   "outputs": [],
   "source": [
    "options(repr.plot.width = 15, repr.plot.height = 9, repr.plot.res = 100)"
   ]
  },
  {
   "cell_type": "code",
   "execution_count": 10,
   "id": "948366c9",
   "metadata": {},
   "outputs": [
    {
     "data": {
      "image/png": "[encoded data removed]",
      "text/plain": [
       "plot without title"
      ]
     },
     "metadata": {
      "image/png": {
       "height": 450,
       "width": 750
      }
     },
     "output_type": "display_data"
    }
   ],
   "source": [
    "ggplot(tbl, aes(x = numbers)) + \n",
    "    geom_histogram(bins = 50, color=\"black\", fill=\"orange\") +\n",
    "    theme(text = element_text(size = 24))"
   ]
  },
  {
   "cell_type": "code",
   "execution_count": null,
   "id": "d7c0bd69",
   "metadata": {},
   "outputs": [],
   "source": []
  }
 ],
 "metadata": {
  "kernelspec": {
   "display_name": "R",
   "language": "R",
   "name": "ir"
  },
  "language_info": {
   "codemirror_mode": "r",
   "file_extension": ".r",
   "mimetype": "text/x-r-source",
   "name": "R",
   "pygments_lexer": "r",
   "version": "4.0.5"
  }
 },
 "nbformat": 4,
 "nbformat_minor": 5
}
