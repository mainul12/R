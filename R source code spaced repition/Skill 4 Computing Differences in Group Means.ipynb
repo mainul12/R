{
 "cells": [
  {
   "cell_type": "markdown",
   "id": "c3ed8ea9",
   "metadata": {},
   "source": [
    "[Source:](https://psyteachr.github.io/ug2-practical/permutation-tests-a-skill-set.html)"
   ]
  },
  {
   "cell_type": "code",
   "execution_count": 1,
   "id": "abe14c42",
   "metadata": {},
   "outputs": [],
   "source": [
    "library(tibble)"
   ]
  },
  {
   "cell_type": "code",
   "execution_count": 7,
   "id": "a8b4ab33",
   "metadata": {},
   "outputs": [
    {
     "name": "stderr",
     "output_type": "stream",
     "text": [
      "\n",
      "Attaching package: 'dplyr'\n",
      "\n",
      "\n",
      "The following objects are masked from 'package:stats':\n",
      "\n",
      "    filter, lag\n",
      "\n",
      "\n",
      "The following objects are masked from 'package:base':\n",
      "\n",
      "    intersect, setdiff, setequal, union\n",
      "\n",
      "\n"
     ]
    }
   ],
   "source": [
    "library(dplyr)"
   ]
  },
  {
   "cell_type": "code",
   "execution_count": 11,
   "id": "f3d2f418",
   "metadata": {},
   "outputs": [],
   "source": [
    "library(purrr)"
   ]
  },
  {
   "cell_type": "code",
   "execution_count": 2,
   "id": "2e1154e2",
   "metadata": {},
   "outputs": [],
   "source": [
    "my_data <- tibble(group = rep(c(\"A\", \"B\"), c(20, 20)),\n",
    "                 Y = c(rnorm(20,20,5), rnorm(20, -20, 5)))"
   ]
  },
  {
   "cell_type": "code",
   "execution_count": 4,
   "id": "ed01d3fb",
   "metadata": {},
   "outputs": [
    {
     "data": {
      "text/html": [
       "<table class=\"dataframe\">\n",
       "<caption>A tibble: 6 × 2</caption>\n",
       "<thead>\n",
       "\t<tr><th scope=col>group</th><th scope=col>Y</th></tr>\n",
       "\t<tr><th scope=col>&lt;chr&gt;</th><th scope=col>&lt;dbl&gt;</th></tr>\n",
       "</thead>\n",
       "<tbody>\n",
       "\t<tr><td>A</td><td>20.41599</td></tr>\n",
       "\t<tr><td>A</td><td>24.99233</td></tr>\n",
       "\t<tr><td>A</td><td>21.14108</td></tr>\n",
       "\t<tr><td>A</td><td>21.92270</td></tr>\n",
       "\t<tr><td>A</td><td>15.87350</td></tr>\n",
       "\t<tr><td>A</td><td>16.29228</td></tr>\n",
       "</tbody>\n",
       "</table>\n"
      ],
      "text/latex": [
       "A tibble: 6 × 2\n",
       "\\begin{tabular}{ll}\n",
       " group & Y\\\\\n",
       " <chr> & <dbl>\\\\\n",
       "\\hline\n",
       "\t A & 20.41599\\\\\n",
       "\t A & 24.99233\\\\\n",
       "\t A & 21.14108\\\\\n",
       "\t A & 21.92270\\\\\n",
       "\t A & 15.87350\\\\\n",
       "\t A & 16.29228\\\\\n",
       "\\end{tabular}\n"
      ],
      "text/markdown": [
       "\n",
       "A tibble: 6 × 2\n",
       "\n",
       "| group &lt;chr&gt; | Y &lt;dbl&gt; |\n",
       "|---|---|\n",
       "| A | 20.41599 |\n",
       "| A | 24.99233 |\n",
       "| A | 21.14108 |\n",
       "| A | 21.92270 |\n",
       "| A | 15.87350 |\n",
       "| A | 16.29228 |\n",
       "\n"
      ],
      "text/plain": [
       "  group Y       \n",
       "1 A     20.41599\n",
       "2 A     24.99233\n",
       "3 A     21.14108\n",
       "4 A     21.92270\n",
       "5 A     15.87350\n",
       "6 A     16.29228"
      ]
     },
     "metadata": {},
     "output_type": "display_data"
    }
   ],
   "source": [
    "head(my_data)"
   ]
  },
  {
   "cell_type": "code",
   "execution_count": 5,
   "id": "0a3bda05",
   "metadata": {},
   "outputs": [
    {
     "data": {
      "text/html": [
       "<table class=\"dataframe\">\n",
       "<caption>A tibble: 6 × 2</caption>\n",
       "<thead>\n",
       "\t<tr><th scope=col>group</th><th scope=col>Y</th></tr>\n",
       "\t<tr><th scope=col>&lt;chr&gt;</th><th scope=col>&lt;dbl&gt;</th></tr>\n",
       "</thead>\n",
       "<tbody>\n",
       "\t<tr><td>B</td><td>-17.12882</td></tr>\n",
       "\t<tr><td>B</td><td>-26.55424</td></tr>\n",
       "\t<tr><td>B</td><td>-26.36260</td></tr>\n",
       "\t<tr><td>B</td><td>-18.28417</td></tr>\n",
       "\t<tr><td>B</td><td>-20.73865</td></tr>\n",
       "\t<tr><td>B</td><td>-21.98203</td></tr>\n",
       "</tbody>\n",
       "</table>\n"
      ],
      "text/latex": [
       "A tibble: 6 × 2\n",
       "\\begin{tabular}{ll}\n",
       " group & Y\\\\\n",
       " <chr> & <dbl>\\\\\n",
       "\\hline\n",
       "\t B & -17.12882\\\\\n",
       "\t B & -26.55424\\\\\n",
       "\t B & -26.36260\\\\\n",
       "\t B & -18.28417\\\\\n",
       "\t B & -20.73865\\\\\n",
       "\t B & -21.98203\\\\\n",
       "\\end{tabular}\n"
      ],
      "text/markdown": [
       "\n",
       "A tibble: 6 × 2\n",
       "\n",
       "| group &lt;chr&gt; | Y &lt;dbl&gt; |\n",
       "|---|---|\n",
       "| B | -17.12882 |\n",
       "| B | -26.55424 |\n",
       "| B | -26.36260 |\n",
       "| B | -18.28417 |\n",
       "| B | -20.73865 |\n",
       "| B | -21.98203 |\n",
       "\n"
      ],
      "text/plain": [
       "  group Y        \n",
       "1 B     -17.12882\n",
       "2 B     -26.55424\n",
       "3 B     -26.36260\n",
       "4 B     -18.28417\n",
       "5 B     -20.73865\n",
       "6 B     -21.98203"
      ]
     },
     "metadata": {},
     "output_type": "display_data"
    }
   ],
   "source": [
    "tail(my_data)"
   ]
  },
  {
   "cell_type": "code",
   "execution_count": 9,
   "id": "d48e31fb",
   "metadata": {},
   "outputs": [],
   "source": [
    "my_data_means <- my_data %>%\n",
    "    group_by(group) %>%\n",
    "    summarise(m = mean(Y))"
   ]
  },
  {
   "cell_type": "code",
   "execution_count": 10,
   "id": "1684f6b9",
   "metadata": {},
   "outputs": [
    {
     "data": {
      "text/html": [
       "<table class=\"dataframe\">\n",
       "<caption>A tibble: 2 × 2</caption>\n",
       "<thead>\n",
       "\t<tr><th scope=col>group</th><th scope=col>m</th></tr>\n",
       "\t<tr><th scope=col>&lt;chr&gt;</th><th scope=col>&lt;dbl&gt;</th></tr>\n",
       "</thead>\n",
       "<tbody>\n",
       "\t<tr><td>A</td><td> 21.27294</td></tr>\n",
       "\t<tr><td>B</td><td>-21.34153</td></tr>\n",
       "</tbody>\n",
       "</table>\n"
      ],
      "text/latex": [
       "A tibble: 2 × 2\n",
       "\\begin{tabular}{ll}\n",
       " group & m\\\\\n",
       " <chr> & <dbl>\\\\\n",
       "\\hline\n",
       "\t A &  21.27294\\\\\n",
       "\t B & -21.34153\\\\\n",
       "\\end{tabular}\n"
      ],
      "text/markdown": [
       "\n",
       "A tibble: 2 × 2\n",
       "\n",
       "| group &lt;chr&gt; | m &lt;dbl&gt; |\n",
       "|---|---|\n",
       "| A |  21.27294 |\n",
       "| B | -21.34153 |\n",
       "\n"
      ],
      "text/plain": [
       "  group m        \n",
       "1 A      21.27294\n",
       "2 B     -21.34153"
      ]
     },
     "metadata": {},
     "output_type": "display_data"
    }
   ],
   "source": [
    "my_data_means"
   ]
  },
  {
   "cell_type": "code",
   "execution_count": 12,
   "id": "0c3a6ef2",
   "metadata": {},
   "outputs": [],
   "source": [
    "vec <- my_data_means %>%\n",
    "    pull(m)"
   ]
  },
  {
   "cell_type": "code",
   "execution_count": 13,
   "id": "84d353a7",
   "metadata": {},
   "outputs": [
    {
     "data": {
      "text/html": [
       "<style>\n",
       ".list-inline {list-style: none; margin:0; padding: 0}\n",
       ".list-inline>li {display: inline-block}\n",
       ".list-inline>li:not(:last-child)::after {content: \"\\00b7\"; padding: 0 .5ex}\n",
       "</style>\n",
       "<ol class=list-inline><li>21.2729408026873</li><li>-21.3415290418603</li></ol>\n"
      ],
      "text/latex": [
       "\\begin{enumerate*}\n",
       "\\item 21.2729408026873\n",
       "\\item -21.3415290418603\n",
       "\\end{enumerate*}\n"
      ],
      "text/markdown": [
       "1. 21.2729408026873\n",
       "2. -21.3415290418603\n",
       "\n",
       "\n"
      ],
      "text/plain": [
       "[1]  21.27294 -21.34153"
      ]
     },
     "metadata": {},
     "output_type": "display_data"
    }
   ],
   "source": [
    "vec"
   ]
  },
  {
   "cell_type": "code",
   "execution_count": 17,
   "id": "f8274c05",
   "metadata": {},
   "outputs": [
    {
     "name": "stderr",
     "output_type": "stream",
     "text": [
      "-- \u001b[1mAttaching packages\u001b[22m ------------------------------------------------------------------------------- tidyverse 1.3.1 --\n",
      "\n",
      "\u001b[32mv\u001b[39m \u001b[34mggplot2\u001b[39m 3.3.3     \u001b[32mv\u001b[39m \u001b[34mstringr\u001b[39m 1.4.0\n",
      "\u001b[32mv\u001b[39m \u001b[34mtidyr  \u001b[39m 1.1.3     \u001b[32mv\u001b[39m \u001b[34mforcats\u001b[39m 0.5.1\n",
      "\u001b[32mv\u001b[39m \u001b[34mreadr  \u001b[39m 1.4.0     \n",
      "\n",
      "-- \u001b[1mConflicts\u001b[22m ---------------------------------------------------------------------------------- tidyverse_conflicts() --\n",
      "\u001b[31mx\u001b[39m \u001b[34mdplyr\u001b[39m::\u001b[32mfilter()\u001b[39m masks \u001b[34mstats\u001b[39m::filter()\n",
      "\u001b[31mx\u001b[39m \u001b[34mdplyr\u001b[39m::\u001b[32mlag()\u001b[39m    masks \u001b[34mstats\u001b[39m::lag()\n",
      "\n"
     ]
    },
    {
     "ename": "ERROR",
     "evalue": "Error in library(babynames): there is no package called 'babynames'\n",
     "output_type": "error",
     "traceback": [
      "Error in library(babynames): there is no package called 'babynames'\nTraceback:\n",
      "1. library(babynames)"
     ]
    }
   ],
   "source": [
    "library(tidyverse)\n",
    "library(babynames)"
   ]
  },
  {
   "cell_type": "code",
   "execution_count": 18,
   "id": "29d03ce4",
   "metadata": {},
   "outputs": [
    {
     "data": {
      "text/html": [
       "<style>\n",
       ".list-inline {list-style: none; margin:0; padding: 0}\n",
       ".list-inline>li {display: inline-block}\n",
       ".list-inline>li:not(:last-child)::after {content: \"\\00b7\"; padding: 0 .5ex}\n",
       "</style>\n",
       "<ol class=list-inline><li>0.0241730756296701</li><li>-0.0663115598161519</li><li>0.0565121571675066</li><li>-0.137603310345072</li><li>0.00767190307734458</li><li>0.0159454340701525</li><li>-0.0189363568830868</li><li>0.0793276498958378</li><li>-0.18715473169765</li><li>-0.000527241474944771</li></ol>\n"
      ],
      "text/latex": [
       "\\begin{enumerate*}\n",
       "\\item 0.0241730756296701\n",
       "\\item -0.0663115598161519\n",
       "\\item 0.0565121571675066\n",
       "\\item -0.137603310345072\n",
       "\\item 0.00767190307734458\n",
       "\\item 0.0159454340701525\n",
       "\\item -0.0189363568830868\n",
       "\\item 0.0793276498958378\n",
       "\\item -0.18715473169765\n",
       "\\item -0.000527241474944771\n",
       "\\end{enumerate*}\n"
      ],
      "text/markdown": [
       "1. 0.0241730756296701\n",
       "2. -0.0663115598161519\n",
       "3. 0.0565121571675066\n",
       "4. -0.137603310345072\n",
       "5. 0.00767190307734458\n",
       "6. 0.0159454340701525\n",
       "7. -0.0189363568830868\n",
       "8. 0.0793276498958378\n",
       "9. -0.18715473169765\n",
       "10. -0.000527241474944771\n",
       "\n",
       "\n"
      ],
      "text/plain": [
       " [1]  0.0241730756 -0.0663115598  0.0565121572 -0.1376033103  0.0076719031\n",
       " [6]  0.0159454341 -0.0189363569  0.0793276499 -0.1871547317 -0.0005272415"
      ]
     },
     "metadata": {},
     "output_type": "display_data"
    }
   ],
   "source": [
    "replicate(10, rnorm(100) %>% mean())"
   ]
  },
  {
   "cell_type": "code",
   "execution_count": 19,
   "id": "3ea3c6ef",
   "metadata": {},
   "outputs": [],
   "source": [
    "data(relig_income)"
   ]
  },
  {
   "cell_type": "code",
   "execution_count": 20,
   "id": "bb7d292c",
   "metadata": {},
   "outputs": [
    {
     "data": {
      "text/html": [
       "<table class=\"dataframe\">\n",
       "<caption>A tibble: 6 × 11</caption>\n",
       "<thead>\n",
       "\t<tr><th scope=col>religion</th><th scope=col>&lt;$10k</th><th scope=col>$10-20k</th><th scope=col>$20-30k</th><th scope=col>$30-40k</th><th scope=col>$40-50k</th><th scope=col>$50-75k</th><th scope=col>$75-100k</th><th scope=col>$100-150k</th><th scope=col>&gt;150k</th><th scope=col>Don't know/refused</th></tr>\n",
       "\t<tr><th scope=col>&lt;chr&gt;</th><th scope=col>&lt;dbl&gt;</th><th scope=col>&lt;dbl&gt;</th><th scope=col>&lt;dbl&gt;</th><th scope=col>&lt;dbl&gt;</th><th scope=col>&lt;dbl&gt;</th><th scope=col>&lt;dbl&gt;</th><th scope=col>&lt;dbl&gt;</th><th scope=col>&lt;dbl&gt;</th><th scope=col>&lt;dbl&gt;</th><th scope=col>&lt;dbl&gt;</th></tr>\n",
       "</thead>\n",
       "<tbody>\n",
       "\t<tr><td>Agnostic          </td><td> 27</td><td> 34</td><td>  60</td><td> 81</td><td> 76</td><td> 137</td><td>122</td><td>109</td><td> 84</td><td>  96</td></tr>\n",
       "\t<tr><td>Atheist           </td><td> 12</td><td> 27</td><td>  37</td><td> 52</td><td> 35</td><td>  70</td><td> 73</td><td> 59</td><td> 74</td><td>  76</td></tr>\n",
       "\t<tr><td>Buddhist          </td><td> 27</td><td> 21</td><td>  30</td><td> 34</td><td> 33</td><td>  58</td><td> 62</td><td> 39</td><td> 53</td><td>  54</td></tr>\n",
       "\t<tr><td>Catholic          </td><td>418</td><td>617</td><td> 732</td><td>670</td><td>638</td><td>1116</td><td>949</td><td>792</td><td>633</td><td>1489</td></tr>\n",
       "\t<tr><td>Don’t know/refused</td><td> 15</td><td> 14</td><td>  15</td><td> 11</td><td> 10</td><td>  35</td><td> 21</td><td> 17</td><td> 18</td><td> 116</td></tr>\n",
       "\t<tr><td>Evangelical Prot  </td><td>575</td><td>869</td><td>1064</td><td>982</td><td>881</td><td>1486</td><td>949</td><td>723</td><td>414</td><td>1529</td></tr>\n",
       "</tbody>\n",
       "</table>\n"
      ],
      "text/latex": [
       "A tibble: 6 × 11\n",
       "\\begin{tabular}{lllllllllll}\n",
       " religion & <\\$10k & \\$10-20k & \\$20-30k & \\$30-40k & \\$40-50k & \\$50-75k & \\$75-100k & \\$100-150k & >150k & Don't know/refused\\\\\n",
       " <chr> & <dbl> & <dbl> & <dbl> & <dbl> & <dbl> & <dbl> & <dbl> & <dbl> & <dbl> & <dbl>\\\\\n",
       "\\hline\n",
       "\t Agnostic           &  27 &  34 &   60 &  81 &  76 &  137 & 122 & 109 &  84 &   96\\\\\n",
       "\t Atheist            &  12 &  27 &   37 &  52 &  35 &   70 &  73 &  59 &  74 &   76\\\\\n",
       "\t Buddhist           &  27 &  21 &   30 &  34 &  33 &   58 &  62 &  39 &  53 &   54\\\\\n",
       "\t Catholic           & 418 & 617 &  732 & 670 & 638 & 1116 & 949 & 792 & 633 & 1489\\\\\n",
       "\t Don’t know/refused &  15 &  14 &   15 &  11 &  10 &   35 &  21 &  17 &  18 &  116\\\\\n",
       "\t Evangelical Prot   & 575 & 869 & 1064 & 982 & 881 & 1486 & 949 & 723 & 414 & 1529\\\\\n",
       "\\end{tabular}\n"
      ],
      "text/markdown": [
       "\n",
       "A tibble: 6 × 11\n",
       "\n",
       "| religion &lt;chr&gt; | &lt;$10k &lt;dbl&gt; | $10-20k &lt;dbl&gt; | $20-30k &lt;dbl&gt; | $30-40k &lt;dbl&gt; | $40-50k &lt;dbl&gt; | $50-75k &lt;dbl&gt; | $75-100k &lt;dbl&gt; | $100-150k &lt;dbl&gt; | &gt;150k &lt;dbl&gt; | Don't know/refused &lt;dbl&gt; |\n",
       "|---|---|---|---|---|---|---|---|---|---|---|\n",
       "| Agnostic           |  27 |  34 |   60 |  81 |  76 |  137 | 122 | 109 |  84 |   96 |\n",
       "| Atheist            |  12 |  27 |   37 |  52 |  35 |   70 |  73 |  59 |  74 |   76 |\n",
       "| Buddhist           |  27 |  21 |   30 |  34 |  33 |   58 |  62 |  39 |  53 |   54 |\n",
       "| Catholic           | 418 | 617 |  732 | 670 | 638 | 1116 | 949 | 792 | 633 | 1489 |\n",
       "| Don’t know/refused |  15 |  14 |   15 |  11 |  10 |   35 |  21 |  17 |  18 |  116 |\n",
       "| Evangelical Prot   | 575 | 869 | 1064 | 982 | 881 | 1486 | 949 | 723 | 414 | 1529 |\n",
       "\n"
      ],
      "text/plain": [
       "  religion           <$10k $10-20k $20-30k $30-40k $40-50k $50-75k $75-100k\n",
       "1 Agnostic            27    34       60     81      76      137    122     \n",
       "2 Atheist             12    27       37     52      35       70     73     \n",
       "3 Buddhist            27    21       30     34      33       58     62     \n",
       "4 Catholic           418   617      732    670     638     1116    949     \n",
       "5 Don’t know/refused  15    14       15     11      10       35     21     \n",
       "6 Evangelical Prot   575   869     1064    982     881     1486    949     \n",
       "  $100-150k >150k Don't know/refused\n",
       "1 109        84     96              \n",
       "2  59        74     76              \n",
       "3  39        53     54              \n",
       "4 792       633   1489              \n",
       "5  17        18    116              \n",
       "6 723       414   1529              "
      ]
     },
     "metadata": {},
     "output_type": "display_data"
    }
   ],
   "source": [
    "head(relig_income)"
   ]
  },
  {
   "cell_type": "code",
   "execution_count": 21,
   "id": "17493ece",
   "metadata": {},
   "outputs": [
    {
     "data": {
      "text/html": [
       "<table class=\"dataframe\">\n",
       "<caption>A tibble: 180 × 3</caption>\n",
       "<thead>\n",
       "\t<tr><th scope=col>religion</th><th scope=col>income</th><th scope=col>count</th></tr>\n",
       "\t<tr><th scope=col>&lt;chr&gt;</th><th scope=col>&lt;chr&gt;</th><th scope=col>&lt;dbl&gt;</th></tr>\n",
       "</thead>\n",
       "<tbody>\n",
       "\t<tr><td>Agnostic</td><td><span style=white-space:pre-wrap>&lt;$10k             </span></td><td> 27</td></tr>\n",
       "\t<tr><td>Agnostic</td><td>$10-20k           </td><td> 34</td></tr>\n",
       "\t<tr><td>Agnostic</td><td>$20-30k           </td><td> 60</td></tr>\n",
       "\t<tr><td>Agnostic</td><td>$30-40k           </td><td> 81</td></tr>\n",
       "\t<tr><td>Agnostic</td><td>$40-50k           </td><td> 76</td></tr>\n",
       "\t<tr><td>Agnostic</td><td>$50-75k           </td><td>137</td></tr>\n",
       "\t<tr><td>Agnostic</td><td>$75-100k          </td><td>122</td></tr>\n",
       "\t<tr><td>Agnostic</td><td>$100-150k         </td><td>109</td></tr>\n",
       "\t<tr><td>Agnostic</td><td><span style=white-space:pre-wrap>&gt;150k             </span></td><td> 84</td></tr>\n",
       "\t<tr><td>Agnostic</td><td>Don't know/refused</td><td> 96</td></tr>\n",
       "\t<tr><td>Atheist </td><td><span style=white-space:pre-wrap>&lt;$10k             </span></td><td> 12</td></tr>\n",
       "\t<tr><td>Atheist </td><td>$10-20k           </td><td> 27</td></tr>\n",
       "\t<tr><td>Atheist </td><td>$20-30k           </td><td> 37</td></tr>\n",
       "\t<tr><td>Atheist </td><td>$30-40k           </td><td> 52</td></tr>\n",
       "\t<tr><td>Atheist </td><td>$40-50k           </td><td> 35</td></tr>\n",
       "\t<tr><td>Atheist </td><td>$50-75k           </td><td> 70</td></tr>\n",
       "\t<tr><td>Atheist </td><td>$75-100k          </td><td> 73</td></tr>\n",
       "\t<tr><td>Atheist </td><td>$100-150k         </td><td> 59</td></tr>\n",
       "\t<tr><td>Atheist </td><td><span style=white-space:pre-wrap>&gt;150k             </span></td><td> 74</td></tr>\n",
       "\t<tr><td>Atheist </td><td>Don't know/refused</td><td> 76</td></tr>\n",
       "\t<tr><td>Buddhist</td><td><span style=white-space:pre-wrap>&lt;$10k             </span></td><td> 27</td></tr>\n",
       "\t<tr><td>Buddhist</td><td>$10-20k           </td><td> 21</td></tr>\n",
       "\t<tr><td>Buddhist</td><td>$20-30k           </td><td> 30</td></tr>\n",
       "\t<tr><td>Buddhist</td><td>$30-40k           </td><td> 34</td></tr>\n",
       "\t<tr><td>Buddhist</td><td>$40-50k           </td><td> 33</td></tr>\n",
       "\t<tr><td>Buddhist</td><td>$50-75k           </td><td> 58</td></tr>\n",
       "\t<tr><td>Buddhist</td><td>$75-100k          </td><td> 62</td></tr>\n",
       "\t<tr><td>Buddhist</td><td>$100-150k         </td><td> 39</td></tr>\n",
       "\t<tr><td>Buddhist</td><td><span style=white-space:pre-wrap>&gt;150k             </span></td><td> 53</td></tr>\n",
       "\t<tr><td>Buddhist</td><td>Don't know/refused</td><td> 54</td></tr>\n",
       "\t<tr><td>...</td><td>...</td><td>...</td></tr>\n",
       "\t<tr><td><span style=white-space:pre-wrap>Other Faiths         </span></td><td><span style=white-space:pre-wrap>&lt;$10k             </span></td><td> 20</td></tr>\n",
       "\t<tr><td>Other Faiths         </td><td>$10-20k           </td><td> 33</td></tr>\n",
       "\t<tr><td>Other Faiths         </td><td>$20-30k           </td><td> 40</td></tr>\n",
       "\t<tr><td>Other Faiths         </td><td>$30-40k           </td><td> 46</td></tr>\n",
       "\t<tr><td>Other Faiths         </td><td>$40-50k           </td><td> 49</td></tr>\n",
       "\t<tr><td>Other Faiths         </td><td>$50-75k           </td><td> 63</td></tr>\n",
       "\t<tr><td>Other Faiths         </td><td>$75-100k          </td><td> 46</td></tr>\n",
       "\t<tr><td>Other Faiths         </td><td>$100-150k         </td><td> 40</td></tr>\n",
       "\t<tr><td><span style=white-space:pre-wrap>Other Faiths         </span></td><td><span style=white-space:pre-wrap>&gt;150k             </span></td><td> 41</td></tr>\n",
       "\t<tr><td>Other Faiths         </td><td>Don't know/refused</td><td> 71</td></tr>\n",
       "\t<tr><td>Other World Religions</td><td><span style=white-space:pre-wrap>&lt;$10k             </span></td><td><span style=white-space:pre-wrap>  5</span></td></tr>\n",
       "\t<tr><td>Other World Religions</td><td>$10-20k           </td><td>  2</td></tr>\n",
       "\t<tr><td>Other World Religions</td><td>$20-30k           </td><td>  3</td></tr>\n",
       "\t<tr><td>Other World Religions</td><td>$30-40k           </td><td>  4</td></tr>\n",
       "\t<tr><td>Other World Religions</td><td>$40-50k           </td><td>  2</td></tr>\n",
       "\t<tr><td>Other World Religions</td><td>$50-75k           </td><td>  7</td></tr>\n",
       "\t<tr><td>Other World Religions</td><td>$75-100k          </td><td>  3</td></tr>\n",
       "\t<tr><td>Other World Religions</td><td>$100-150k         </td><td>  4</td></tr>\n",
       "\t<tr><td>Other World Religions</td><td><span style=white-space:pre-wrap>&gt;150k             </span></td><td><span style=white-space:pre-wrap>  4</span></td></tr>\n",
       "\t<tr><td>Other World Religions</td><td>Don't know/refused</td><td>  8</td></tr>\n",
       "\t<tr><td><span style=white-space:pre-wrap>Unaffiliated         </span></td><td><span style=white-space:pre-wrap>&lt;$10k             </span></td><td>217</td></tr>\n",
       "\t<tr><td>Unaffiliated         </td><td>$10-20k           </td><td>299</td></tr>\n",
       "\t<tr><td>Unaffiliated         </td><td>$20-30k           </td><td>374</td></tr>\n",
       "\t<tr><td>Unaffiliated         </td><td>$30-40k           </td><td>365</td></tr>\n",
       "\t<tr><td>Unaffiliated         </td><td>$40-50k           </td><td>341</td></tr>\n",
       "\t<tr><td>Unaffiliated         </td><td>$50-75k           </td><td>528</td></tr>\n",
       "\t<tr><td>Unaffiliated         </td><td>$75-100k          </td><td>407</td></tr>\n",
       "\t<tr><td>Unaffiliated         </td><td>$100-150k         </td><td>321</td></tr>\n",
       "\t<tr><td><span style=white-space:pre-wrap>Unaffiliated         </span></td><td><span style=white-space:pre-wrap>&gt;150k             </span></td><td>258</td></tr>\n",
       "\t<tr><td>Unaffiliated         </td><td>Don't know/refused</td><td>597</td></tr>\n",
       "</tbody>\n",
       "</table>\n"
      ],
      "text/latex": [
       "A tibble: 180 × 3\n",
       "\\begin{tabular}{lll}\n",
       " religion & income & count\\\\\n",
       " <chr> & <chr> & <dbl>\\\\\n",
       "\\hline\n",
       "\t Agnostic & <\\$10k              &  27\\\\\n",
       "\t Agnostic & \\$10-20k            &  34\\\\\n",
       "\t Agnostic & \\$20-30k            &  60\\\\\n",
       "\t Agnostic & \\$30-40k            &  81\\\\\n",
       "\t Agnostic & \\$40-50k            &  76\\\\\n",
       "\t Agnostic & \\$50-75k            & 137\\\\\n",
       "\t Agnostic & \\$75-100k           & 122\\\\\n",
       "\t Agnostic & \\$100-150k          & 109\\\\\n",
       "\t Agnostic & >150k              &  84\\\\\n",
       "\t Agnostic & Don't know/refused &  96\\\\\n",
       "\t Atheist  & <\\$10k              &  12\\\\\n",
       "\t Atheist  & \\$10-20k            &  27\\\\\n",
       "\t Atheist  & \\$20-30k            &  37\\\\\n",
       "\t Atheist  & \\$30-40k            &  52\\\\\n",
       "\t Atheist  & \\$40-50k            &  35\\\\\n",
       "\t Atheist  & \\$50-75k            &  70\\\\\n",
       "\t Atheist  & \\$75-100k           &  73\\\\\n",
       "\t Atheist  & \\$100-150k          &  59\\\\\n",
       "\t Atheist  & >150k              &  74\\\\\n",
       "\t Atheist  & Don't know/refused &  76\\\\\n",
       "\t Buddhist & <\\$10k              &  27\\\\\n",
       "\t Buddhist & \\$10-20k            &  21\\\\\n",
       "\t Buddhist & \\$20-30k            &  30\\\\\n",
       "\t Buddhist & \\$30-40k            &  34\\\\\n",
       "\t Buddhist & \\$40-50k            &  33\\\\\n",
       "\t Buddhist & \\$50-75k            &  58\\\\\n",
       "\t Buddhist & \\$75-100k           &  62\\\\\n",
       "\t Buddhist & \\$100-150k          &  39\\\\\n",
       "\t Buddhist & >150k              &  53\\\\\n",
       "\t Buddhist & Don't know/refused &  54\\\\\n",
       "\t ... & ... & ...\\\\\n",
       "\t Other Faiths          & <\\$10k              &  20\\\\\n",
       "\t Other Faiths          & \\$10-20k            &  33\\\\\n",
       "\t Other Faiths          & \\$20-30k            &  40\\\\\n",
       "\t Other Faiths          & \\$30-40k            &  46\\\\\n",
       "\t Other Faiths          & \\$40-50k            &  49\\\\\n",
       "\t Other Faiths          & \\$50-75k            &  63\\\\\n",
       "\t Other Faiths          & \\$75-100k           &  46\\\\\n",
       "\t Other Faiths          & \\$100-150k          &  40\\\\\n",
       "\t Other Faiths          & >150k              &  41\\\\\n",
       "\t Other Faiths          & Don't know/refused &  71\\\\\n",
       "\t Other World Religions & <\\$10k              &   5\\\\\n",
       "\t Other World Religions & \\$10-20k            &   2\\\\\n",
       "\t Other World Religions & \\$20-30k            &   3\\\\\n",
       "\t Other World Religions & \\$30-40k            &   4\\\\\n",
       "\t Other World Religions & \\$40-50k            &   2\\\\\n",
       "\t Other World Religions & \\$50-75k            &   7\\\\\n",
       "\t Other World Religions & \\$75-100k           &   3\\\\\n",
       "\t Other World Religions & \\$100-150k          &   4\\\\\n",
       "\t Other World Religions & >150k              &   4\\\\\n",
       "\t Other World Religions & Don't know/refused &   8\\\\\n",
       "\t Unaffiliated          & <\\$10k              & 217\\\\\n",
       "\t Unaffiliated          & \\$10-20k            & 299\\\\\n",
       "\t Unaffiliated          & \\$20-30k            & 374\\\\\n",
       "\t Unaffiliated          & \\$30-40k            & 365\\\\\n",
       "\t Unaffiliated          & \\$40-50k            & 341\\\\\n",
       "\t Unaffiliated          & \\$50-75k            & 528\\\\\n",
       "\t Unaffiliated          & \\$75-100k           & 407\\\\\n",
       "\t Unaffiliated          & \\$100-150k          & 321\\\\\n",
       "\t Unaffiliated          & >150k              & 258\\\\\n",
       "\t Unaffiliated          & Don't know/refused & 597\\\\\n",
       "\\end{tabular}\n"
      ],
      "text/markdown": [
       "\n",
       "A tibble: 180 × 3\n",
       "\n",
       "| religion &lt;chr&gt; | income &lt;chr&gt; | count &lt;dbl&gt; |\n",
       "|---|---|---|\n",
       "| Agnostic | &lt;$10k              |  27 |\n",
       "| Agnostic | $10-20k            |  34 |\n",
       "| Agnostic | $20-30k            |  60 |\n",
       "| Agnostic | $30-40k            |  81 |\n",
       "| Agnostic | $40-50k            |  76 |\n",
       "| Agnostic | $50-75k            | 137 |\n",
       "| Agnostic | $75-100k           | 122 |\n",
       "| Agnostic | $100-150k          | 109 |\n",
       "| Agnostic | &gt;150k              |  84 |\n",
       "| Agnostic | Don't know/refused |  96 |\n",
       "| Atheist  | &lt;$10k              |  12 |\n",
       "| Atheist  | $10-20k            |  27 |\n",
       "| Atheist  | $20-30k            |  37 |\n",
       "| Atheist  | $30-40k            |  52 |\n",
       "| Atheist  | $40-50k            |  35 |\n",
       "| Atheist  | $50-75k            |  70 |\n",
       "| Atheist  | $75-100k           |  73 |\n",
       "| Atheist  | $100-150k          |  59 |\n",
       "| Atheist  | &gt;150k              |  74 |\n",
       "| Atheist  | Don't know/refused |  76 |\n",
       "| Buddhist | &lt;$10k              |  27 |\n",
       "| Buddhist | $10-20k            |  21 |\n",
       "| Buddhist | $20-30k            |  30 |\n",
       "| Buddhist | $30-40k            |  34 |\n",
       "| Buddhist | $40-50k            |  33 |\n",
       "| Buddhist | $50-75k            |  58 |\n",
       "| Buddhist | $75-100k           |  62 |\n",
       "| Buddhist | $100-150k          |  39 |\n",
       "| Buddhist | &gt;150k              |  53 |\n",
       "| Buddhist | Don't know/refused |  54 |\n",
       "| ... | ... | ... |\n",
       "| Other Faiths          | &lt;$10k              |  20 |\n",
       "| Other Faiths          | $10-20k            |  33 |\n",
       "| Other Faiths          | $20-30k            |  40 |\n",
       "| Other Faiths          | $30-40k            |  46 |\n",
       "| Other Faiths          | $40-50k            |  49 |\n",
       "| Other Faiths          | $50-75k            |  63 |\n",
       "| Other Faiths          | $75-100k           |  46 |\n",
       "| Other Faiths          | $100-150k          |  40 |\n",
       "| Other Faiths          | &gt;150k              |  41 |\n",
       "| Other Faiths          | Don't know/refused |  71 |\n",
       "| Other World Religions | &lt;$10k              |   5 |\n",
       "| Other World Religions | $10-20k            |   2 |\n",
       "| Other World Religions | $20-30k            |   3 |\n",
       "| Other World Religions | $30-40k            |   4 |\n",
       "| Other World Religions | $40-50k            |   2 |\n",
       "| Other World Religions | $50-75k            |   7 |\n",
       "| Other World Religions | $75-100k           |   3 |\n",
       "| Other World Religions | $100-150k          |   4 |\n",
       "| Other World Religions | &gt;150k              |   4 |\n",
       "| Other World Religions | Don't know/refused |   8 |\n",
       "| Unaffiliated          | &lt;$10k              | 217 |\n",
       "| Unaffiliated          | $10-20k            | 299 |\n",
       "| Unaffiliated          | $20-30k            | 374 |\n",
       "| Unaffiliated          | $30-40k            | 365 |\n",
       "| Unaffiliated          | $40-50k            | 341 |\n",
       "| Unaffiliated          | $50-75k            | 528 |\n",
       "| Unaffiliated          | $75-100k           | 407 |\n",
       "| Unaffiliated          | $100-150k          | 321 |\n",
       "| Unaffiliated          | &gt;150k              | 258 |\n",
       "| Unaffiliated          | Don't know/refused | 597 |\n",
       "\n"
      ],
      "text/plain": [
       "    religion              income             count\n",
       "1   Agnostic              <$10k               27  \n",
       "2   Agnostic              $10-20k             34  \n",
       "3   Agnostic              $20-30k             60  \n",
       "4   Agnostic              $30-40k             81  \n",
       "5   Agnostic              $40-50k             76  \n",
       "6   Agnostic              $50-75k            137  \n",
       "7   Agnostic              $75-100k           122  \n",
       "8   Agnostic              $100-150k          109  \n",
       "9   Agnostic              >150k               84  \n",
       "10  Agnostic              Don't know/refused  96  \n",
       "11  Atheist               <$10k               12  \n",
       "12  Atheist               $10-20k             27  \n",
       "13  Atheist               $20-30k             37  \n",
       "14  Atheist               $30-40k             52  \n",
       "15  Atheist               $40-50k             35  \n",
       "16  Atheist               $50-75k             70  \n",
       "17  Atheist               $75-100k            73  \n",
       "18  Atheist               $100-150k           59  \n",
       "19  Atheist               >150k               74  \n",
       "20  Atheist               Don't know/refused  76  \n",
       "21  Buddhist              <$10k               27  \n",
       "22  Buddhist              $10-20k             21  \n",
       "23  Buddhist              $20-30k             30  \n",
       "24  Buddhist              $30-40k             34  \n",
       "25  Buddhist              $40-50k             33  \n",
       "26  Buddhist              $50-75k             58  \n",
       "27  Buddhist              $75-100k            62  \n",
       "28  Buddhist              $100-150k           39  \n",
       "29  Buddhist              >150k               53  \n",
       "30  Buddhist              Don't know/refused  54  \n",
       "... ...                   ...                ...  \n",
       "151 Other Faiths          <$10k               20  \n",
       "152 Other Faiths          $10-20k             33  \n",
       "153 Other Faiths          $20-30k             40  \n",
       "154 Other Faiths          $30-40k             46  \n",
       "155 Other Faiths          $40-50k             49  \n",
       "156 Other Faiths          $50-75k             63  \n",
       "157 Other Faiths          $75-100k            46  \n",
       "158 Other Faiths          $100-150k           40  \n",
       "159 Other Faiths          >150k               41  \n",
       "160 Other Faiths          Don't know/refused  71  \n",
       "161 Other World Religions <$10k                5  \n",
       "162 Other World Religions $10-20k              2  \n",
       "163 Other World Religions $20-30k              3  \n",
       "164 Other World Religions $30-40k              4  \n",
       "165 Other World Religions $40-50k              2  \n",
       "166 Other World Religions $50-75k              7  \n",
       "167 Other World Religions $75-100k             3  \n",
       "168 Other World Religions $100-150k            4  \n",
       "169 Other World Religions >150k                4  \n",
       "170 Other World Religions Don't know/refused   8  \n",
       "171 Unaffiliated          <$10k              217  \n",
       "172 Unaffiliated          $10-20k            299  \n",
       "173 Unaffiliated          $20-30k            374  \n",
       "174 Unaffiliated          $30-40k            365  \n",
       "175 Unaffiliated          $40-50k            341  \n",
       "176 Unaffiliated          $50-75k            528  \n",
       "177 Unaffiliated          $75-100k           407  \n",
       "178 Unaffiliated          $100-150k          321  \n",
       "179 Unaffiliated          >150k              258  \n",
       "180 Unaffiliated          Don't know/refused 597  "
      ]
     },
     "metadata": {},
     "output_type": "display_data"
    }
   ],
   "source": [
    "relig_income %>%\n",
    "    pivot_longer(!religion, names_to = \"income\", values_to=\"count\")"
   ]
  },
  {
   "cell_type": "code",
   "execution_count": 28,
   "id": "9b9d48f5",
   "metadata": {},
   "outputs": [],
   "source": [
    "data <- tibble(group = rep(c(\"A\", \"B\"), c(5, 5)),\n",
    "         Y = c(rnorm(5,  10, 5), rnorm(5, -5, 5)))"
   ]
  },
  {
   "cell_type": "code",
   "execution_count": 29,
   "id": "4e2ebd9f",
   "metadata": {},
   "outputs": [
    {
     "data": {
      "text/html": [
       "<table class=\"dataframe\">\n",
       "<caption>A tibble: 10 × 2</caption>\n",
       "<thead>\n",
       "\t<tr><th scope=col>group</th><th scope=col>Y</th></tr>\n",
       "\t<tr><th scope=col>&lt;chr&gt;</th><th scope=col>&lt;dbl&gt;</th></tr>\n",
       "</thead>\n",
       "<tbody>\n",
       "\t<tr><td>A</td><td> 11.860153</td></tr>\n",
       "\t<tr><td>A</td><td> 14.617165</td></tr>\n",
       "\t<tr><td>A</td><td> 20.682107</td></tr>\n",
       "\t<tr><td>A</td><td>  2.740536</td></tr>\n",
       "\t<tr><td>A</td><td> 11.612504</td></tr>\n",
       "\t<tr><td>B</td><td> -4.264872</td></tr>\n",
       "\t<tr><td>B</td><td>-13.151586</td></tr>\n",
       "\t<tr><td>B</td><td> -7.315738</td></tr>\n",
       "\t<tr><td>B</td><td> -5.780818</td></tr>\n",
       "\t<tr><td>B</td><td>-16.667617</td></tr>\n",
       "</tbody>\n",
       "</table>\n"
      ],
      "text/latex": [
       "A tibble: 10 × 2\n",
       "\\begin{tabular}{ll}\n",
       " group & Y\\\\\n",
       " <chr> & <dbl>\\\\\n",
       "\\hline\n",
       "\t A &  11.860153\\\\\n",
       "\t A &  14.617165\\\\\n",
       "\t A &  20.682107\\\\\n",
       "\t A &   2.740536\\\\\n",
       "\t A &  11.612504\\\\\n",
       "\t B &  -4.264872\\\\\n",
       "\t B & -13.151586\\\\\n",
       "\t B &  -7.315738\\\\\n",
       "\t B &  -5.780818\\\\\n",
       "\t B & -16.667617\\\\\n",
       "\\end{tabular}\n"
      ],
      "text/markdown": [
       "\n",
       "A tibble: 10 × 2\n",
       "\n",
       "| group &lt;chr&gt; | Y &lt;dbl&gt; |\n",
       "|---|---|\n",
       "| A |  11.860153 |\n",
       "| A |  14.617165 |\n",
       "| A |  20.682107 |\n",
       "| A |   2.740536 |\n",
       "| A |  11.612504 |\n",
       "| B |  -4.264872 |\n",
       "| B | -13.151586 |\n",
       "| B |  -7.315738 |\n",
       "| B |  -5.780818 |\n",
       "| B | -16.667617 |\n",
       "\n"
      ],
      "text/plain": [
       "   group Y         \n",
       "1  A      11.860153\n",
       "2  A      14.617165\n",
       "3  A      20.682107\n",
       "4  A       2.740536\n",
       "5  A      11.612504\n",
       "6  B      -4.264872\n",
       "7  B     -13.151586\n",
       "8  B      -7.315738\n",
       "9  B      -5.780818\n",
       "10 B     -16.667617"
      ]
     },
     "metadata": {},
     "output_type": "display_data"
    }
   ],
   "source": [
    "data"
   ]
  },
  {
   "cell_type": "code",
   "execution_count": 30,
   "id": "9b936378",
   "metadata": {},
   "outputs": [
    {
     "data": {
      "text/html": [
       "<table class=\"dataframe\">\n",
       "<caption>A tibble: 2 × 2</caption>\n",
       "<thead>\n",
       "\t<tr><th scope=col>group</th><th scope=col>m</th></tr>\n",
       "\t<tr><th scope=col>&lt;chr&gt;</th><th scope=col>&lt;dbl&gt;</th></tr>\n",
       "</thead>\n",
       "<tbody>\n",
       "\t<tr><td>A</td><td>12.302493</td></tr>\n",
       "\t<tr><td>B</td><td>-9.436126</td></tr>\n",
       "</tbody>\n",
       "</table>\n"
      ],
      "text/latex": [
       "A tibble: 2 × 2\n",
       "\\begin{tabular}{ll}\n",
       " group & m\\\\\n",
       " <chr> & <dbl>\\\\\n",
       "\\hline\n",
       "\t A & 12.302493\\\\\n",
       "\t B & -9.436126\\\\\n",
       "\\end{tabular}\n"
      ],
      "text/markdown": [
       "\n",
       "A tibble: 2 × 2\n",
       "\n",
       "| group &lt;chr&gt; | m &lt;dbl&gt; |\n",
       "|---|---|\n",
       "| A | 12.302493 |\n",
       "| B | -9.436126 |\n",
       "\n"
      ],
      "text/plain": [
       "  group m        \n",
       "1 A     12.302493\n",
       "2 B     -9.436126"
      ]
     },
     "metadata": {},
     "output_type": "display_data"
    }
   ],
   "source": [
    "data %>% \n",
    "    group_by(group) %>%\n",
    "    summarise(m = mean(Y))"
   ]
  },
  {
   "cell_type": "code",
   "execution_count": 34,
   "id": "0dc4cf12",
   "metadata": {},
   "outputs": [
    {
     "data": {
      "text/html": [
       "21.7386194363738"
      ],
      "text/latex": [
       "21.7386194363738"
      ],
      "text/markdown": [
       "21.7386194363738"
      ],
      "text/plain": [
       "[1] 21.73862"
      ]
     },
     "metadata": {},
     "output_type": "display_data"
    }
   ],
   "source": [
    "data %>%\n",
    "    group_by(group) %>%\n",
    "    summarise(m = mean(Y)) %>%\n",
    "    pivot_wider(names_from = \"group\", values_from = \"m\") %>%\n",
    "    mutate(diff = A - B) %>%\n",
    "    pull(diff)"
   ]
  },
  {
   "cell_type": "code",
   "execution_count": 36,
   "id": "d247a08f",
   "metadata": {},
   "outputs": [],
   "source": [
    "data <- tibble(group = rep(c(\"A\", \"B\"), c(5, 5)), \n",
    "      Y = c(rnorm(5, 20), rnorm(5, -20)))"
   ]
  },
  {
   "cell_type": "code",
   "execution_count": 41,
   "id": "fe14051a",
   "metadata": {},
   "outputs": [
    {
     "data": {
      "text/html": [
       "<table class=\"dataframe\">\n",
       "<caption>A tibble: 2 × 3</caption>\n",
       "<thead>\n",
       "\t<tr><th scope=col>group</th><th scope=col>m</th><th scope=col>s</th></tr>\n",
       "\t<tr><th scope=col>&lt;chr&gt;</th><th scope=col>&lt;dbl&gt;</th><th scope=col>&lt;dbl&gt;</th></tr>\n",
       "</thead>\n",
       "<tbody>\n",
       "\t<tr><td>A</td><td> 19.23129</td><td>  96.15644</td></tr>\n",
       "\t<tr><td>B</td><td>-20.31987</td><td>-101.59936</td></tr>\n",
       "</tbody>\n",
       "</table>\n"
      ],
      "text/latex": [
       "A tibble: 2 × 3\n",
       "\\begin{tabular}{lll}\n",
       " group & m & s\\\\\n",
       " <chr> & <dbl> & <dbl>\\\\\n",
       "\\hline\n",
       "\t A &  19.23129 &   96.15644\\\\\n",
       "\t B & -20.31987 & -101.59936\\\\\n",
       "\\end{tabular}\n"
      ],
      "text/markdown": [
       "\n",
       "A tibble: 2 × 3\n",
       "\n",
       "| group &lt;chr&gt; | m &lt;dbl&gt; | s &lt;dbl&gt; |\n",
       "|---|---|---|\n",
       "| A |  19.23129 |   96.15644 |\n",
       "| B | -20.31987 | -101.59936 |\n",
       "\n"
      ],
      "text/plain": [
       "  group m         s         \n",
       "1 A      19.23129   96.15644\n",
       "2 B     -20.31987 -101.59936"
      ]
     },
     "metadata": {},
     "output_type": "display_data"
    }
   ],
   "source": [
    "data %>% \n",
    "    group_by(group) %>%\n",
    "    summarise(m = mean(Y), s = sum(Y)) "
   ]
  },
  {
   "cell_type": "code",
   "execution_count": 46,
   "id": "420d7c35",
   "metadata": {},
   "outputs": [
    {
     "data": {
      "text/html": [
       "39.5511598348281"
      ],
      "text/latex": [
       "39.5511598348281"
      ],
      "text/markdown": [
       "39.5511598348281"
      ],
      "text/plain": [
       "[1] 39.55116"
      ]
     },
     "metadata": {},
     "output_type": "display_data"
    }
   ],
   "source": [
    "data %>% \n",
    "    group_by(group) %>%\n",
    "    summarise(m = mean(Y)) %>%\n",
    "    pivot_wider(names_from = \"group\", values_from = \"m\") %>%\n",
    "    mutate(diff = A - B) %>%\n",
    "    pull(diff)"
   ]
  },
  {
   "cell_type": "code",
   "execution_count": 47,
   "id": "5b982187",
   "metadata": {},
   "outputs": [],
   "source": [
    "dat <- tibble(group = rep(c(\"A\", \"B\"), each = 3),\n",
    "               Y = c(rnorm(3, 100, 15),\n",
    "                     rnorm(3, 110, 15)))"
   ]
  },
  {
   "cell_type": "code",
   "execution_count": 48,
   "id": "7ccb7e69",
   "metadata": {},
   "outputs": [
    {
     "data": {
      "text/html": [
       "<table class=\"dataframe\">\n",
       "<caption>A tibble: 6 × 2</caption>\n",
       "<thead>\n",
       "\t<tr><th scope=col>group</th><th scope=col>Y</th></tr>\n",
       "\t<tr><th scope=col>&lt;chr&gt;</th><th scope=col>&lt;dbl&gt;</th></tr>\n",
       "</thead>\n",
       "<tbody>\n",
       "\t<tr><td>A</td><td> 92.35482</td></tr>\n",
       "\t<tr><td>A</td><td> 96.95483</td></tr>\n",
       "\t<tr><td>A</td><td>104.79661</td></tr>\n",
       "\t<tr><td>B</td><td>112.19405</td></tr>\n",
       "\t<tr><td>B</td><td>127.15462</td></tr>\n",
       "\t<tr><td>B</td><td> 91.32910</td></tr>\n",
       "</tbody>\n",
       "</table>\n"
      ],
      "text/latex": [
       "A tibble: 6 × 2\n",
       "\\begin{tabular}{ll}\n",
       " group & Y\\\\\n",
       " <chr> & <dbl>\\\\\n",
       "\\hline\n",
       "\t A &  92.35482\\\\\n",
       "\t A &  96.95483\\\\\n",
       "\t A & 104.79661\\\\\n",
       "\t B & 112.19405\\\\\n",
       "\t B & 127.15462\\\\\n",
       "\t B &  91.32910\\\\\n",
       "\\end{tabular}\n"
      ],
      "text/markdown": [
       "\n",
       "A tibble: 6 × 2\n",
       "\n",
       "| group &lt;chr&gt; | Y &lt;dbl&gt; |\n",
       "|---|---|\n",
       "| A |  92.35482 |\n",
       "| A |  96.95483 |\n",
       "| A | 104.79661 |\n",
       "| B | 112.19405 |\n",
       "| B | 127.15462 |\n",
       "| B |  91.32910 |\n",
       "\n"
      ],
      "text/plain": [
       "  group Y        \n",
       "1 A      92.35482\n",
       "2 A      96.95483\n",
       "3 A     104.79661\n",
       "4 B     112.19405\n",
       "5 B     127.15462\n",
       "6 B      91.32910"
      ]
     },
     "metadata": {},
     "output_type": "display_data"
    }
   ],
   "source": [
    "dat"
   ]
  },
  {
   "cell_type": "code",
   "execution_count": 51,
   "id": "60979b38",
   "metadata": {},
   "outputs": [
    {
     "data": {
      "text/html": [
       "<table class=\"dataframe\">\n",
       "<caption>A tibble: 6 × 2</caption>\n",
       "<thead>\n",
       "\t<tr><th scope=col>group</th><th scope=col>Y</th></tr>\n",
       "\t<tr><th scope=col>&lt;chr&gt;</th><th scope=col>&lt;dbl&gt;</th></tr>\n",
       "</thead>\n",
       "<tbody>\n",
       "\t<tr><td>B</td><td> 92.35482</td></tr>\n",
       "\t<tr><td>A</td><td> 96.95483</td></tr>\n",
       "\t<tr><td>A</td><td>104.79661</td></tr>\n",
       "\t<tr><td>B</td><td>112.19405</td></tr>\n",
       "\t<tr><td>B</td><td>127.15462</td></tr>\n",
       "\t<tr><td>A</td><td> 91.32910</td></tr>\n",
       "</tbody>\n",
       "</table>\n"
      ],
      "text/latex": [
       "A tibble: 6 × 2\n",
       "\\begin{tabular}{ll}\n",
       " group & Y\\\\\n",
       " <chr> & <dbl>\\\\\n",
       "\\hline\n",
       "\t B &  92.35482\\\\\n",
       "\t A &  96.95483\\\\\n",
       "\t A & 104.79661\\\\\n",
       "\t B & 112.19405\\\\\n",
       "\t B & 127.15462\\\\\n",
       "\t A &  91.32910\\\\\n",
       "\\end{tabular}\n"
      ],
      "text/markdown": [
       "\n",
       "A tibble: 6 × 2\n",
       "\n",
       "| group &lt;chr&gt; | Y &lt;dbl&gt; |\n",
       "|---|---|\n",
       "| B |  92.35482 |\n",
       "| A |  96.95483 |\n",
       "| A | 104.79661 |\n",
       "| B | 112.19405 |\n",
       "| B | 127.15462 |\n",
       "| A |  91.32910 |\n",
       "\n"
      ],
      "text/plain": [
       "  group Y        \n",
       "1 B      92.35482\n",
       "2 A      96.95483\n",
       "3 A     104.79661\n",
       "4 B     112.19405\n",
       "5 B     127.15462\n",
       "6 A      91.32910"
      ]
     },
     "metadata": {},
     "output_type": "display_data"
    }
   ],
   "source": [
    "dat %>%\n",
    "    mutate(group = sample(group))"
   ]
  },
  {
   "cell_type": "code",
   "execution_count": null,
   "id": "b57d094a",
   "metadata": {},
   "outputs": [],
   "source": []
  }
 ],
 "metadata": {
  "kernelspec": {
   "display_name": "R",
   "language": "R",
   "name": "ir"
  },
  "language_info": {
   "codemirror_mode": "r",
   "file_extension": ".r",
   "mimetype": "text/x-r-source",
   "name": "R",
   "pygments_lexer": "r",
   "version": "4.0.5"
  }
 },
 "nbformat": 4,
 "nbformat_minor": 5
}
