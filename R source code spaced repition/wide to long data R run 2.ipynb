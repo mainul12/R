{
 "cells": [
  {
   "cell_type": "code",
   "execution_count": 1,
   "id": "ff10d95c",
   "metadata": {},
   "outputs": [
    {
     "name": "stderr",
     "output_type": "stream",
     "text": [
      "-- \u001b[1mAttaching packages\u001b[22m ----------------------------------------------------------- tidyverse 1.3.1 --\n",
      "\n",
      "\u001b[32mv\u001b[39m \u001b[34mggplot2\u001b[39m 3.3.4     \u001b[32mv\u001b[39m \u001b[34mpurrr  \u001b[39m 0.3.4\n",
      "\u001b[32mv\u001b[39m \u001b[34mtibble \u001b[39m 3.1.1     \u001b[32mv\u001b[39m \u001b[34mdplyr  \u001b[39m 1.0.6\n",
      "\u001b[32mv\u001b[39m \u001b[34mtidyr  \u001b[39m 1.1.3     \u001b[32mv\u001b[39m \u001b[34mstringr\u001b[39m 1.4.0\n",
      "\u001b[32mv\u001b[39m \u001b[34mreadr  \u001b[39m 1.4.0     \u001b[32mv\u001b[39m \u001b[34mforcats\u001b[39m 0.5.1\n",
      "\n",
      "-- \u001b[1mConflicts\u001b[22m -------------------------------------------------------------- tidyverse_conflicts() --\n",
      "\u001b[31mx\u001b[39m \u001b[34mdplyr\u001b[39m::\u001b[32mfilter()\u001b[39m masks \u001b[34mstats\u001b[39m::filter()\n",
      "\u001b[31mx\u001b[39m \u001b[34mdplyr\u001b[39m::\u001b[32mlag()\u001b[39m    masks \u001b[34mstats\u001b[39m::lag()\n",
      "\n"
     ]
    }
   ],
   "source": [
    "library(tidyverse)"
   ]
  },
  {
   "cell_type": "code",
   "execution_count": 7,
   "id": "fee03c59",
   "metadata": {},
   "outputs": [
    {
     "name": "stderr",
     "output_type": "stream",
     "text": [
      "\n",
      "Attaching package: 'wakefield'\n",
      "\n",
      "\n",
      "The following object is masked from 'package:dplyr':\n",
      "\n",
      "    id\n",
      "\n",
      "\n"
     ]
    }
   ],
   "source": [
    "library(wakefield)"
   ]
  },
  {
   "cell_type": "code",
   "execution_count": 27,
   "id": "cdca6988",
   "metadata": {},
   "outputs": [],
   "source": [
    "options(repr.plot.width = 10, repr.plot.height = 5, repr.plot.res = 150)"
   ]
  },
  {
   "cell_type": "code",
   "execution_count": 13,
   "id": "58740b0f",
   "metadata": {},
   "outputs": [],
   "source": [
    "wide_data <- data.frame(subject = factor(1:30), sex = sex(30), treatment1 = rnorm(n = 30, mean = 20, sd = 2), \n",
    "                        treatment2 = rnorm(n = 30, mean = 39, sd = 3))"
   ]
  },
  {
   "cell_type": "code",
   "execution_count": 14,
   "id": "1057d29b",
   "metadata": {},
   "outputs": [
    {
     "data": {
      "text/html": [
       "<table class=\"dataframe\">\n",
       "<caption>A data.frame: 3 × 4</caption>\n",
       "<thead>\n",
       "\t<tr><th scope=col>subject</th><th scope=col>sex</th><th scope=col>treatment1</th><th scope=col>treatment2</th></tr>\n",
       "\t<tr><th scope=col>&lt;fct&gt;</th><th scope=col>&lt;fct&gt;</th><th scope=col>&lt;dbl&gt;</th><th scope=col>&lt;dbl&gt;</th></tr>\n",
       "</thead>\n",
       "<tbody>\n",
       "\t<tr><td>24</td><td>Male  </td><td>19.09720</td><td>38.62956</td></tr>\n",
       "\t<tr><td>2 </td><td>Male  </td><td>18.57855</td><td>41.82219</td></tr>\n",
       "\t<tr><td>15</td><td>Female</td><td>20.64222</td><td>41.49797</td></tr>\n",
       "</tbody>\n",
       "</table>\n"
      ],
      "text/latex": [
       "A data.frame: 3 × 4\n",
       "\\begin{tabular}{llll}\n",
       " subject & sex & treatment1 & treatment2\\\\\n",
       " <fct> & <fct> & <dbl> & <dbl>\\\\\n",
       "\\hline\n",
       "\t 24 & Male   & 19.09720 & 38.62956\\\\\n",
       "\t 2  & Male   & 18.57855 & 41.82219\\\\\n",
       "\t 15 & Female & 20.64222 & 41.49797\\\\\n",
       "\\end{tabular}\n"
      ],
      "text/markdown": [
       "\n",
       "A data.frame: 3 × 4\n",
       "\n",
       "| subject &lt;fct&gt; | sex &lt;fct&gt; | treatment1 &lt;dbl&gt; | treatment2 &lt;dbl&gt; |\n",
       "|---|---|---|---|\n",
       "| 24 | Male   | 19.09720 | 38.62956 |\n",
       "| 2  | Male   | 18.57855 | 41.82219 |\n",
       "| 15 | Female | 20.64222 | 41.49797 |\n",
       "\n"
      ],
      "text/plain": [
       "  subject sex    treatment1 treatment2\n",
       "1 24      Male   19.09720   38.62956  \n",
       "2 2       Male   18.57855   41.82219  \n",
       "3 15      Female 20.64222   41.49797  "
      ]
     },
     "metadata": {},
     "output_type": "display_data"
    }
   ],
   "source": [
    "wide_data %>%\n",
    "    slice_sample(n = 3)"
   ]
  },
  {
   "cell_type": "code",
   "execution_count": 16,
   "id": "371e4e4f",
   "metadata": {},
   "outputs": [],
   "source": [
    "long_data <- pivot_longer(wide_data, names_to = \"treatment\", cols = c(treatment1, treatment2), values_to = \"measurement\")"
   ]
  },
  {
   "cell_type": "code",
   "execution_count": 17,
   "id": "e0782e48",
   "metadata": {},
   "outputs": [
    {
     "data": {
      "text/html": [
       "<table class=\"dataframe\">\n",
       "<caption>A tibble: 3 × 4</caption>\n",
       "<thead>\n",
       "\t<tr><th scope=col>subject</th><th scope=col>sex</th><th scope=col>treatment</th><th scope=col>measurement</th></tr>\n",
       "\t<tr><th scope=col>&lt;fct&gt;</th><th scope=col>&lt;fct&gt;</th><th scope=col>&lt;chr&gt;</th><th scope=col>&lt;dbl&gt;</th></tr>\n",
       "</thead>\n",
       "<tbody>\n",
       "\t<tr><td>30</td><td>Female</td><td>treatment1</td><td>21.77552</td></tr>\n",
       "\t<tr><td>19</td><td>Female</td><td>treatment2</td><td>37.51618</td></tr>\n",
       "\t<tr><td>22</td><td>Male  </td><td>treatment1</td><td>19.45242</td></tr>\n",
       "</tbody>\n",
       "</table>\n"
      ],
      "text/latex": [
       "A tibble: 3 × 4\n",
       "\\begin{tabular}{llll}\n",
       " subject & sex & treatment & measurement\\\\\n",
       " <fct> & <fct> & <chr> & <dbl>\\\\\n",
       "\\hline\n",
       "\t 30 & Female & treatment1 & 21.77552\\\\\n",
       "\t 19 & Female & treatment2 & 37.51618\\\\\n",
       "\t 22 & Male   & treatment1 & 19.45242\\\\\n",
       "\\end{tabular}\n"
      ],
      "text/markdown": [
       "\n",
       "A tibble: 3 × 4\n",
       "\n",
       "| subject &lt;fct&gt; | sex &lt;fct&gt; | treatment &lt;chr&gt; | measurement &lt;dbl&gt; |\n",
       "|---|---|---|---|\n",
       "| 30 | Female | treatment1 | 21.77552 |\n",
       "| 19 | Female | treatment2 | 37.51618 |\n",
       "| 22 | Male   | treatment1 | 19.45242 |\n",
       "\n"
      ],
      "text/plain": [
       "  subject sex    treatment  measurement\n",
       "1 30      Female treatment1 21.77552   \n",
       "2 19      Female treatment2 37.51618   \n",
       "3 22      Male   treatment1 19.45242   "
      ]
     },
     "metadata": {},
     "output_type": "display_data"
    }
   ],
   "source": [
    "long_data %>%\n",
    "    slice_sample(n = 3)"
   ]
  },
  {
   "cell_type": "code",
   "execution_count": 28,
   "id": "f6a57594",
   "metadata": {},
   "outputs": [
    {
     "data": {
      "image/png": "[encoded data removed]",
      "text/plain": [
       "plot without title"
      ]
     },
     "metadata": {
      "image/png": {
       "height": 375,
       "width": 750
      }
     },
     "output_type": "display_data"
    }
   ],
   "source": [
    "ggplot(long_data, aes(x = treatment, y = measurement)) + \n",
    "    geom_boxplot() + \n",
    "    facet_grid(cols = vars(sex))"
   ]
  }
 ],
 "metadata": {
  "kernelspec": {
   "display_name": "R",
   "language": "R",
   "name": "ir"
  },
  "language_info": {
   "codemirror_mode": "r",
   "file_extension": ".r",
   "mimetype": "text/x-r-source",
   "name": "R",
   "pygments_lexer": "r",
   "version": "4.0.5"
  }
 },
 "nbformat": 4,
 "nbformat_minor": 5
}
