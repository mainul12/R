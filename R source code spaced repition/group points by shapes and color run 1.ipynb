{
 "cells": [
  {
   "cell_type": "code",
   "execution_count": 1,
   "id": "d9f05dd5",
   "metadata": {},
   "outputs": [
    {
     "name": "stderr",
     "output_type": "stream",
     "text": [
      "-- \u001b[1mAttaching packages\u001b[22m ------------------------------------------------------------------------------- tidyverse 1.3.1 --\n",
      "\n",
      "\u001b[32mv\u001b[39m \u001b[34mggplot2\u001b[39m 3.3.4     \u001b[32mv\u001b[39m \u001b[34mpurrr  \u001b[39m 0.3.4\n",
      "\u001b[32mv\u001b[39m \u001b[34mtibble \u001b[39m 3.1.1     \u001b[32mv\u001b[39m \u001b[34mdplyr  \u001b[39m 1.0.6\n",
      "\u001b[32mv\u001b[39m \u001b[34mtidyr  \u001b[39m 1.1.3     \u001b[32mv\u001b[39m \u001b[34mstringr\u001b[39m 1.4.0\n",
      "\u001b[32mv\u001b[39m \u001b[34mreadr  \u001b[39m 1.4.0     \u001b[32mv\u001b[39m \u001b[34mforcats\u001b[39m 0.5.1\n",
      "\n",
      "-- \u001b[1mConflicts\u001b[22m ---------------------------------------------------------------------------------- tidyverse_conflicts() --\n",
      "\u001b[31mx\u001b[39m \u001b[34mdplyr\u001b[39m::\u001b[32mfilter()\u001b[39m masks \u001b[34mstats\u001b[39m::filter()\n",
      "\u001b[31mx\u001b[39m \u001b[34mdplyr\u001b[39m::\u001b[32mid()\u001b[39m     masks \u001b[34mwakefield\u001b[39m::id()\n",
      "\u001b[31mx\u001b[39m \u001b[34mdplyr\u001b[39m::\u001b[32mlag()\u001b[39m    masks \u001b[34mstats\u001b[39m::lag()\n",
      "\n"
     ]
    }
   ],
   "source": [
    "library(wakefield)\n",
    "library(tidyverse)"
   ]
  },
  {
   "cell_type": "code",
   "execution_count": 11,
   "id": "c1983717",
   "metadata": {},
   "outputs": [],
   "source": [
    "options(repr.plot.width = 5, repr.plot.height = 3, repr.plot.res = 150)"
   ]
  },
  {
   "cell_type": "code",
   "execution_count": 3,
   "id": "fbbb9ea0",
   "metadata": {},
   "outputs": [],
   "source": [
    "factors <- r_sample_factor(n = 100, x = c(\"A\", \"B\", \"C\"))"
   ]
  },
  {
   "cell_type": "code",
   "execution_count": 4,
   "id": "c4fecf05",
   "metadata": {},
   "outputs": [],
   "source": [
    "var1 <- rbinom(100, size = 30, prob = 0.5)"
   ]
  },
  {
   "cell_type": "code",
   "execution_count": 5,
   "id": "da97e50f",
   "metadata": {},
   "outputs": [
    {
     "data": {
      "text/html": [
       "<style>\n",
       ".list-inline {list-style: none; margin:0; padding: 0}\n",
       ".list-inline>li {display: inline-block}\n",
       ".list-inline>li:not(:last-child)::after {content: \"\\00b7\"; padding: 0 .5ex}\n",
       "</style>\n",
       "<ol class=list-inline><li>18</li><li>13</li><li>21</li><li>18</li><li>14</li><li>13</li><li>15</li><li>12</li><li>14</li><li>9</li><li>17</li><li>11</li><li>17</li><li>15</li><li>15</li><li>12</li><li>14</li><li>19</li><li>15</li><li>16</li><li>11</li><li>16</li><li>11</li><li>20</li><li>14</li><li>14</li><li>20</li><li>14</li><li>11</li><li>17</li><li>18</li><li>12</li><li>13</li><li>14</li><li>19</li><li>11</li><li>11</li><li>17</li><li>15</li><li>14</li><li>12</li><li>15</li><li>19</li><li>17</li><li>16</li><li>18</li><li>17</li><li>15</li><li>14</li><li>12</li><li>18</li><li>14</li><li>18</li><li>15</li><li>19</li><li>13</li><li>12</li><li>18</li><li>15</li><li>13</li><li>18</li><li>12</li><li>12</li><li>15</li><li>17</li><li>23</li><li>12</li><li>12</li><li>16</li><li>17</li><li>14</li><li>19</li><li>15</li><li>10</li><li>14</li><li>13</li><li>12</li><li>13</li><li>20</li><li>19</li><li>19</li><li>15</li><li>15</li><li>13</li><li>18</li><li>15</li><li>17</li><li>13</li><li>14</li><li>19</li><li>13</li><li>17</li><li>18</li><li>18</li><li>16</li><li>14</li><li>16</li><li>17</li><li>15</li><li>18</li></ol>\n"
      ],
      "text/latex": [
       "\\begin{enumerate*}\n",
       "\\item 18\n",
       "\\item 13\n",
       "\\item 21\n",
       "\\item 18\n",
       "\\item 14\n",
       "\\item 13\n",
       "\\item 15\n",
       "\\item 12\n",
       "\\item 14\n",
       "\\item 9\n",
       "\\item 17\n",
       "\\item 11\n",
       "\\item 17\n",
       "\\item 15\n",
       "\\item 15\n",
       "\\item 12\n",
       "\\item 14\n",
       "\\item 19\n",
       "\\item 15\n",
       "\\item 16\n",
       "\\item 11\n",
       "\\item 16\n",
       "\\item 11\n",
       "\\item 20\n",
       "\\item 14\n",
       "\\item 14\n",
       "\\item 20\n",
       "\\item 14\n",
       "\\item 11\n",
       "\\item 17\n",
       "\\item 18\n",
       "\\item 12\n",
       "\\item 13\n",
       "\\item 14\n",
       "\\item 19\n",
       "\\item 11\n",
       "\\item 11\n",
       "\\item 17\n",
       "\\item 15\n",
       "\\item 14\n",
       "\\item 12\n",
       "\\item 15\n",
       "\\item 19\n",
       "\\item 17\n",
       "\\item 16\n",
       "\\item 18\n",
       "\\item 17\n",
       "\\item 15\n",
       "\\item 14\n",
       "\\item 12\n",
       "\\item 18\n",
       "\\item 14\n",
       "\\item 18\n",
       "\\item 15\n",
       "\\item 19\n",
       "\\item 13\n",
       "\\item 12\n",
       "\\item 18\n",
       "\\item 15\n",
       "\\item 13\n",
       "\\item 18\n",
       "\\item 12\n",
       "\\item 12\n",
       "\\item 15\n",
       "\\item 17\n",
       "\\item 23\n",
       "\\item 12\n",
       "\\item 12\n",
       "\\item 16\n",
       "\\item 17\n",
       "\\item 14\n",
       "\\item 19\n",
       "\\item 15\n",
       "\\item 10\n",
       "\\item 14\n",
       "\\item 13\n",
       "\\item 12\n",
       "\\item 13\n",
       "\\item 20\n",
       "\\item 19\n",
       "\\item 19\n",
       "\\item 15\n",
       "\\item 15\n",
       "\\item 13\n",
       "\\item 18\n",
       "\\item 15\n",
       "\\item 17\n",
       "\\item 13\n",
       "\\item 14\n",
       "\\item 19\n",
       "\\item 13\n",
       "\\item 17\n",
       "\\item 18\n",
       "\\item 18\n",
       "\\item 16\n",
       "\\item 14\n",
       "\\item 16\n",
       "\\item 17\n",
       "\\item 15\n",
       "\\item 18\n",
       "\\end{enumerate*}\n"
      ],
      "text/markdown": [
       "1. 18\n",
       "2. 13\n",
       "3. 21\n",
       "4. 18\n",
       "5. 14\n",
       "6. 13\n",
       "7. 15\n",
       "8. 12\n",
       "9. 14\n",
       "10. 9\n",
       "11. 17\n",
       "12. 11\n",
       "13. 17\n",
       "14. 15\n",
       "15. 15\n",
       "16. 12\n",
       "17. 14\n",
       "18. 19\n",
       "19. 15\n",
       "20. 16\n",
       "21. 11\n",
       "22. 16\n",
       "23. 11\n",
       "24. 20\n",
       "25. 14\n",
       "26. 14\n",
       "27. 20\n",
       "28. 14\n",
       "29. 11\n",
       "30. 17\n",
       "31. 18\n",
       "32. 12\n",
       "33. 13\n",
       "34. 14\n",
       "35. 19\n",
       "36. 11\n",
       "37. 11\n",
       "38. 17\n",
       "39. 15\n",
       "40. 14\n",
       "41. 12\n",
       "42. 15\n",
       "43. 19\n",
       "44. 17\n",
       "45. 16\n",
       "46. 18\n",
       "47. 17\n",
       "48. 15\n",
       "49. 14\n",
       "50. 12\n",
       "51. 18\n",
       "52. 14\n",
       "53. 18\n",
       "54. 15\n",
       "55. 19\n",
       "56. 13\n",
       "57. 12\n",
       "58. 18\n",
       "59. 15\n",
       "60. 13\n",
       "61. 18\n",
       "62. 12\n",
       "63. 12\n",
       "64. 15\n",
       "65. 17\n",
       "66. 23\n",
       "67. 12\n",
       "68. 12\n",
       "69. 16\n",
       "70. 17\n",
       "71. 14\n",
       "72. 19\n",
       "73. 15\n",
       "74. 10\n",
       "75. 14\n",
       "76. 13\n",
       "77. 12\n",
       "78. 13\n",
       "79. 20\n",
       "80. 19\n",
       "81. 19\n",
       "82. 15\n",
       "83. 15\n",
       "84. 13\n",
       "85. 18\n",
       "86. 15\n",
       "87. 17\n",
       "88. 13\n",
       "89. 14\n",
       "90. 19\n",
       "91. 13\n",
       "92. 17\n",
       "93. 18\n",
       "94. 18\n",
       "95. 16\n",
       "96. 14\n",
       "97. 16\n",
       "98. 17\n",
       "99. 15\n",
       "100. 18\n",
       "\n",
       "\n"
      ],
      "text/plain": [
       "  [1] 18 13 21 18 14 13 15 12 14  9 17 11 17 15 15 12 14 19 15 16 11 16 11 20 14\n",
       " [26] 14 20 14 11 17 18 12 13 14 19 11 11 17 15 14 12 15 19 17 16 18 17 15 14 12\n",
       " [51] 18 14 18 15 19 13 12 18 15 13 18 12 12 15 17 23 12 12 16 17 14 19 15 10 14\n",
       " [76] 13 12 13 20 19 19 15 15 13 18 15 17 13 14 19 13 17 18 18 16 14 16 17 15 18"
      ]
     },
     "metadata": {},
     "output_type": "display_data"
    }
   ],
   "source": [
    "var1"
   ]
  },
  {
   "cell_type": "code",
   "execution_count": 6,
   "id": "484519a2",
   "metadata": {},
   "outputs": [],
   "source": [
    "var2 <- rbinom(100, size = 50, prob = 0.5)"
   ]
  },
  {
   "cell_type": "code",
   "execution_count": 7,
   "id": "83b36598",
   "metadata": {},
   "outputs": [],
   "source": [
    "df <- data.frame(qty1 = var1, qty2 = var2, category = factors)"
   ]
  },
  {
   "cell_type": "code",
   "execution_count": 8,
   "id": "4402163c",
   "metadata": {},
   "outputs": [
    {
     "data": {
      "text/html": [
       "<table class=\"dataframe\">\n",
       "<caption>A data.frame: 6 × 3</caption>\n",
       "<thead>\n",
       "\t<tr><th></th><th scope=col>qty1</th><th scope=col>qty2</th><th scope=col>category</th></tr>\n",
       "\t<tr><th></th><th scope=col>&lt;int&gt;</th><th scope=col>&lt;int&gt;</th><th scope=col>&lt;fct&gt;</th></tr>\n",
       "</thead>\n",
       "<tbody>\n",
       "\t<tr><th scope=row>1</th><td>18</td><td>31</td><td>C</td></tr>\n",
       "\t<tr><th scope=row>2</th><td>13</td><td>23</td><td>A</td></tr>\n",
       "\t<tr><th scope=row>3</th><td>21</td><td>21</td><td>A</td></tr>\n",
       "\t<tr><th scope=row>4</th><td>18</td><td>24</td><td>C</td></tr>\n",
       "\t<tr><th scope=row>5</th><td>14</td><td>20</td><td>A</td></tr>\n",
       "\t<tr><th scope=row>6</th><td>13</td><td>25</td><td>A</td></tr>\n",
       "</tbody>\n",
       "</table>\n"
      ],
      "text/latex": [
       "A data.frame: 6 × 3\n",
       "\\begin{tabular}{r|lll}\n",
       "  & qty1 & qty2 & category\\\\\n",
       "  & <int> & <int> & <fct>\\\\\n",
       "\\hline\n",
       "\t1 & 18 & 31 & C\\\\\n",
       "\t2 & 13 & 23 & A\\\\\n",
       "\t3 & 21 & 21 & A\\\\\n",
       "\t4 & 18 & 24 & C\\\\\n",
       "\t5 & 14 & 20 & A\\\\\n",
       "\t6 & 13 & 25 & A\\\\\n",
       "\\end{tabular}\n"
      ],
      "text/markdown": [
       "\n",
       "A data.frame: 6 × 3\n",
       "\n",
       "| <!--/--> | qty1 &lt;int&gt; | qty2 &lt;int&gt; | category &lt;fct&gt; |\n",
       "|---|---|---|---|\n",
       "| 1 | 18 | 31 | C |\n",
       "| 2 | 13 | 23 | A |\n",
       "| 3 | 21 | 21 | A |\n",
       "| 4 | 18 | 24 | C |\n",
       "| 5 | 14 | 20 | A |\n",
       "| 6 | 13 | 25 | A |\n",
       "\n"
      ],
      "text/plain": [
       "  qty1 qty2 category\n",
       "1 18   31   C       \n",
       "2 13   23   A       \n",
       "3 21   21   A       \n",
       "4 18   24   C       \n",
       "5 14   20   A       \n",
       "6 13   25   A       "
      ]
     },
     "metadata": {},
     "output_type": "display_data"
    }
   ],
   "source": [
    "head(df)"
   ]
  },
  {
   "cell_type": "code",
   "execution_count": 12,
   "id": "6614c490",
   "metadata": {},
   "outputs": [
    {
     "data": {
      "image/png": "[encoded data removed]",
      "text/plain": [
       "plot without title"
      ]
     },
     "metadata": {
      "image/png": {
       "height": 225,
       "width": 375
      }
     },
     "output_type": "display_data"
    }
   ],
   "source": [
    "ggplot(df, aes(x = qty1, y = qty2, color = category)) + \n",
    "    geom_point()"
   ]
  },
  {
   "cell_type": "code",
   "execution_count": 13,
   "id": "d2c0431f",
   "metadata": {},
   "outputs": [
    {
     "data": {
      "image/png": "[encoded data removed]",
      "text/plain": [
       "plot without title"
      ]
     },
     "metadata": {
      "image/png": {
       "height": 225,
       "width": 375
      }
     },
     "output_type": "display_data"
    }
   ],
   "source": [
    "ggplot(df, aes(x = qty1, y = qty2, shape = category)) + \n",
    "    geom_point()"
   ]
  },
  {
   "cell_type": "code",
   "execution_count": null,
   "id": "8da363f2",
   "metadata": {},
   "outputs": [],
   "source": []
  }
 ],
 "metadata": {
  "kernelspec": {
   "display_name": "R",
   "language": "R",
   "name": "ir"
  },
  "language_info": {
   "codemirror_mode": "r",
   "file_extension": ".r",
   "mimetype": "text/x-r-source",
   "name": "R",
   "pygments_lexer": "r",
   "version": "4.0.5"
  }
 },
 "nbformat": 4,
 "nbformat_minor": 5
}
