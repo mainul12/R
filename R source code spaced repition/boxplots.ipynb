{
 "cells": [
  {
   "cell_type": "code",
   "execution_count": 1,
   "id": "bda39dd1",
   "metadata": {},
   "outputs": [],
   "source": [
    "library(ggplot2)"
   ]
  },
  {
   "cell_type": "code",
   "execution_count": 2,
   "id": "4f9f0705",
   "metadata": {},
   "outputs": [],
   "source": [
    "library(wakefield)"
   ]
  },
  {
   "cell_type": "code",
   "execution_count": 16,
   "id": "1749e061",
   "metadata": {},
   "outputs": [],
   "source": [
    "tibia <- rnorm(100, 12, 3)"
   ]
  },
  {
   "cell_type": "code",
   "execution_count": 17,
   "id": "5e5f850c",
   "metadata": {},
   "outputs": [],
   "source": [
    "eth = r_sample_factor(x = c(\"Greek\", \"Turkish\", \"Roman\"),  n = 100)"
   ]
  },
  {
   "cell_type": "code",
   "execution_count": 18,
   "id": "0a3d2b00",
   "metadata": {},
   "outputs": [],
   "source": [
    "df <- data.frame(tibia_measure = tibia, ethnicity = eth)"
   ]
  },
  {
   "cell_type": "code",
   "execution_count": 19,
   "id": "fa7b4b5f",
   "metadata": {},
   "outputs": [
    {
     "data": {
      "text/html": [
       "<table class=\"dataframe\">\n",
       "<caption>A data.frame: 6 × 2</caption>\n",
       "<thead>\n",
       "\t<tr><th></th><th scope=col>tibia_measure</th><th scope=col>ethnicity</th></tr>\n",
       "\t<tr><th></th><th scope=col>&lt;dbl&gt;</th><th scope=col>&lt;fct&gt;</th></tr>\n",
       "</thead>\n",
       "<tbody>\n",
       "\t<tr><th scope=row>1</th><td>14.51439</td><td>Turkish</td></tr>\n",
       "\t<tr><th scope=row>2</th><td>11.16406</td><td>Turkish</td></tr>\n",
       "\t<tr><th scope=row>3</th><td>12.73361</td><td>Greek  </td></tr>\n",
       "\t<tr><th scope=row>4</th><td>15.50940</td><td>Turkish</td></tr>\n",
       "\t<tr><th scope=row>5</th><td>14.04599</td><td>Roman  </td></tr>\n",
       "\t<tr><th scope=row>6</th><td>13.93676</td><td>Turkish</td></tr>\n",
       "</tbody>\n",
       "</table>\n"
      ],
      "text/latex": [
       "A data.frame: 6 × 2\n",
       "\\begin{tabular}{r|ll}\n",
       "  & tibia\\_measure & ethnicity\\\\\n",
       "  & <dbl> & <fct>\\\\\n",
       "\\hline\n",
       "\t1 & 14.51439 & Turkish\\\\\n",
       "\t2 & 11.16406 & Turkish\\\\\n",
       "\t3 & 12.73361 & Greek  \\\\\n",
       "\t4 & 15.50940 & Turkish\\\\\n",
       "\t5 & 14.04599 & Roman  \\\\\n",
       "\t6 & 13.93676 & Turkish\\\\\n",
       "\\end{tabular}\n"
      ],
      "text/markdown": [
       "\n",
       "A data.frame: 6 × 2\n",
       "\n",
       "| <!--/--> | tibia_measure &lt;dbl&gt; | ethnicity &lt;fct&gt; |\n",
       "|---|---|---|\n",
       "| 1 | 14.51439 | Turkish |\n",
       "| 2 | 11.16406 | Turkish |\n",
       "| 3 | 12.73361 | Greek   |\n",
       "| 4 | 15.50940 | Turkish |\n",
       "| 5 | 14.04599 | Roman   |\n",
       "| 6 | 13.93676 | Turkish |\n",
       "\n"
      ],
      "text/plain": [
       "  tibia_measure ethnicity\n",
       "1 14.51439      Turkish  \n",
       "2 11.16406      Turkish  \n",
       "3 12.73361      Greek    \n",
       "4 15.50940      Turkish  \n",
       "5 14.04599      Roman    \n",
       "6 13.93676      Turkish  "
      ]
     },
     "metadata": {},
     "output_type": "display_data"
    }
   ],
   "source": [
    "head(df)"
   ]
  },
  {
   "cell_type": "code",
   "execution_count": 20,
   "id": "4dacf3a5",
   "metadata": {},
   "outputs": [
    {
     "data": {
      "image/png": "[encoded data removed]",
      "text/plain": [
       "plot without title"
      ]
     },
     "metadata": {
      "image/png": {
       "height": 420,
       "width": 420
      }
     },
     "output_type": "display_data"
    }
   ],
   "source": [
    "ggplot(df, aes(x=ethnicity, y = tibia_measure)) + \n",
    "    geom_boxplot()"
   ]
  },
  {
   "cell_type": "code",
   "execution_count": 22,
   "id": "21d41558",
   "metadata": {},
   "outputs": [],
   "source": [
    "df <- r_data_frame(n=100,\n",
    "    id,\n",
    "    age,\n",
    "    sex,\n",
    "    political\n",
    ")"
   ]
  },
  {
   "cell_type": "code",
   "execution_count": 23,
   "id": "1ab1d1cb",
   "metadata": {},
   "outputs": [
    {
     "data": {
      "text/html": [
       "<table class=\"dataframe\">\n",
       "<caption>A tibble: 6 × 4</caption>\n",
       "<thead>\n",
       "\t<tr><th scope=col>ID</th><th scope=col>Age</th><th scope=col>Sex</th><th scope=col>Political</th></tr>\n",
       "\t<tr><th scope=col>&lt;chr&gt;</th><th scope=col>&lt;int&gt;</th><th scope=col>&lt;fct&gt;</th><th scope=col>&lt;fct&gt;</th></tr>\n",
       "</thead>\n",
       "<tbody>\n",
       "\t<tr><td>001</td><td>68</td><td>Male</td><td>Republican</td></tr>\n",
       "\t<tr><td>002</td><td>69</td><td>Male</td><td>Democrat  </td></tr>\n",
       "\t<tr><td>003</td><td>43</td><td>Male</td><td>Republican</td></tr>\n",
       "\t<tr><td>004</td><td>23</td><td>Male</td><td>Democrat  </td></tr>\n",
       "\t<tr><td>005</td><td>19</td><td>Male</td><td>Republican</td></tr>\n",
       "\t<tr><td>006</td><td>36</td><td>Male</td><td>Democrat  </td></tr>\n",
       "</tbody>\n",
       "</table>\n"
      ],
      "text/latex": [
       "A tibble: 6 × 4\n",
       "\\begin{tabular}{llll}\n",
       " ID & Age & Sex & Political\\\\\n",
       " <chr> & <int> & <fct> & <fct>\\\\\n",
       "\\hline\n",
       "\t 001 & 68 & Male & Republican\\\\\n",
       "\t 002 & 69 & Male & Democrat  \\\\\n",
       "\t 003 & 43 & Male & Republican\\\\\n",
       "\t 004 & 23 & Male & Democrat  \\\\\n",
       "\t 005 & 19 & Male & Republican\\\\\n",
       "\t 006 & 36 & Male & Democrat  \\\\\n",
       "\\end{tabular}\n"
      ],
      "text/markdown": [
       "\n",
       "A tibble: 6 × 4\n",
       "\n",
       "| ID &lt;chr&gt; | Age &lt;int&gt; | Sex &lt;fct&gt; | Political &lt;fct&gt; |\n",
       "|---|---|---|---|\n",
       "| 001 | 68 | Male | Republican |\n",
       "| 002 | 69 | Male | Democrat   |\n",
       "| 003 | 43 | Male | Republican |\n",
       "| 004 | 23 | Male | Democrat   |\n",
       "| 005 | 19 | Male | Republican |\n",
       "| 006 | 36 | Male | Democrat   |\n",
       "\n"
      ],
      "text/plain": [
       "  ID  Age Sex  Political \n",
       "1 001 68  Male Republican\n",
       "2 002 69  Male Democrat  \n",
       "3 003 43  Male Republican\n",
       "4 004 23  Male Democrat  \n",
       "5 005 19  Male Republican\n",
       "6 006 36  Male Democrat  "
      ]
     },
     "metadata": {},
     "output_type": "display_data"
    }
   ],
   "source": [
    "head(df)"
   ]
  },
  {
   "cell_type": "code",
   "execution_count": 28,
   "id": "c8871838",
   "metadata": {},
   "outputs": [
    {
     "data": {
      "image/png": "[encoded data removed]",
      "text/plain": [
       "plot without title"
      ]
     },
     "metadata": {
      "image/png": {
       "height": 420,
       "width": 420
      }
     },
     "output_type": "display_data"
    }
   ],
   "source": [
    "ggplot(df, aes(x=Political, y = Age)) + \n",
    "    geom_boxplot()"
   ]
  },
  {
   "cell_type": "code",
   "execution_count": null,
   "id": "8eaee877",
   "metadata": {},
   "outputs": [],
   "source": []
  }
 ],
 "metadata": {
  "kernelspec": {
   "display_name": "R",
   "language": "R",
   "name": "ir"
  },
  "language_info": {
   "codemirror_mode": "r",
   "file_extension": ".r",
   "mimetype": "text/x-r-source",
   "name": "R",
   "pygments_lexer": "r",
   "version": "4.0.5"
  }
 },
 "nbformat": 4,
 "nbformat_minor": 5
}
