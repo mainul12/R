{
 "cells": [
  {
   "cell_type": "markdown",
   "id": "b3a99996",
   "metadata": {},
   "source": [
    "You want to group bars together by a second variable."
   ]
  },
  {
   "cell_type": "code",
   "execution_count": 1,
   "id": "969cc579",
   "metadata": {},
   "outputs": [
    {
     "name": "stderr",
     "output_type": "stream",
     "text": [
      "-- \u001b[1mAttaching packages\u001b[22m ------------------------------------------------------------------------------- tidyverse 1.3.1 --\n",
      "\n",
      "\u001b[32mv\u001b[39m \u001b[34mggplot2\u001b[39m 3.3.4     \u001b[32mv\u001b[39m \u001b[34mpurrr  \u001b[39m 0.3.4\n",
      "\u001b[32mv\u001b[39m \u001b[34mtibble \u001b[39m 3.1.1     \u001b[32mv\u001b[39m \u001b[34mdplyr  \u001b[39m 1.0.6\n",
      "\u001b[32mv\u001b[39m \u001b[34mtidyr  \u001b[39m 1.1.3     \u001b[32mv\u001b[39m \u001b[34mstringr\u001b[39m 1.4.0\n",
      "\u001b[32mv\u001b[39m \u001b[34mreadr  \u001b[39m 1.4.0     \u001b[32mv\u001b[39m \u001b[34mforcats\u001b[39m 0.5.1\n",
      "\n",
      "-- \u001b[1mConflicts\u001b[22m ---------------------------------------------------------------------------------- tidyverse_conflicts() --\n",
      "\u001b[31mx\u001b[39m \u001b[34mdplyr\u001b[39m::\u001b[32mfilter()\u001b[39m masks \u001b[34mstats\u001b[39m::filter()\n",
      "\u001b[31mx\u001b[39m \u001b[34mdplyr\u001b[39m::\u001b[32mlag()\u001b[39m    masks \u001b[34mstats\u001b[39m::lag()\n",
      "\n"
     ]
    }
   ],
   "source": [
    "library(tidyverse)"
   ]
  },
  {
   "cell_type": "code",
   "execution_count": 2,
   "id": "5e34e124",
   "metadata": {},
   "outputs": [
    {
     "name": "stderr",
     "output_type": "stream",
     "text": [
      "\n",
      "Attaching package: 'wakefield'\n",
      "\n",
      "\n",
      "The following object is masked from 'package:dplyr':\n",
      "\n",
      "    id\n",
      "\n",
      "\n"
     ]
    }
   ],
   "source": [
    "library(wakefield)"
   ]
  },
  {
   "cell_type": "code",
   "execution_count": 3,
   "id": "e2e266b0",
   "metadata": {},
   "outputs": [],
   "source": [
    "category1 <- race(100)"
   ]
  },
  {
   "cell_type": "code",
   "execution_count": 5,
   "id": "6d2c4578",
   "metadata": {},
   "outputs": [],
   "source": [
    "category2 <- sex(100)"
   ]
  },
  {
   "cell_type": "code",
   "execution_count": 6,
   "id": "13527e0a",
   "metadata": {},
   "outputs": [
    {
     "data": {
      "text/html": [
       "<style>\n",
       ".list-inline {list-style: none; margin:0; padding: 0}\n",
       ".list-inline>li {display: inline-block}\n",
       ".list-inline>li:not(:last-child)::after {content: \"\\00b7\"; padding: 0 .5ex}\n",
       "</style>\n",
       "<ol class=list-inline><li>'White'</li><li>'Hispanic'</li><li>'Black'</li><li>'Asian'</li><li>'Bi-Racial'</li><li>'Native'</li><li>'Other'</li><li>'Hawaiian'</li></ol>\n"
      ],
      "text/latex": [
       "\\begin{enumerate*}\n",
       "\\item 'White'\n",
       "\\item 'Hispanic'\n",
       "\\item 'Black'\n",
       "\\item 'Asian'\n",
       "\\item 'Bi-Racial'\n",
       "\\item 'Native'\n",
       "\\item 'Other'\n",
       "\\item 'Hawaiian'\n",
       "\\end{enumerate*}\n"
      ],
      "text/markdown": [
       "1. 'White'\n",
       "2. 'Hispanic'\n",
       "3. 'Black'\n",
       "4. 'Asian'\n",
       "5. 'Bi-Racial'\n",
       "6. 'Native'\n",
       "7. 'Other'\n",
       "8. 'Hawaiian'\n",
       "\n",
       "\n"
      ],
      "text/plain": [
       "[1] \"White\"     \"Hispanic\"  \"Black\"     \"Asian\"     \"Bi-Racial\" \"Native\"   \n",
       "[7] \"Other\"     \"Hawaiian\" "
      ]
     },
     "metadata": {},
     "output_type": "display_data"
    }
   ],
   "source": [
    "levels(category1)"
   ]
  },
  {
   "cell_type": "code",
   "execution_count": 7,
   "id": "d05cfdb0",
   "metadata": {},
   "outputs": [],
   "source": [
    "continuous1 <- age(100, 18:65)"
   ]
  },
  {
   "cell_type": "code",
   "execution_count": 8,
   "id": "7290de80",
   "metadata": {},
   "outputs": [],
   "source": [
    "df <- data.frame(race = category1, sex = category2, age = continuous1)"
   ]
  },
  {
   "cell_type": "code",
   "execution_count": 9,
   "id": "762cdad4",
   "metadata": {},
   "outputs": [
    {
     "data": {
      "text/html": [
       "<table class=\"dataframe\">\n",
       "<caption>A data.frame: 6 × 3</caption>\n",
       "<thead>\n",
       "\t<tr><th></th><th scope=col>race</th><th scope=col>sex</th><th scope=col>age</th></tr>\n",
       "\t<tr><th></th><th scope=col>&lt;fct&gt;</th><th scope=col>&lt;fct&gt;</th><th scope=col>&lt;int&gt;</th></tr>\n",
       "</thead>\n",
       "<tbody>\n",
       "\t<tr><th scope=row>1</th><td>White   </td><td>Female</td><td>25</td></tr>\n",
       "\t<tr><th scope=row>2</th><td>White   </td><td>Female</td><td>65</td></tr>\n",
       "\t<tr><th scope=row>3</th><td>White   </td><td>Female</td><td>35</td></tr>\n",
       "\t<tr><th scope=row>4</th><td>White   </td><td>Female</td><td>49</td></tr>\n",
       "\t<tr><th scope=row>5</th><td>White   </td><td>Male  </td><td>63</td></tr>\n",
       "\t<tr><th scope=row>6</th><td>Hispanic</td><td>Male  </td><td>24</td></tr>\n",
       "</tbody>\n",
       "</table>\n"
      ],
      "text/latex": [
       "A data.frame: 6 × 3\n",
       "\\begin{tabular}{r|lll}\n",
       "  & race & sex & age\\\\\n",
       "  & <fct> & <fct> & <int>\\\\\n",
       "\\hline\n",
       "\t1 & White    & Female & 25\\\\\n",
       "\t2 & White    & Female & 65\\\\\n",
       "\t3 & White    & Female & 35\\\\\n",
       "\t4 & White    & Female & 49\\\\\n",
       "\t5 & White    & Male   & 63\\\\\n",
       "\t6 & Hispanic & Male   & 24\\\\\n",
       "\\end{tabular}\n"
      ],
      "text/markdown": [
       "\n",
       "A data.frame: 6 × 3\n",
       "\n",
       "| <!--/--> | race &lt;fct&gt; | sex &lt;fct&gt; | age &lt;int&gt; |\n",
       "|---|---|---|---|\n",
       "| 1 | White    | Female | 25 |\n",
       "| 2 | White    | Female | 65 |\n",
       "| 3 | White    | Female | 35 |\n",
       "| 4 | White    | Female | 49 |\n",
       "| 5 | White    | Male   | 63 |\n",
       "| 6 | Hispanic | Male   | 24 |\n",
       "\n"
      ],
      "text/plain": [
       "  race     sex    age\n",
       "1 White    Female 25 \n",
       "2 White    Female 65 \n",
       "3 White    Female 35 \n",
       "4 White    Female 49 \n",
       "5 White    Male   63 \n",
       "6 Hispanic Male   24 "
      ]
     },
     "metadata": {},
     "output_type": "display_data"
    }
   ],
   "source": [
    "head(df)"
   ]
  },
  {
   "cell_type": "code",
   "execution_count": 12,
   "id": "7d4449c8",
   "metadata": {},
   "outputs": [
    {
     "name": "stderr",
     "output_type": "stream",
     "text": [
      "Don't know how to automatically pick scale for object of type variable/integer. Defaulting to continuous.\n",
      "\n"
     ]
    },
    {
     "data": {
      "image/png": "[encoded data removed]",
      "text/plain": [
       "plot without title"
      ]
     },
     "metadata": {
      "image/png": {
       "height": 420,
       "width": 420
      }
     },
     "output_type": "display_data"
    }
   ],
   "source": [
    "ggplot(df, aes(x = race, y = age, fill = sex)) + \n",
    "    geom_col(position = \"dodge\")"
   ]
  },
  {
   "cell_type": "code",
   "execution_count": 15,
   "id": "a91a0a4f",
   "metadata": {},
   "outputs": [
    {
     "data": {
      "text/html": [
       "<table class=\"dataframe\">\n",
       "<caption>A data.frame: 0 × 3</caption>\n",
       "<thead>\n",
       "\t<tr><th scope=col>race</th><th scope=col>sex</th><th scope=col>age</th></tr>\n",
       "\t<tr><th scope=col>&lt;fct&gt;</th><th scope=col>&lt;fct&gt;</th><th scope=col>&lt;variable&gt;</th></tr>\n",
       "</thead>\n",
       "<tbody>\n",
       "</tbody>\n",
       "</table>\n"
      ],
      "text/latex": [
       "A data.frame: 0 × 3\n",
       "\\begin{tabular}{lll}\n",
       " race & sex & age\\\\\n",
       " <fct> & <fct> & <variable>\\\\\n",
       "\\hline\n",
       "\\end{tabular}\n"
      ],
      "text/markdown": [
       "\n",
       "A data.frame: 0 × 3\n",
       "\n",
       "| race &lt;fct&gt; | sex &lt;fct&gt; | age &lt;variable&gt; |\n",
       "|---|---|---|\n",
       "\n"
      ],
      "text/plain": [
       "     race sex age"
      ]
     },
     "metadata": {},
     "output_type": "display_data"
    }
   ],
   "source": [
    "df %>%\n",
    "    filter(race == \"Bi-Racial\", sex == \"Male\")"
   ]
  },
  {
   "cell_type": "code",
   "execution_count": 27,
   "id": "152e9591",
   "metadata": {},
   "outputs": [
    {
     "name": "stderr",
     "output_type": "stream",
     "text": [
      "`summarise()` has grouped output by 'race'. You can override using the `.groups` argument.\n",
      "\n"
     ]
    },
    {
     "data": {
      "text/html": [
       "<table class=\"dataframe\">\n",
       "<caption>A grouped_df: 11 × 3</caption>\n",
       "<thead>\n",
       "\t<tr><th scope=col>race</th><th scope=col>sex</th><th scope=col>m</th></tr>\n",
       "\t<tr><th scope=col>&lt;fct&gt;</th><th scope=col>&lt;fct&gt;</th><th scope=col>&lt;dbl&gt;</th></tr>\n",
       "</thead>\n",
       "<tbody>\n",
       "\t<tr><td>White    </td><td>Male  </td><td>42.09091</td></tr>\n",
       "\t<tr><td>White    </td><td>Female</td><td>43.53333</td></tr>\n",
       "\t<tr><td>Hispanic </td><td>Male  </td><td>37.71429</td></tr>\n",
       "\t<tr><td>Hispanic </td><td>Female</td><td>45.87500</td></tr>\n",
       "\t<tr><td>Black    </td><td>Male  </td><td>55.40000</td></tr>\n",
       "\t<tr><td>Black    </td><td>Female</td><td>43.57143</td></tr>\n",
       "\t<tr><td>Asian    </td><td>Male  </td><td>32.00000</td></tr>\n",
       "\t<tr><td>Asian    </td><td>Female</td><td>29.75000</td></tr>\n",
       "\t<tr><td>Bi-Racial</td><td>Female</td><td>38.50000</td></tr>\n",
       "\t<tr><td>Native   </td><td>Male  </td><td>23.00000</td></tr>\n",
       "\t<tr><td>Native   </td><td>Female</td><td>22.00000</td></tr>\n",
       "</tbody>\n",
       "</table>\n"
      ],
      "text/latex": [
       "A grouped\\_df: 11 × 3\n",
       "\\begin{tabular}{lll}\n",
       " race & sex & m\\\\\n",
       " <fct> & <fct> & <dbl>\\\\\n",
       "\\hline\n",
       "\t White     & Male   & 42.09091\\\\\n",
       "\t White     & Female & 43.53333\\\\\n",
       "\t Hispanic  & Male   & 37.71429\\\\\n",
       "\t Hispanic  & Female & 45.87500\\\\\n",
       "\t Black     & Male   & 55.40000\\\\\n",
       "\t Black     & Female & 43.57143\\\\\n",
       "\t Asian     & Male   & 32.00000\\\\\n",
       "\t Asian     & Female & 29.75000\\\\\n",
       "\t Bi-Racial & Female & 38.50000\\\\\n",
       "\t Native    & Male   & 23.00000\\\\\n",
       "\t Native    & Female & 22.00000\\\\\n",
       "\\end{tabular}\n"
      ],
      "text/markdown": [
       "\n",
       "A grouped_df: 11 × 3\n",
       "\n",
       "| race &lt;fct&gt; | sex &lt;fct&gt; | m &lt;dbl&gt; |\n",
       "|---|---|---|\n",
       "| White     | Male   | 42.09091 |\n",
       "| White     | Female | 43.53333 |\n",
       "| Hispanic  | Male   | 37.71429 |\n",
       "| Hispanic  | Female | 45.87500 |\n",
       "| Black     | Male   | 55.40000 |\n",
       "| Black     | Female | 43.57143 |\n",
       "| Asian     | Male   | 32.00000 |\n",
       "| Asian     | Female | 29.75000 |\n",
       "| Bi-Racial | Female | 38.50000 |\n",
       "| Native    | Male   | 23.00000 |\n",
       "| Native    | Female | 22.00000 |\n",
       "\n"
      ],
      "text/plain": [
       "   race      sex    m       \n",
       "1  White     Male   42.09091\n",
       "2  White     Female 43.53333\n",
       "3  Hispanic  Male   37.71429\n",
       "4  Hispanic  Female 45.87500\n",
       "5  Black     Male   55.40000\n",
       "6  Black     Female 43.57143\n",
       "7  Asian     Male   32.00000\n",
       "8  Asian     Female 29.75000\n",
       "9  Bi-Racial Female 38.50000\n",
       "10 Native    Male   23.00000\n",
       "11 Native    Female 22.00000"
      ]
     },
     "metadata": {},
     "output_type": "display_data"
    }
   ],
   "source": [
    "df %>%\n",
    "    group_by(race, sex) %>%\n",
    "    summarise(m = mean(age))"
   ]
  },
  {
   "cell_type": "code",
   "execution_count": 26,
   "id": "a7f2554a",
   "metadata": {},
   "outputs": [
    {
     "name": "stderr",
     "output_type": "stream",
     "text": [
      "`summarise()` has grouped output by 'race'. You can override using the `.groups` argument.\n",
      "\n"
     ]
    },
    {
     "data": {
      "image/png": "[encoded data removed]",
      "text/plain": [
       "plot without title"
      ]
     },
     "metadata": {
      "image/png": {
       "height": 420,
       "width": 420
      }
     },
     "output_type": "display_data"
    }
   ],
   "source": [
    "df %>%\n",
    "    group_by(race, sex) %>%\n",
    "    summarise(m = mean(age)) %>%\n",
    "    ggplot(aes(x = race, y = m, fill = sex)) + \n",
    "    geom_col(position = \"dodge\")"
   ]
  },
  {
   "cell_type": "code",
   "execution_count": 29,
   "id": "217f8b50",
   "metadata": {},
   "outputs": [
    {
     "name": "stderr",
     "output_type": "stream",
     "text": [
      "`summarise()` has grouped output by 'race'. You can override using the `.groups` argument.\n",
      "\n"
     ]
    },
    {
     "data": {
      "image/png": "[encoded data removed]",
      "text/plain": [
       "plot without title"
      ]
     },
     "metadata": {
      "image/png": {
       "height": 420,
       "width": 420
      }
     },
     "output_type": "display_data"
    }
   ],
   "source": [
    "df %>%\n",
    "    group_by(race, sex) %>%\n",
    "    summarise(m = mean(age)) %>%\n",
    "    ggplot(aes(x = sex, y = m, fill = race)) + \n",
    "    geom_col(position = \"dodge\", color = \"black\")"
   ]
  },
  {
   "cell_type": "code",
   "execution_count": 30,
   "id": "c29a526d",
   "metadata": {},
   "outputs": [
    {
     "data": {
      "text/html": [
       "<table class=\"dataframe\">\n",
       "<caption>A tibble: 6 × 2</caption>\n",
       "<thead>\n",
       "\t<tr><th scope=col>race</th><th scope=col>count</th></tr>\n",
       "\t<tr><th scope=col>&lt;fct&gt;</th><th scope=col>&lt;int&gt;</th></tr>\n",
       "</thead>\n",
       "<tbody>\n",
       "\t<tr><td>White    </td><td>63</td></tr>\n",
       "\t<tr><td>Hispanic </td><td>15</td></tr>\n",
       "\t<tr><td>Black    </td><td>12</td></tr>\n",
       "\t<tr><td>Asian    </td><td> 6</td></tr>\n",
       "\t<tr><td>Bi-Racial</td><td> 2</td></tr>\n",
       "\t<tr><td>Native   </td><td> 2</td></tr>\n",
       "</tbody>\n",
       "</table>\n"
      ],
      "text/latex": [
       "A tibble: 6 × 2\n",
       "\\begin{tabular}{ll}\n",
       " race & count\\\\\n",
       " <fct> & <int>\\\\\n",
       "\\hline\n",
       "\t White     & 63\\\\\n",
       "\t Hispanic  & 15\\\\\n",
       "\t Black     & 12\\\\\n",
       "\t Asian     &  6\\\\\n",
       "\t Bi-Racial &  2\\\\\n",
       "\t Native    &  2\\\\\n",
       "\\end{tabular}\n"
      ],
      "text/markdown": [
       "\n",
       "A tibble: 6 × 2\n",
       "\n",
       "| race &lt;fct&gt; | count &lt;int&gt; |\n",
       "|---|---|\n",
       "| White     | 63 |\n",
       "| Hispanic  | 15 |\n",
       "| Black     | 12 |\n",
       "| Asian     |  6 |\n",
       "| Bi-Racial |  2 |\n",
       "| Native    |  2 |\n",
       "\n"
      ],
      "text/plain": [
       "  race      count\n",
       "1 White     63   \n",
       "2 Hispanic  15   \n",
       "3 Black     12   \n",
       "4 Asian      6   \n",
       "5 Bi-Racial  2   \n",
       "6 Native     2   "
      ]
     },
     "metadata": {},
     "output_type": "display_data"
    }
   ],
   "source": [
    "df %>% \n",
    "    group_by(race) %>%\n",
    "    summarise(count = n())"
   ]
  },
  {
   "cell_type": "code",
   "execution_count": 31,
   "id": "320e060e",
   "metadata": {},
   "outputs": [
    {
     "data": {
      "image/png": "[encoded data removed]",
      "text/plain": [
       "plot without title"
      ]
     },
     "metadata": {
      "image/png": {
       "height": 420,
       "width": 420
      }
     },
     "output_type": "display_data"
    }
   ],
   "source": [
    "ggplot(df, aes(race)) + \n",
    "    geom_bar()"
   ]
  },
  {
   "cell_type": "code",
   "execution_count": null,
   "id": "e4c70cec",
   "metadata": {},
   "outputs": [],
   "source": []
  }
 ],
 "metadata": {
  "kernelspec": {
   "display_name": "R",
   "language": "R",
   "name": "ir"
  },
  "language_info": {
   "codemirror_mode": "r",
   "file_extension": ".r",
   "mimetype": "text/x-r-source",
   "name": "R",
   "pygments_lexer": "r",
   "version": "4.0.5"
  }
 },
 "nbformat": 4,
 "nbformat_minor": 5
}
