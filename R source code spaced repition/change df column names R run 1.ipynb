{
 "cells": [
  {
   "cell_type": "markdown",
   "id": "c091f784",
   "metadata": {},
   "source": [
    "[Source: R cookbook, recipe 5.23](https://rc2e.com/datastructures#recipe-id254)"
   ]
  },
  {
   "cell_type": "code",
   "execution_count": 1,
   "id": "71122477",
   "metadata": {},
   "outputs": [
    {
     "name": "stderr",
     "output_type": "stream",
     "text": [
      "\n",
      "Attaching package: 'dplyr'\n",
      "\n",
      "\n",
      "The following objects are masked from 'package:stats':\n",
      "\n",
      "    filter, lag\n",
      "\n",
      "\n",
      "The following objects are masked from 'package:base':\n",
      "\n",
      "    intersect, setdiff, setequal, union\n",
      "\n",
      "\n"
     ]
    }
   ],
   "source": [
    "library(dplyr)"
   ]
  },
  {
   "cell_type": "code",
   "execution_count": 4,
   "id": "9bbb188e",
   "metadata": {},
   "outputs": [],
   "source": [
    "df <- data.frame(\"A\" = rnorm(10), \"B\" = rbinom(10, 20, 0.5))"
   ]
  },
  {
   "cell_type": "code",
   "execution_count": 5,
   "id": "5457744e",
   "metadata": {},
   "outputs": [
    {
     "data": {
      "text/html": [
       "<table class=\"dataframe\">\n",
       "<caption>A data.frame: 10 × 2</caption>\n",
       "<thead>\n",
       "\t<tr><th scope=col>A</th><th scope=col>B</th></tr>\n",
       "\t<tr><th scope=col>&lt;dbl&gt;</th><th scope=col>&lt;int&gt;</th></tr>\n",
       "</thead>\n",
       "<tbody>\n",
       "\t<tr><td> 0.56199005</td><td>12</td></tr>\n",
       "\t<tr><td> 0.33749366</td><td>12</td></tr>\n",
       "\t<tr><td>-1.40660996</td><td> 7</td></tr>\n",
       "\t<tr><td> 1.68989856</td><td> 9</td></tr>\n",
       "\t<tr><td> 1.45272278</td><td>10</td></tr>\n",
       "\t<tr><td>-0.37284498</td><td>12</td></tr>\n",
       "\t<tr><td> 1.03867464</td><td>12</td></tr>\n",
       "\t<tr><td> 0.48986362</td><td> 5</td></tr>\n",
       "\t<tr><td> 0.01704655</td><td>10</td></tr>\n",
       "\t<tr><td> 0.93699530</td><td>10</td></tr>\n",
       "</tbody>\n",
       "</table>\n"
      ],
      "text/latex": [
       "A data.frame: 10 × 2\n",
       "\\begin{tabular}{ll}\n",
       " A & B\\\\\n",
       " <dbl> & <int>\\\\\n",
       "\\hline\n",
       "\t  0.56199005 & 12\\\\\n",
       "\t  0.33749366 & 12\\\\\n",
       "\t -1.40660996 &  7\\\\\n",
       "\t  1.68989856 &  9\\\\\n",
       "\t  1.45272278 & 10\\\\\n",
       "\t -0.37284498 & 12\\\\\n",
       "\t  1.03867464 & 12\\\\\n",
       "\t  0.48986362 &  5\\\\\n",
       "\t  0.01704655 & 10\\\\\n",
       "\t  0.93699530 & 10\\\\\n",
       "\\end{tabular}\n"
      ],
      "text/markdown": [
       "\n",
       "A data.frame: 10 × 2\n",
       "\n",
       "| A &lt;dbl&gt; | B &lt;int&gt; |\n",
       "|---|---|\n",
       "|  0.56199005 | 12 |\n",
       "|  0.33749366 | 12 |\n",
       "| -1.40660996 |  7 |\n",
       "|  1.68989856 |  9 |\n",
       "|  1.45272278 | 10 |\n",
       "| -0.37284498 | 12 |\n",
       "|  1.03867464 | 12 |\n",
       "|  0.48986362 |  5 |\n",
       "|  0.01704655 | 10 |\n",
       "|  0.93699530 | 10 |\n",
       "\n"
      ],
      "text/plain": [
       "   A           B \n",
       "1   0.56199005 12\n",
       "2   0.33749366 12\n",
       "3  -1.40660996  7\n",
       "4   1.68989856  9\n",
       "5   1.45272278 10\n",
       "6  -0.37284498 12\n",
       "7   1.03867464 12\n",
       "8   0.48986362  5\n",
       "9   0.01704655 10\n",
       "10  0.93699530 10"
      ]
     },
     "metadata": {},
     "output_type": "display_data"
    }
   ],
   "source": [
    "df"
   ]
  },
  {
   "cell_type": "code",
   "execution_count": 9,
   "id": "e7e6c3ba",
   "metadata": {},
   "outputs": [],
   "source": [
    "renamed_df <- df %>%\n",
    "    rename(\"normal\" = \"A\", \"binomial\" = \"B\")"
   ]
  },
  {
   "cell_type": "code",
   "execution_count": 10,
   "id": "d692238b",
   "metadata": {},
   "outputs": [
    {
     "data": {
      "text/html": [
       "<table class=\"dataframe\">\n",
       "<caption>A data.frame: 10 × 2</caption>\n",
       "<thead>\n",
       "\t<tr><th scope=col>normal</th><th scope=col>binomial</th></tr>\n",
       "\t<tr><th scope=col>&lt;dbl&gt;</th><th scope=col>&lt;int&gt;</th></tr>\n",
       "</thead>\n",
       "<tbody>\n",
       "\t<tr><td> 0.56199005</td><td>12</td></tr>\n",
       "\t<tr><td> 0.33749366</td><td>12</td></tr>\n",
       "\t<tr><td>-1.40660996</td><td> 7</td></tr>\n",
       "\t<tr><td> 1.68989856</td><td> 9</td></tr>\n",
       "\t<tr><td> 1.45272278</td><td>10</td></tr>\n",
       "\t<tr><td>-0.37284498</td><td>12</td></tr>\n",
       "\t<tr><td> 1.03867464</td><td>12</td></tr>\n",
       "\t<tr><td> 0.48986362</td><td> 5</td></tr>\n",
       "\t<tr><td> 0.01704655</td><td>10</td></tr>\n",
       "\t<tr><td> 0.93699530</td><td>10</td></tr>\n",
       "</tbody>\n",
       "</table>\n"
      ],
      "text/latex": [
       "A data.frame: 10 × 2\n",
       "\\begin{tabular}{ll}\n",
       " normal & binomial\\\\\n",
       " <dbl> & <int>\\\\\n",
       "\\hline\n",
       "\t  0.56199005 & 12\\\\\n",
       "\t  0.33749366 & 12\\\\\n",
       "\t -1.40660996 &  7\\\\\n",
       "\t  1.68989856 &  9\\\\\n",
       "\t  1.45272278 & 10\\\\\n",
       "\t -0.37284498 & 12\\\\\n",
       "\t  1.03867464 & 12\\\\\n",
       "\t  0.48986362 &  5\\\\\n",
       "\t  0.01704655 & 10\\\\\n",
       "\t  0.93699530 & 10\\\\\n",
       "\\end{tabular}\n"
      ],
      "text/markdown": [
       "\n",
       "A data.frame: 10 × 2\n",
       "\n",
       "| normal &lt;dbl&gt; | binomial &lt;int&gt; |\n",
       "|---|---|\n",
       "|  0.56199005 | 12 |\n",
       "|  0.33749366 | 12 |\n",
       "| -1.40660996 |  7 |\n",
       "|  1.68989856 |  9 |\n",
       "|  1.45272278 | 10 |\n",
       "| -0.37284498 | 12 |\n",
       "|  1.03867464 | 12 |\n",
       "|  0.48986362 |  5 |\n",
       "|  0.01704655 | 10 |\n",
       "|  0.93699530 | 10 |\n",
       "\n"
      ],
      "text/plain": [
       "   normal      binomial\n",
       "1   0.56199005 12      \n",
       "2   0.33749366 12      \n",
       "3  -1.40660996  7      \n",
       "4   1.68989856  9      \n",
       "5   1.45272278 10      \n",
       "6  -0.37284498 12      \n",
       "7   1.03867464 12      \n",
       "8   0.48986362  5      \n",
       "9   0.01704655 10      \n",
       "10  0.93699530 10      "
      ]
     },
     "metadata": {},
     "output_type": "display_data"
    }
   ],
   "source": [
    "renamed_df"
   ]
  },
  {
   "cell_type": "code",
   "execution_count": 11,
   "id": "87d5b279",
   "metadata": {},
   "outputs": [],
   "source": [
    "df <- data.frame(V1 = 1:3, V2 = 4:6, V3 = 7:9)"
   ]
  },
  {
   "cell_type": "code",
   "execution_count": 12,
   "id": "2e34f658",
   "metadata": {},
   "outputs": [
    {
     "data": {
      "text/html": [
       "<table class=\"dataframe\">\n",
       "<caption>A data.frame: 3 × 3</caption>\n",
       "<thead>\n",
       "\t<tr><th scope=col>V1</th><th scope=col>V2</th><th scope=col>V3</th></tr>\n",
       "\t<tr><th scope=col>&lt;int&gt;</th><th scope=col>&lt;int&gt;</th><th scope=col>&lt;int&gt;</th></tr>\n",
       "</thead>\n",
       "<tbody>\n",
       "\t<tr><td>1</td><td>4</td><td>7</td></tr>\n",
       "\t<tr><td>2</td><td>5</td><td>8</td></tr>\n",
       "\t<tr><td>3</td><td>6</td><td>9</td></tr>\n",
       "</tbody>\n",
       "</table>\n"
      ],
      "text/latex": [
       "A data.frame: 3 × 3\n",
       "\\begin{tabular}{lll}\n",
       " V1 & V2 & V3\\\\\n",
       " <int> & <int> & <int>\\\\\n",
       "\\hline\n",
       "\t 1 & 4 & 7\\\\\n",
       "\t 2 & 5 & 8\\\\\n",
       "\t 3 & 6 & 9\\\\\n",
       "\\end{tabular}\n"
      ],
      "text/markdown": [
       "\n",
       "A data.frame: 3 × 3\n",
       "\n",
       "| V1 &lt;int&gt; | V2 &lt;int&gt; | V3 &lt;int&gt; |\n",
       "|---|---|---|\n",
       "| 1 | 4 | 7 |\n",
       "| 2 | 5 | 8 |\n",
       "| 3 | 6 | 9 |\n",
       "\n"
      ],
      "text/plain": [
       "  V1 V2 V3\n",
       "1 1  4  7 \n",
       "2 2  5  8 \n",
       "3 3  6  9 "
      ]
     },
     "metadata": {},
     "output_type": "display_data"
    }
   ],
   "source": [
    "df"
   ]
  },
  {
   "cell_type": "code",
   "execution_count": 13,
   "id": "2053e672",
   "metadata": {},
   "outputs": [
    {
     "data": {
      "text/html": [
       "<table class=\"dataframe\">\n",
       "<caption>A data.frame: 3 × 3</caption>\n",
       "<thead>\n",
       "\t<tr><th scope=col>new</th><th scope=col>V2</th><th scope=col>V3</th></tr>\n",
       "\t<tr><th scope=col>&lt;int&gt;</th><th scope=col>&lt;int&gt;</th><th scope=col>&lt;int&gt;</th></tr>\n",
       "</thead>\n",
       "<tbody>\n",
       "\t<tr><td>1</td><td>4</td><td>7</td></tr>\n",
       "\t<tr><td>2</td><td>5</td><td>8</td></tr>\n",
       "\t<tr><td>3</td><td>6</td><td>9</td></tr>\n",
       "</tbody>\n",
       "</table>\n"
      ],
      "text/latex": [
       "A data.frame: 3 × 3\n",
       "\\begin{tabular}{lll}\n",
       " new & V2 & V3\\\\\n",
       " <int> & <int> & <int>\\\\\n",
       "\\hline\n",
       "\t 1 & 4 & 7\\\\\n",
       "\t 2 & 5 & 8\\\\\n",
       "\t 3 & 6 & 9\\\\\n",
       "\\end{tabular}\n"
      ],
      "text/markdown": [
       "\n",
       "A data.frame: 3 × 3\n",
       "\n",
       "| new &lt;int&gt; | V2 &lt;int&gt; | V3 &lt;int&gt; |\n",
       "|---|---|---|\n",
       "| 1 | 4 | 7 |\n",
       "| 2 | 5 | 8 |\n",
       "| 3 | 6 | 9 |\n",
       "\n"
      ],
      "text/plain": [
       "  new V2 V3\n",
       "1 1   4  7 \n",
       "2 2   5  8 \n",
       "3 3   6  9 "
      ]
     },
     "metadata": {},
     "output_type": "display_data"
    }
   ],
   "source": [
    "df %>%\n",
    "    rename(new = V1)"
   ]
  },
  {
   "cell_type": "code",
   "execution_count": null,
   "id": "840b8d3a",
   "metadata": {},
   "outputs": [],
   "source": []
  }
 ],
 "metadata": {
  "kernelspec": {
   "display_name": "R",
   "language": "R",
   "name": "ir"
  },
  "language_info": {
   "codemirror_mode": "r",
   "file_extension": ".r",
   "mimetype": "text/x-r-source",
   "name": "R",
   "pygments_lexer": "r",
   "version": "4.0.5"
  }
 },
 "nbformat": 4,
 "nbformat_minor": 5
}
