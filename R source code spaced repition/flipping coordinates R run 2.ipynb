{
 "cells": [
  {
   "cell_type": "code",
   "execution_count": 1,
   "id": "119d99c6",
   "metadata": {},
   "outputs": [
    {
     "name": "stderr",
     "output_type": "stream",
     "text": [
      "-- \u001b[1mAttaching packages\u001b[22m ----------------------------------------------------------- tidyverse 1.3.1 --\n",
      "\n",
      "\u001b[32mv\u001b[39m \u001b[34mggplot2\u001b[39m 3.3.4     \u001b[32mv\u001b[39m \u001b[34mpurrr  \u001b[39m 0.3.4\n",
      "\u001b[32mv\u001b[39m \u001b[34mtibble \u001b[39m 3.1.1     \u001b[32mv\u001b[39m \u001b[34mdplyr  \u001b[39m 1.0.6\n",
      "\u001b[32mv\u001b[39m \u001b[34mtidyr  \u001b[39m 1.1.3     \u001b[32mv\u001b[39m \u001b[34mstringr\u001b[39m 1.4.0\n",
      "\u001b[32mv\u001b[39m \u001b[34mreadr  \u001b[39m 1.4.0     \u001b[32mv\u001b[39m \u001b[34mforcats\u001b[39m 0.5.1\n",
      "\n",
      "-- \u001b[1mConflicts\u001b[22m -------------------------------------------------------------- tidyverse_conflicts() --\n",
      "\u001b[31mx\u001b[39m \u001b[34mdplyr\u001b[39m::\u001b[32mfilter()\u001b[39m masks \u001b[34mstats\u001b[39m::filter()\n",
      "\u001b[31mx\u001b[39m \u001b[34mdplyr\u001b[39m::\u001b[32mlag()\u001b[39m    masks \u001b[34mstats\u001b[39m::lag()\n",
      "\n"
     ]
    }
   ],
   "source": [
    "library(tidyverse)"
   ]
  },
  {
   "cell_type": "code",
   "execution_count": 3,
   "id": "942b484e",
   "metadata": {},
   "outputs": [
    {
     "name": "stderr",
     "output_type": "stream",
     "text": [
      "\n",
      "Attaching package: 'wakefield'\n",
      "\n",
      "\n",
      "The following object is masked from 'package:dplyr':\n",
      "\n",
      "    id\n",
      "\n",
      "\n"
     ]
    }
   ],
   "source": [
    "library(wakefield)"
   ]
  },
  {
   "cell_type": "code",
   "execution_count": 6,
   "id": "713d2d63",
   "metadata": {},
   "outputs": [],
   "source": [
    "categories <- r_sample_factor(n = 100, x = c(\"category 1\", \"category 2\", \"category 3\"))"
   ]
  },
  {
   "cell_type": "code",
   "execution_count": 7,
   "id": "911d82a2",
   "metadata": {},
   "outputs": [],
   "source": [
    "data <- rchisq(n = 100, df = 4)"
   ]
  },
  {
   "cell_type": "code",
   "execution_count": 8,
   "id": "69bb05f1",
   "metadata": {},
   "outputs": [],
   "source": [
    "df <- data.frame(category = categories, measurements = data)"
   ]
  },
  {
   "cell_type": "code",
   "execution_count": 10,
   "id": "31ff83a7",
   "metadata": {},
   "outputs": [
    {
     "data": {
      "text/html": [
       "<table class=\"dataframe\">\n",
       "<caption>A data.frame: 4 × 2</caption>\n",
       "<thead>\n",
       "\t<tr><th scope=col>category</th><th scope=col>measurements</th></tr>\n",
       "\t<tr><th scope=col>&lt;fct&gt;</th><th scope=col>&lt;dbl&gt;</th></tr>\n",
       "</thead>\n",
       "<tbody>\n",
       "\t<tr><td>category 3</td><td>1.153626</td></tr>\n",
       "\t<tr><td>category 2</td><td>3.863173</td></tr>\n",
       "\t<tr><td>category 3</td><td>4.069050</td></tr>\n",
       "\t<tr><td>category 3</td><td>4.855139</td></tr>\n",
       "</tbody>\n",
       "</table>\n"
      ],
      "text/latex": [
       "A data.frame: 4 × 2\n",
       "\\begin{tabular}{ll}\n",
       " category & measurements\\\\\n",
       " <fct> & <dbl>\\\\\n",
       "\\hline\n",
       "\t category 3 & 1.153626\\\\\n",
       "\t category 2 & 3.863173\\\\\n",
       "\t category 3 & 4.069050\\\\\n",
       "\t category 3 & 4.855139\\\\\n",
       "\\end{tabular}\n"
      ],
      "text/markdown": [
       "\n",
       "A data.frame: 4 × 2\n",
       "\n",
       "| category &lt;fct&gt; | measurements &lt;dbl&gt; |\n",
       "|---|---|\n",
       "| category 3 | 1.153626 |\n",
       "| category 2 | 3.863173 |\n",
       "| category 3 | 4.069050 |\n",
       "| category 3 | 4.855139 |\n",
       "\n"
      ],
      "text/plain": [
       "  category   measurements\n",
       "1 category 3 1.153626    \n",
       "2 category 2 3.863173    \n",
       "3 category 3 4.069050    \n",
       "4 category 3 4.855139    "
      ]
     },
     "metadata": {},
     "output_type": "display_data"
    }
   ],
   "source": [
    "df %>%\n",
    "    slice_sample(n = 4)"
   ]
  },
  {
   "cell_type": "code",
   "execution_count": 11,
   "id": "88f3e542",
   "metadata": {},
   "outputs": [
    {
     "data": {
      "image/png": "[encoded data removed]",
      "text/plain": [
       "plot without title"
      ]
     },
     "metadata": {
      "image/png": {
       "height": 420,
       "width": 420
      }
     },
     "output_type": "display_data"
    }
   ],
   "source": [
    "ggplot(df, aes(x = category, y = measurements)) + \n",
    "    geom_boxplot()"
   ]
  },
  {
   "cell_type": "code",
   "execution_count": 12,
   "id": "0c5238a0",
   "metadata": {},
   "outputs": [
    {
     "data": {
      "image/png": "[encoded data removed]",
      "text/plain": [
       "plot without title"
      ]
     },
     "metadata": {
      "image/png": {
       "height": 420,
       "width": 420
      }
     },
     "output_type": "display_data"
    }
   ],
   "source": [
    "ggplot(df, aes(x = category, y = measurements)) + \n",
    "    geom_boxplot() + \n",
    "    coord_flip()"
   ]
  }
 ],
 "metadata": {
  "kernelspec": {
   "display_name": "R",
   "language": "R",
   "name": "ir"
  },
  "language_info": {
   "codemirror_mode": "r",
   "file_extension": ".r",
   "mimetype": "text/x-r-source",
   "name": "R",
   "pygments_lexer": "r",
   "version": "4.0.5"
  }
 },
 "nbformat": 4,
 "nbformat_minor": 5
}
