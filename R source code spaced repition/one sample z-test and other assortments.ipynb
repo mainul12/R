{
 "cells": [
  {
   "cell_type": "markdown",
   "id": "ab16c8f7",
   "metadata": {},
   "source": [
    "https://www.google.com/search?q=qqnorm+r&oq=qqnorm+r&aqs=chrome..69i57j0l2j0i22i30l7.4159j0j9&sourceid=chrome&ie=UTF-8\n",
    "\n",
    "https://stat.ethz.ch/R-manual/R-devel/library/stats/html/qqnorm.html\n",
    "\n",
    "https://data.library.virginia.edu/understanding-q-q-plots/\n",
    "\n",
    "https://bookdown.org/dli/rguide/normal-quantile-plot.html\n",
    "\n",
    "https://www.google.com/search?q=z+test+r&oq=z+test+r&aqs=chrome.0.0i20i263j0l4j69i60l3.2647j0j4&sourceid=chrome&ie=UTF-8\n",
    "\n",
    "https://cran.r-project.org/web/packages/distributions3/vignettes/\n",
    "\n",
    "https://cran.r-project.org/web/packages/distributions3/vignettes/intro-to-hypothesis-testing.html\n",
    "\n",
    "https://cran.r-project.org/web/packages/distributions3/vignettes/one-sample-z-test.html\n",
    "\n",
    "https://cran.r-project.org/web/packages/distributions3/index.html\n",
    "\n",
    "http://powerandsamplesize.com/Calculators/"
   ]
  },
  {
   "cell_type": "code",
   "execution_count": 7,
   "id": "8803fe3c",
   "metadata": {},
   "outputs": [],
   "source": [
    "data <- rnorm(20, mean = 3)"
   ]
  },
  {
   "cell_type": "code",
   "execution_count": 8,
   "id": "bf97c9a5",
   "metadata": {},
   "outputs": [
    {
     "data": {
      "text/html": [
       "<style>\n",
       ".list-inline {list-style: none; margin:0; padding: 0}\n",
       ".list-inline>li {display: inline-block}\n",
       ".list-inline>li:not(:last-child)::after {content: \"\\00b7\"; padding: 0 .5ex}\n",
       "</style>\n",
       "<ol class=list-inline><li>1.59348633339962</li><li>3.60795894589197</li><li>4.93403862876636</li><li>3.05128092712175</li><li>4.10571024791036</li><li>3.38850149428248</li><li>2.48002731756603</li><li>2.38590260120807</li><li>3.92511649785473</li><li>3.46584262615268</li><li>1.97126900674631</li><li>1.84168358161582</li><li>4.53453859211703</li><li>2.7090589326952</li><li>4.78794556779108</li><li>2.21721125391877</li><li>3.6043024281958</li><li>1.87496517042041</li><li>3.4076096780151</li><li>3.86800666007976</li></ol>\n"
      ],
      "text/latex": [
       "\\begin{enumerate*}\n",
       "\\item 1.59348633339962\n",
       "\\item 3.60795894589197\n",
       "\\item 4.93403862876636\n",
       "\\item 3.05128092712175\n",
       "\\item 4.10571024791036\n",
       "\\item 3.38850149428248\n",
       "\\item 2.48002731756603\n",
       "\\item 2.38590260120807\n",
       "\\item 3.92511649785473\n",
       "\\item 3.46584262615268\n",
       "\\item 1.97126900674631\n",
       "\\item 1.84168358161582\n",
       "\\item 4.53453859211703\n",
       "\\item 2.7090589326952\n",
       "\\item 4.78794556779108\n",
       "\\item 2.21721125391877\n",
       "\\item 3.6043024281958\n",
       "\\item 1.87496517042041\n",
       "\\item 3.4076096780151\n",
       "\\item 3.86800666007976\n",
       "\\end{enumerate*}\n"
      ],
      "text/markdown": [
       "1. 1.59348633339962\n",
       "2. 3.60795894589197\n",
       "3. 4.93403862876636\n",
       "4. 3.05128092712175\n",
       "5. 4.10571024791036\n",
       "6. 3.38850149428248\n",
       "7. 2.48002731756603\n",
       "8. 2.38590260120807\n",
       "9. 3.92511649785473\n",
       "10. 3.46584262615268\n",
       "11. 1.97126900674631\n",
       "12. 1.84168358161582\n",
       "13. 4.53453859211703\n",
       "14. 2.7090589326952\n",
       "15. 4.78794556779108\n",
       "16. 2.21721125391877\n",
       "17. 3.6043024281958\n",
       "18. 1.87496517042041\n",
       "19. 3.4076096780151\n",
       "20. 3.86800666007976\n",
       "\n",
       "\n"
      ],
      "text/plain": [
       " [1] 1.593486 3.607959 4.934039 3.051281 4.105710 3.388501 2.480027 2.385903\n",
       " [9] 3.925116 3.465843 1.971269 1.841684 4.534539 2.709059 4.787946 2.217211\n",
       "[17] 3.604302 1.874965 3.407610 3.868007"
      ]
     },
     "metadata": {},
     "output_type": "display_data"
    }
   ],
   "source": [
    "data"
   ]
  },
  {
   "cell_type": "code",
   "execution_count": 10,
   "id": "717b2791",
   "metadata": {},
   "outputs": [
    {
     "data": {
      "image/png": "[encoded data removed]",
      "text/plain": [
       "Plot with title \"Normal Q-Q Plot\""
      ]
     },
     "metadata": {
      "image/png": {
       "height": 420,
       "width": 420
      }
     },
     "output_type": "display_data"
    }
   ],
   "source": [
    "qqnorm(data)\n",
    "qqline(data)"
   ]
  },
  {
   "cell_type": "code",
   "execution_count": 13,
   "id": "1663dc15",
   "metadata": {},
   "outputs": [
    {
     "data": {
      "text/html": [
       "0.419760996705844"
      ],
      "text/latex": [
       "0.419760996705844"
      ],
      "text/markdown": [
       "0.419760996705844"
      ],
      "text/plain": [
       "[1] 0.419761"
      ]
     },
     "metadata": {},
     "output_type": "display_data"
    }
   ],
   "source": [
    "z_stat <- (mean(data) - 3) / (2 / sqrt(length(data)))\n",
    "z_stat"
   ]
  },
  {
   "cell_type": "code",
   "execution_count": null,
   "id": "899cdd81",
   "metadata": {},
   "outputs": [],
   "source": []
  }
 ],
 "metadata": {
  "kernelspec": {
   "display_name": "R",
   "language": "R",
   "name": "ir"
  },
  "language_info": {
   "codemirror_mode": "r",
   "file_extension": ".r",
   "mimetype": "text/x-r-source",
   "name": "R",
   "pygments_lexer": "r",
   "version": "4.0.5"
  }
 },
 "nbformat": 4,
 "nbformat_minor": 5
}
