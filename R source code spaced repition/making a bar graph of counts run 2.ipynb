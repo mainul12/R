{
 "cells": [
  {
   "cell_type": "code",
   "execution_count": 1,
   "id": "e2716c65",
   "metadata": {},
   "outputs": [],
   "source": [
    "library(wakefield)"
   ]
  },
  {
   "cell_type": "code",
   "execution_count": 2,
   "id": "e8a3c90d",
   "metadata": {},
   "outputs": [
    {
     "name": "stderr",
     "output_type": "stream",
     "text": [
      "-- \u001b[1mAttaching packages\u001b[22m ----------------------------------------------------------- tidyverse 1.3.1 --\n",
      "\n",
      "\u001b[32mv\u001b[39m \u001b[34mggplot2\u001b[39m 3.3.4     \u001b[32mv\u001b[39m \u001b[34mpurrr  \u001b[39m 0.3.4\n",
      "\u001b[32mv\u001b[39m \u001b[34mtibble \u001b[39m 3.1.1     \u001b[32mv\u001b[39m \u001b[34mdplyr  \u001b[39m 1.0.6\n",
      "\u001b[32mv\u001b[39m \u001b[34mtidyr  \u001b[39m 1.1.3     \u001b[32mv\u001b[39m \u001b[34mstringr\u001b[39m 1.4.0\n",
      "\u001b[32mv\u001b[39m \u001b[34mreadr  \u001b[39m 1.4.0     \u001b[32mv\u001b[39m \u001b[34mforcats\u001b[39m 0.5.1\n",
      "\n",
      "-- \u001b[1mConflicts\u001b[22m -------------------------------------------------------------- tidyverse_conflicts() --\n",
      "\u001b[31mx\u001b[39m \u001b[34mdplyr\u001b[39m::\u001b[32mfilter()\u001b[39m masks \u001b[34mstats\u001b[39m::filter()\n",
      "\u001b[31mx\u001b[39m \u001b[34mdplyr\u001b[39m::\u001b[32mid()\u001b[39m     masks \u001b[34mwakefield\u001b[39m::id()\n",
      "\u001b[31mx\u001b[39m \u001b[34mdplyr\u001b[39m::\u001b[32mlag()\u001b[39m    masks \u001b[34mstats\u001b[39m::lag()\n",
      "\n"
     ]
    }
   ],
   "source": [
    "library(tidyverse)"
   ]
  },
  {
   "cell_type": "code",
   "execution_count": 4,
   "id": "6f8df5bd",
   "metadata": {},
   "outputs": [
    {
     "data": {
      "text/html": [
       "<table class=\"dataframe\">\n",
       "<caption>A tibble: 3 × 10</caption>\n",
       "<thead>\n",
       "\t<tr><th scope=col>carat</th><th scope=col>cut</th><th scope=col>color</th><th scope=col>clarity</th><th scope=col>depth</th><th scope=col>table</th><th scope=col>price</th><th scope=col>x</th><th scope=col>y</th><th scope=col>z</th></tr>\n",
       "\t<tr><th scope=col>&lt;dbl&gt;</th><th scope=col>&lt;ord&gt;</th><th scope=col>&lt;ord&gt;</th><th scope=col>&lt;ord&gt;</th><th scope=col>&lt;dbl&gt;</th><th scope=col>&lt;dbl&gt;</th><th scope=col>&lt;int&gt;</th><th scope=col>&lt;dbl&gt;</th><th scope=col>&lt;dbl&gt;</th><th scope=col>&lt;dbl&gt;</th></tr>\n",
       "</thead>\n",
       "<tbody>\n",
       "\t<tr><td>0.50</td><td>Ideal  </td><td>E</td><td>VS1 </td><td>62.2</td><td>54</td><td>1665</td><td>5.10</td><td>5.13</td><td>3.18</td></tr>\n",
       "\t<tr><td>0.55</td><td>Premium</td><td>D</td><td>VVS1</td><td>60.3</td><td>59</td><td>3006</td><td>5.34</td><td>5.30</td><td>3.21</td></tr>\n",
       "\t<tr><td>0.30</td><td>Premium</td><td>H</td><td>VVS1</td><td>60.7</td><td>58</td><td> 796</td><td>4.38</td><td>4.35</td><td>2.65</td></tr>\n",
       "</tbody>\n",
       "</table>\n"
      ],
      "text/latex": [
       "A tibble: 3 × 10\n",
       "\\begin{tabular}{llllllllll}\n",
       " carat & cut & color & clarity & depth & table & price & x & y & z\\\\\n",
       " <dbl> & <ord> & <ord> & <ord> & <dbl> & <dbl> & <int> & <dbl> & <dbl> & <dbl>\\\\\n",
       "\\hline\n",
       "\t 0.50 & Ideal   & E & VS1  & 62.2 & 54 & 1665 & 5.10 & 5.13 & 3.18\\\\\n",
       "\t 0.55 & Premium & D & VVS1 & 60.3 & 59 & 3006 & 5.34 & 5.30 & 3.21\\\\\n",
       "\t 0.30 & Premium & H & VVS1 & 60.7 & 58 &  796 & 4.38 & 4.35 & 2.65\\\\\n",
       "\\end{tabular}\n"
      ],
      "text/markdown": [
       "\n",
       "A tibble: 3 × 10\n",
       "\n",
       "| carat &lt;dbl&gt; | cut &lt;ord&gt; | color &lt;ord&gt; | clarity &lt;ord&gt; | depth &lt;dbl&gt; | table &lt;dbl&gt; | price &lt;int&gt; | x &lt;dbl&gt; | y &lt;dbl&gt; | z &lt;dbl&gt; |\n",
       "|---|---|---|---|---|---|---|---|---|---|\n",
       "| 0.50 | Ideal   | E | VS1  | 62.2 | 54 | 1665 | 5.10 | 5.13 | 3.18 |\n",
       "| 0.55 | Premium | D | VVS1 | 60.3 | 59 | 3006 | 5.34 | 5.30 | 3.21 |\n",
       "| 0.30 | Premium | H | VVS1 | 60.7 | 58 |  796 | 4.38 | 4.35 | 2.65 |\n",
       "\n"
      ],
      "text/plain": [
       "  carat cut     color clarity depth table price x    y    z   \n",
       "1 0.50  Ideal   E     VS1     62.2  54    1665  5.10 5.13 3.18\n",
       "2 0.55  Premium D     VVS1    60.3  59    3006  5.34 5.30 3.21\n",
       "3 0.30  Premium H     VVS1    60.7  58     796  4.38 4.35 2.65"
      ]
     },
     "metadata": {},
     "output_type": "display_data"
    }
   ],
   "source": [
    "diamonds %>%\n",
    "    slice_sample(n = 3)"
   ]
  },
  {
   "cell_type": "code",
   "execution_count": 6,
   "id": "7394fa12",
   "metadata": {},
   "outputs": [
    {
     "data": {
      "text/html": [
       "<table class=\"dataframe\">\n",
       "<caption>A tibble: 5 × 2</caption>\n",
       "<thead>\n",
       "\t<tr><th scope=col>cut</th><th scope=col>count</th></tr>\n",
       "\t<tr><th scope=col>&lt;ord&gt;</th><th scope=col>&lt;int&gt;</th></tr>\n",
       "</thead>\n",
       "<tbody>\n",
       "\t<tr><td>Fair     </td><td> 1610</td></tr>\n",
       "\t<tr><td>Good     </td><td> 4906</td></tr>\n",
       "\t<tr><td>Very Good</td><td>12082</td></tr>\n",
       "\t<tr><td>Premium  </td><td>13791</td></tr>\n",
       "\t<tr><td>Ideal    </td><td>21551</td></tr>\n",
       "</tbody>\n",
       "</table>\n"
      ],
      "text/latex": [
       "A tibble: 5 × 2\n",
       "\\begin{tabular}{ll}\n",
       " cut & count\\\\\n",
       " <ord> & <int>\\\\\n",
       "\\hline\n",
       "\t Fair      &  1610\\\\\n",
       "\t Good      &  4906\\\\\n",
       "\t Very Good & 12082\\\\\n",
       "\t Premium   & 13791\\\\\n",
       "\t Ideal     & 21551\\\\\n",
       "\\end{tabular}\n"
      ],
      "text/markdown": [
       "\n",
       "A tibble: 5 × 2\n",
       "\n",
       "| cut &lt;ord&gt; | count &lt;int&gt; |\n",
       "|---|---|\n",
       "| Fair      |  1610 |\n",
       "| Good      |  4906 |\n",
       "| Very Good | 12082 |\n",
       "| Premium   | 13791 |\n",
       "| Ideal     | 21551 |\n",
       "\n"
      ],
      "text/plain": [
       "  cut       count\n",
       "1 Fair       1610\n",
       "2 Good       4906\n",
       "3 Very Good 12082\n",
       "4 Premium   13791\n",
       "5 Ideal     21551"
      ]
     },
     "metadata": {},
     "output_type": "display_data"
    }
   ],
   "source": [
    "diamonds %>%\n",
    "    group_by(cut) %>%\n",
    "    summarize(count = n())"
   ]
  },
  {
   "cell_type": "code",
   "execution_count": 7,
   "id": "f0900e3a",
   "metadata": {},
   "outputs": [
    {
     "data": {
      "image/png": "[encoded data removed]",
      "text/plain": [
       "plot without title"
      ]
     },
     "metadata": {
      "image/png": {
       "height": 420,
       "width": 420
      }
     },
     "output_type": "display_data"
    }
   ],
   "source": [
    "ggplot(diamonds, aes(cut)) + \n",
    "    geom_bar()"
   ]
  },
  {
   "cell_type": "code",
   "execution_count": 8,
   "id": "6b645543",
   "metadata": {},
   "outputs": [],
   "source": [
    "race_cat <- race(1000)\n",
    "sex_cat <- sex(1000)\n",
    "age <- age(1000, 18:45) + rnorm(1000, mean = 5, sd = 1)\n",
    "\n",
    "df <- data.frame(race = race_cat, sex = sex_cat, age = age)"
   ]
  },
  {
   "cell_type": "code",
   "execution_count": 9,
   "id": "582cb6b9",
   "metadata": {},
   "outputs": [
    {
     "data": {
      "text/html": [
       "<table class=\"dataframe\">\n",
       "<caption>A data.frame: 3 × 3</caption>\n",
       "<thead>\n",
       "\t<tr><th scope=col>race</th><th scope=col>sex</th><th scope=col>age</th></tr>\n",
       "\t<tr><th scope=col>&lt;fct&gt;</th><th scope=col>&lt;fct&gt;</th><th scope=col>&lt;variable&gt;</th></tr>\n",
       "</thead>\n",
       "<tbody>\n",
       "\t<tr><td>White    </td><td>Female</td><td>38.45999</td></tr>\n",
       "\t<tr><td>Bi-Racial</td><td>Male  </td><td>44.79115</td></tr>\n",
       "\t<tr><td>Hispanic </td><td>Male  </td><td>46.49052</td></tr>\n",
       "</tbody>\n",
       "</table>\n"
      ],
      "text/latex": [
       "A data.frame: 3 × 3\n",
       "\\begin{tabular}{lll}\n",
       " race & sex & age\\\\\n",
       " <fct> & <fct> & <variable>\\\\\n",
       "\\hline\n",
       "\t White     & Female & 38.45999\\\\\n",
       "\t Bi-Racial & Male   & 44.79115\\\\\n",
       "\t Hispanic  & Male   & 46.49052\\\\\n",
       "\\end{tabular}\n"
      ],
      "text/markdown": [
       "\n",
       "A data.frame: 3 × 3\n",
       "\n",
       "| race &lt;fct&gt; | sex &lt;fct&gt; | age &lt;variable&gt; |\n",
       "|---|---|---|\n",
       "| White     | Female | 38.45999 |\n",
       "| Bi-Racial | Male   | 44.79115 |\n",
       "| Hispanic  | Male   | 46.49052 |\n",
       "\n"
      ],
      "text/plain": [
       "  race      sex    age     \n",
       "1 White     Female 38.45999\n",
       "2 Bi-Racial Male   44.79115\n",
       "3 Hispanic  Male   46.49052"
      ]
     },
     "metadata": {},
     "output_type": "display_data"
    }
   ],
   "source": [
    "df %>%\n",
    "    slice_sample(n = 3)"
   ]
  },
  {
   "cell_type": "code",
   "execution_count": 11,
   "id": "8012f0cc",
   "metadata": {},
   "outputs": [
    {
     "data": {
      "image/png": "[encoded data removed]",
      "text/plain": [
       "plot without title"
      ]
     },
     "metadata": {
      "image/png": {
       "height": 420,
       "width": 420
      }
     },
     "output_type": "display_data"
    }
   ],
   "source": [
    "ggplot(df, aes(x = race, fill = sex)) + \n",
    "    geom_bar()"
   ]
  },
  {
   "cell_type": "code",
   "execution_count": 12,
   "id": "6724d25e",
   "metadata": {},
   "outputs": [
    {
     "data": {
      "image/png": "[encoded data removed]",
      "text/plain": [
       "plot without title"
      ]
     },
     "metadata": {
      "image/png": {
       "height": 420,
       "width": 420
      }
     },
     "output_type": "display_data"
    }
   ],
   "source": [
    "ggplot(df, aes(x = race, fill = sex)) + \n",
    "    geom_bar(position = \"dodge\")"
   ]
  },
  {
   "cell_type": "code",
   "execution_count": null,
   "id": "7ac8759f",
   "metadata": {},
   "outputs": [],
   "source": []
  }
 ],
 "metadata": {
  "kernelspec": {
   "display_name": "R",
   "language": "R",
   "name": "ir"
  },
  "language_info": {
   "codemirror_mode": "r",
   "file_extension": ".r",
   "mimetype": "text/x-r-source",
   "name": "R",
   "pygments_lexer": "r",
   "version": "4.0.5"
  }
 },
 "nbformat": 4,
 "nbformat_minor": 5
}
