{
 "cells": [
  {
   "cell_type": "code",
   "execution_count": 1,
   "id": "456f0fa0",
   "metadata": {},
   "outputs": [
    {
     "name": "stderr",
     "output_type": "stream",
     "text": [
      "-- \u001b[1mAttaching packages\u001b[22m ----------------------------------------------------------- tidyverse 1.3.1 --\n",
      "\n",
      "\u001b[32mv\u001b[39m \u001b[34mggplot2\u001b[39m 3.3.4     \u001b[32mv\u001b[39m \u001b[34mpurrr  \u001b[39m 0.3.4\n",
      "\u001b[32mv\u001b[39m \u001b[34mtibble \u001b[39m 3.1.1     \u001b[32mv\u001b[39m \u001b[34mdplyr  \u001b[39m 1.0.6\n",
      "\u001b[32mv\u001b[39m \u001b[34mtidyr  \u001b[39m 1.1.3     \u001b[32mv\u001b[39m \u001b[34mstringr\u001b[39m 1.4.0\n",
      "\u001b[32mv\u001b[39m \u001b[34mreadr  \u001b[39m 1.4.0     \u001b[32mv\u001b[39m \u001b[34mforcats\u001b[39m 0.5.1\n",
      "\n",
      "-- \u001b[1mConflicts\u001b[22m -------------------------------------------------------------- tidyverse_conflicts() --\n",
      "\u001b[31mx\u001b[39m \u001b[34mdplyr\u001b[39m::\u001b[32mfilter()\u001b[39m masks \u001b[34mstats\u001b[39m::filter()\n",
      "\u001b[31mx\u001b[39m \u001b[34mdplyr\u001b[39m::\u001b[32mlag()\u001b[39m    masks \u001b[34mstats\u001b[39m::lag()\n",
      "\n"
     ]
    }
   ],
   "source": [
    "library(tidyverse)"
   ]
  },
  {
   "cell_type": "code",
   "execution_count": 2,
   "id": "b17f4b50",
   "metadata": {},
   "outputs": [],
   "source": [
    "data(mpg)"
   ]
  },
  {
   "cell_type": "code",
   "execution_count": 3,
   "id": "0d708254",
   "metadata": {},
   "outputs": [
    {
     "data": {
      "text/html": [
       "<table class=\"dataframe\">\n",
       "<caption>A tibble: 3 × 11</caption>\n",
       "<thead>\n",
       "\t<tr><th scope=col>manufacturer</th><th scope=col>model</th><th scope=col>displ</th><th scope=col>year</th><th scope=col>cyl</th><th scope=col>trans</th><th scope=col>drv</th><th scope=col>cty</th><th scope=col>hwy</th><th scope=col>fl</th><th scope=col>class</th></tr>\n",
       "\t<tr><th scope=col>&lt;chr&gt;</th><th scope=col>&lt;chr&gt;</th><th scope=col>&lt;dbl&gt;</th><th scope=col>&lt;int&gt;</th><th scope=col>&lt;int&gt;</th><th scope=col>&lt;chr&gt;</th><th scope=col>&lt;chr&gt;</th><th scope=col>&lt;int&gt;</th><th scope=col>&lt;int&gt;</th><th scope=col>&lt;chr&gt;</th><th scope=col>&lt;chr&gt;</th></tr>\n",
       "</thead>\n",
       "<tbody>\n",
       "\t<tr><td>hyundai   </td><td>tiburon    </td><td>2.0</td><td>1999</td><td>4</td><td>manual(m5)</td><td>f</td><td>19</td><td>29</td><td>r</td><td>subcompact</td></tr>\n",
       "\t<tr><td>land rover</td><td>range rover</td><td>4.4</td><td>2008</td><td>8</td><td>auto(s6)  </td><td>4</td><td>12</td><td>18</td><td>r</td><td>suv       </td></tr>\n",
       "\t<tr><td>volkswagen</td><td>new beetle </td><td>2.5</td><td>2008</td><td>5</td><td>manual(m5)</td><td>f</td><td>20</td><td>28</td><td>r</td><td>subcompact</td></tr>\n",
       "</tbody>\n",
       "</table>\n"
      ],
      "text/latex": [
       "A tibble: 3 × 11\n",
       "\\begin{tabular}{lllllllllll}\n",
       " manufacturer & model & displ & year & cyl & trans & drv & cty & hwy & fl & class\\\\\n",
       " <chr> & <chr> & <dbl> & <int> & <int> & <chr> & <chr> & <int> & <int> & <chr> & <chr>\\\\\n",
       "\\hline\n",
       "\t hyundai    & tiburon     & 2.0 & 1999 & 4 & manual(m5) & f & 19 & 29 & r & subcompact\\\\\n",
       "\t land rover & range rover & 4.4 & 2008 & 8 & auto(s6)   & 4 & 12 & 18 & r & suv       \\\\\n",
       "\t volkswagen & new beetle  & 2.5 & 2008 & 5 & manual(m5) & f & 20 & 28 & r & subcompact\\\\\n",
       "\\end{tabular}\n"
      ],
      "text/markdown": [
       "\n",
       "A tibble: 3 × 11\n",
       "\n",
       "| manufacturer &lt;chr&gt; | model &lt;chr&gt; | displ &lt;dbl&gt; | year &lt;int&gt; | cyl &lt;int&gt; | trans &lt;chr&gt; | drv &lt;chr&gt; | cty &lt;int&gt; | hwy &lt;int&gt; | fl &lt;chr&gt; | class &lt;chr&gt; |\n",
       "|---|---|---|---|---|---|---|---|---|---|---|\n",
       "| hyundai    | tiburon     | 2.0 | 1999 | 4 | manual(m5) | f | 19 | 29 | r | subcompact |\n",
       "| land rover | range rover | 4.4 | 2008 | 8 | auto(s6)   | 4 | 12 | 18 | r | suv        |\n",
       "| volkswagen | new beetle  | 2.5 | 2008 | 5 | manual(m5) | f | 20 | 28 | r | subcompact |\n",
       "\n"
      ],
      "text/plain": [
       "  manufacturer model       displ year cyl trans      drv cty hwy fl class     \n",
       "1 hyundai      tiburon     2.0   1999 4   manual(m5) f   19  29  r  subcompact\n",
       "2 land rover   range rover 4.4   2008 8   auto(s6)   4   12  18  r  suv       \n",
       "3 volkswagen   new beetle  2.5   2008 5   manual(m5) f   20  28  r  subcompact"
      ]
     },
     "metadata": {},
     "output_type": "display_data"
    }
   ],
   "source": [
    "mpg %>%\n",
    "    slice_sample(n = 3)"
   ]
  },
  {
   "cell_type": "code",
   "execution_count": 4,
   "id": "bcccbf49",
   "metadata": {},
   "outputs": [],
   "source": [
    "mpg$class <- factor(mpg$class)"
   ]
  },
  {
   "cell_type": "code",
   "execution_count": 5,
   "id": "8a515bd4",
   "metadata": {},
   "outputs": [
    {
     "data": {
      "text/html": [
       "<table class=\"dataframe\">\n",
       "<caption>A tibble: 3 × 11</caption>\n",
       "<thead>\n",
       "\t<tr><th scope=col>manufacturer</th><th scope=col>model</th><th scope=col>displ</th><th scope=col>year</th><th scope=col>cyl</th><th scope=col>trans</th><th scope=col>drv</th><th scope=col>cty</th><th scope=col>hwy</th><th scope=col>fl</th><th scope=col>class</th></tr>\n",
       "\t<tr><th scope=col>&lt;chr&gt;</th><th scope=col>&lt;chr&gt;</th><th scope=col>&lt;dbl&gt;</th><th scope=col>&lt;int&gt;</th><th scope=col>&lt;int&gt;</th><th scope=col>&lt;chr&gt;</th><th scope=col>&lt;chr&gt;</th><th scope=col>&lt;int&gt;</th><th scope=col>&lt;int&gt;</th><th scope=col>&lt;chr&gt;</th><th scope=col>&lt;fct&gt;</th></tr>\n",
       "</thead>\n",
       "<tbody>\n",
       "\t<tr><td>toyota</td><td>camry solara       </td><td>2.4</td><td>2008</td><td>4</td><td>auto(s5)  </td><td>f</td><td>22</td><td>31</td><td>r</td><td>compact</td></tr>\n",
       "\t<tr><td>dodge </td><td>caravan 2wd        </td><td>3.0</td><td>1999</td><td>6</td><td>auto(l4)  </td><td>f</td><td>17</td><td>24</td><td>r</td><td>minivan</td></tr>\n",
       "\t<tr><td>dodge </td><td>ram 1500 pickup 4wd</td><td>4.7</td><td>2008</td><td>8</td><td>manual(m6)</td><td>4</td><td>12</td><td>16</td><td>r</td><td>pickup </td></tr>\n",
       "</tbody>\n",
       "</table>\n"
      ],
      "text/latex": [
       "A tibble: 3 × 11\n",
       "\\begin{tabular}{lllllllllll}\n",
       " manufacturer & model & displ & year & cyl & trans & drv & cty & hwy & fl & class\\\\\n",
       " <chr> & <chr> & <dbl> & <int> & <int> & <chr> & <chr> & <int> & <int> & <chr> & <fct>\\\\\n",
       "\\hline\n",
       "\t toyota & camry solara        & 2.4 & 2008 & 4 & auto(s5)   & f & 22 & 31 & r & compact\\\\\n",
       "\t dodge  & caravan 2wd         & 3.0 & 1999 & 6 & auto(l4)   & f & 17 & 24 & r & minivan\\\\\n",
       "\t dodge  & ram 1500 pickup 4wd & 4.7 & 2008 & 8 & manual(m6) & 4 & 12 & 16 & r & pickup \\\\\n",
       "\\end{tabular}\n"
      ],
      "text/markdown": [
       "\n",
       "A tibble: 3 × 11\n",
       "\n",
       "| manufacturer &lt;chr&gt; | model &lt;chr&gt; | displ &lt;dbl&gt; | year &lt;int&gt; | cyl &lt;int&gt; | trans &lt;chr&gt; | drv &lt;chr&gt; | cty &lt;int&gt; | hwy &lt;int&gt; | fl &lt;chr&gt; | class &lt;fct&gt; |\n",
       "|---|---|---|---|---|---|---|---|---|---|---|\n",
       "| toyota | camry solara        | 2.4 | 2008 | 4 | auto(s5)   | f | 22 | 31 | r | compact |\n",
       "| dodge  | caravan 2wd         | 3.0 | 1999 | 6 | auto(l4)   | f | 17 | 24 | r | minivan |\n",
       "| dodge  | ram 1500 pickup 4wd | 4.7 | 2008 | 8 | manual(m6) | 4 | 12 | 16 | r | pickup  |\n",
       "\n"
      ],
      "text/plain": [
       "  manufacturer model               displ year cyl trans      drv cty hwy fl\n",
       "1 toyota       camry solara        2.4   2008 4   auto(s5)   f   22  31  r \n",
       "2 dodge        caravan 2wd         3.0   1999 6   auto(l4)   f   17  24  r \n",
       "3 dodge        ram 1500 pickup 4wd 4.7   2008 8   manual(m6) 4   12  16  r \n",
       "  class  \n",
       "1 compact\n",
       "2 minivan\n",
       "3 pickup "
      ]
     },
     "metadata": {},
     "output_type": "display_data"
    }
   ],
   "source": [
    "mpg %>%\n",
    "    slice_sample(n = 3)"
   ]
  },
  {
   "cell_type": "code",
   "execution_count": 11,
   "id": "8cf6e5e0",
   "metadata": {},
   "outputs": [
    {
     "data": {
      "image/png": "[encoded data removed]",
      "text/plain": [
       "plot without title"
      ]
     },
     "metadata": {
      "image/png": {
       "height": 420,
       "width": 420
      }
     },
     "output_type": "display_data"
    }
   ],
   "source": [
    "ggplot(mpg, aes(x = class, y = hwy)) + \n",
    "    geom_boxplot()"
   ]
  },
  {
   "cell_type": "code",
   "execution_count": 12,
   "id": "cf21a4af",
   "metadata": {},
   "outputs": [
    {
     "data": {
      "image/png": "[encoded data removed]",
      "text/plain": [
       "plot without title"
      ]
     },
     "metadata": {
      "image/png": {
       "height": 420,
       "width": 420
      }
     },
     "output_type": "display_data"
    }
   ],
   "source": [
    "ggplot(mpg, aes(x = class, y = hwy)) + \n",
    "    geom_boxplot() + \n",
    "    coord_flip()"
   ]
  },
  {
   "cell_type": "code",
   "execution_count": null,
   "id": "1c3db29c",
   "metadata": {},
   "outputs": [],
   "source": []
  }
 ],
 "metadata": {
  "kernelspec": {
   "display_name": "R",
   "language": "R",
   "name": "ir"
  },
  "language_info": {
   "codemirror_mode": "r",
   "file_extension": ".r",
   "mimetype": "text/x-r-source",
   "name": "R",
   "pygments_lexer": "r",
   "version": "4.0.5"
  }
 },
 "nbformat": 4,
 "nbformat_minor": 5
}
