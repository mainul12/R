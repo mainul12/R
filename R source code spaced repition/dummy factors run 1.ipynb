{
 "cells": [
  {
   "cell_type": "markdown",
   "id": "86330533",
   "metadata": {},
   "source": [
    "[Source](https://rdrr.io/cran/wakefield/man/r_sample_factor.html)"
   ]
  },
  {
   "cell_type": "code",
   "execution_count": 1,
   "id": "ee779a6c",
   "metadata": {},
   "outputs": [],
   "source": [
    "library(wakefield)"
   ]
  },
  {
   "cell_type": "code",
   "execution_count": 7,
   "id": "a4f6cd18",
   "metadata": {},
   "outputs": [],
   "source": [
    "data <- r_sample_factor(n = 12, x = c(\"Sane\", \"Insane\", \"Mildly Sane\"))"
   ]
  },
  {
   "cell_type": "code",
   "execution_count": 8,
   "id": "3730b58a",
   "metadata": {},
   "outputs": [
    {
     "data": {
      "text/html": [
       "<style>\n",
       ".list-inline {list-style: none; margin:0; padding: 0}\n",
       ".list-inline>li {display: inline-block}\n",
       ".list-inline>li:not(:last-child)::after {content: \"\\00b7\"; padding: 0 .5ex}\n",
       "</style>\n",
       "<ol class=list-inline><li>Mildly Sane</li><li>Insane</li><li>Insane</li><li>Sane</li><li>Insane</li><li>Sane</li><li>Insane</li><li>Insane</li><li>Mildly Sane</li><li>Insane</li><li>Mildly Sane</li><li>Insane</li></ol>\n",
       "\n",
       "<details>\n",
       "\t<summary style=display:list-item;cursor:pointer>\n",
       "\t\t<strong>Levels</strong>:\n",
       "\t</summary>\n",
       "\t<style>\n",
       "\t.list-inline {list-style: none; margin:0; padding: 0}\n",
       "\t.list-inline>li {display: inline-block}\n",
       "\t.list-inline>li:not(:last-child)::after {content: \"\\00b7\"; padding: 0 .5ex}\n",
       "\t</style>\n",
       "\t<ol class=list-inline><li>'Sane'</li><li>'Insane'</li><li>'Mildly Sane'</li></ol>\n",
       "</details>"
      ],
      "text/latex": [
       "\\begin{enumerate*}\n",
       "\\item Mildly Sane\n",
       "\\item Insane\n",
       "\\item Insane\n",
       "\\item Sane\n",
       "\\item Insane\n",
       "\\item Sane\n",
       "\\item Insane\n",
       "\\item Insane\n",
       "\\item Mildly Sane\n",
       "\\item Insane\n",
       "\\item Mildly Sane\n",
       "\\item Insane\n",
       "\\end{enumerate*}\n",
       "\n",
       "\\emph{Levels}: \\begin{enumerate*}\n",
       "\\item 'Sane'\n",
       "\\item 'Insane'\n",
       "\\item 'Mildly Sane'\n",
       "\\end{enumerate*}\n"
      ],
      "text/markdown": [
       "1. Mildly Sane\n",
       "2. Insane\n",
       "3. Insane\n",
       "4. Sane\n",
       "5. Insane\n",
       "6. Sane\n",
       "7. Insane\n",
       "8. Insane\n",
       "9. Mildly Sane\n",
       "10. Insane\n",
       "11. Mildly Sane\n",
       "12. Insane\n",
       "\n",
       "\n",
       "\n",
       "**Levels**: 1. 'Sane'\n",
       "2. 'Insane'\n",
       "3. 'Mildly Sane'\n",
       "\n",
       "\n"
      ],
      "text/plain": [
       " [1] Mildly Sane Insane      Insane      Sane        Insane      Sane       \n",
       " [7] Insane      Insane      Mildly Sane Insane      Mildly Sane Insane     \n",
       "Levels: Sane Insane Mildly Sane"
      ]
     },
     "metadata": {},
     "output_type": "display_data"
    }
   ],
   "source": [
    "data"
   ]
  },
  {
   "cell_type": "code",
   "execution_count": 9,
   "id": "97234abc",
   "metadata": {},
   "outputs": [
    {
     "data": {
      "text/plain": [
       "data\n",
       "       Sane      Insane Mildly Sane \n",
       "          2           7           3 "
      ]
     },
     "metadata": {},
     "output_type": "display_data"
    }
   ],
   "source": [
    "table(data)"
   ]
  },
  {
   "cell_type": "code",
   "execution_count": null,
   "id": "037f07c3",
   "metadata": {},
   "outputs": [],
   "source": []
  }
 ],
 "metadata": {
  "kernelspec": {
   "display_name": "R",
   "language": "R",
   "name": "ir"
  },
  "language_info": {
   "codemirror_mode": "r",
   "file_extension": ".r",
   "mimetype": "text/x-r-source",
   "name": "R",
   "pygments_lexer": "r",
   "version": "4.0.5"
  }
 },
 "nbformat": 4,
 "nbformat_minor": 5
}
