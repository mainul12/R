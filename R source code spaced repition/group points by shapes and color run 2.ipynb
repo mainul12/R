{
 "cells": [
  {
   "cell_type": "code",
   "execution_count": 1,
   "id": "8ac17882",
   "metadata": {},
   "outputs": [
    {
     "name": "stderr",
     "output_type": "stream",
     "text": [
      "-- \u001b[1mAttaching packages\u001b[22m ------------------------------------------------------------------------------- tidyverse 1.3.1 --\n",
      "\n",
      "\u001b[32mv\u001b[39m \u001b[34mggplot2\u001b[39m 3.3.4     \u001b[32mv\u001b[39m \u001b[34mpurrr  \u001b[39m 0.3.4\n",
      "\u001b[32mv\u001b[39m \u001b[34mtibble \u001b[39m 3.1.1     \u001b[32mv\u001b[39m \u001b[34mdplyr  \u001b[39m 1.0.6\n",
      "\u001b[32mv\u001b[39m \u001b[34mtidyr  \u001b[39m 1.1.3     \u001b[32mv\u001b[39m \u001b[34mstringr\u001b[39m 1.4.0\n",
      "\u001b[32mv\u001b[39m \u001b[34mreadr  \u001b[39m 1.4.0     \u001b[32mv\u001b[39m \u001b[34mforcats\u001b[39m 0.5.1\n",
      "\n",
      "-- \u001b[1mConflicts\u001b[22m ---------------------------------------------------------------------------------- tidyverse_conflicts() --\n",
      "\u001b[31mx\u001b[39m \u001b[34mdplyr\u001b[39m::\u001b[32mfilter()\u001b[39m masks \u001b[34mstats\u001b[39m::filter()\n",
      "\u001b[31mx\u001b[39m \u001b[34mdplyr\u001b[39m::\u001b[32mlag()\u001b[39m    masks \u001b[34mstats\u001b[39m::lag()\n",
      "\n",
      "\n",
      "Attaching package: 'wakefield'\n",
      "\n",
      "\n",
      "The following object is masked from 'package:dplyr':\n",
      "\n",
      "    id\n",
      "\n",
      "\n"
     ]
    }
   ],
   "source": [
    "library(tidyverse)\n",
    "library(wakefield)"
   ]
  },
  {
   "cell_type": "code",
   "execution_count": 10,
   "id": "df14a3e6",
   "metadata": {},
   "outputs": [
    {
     "data": {
      "text/html": [
       "3"
      ],
      "text/latex": [
       "3"
      ],
      "text/markdown": [
       "3"
      ],
      "text/plain": [
       "[1] 3"
      ]
     },
     "metadata": {},
     "output_type": "display_data"
    }
   ],
   "source": [
    "as.integer(\"3\")"
   ]
  },
  {
   "cell_type": "code",
   "execution_count": 11,
   "id": "e65c832e",
   "metadata": {},
   "outputs": [],
   "source": [
    "age <- as.integer(age(100))"
   ]
  },
  {
   "cell_type": "code",
   "execution_count": 4,
   "id": "9dd5dbdf",
   "metadata": {},
   "outputs": [],
   "source": [
    "weight <- rnorm(100, mean = 30, sd = 4)"
   ]
  },
  {
   "cell_type": "code",
   "execution_count": 5,
   "id": "46abdd70",
   "metadata": {},
   "outputs": [],
   "source": [
    "factors <- r_sample_factor(n = 100, x = c(\"A\", \"B\", \"C\"))"
   ]
  },
  {
   "cell_type": "code",
   "execution_count": 12,
   "id": "dae8d192",
   "metadata": {},
   "outputs": [],
   "source": [
    "df <- data.frame(age = age, weight = weight, category = factors)"
   ]
  },
  {
   "cell_type": "code",
   "execution_count": 13,
   "id": "50792e34",
   "metadata": {},
   "outputs": [
    {
     "data": {
      "text/html": [
       "<table class=\"dataframe\">\n",
       "<caption>A data.frame: 5 × 3</caption>\n",
       "<thead>\n",
       "\t<tr><th scope=col>age</th><th scope=col>weight</th><th scope=col>category</th></tr>\n",
       "\t<tr><th scope=col>&lt;int&gt;</th><th scope=col>&lt;dbl&gt;</th><th scope=col>&lt;fct&gt;</th></tr>\n",
       "</thead>\n",
       "<tbody>\n",
       "\t<tr><td>73</td><td>36.91345</td><td>C</td></tr>\n",
       "\t<tr><td>79</td><td>23.18904</td><td>C</td></tr>\n",
       "\t<tr><td>27</td><td>30.53701</td><td>A</td></tr>\n",
       "\t<tr><td>67</td><td>29.74981</td><td>A</td></tr>\n",
       "\t<tr><td>39</td><td>29.82438</td><td>C</td></tr>\n",
       "</tbody>\n",
       "</table>\n"
      ],
      "text/latex": [
       "A data.frame: 5 × 3\n",
       "\\begin{tabular}{lll}\n",
       " age & weight & category\\\\\n",
       " <int> & <dbl> & <fct>\\\\\n",
       "\\hline\n",
       "\t 73 & 36.91345 & C\\\\\n",
       "\t 79 & 23.18904 & C\\\\\n",
       "\t 27 & 30.53701 & A\\\\\n",
       "\t 67 & 29.74981 & A\\\\\n",
       "\t 39 & 29.82438 & C\\\\\n",
       "\\end{tabular}\n"
      ],
      "text/markdown": [
       "\n",
       "A data.frame: 5 × 3\n",
       "\n",
       "| age &lt;int&gt; | weight &lt;dbl&gt; | category &lt;fct&gt; |\n",
       "|---|---|---|\n",
       "| 73 | 36.91345 | C |\n",
       "| 79 | 23.18904 | C |\n",
       "| 27 | 30.53701 | A |\n",
       "| 67 | 29.74981 | A |\n",
       "| 39 | 29.82438 | C |\n",
       "\n"
      ],
      "text/plain": [
       "  age weight   category\n",
       "1 73  36.91345 C       \n",
       "2 79  23.18904 C       \n",
       "3 27  30.53701 A       \n",
       "4 67  29.74981 A       \n",
       "5 39  29.82438 C       "
      ]
     },
     "metadata": {},
     "output_type": "display_data"
    }
   ],
   "source": [
    "df %>%\n",
    "    slice_sample(n = 5)"
   ]
  },
  {
   "cell_type": "code",
   "execution_count": 18,
   "id": "9f4f7fe4",
   "metadata": {},
   "outputs": [
    {
     "data": {
      "image/png": "[encoded data removed]",
      "text/plain": [
       "plot without title"
      ]
     },
     "metadata": {
      "image/png": {
       "height": 420,
       "width": 420
      }
     },
     "output_type": "display_data"
    }
   ],
   "source": [
    "ggplot(df, aes(x = age, y = weight, color=category)) + \n",
    "    geom_point()"
   ]
  },
  {
   "cell_type": "code",
   "execution_count": 19,
   "id": "63ab8395",
   "metadata": {},
   "outputs": [
    {
     "data": {
      "image/png": "[encoded data removed]",
      "text/plain": [
       "plot without title"
      ]
     },
     "metadata": {
      "image/png": {
       "height": 420,
       "width": 420
      }
     },
     "output_type": "display_data"
    }
   ],
   "source": [
    "ggplot(df, aes(x = age, y = weight, shape = category)) + \n",
    "    geom_point()"
   ]
  },
  {
   "cell_type": "code",
   "execution_count": null,
   "id": "3a989e00",
   "metadata": {},
   "outputs": [],
   "source": []
  }
 ],
 "metadata": {
  "kernelspec": {
   "display_name": "R",
   "language": "R",
   "name": "ir"
  },
  "language_info": {
   "codemirror_mode": "r",
   "file_extension": ".r",
   "mimetype": "text/x-r-source",
   "name": "R",
   "pygments_lexer": "r",
   "version": "4.0.5"
  }
 },
 "nbformat": 4,
 "nbformat_minor": 5
}
