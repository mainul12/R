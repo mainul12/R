{
 "cells": [
  {
   "cell_type": "markdown",
   "id": "6ff24332",
   "metadata": {},
   "source": [
    "[Source](https://www.r-bloggers.com/2015/01/goodness-of-fit-test-in-r/)\n",
    "\n",
    "Kanji, page 76\n",
    "\n",
    "Sheskin, page 261"
   ]
  },
  {
   "cell_type": "code",
   "execution_count": 1,
   "id": "ff0066f8",
   "metadata": {},
   "outputs": [],
   "source": [
    "num_of_samples = 1000\n",
    "x <- rgamma(num_of_samples, shape = 10, scale = 3)\n",
    "x <- x + rnorm(length(x), mean=0, sd = .1)"
   ]
  },
  {
   "cell_type": "code",
   "execution_count": 5,
   "id": "08ddb621",
   "metadata": {},
   "outputs": [
    {
     "data": {
      "image/png": "[encoded data removed]",
      "text/plain": [
       "Plot with title \"Histogram of x\""
      ]
     },
     "metadata": {
      "image/png": {
       "height": 420,
       "width": 420
      }
     },
     "output_type": "display_data"
    }
   ],
   "source": [
    "hist(x, breaks = 50)"
   ]
  },
  {
   "cell_type": "code",
   "execution_count": 8,
   "id": "00a9049a",
   "metadata": {},
   "outputs": [],
   "source": [
    "library(ggplot2)\n",
    "library(tibble)"
   ]
  },
  {
   "cell_type": "code",
   "execution_count": 12,
   "id": "deac236a",
   "metadata": {},
   "outputs": [
    {
     "data": {
      "text/html": [
       "<table class=\"dataframe\">\n",
       "<caption>A tibble: 6 × 1</caption>\n",
       "<thead>\n",
       "\t<tr><th scope=col>x</th></tr>\n",
       "\t<tr><th scope=col>&lt;dbl&gt;</th></tr>\n",
       "</thead>\n",
       "<tbody>\n",
       "\t<tr><td>31.72095</td></tr>\n",
       "\t<tr><td>43.20753</td></tr>\n",
       "\t<tr><td>32.11315</td></tr>\n",
       "\t<tr><td>36.42259</td></tr>\n",
       "\t<tr><td>29.91073</td></tr>\n",
       "\t<tr><td>22.27116</td></tr>\n",
       "</tbody>\n",
       "</table>\n"
      ],
      "text/latex": [
       "A tibble: 6 × 1\n",
       "\\begin{tabular}{l}\n",
       " x\\\\\n",
       " <dbl>\\\\\n",
       "\\hline\n",
       "\t 31.72095\\\\\n",
       "\t 43.20753\\\\\n",
       "\t 32.11315\\\\\n",
       "\t 36.42259\\\\\n",
       "\t 29.91073\\\\\n",
       "\t 22.27116\\\\\n",
       "\\end{tabular}\n"
      ],
      "text/markdown": [
       "\n",
       "A tibble: 6 × 1\n",
       "\n",
       "| x &lt;dbl&gt; |\n",
       "|---|\n",
       "| 31.72095 |\n",
       "| 43.20753 |\n",
       "| 32.11315 |\n",
       "| 36.42259 |\n",
       "| 29.91073 |\n",
       "| 22.27116 |\n",
       "\n"
      ],
      "text/plain": [
       "  x       \n",
       "1 31.72095\n",
       "2 43.20753\n",
       "3 32.11315\n",
       "4 36.42259\n",
       "5 29.91073\n",
       "6 22.27116"
      ]
     },
     "metadata": {},
     "output_type": "display_data"
    }
   ],
   "source": [
    "head(tibble(x))"
   ]
  },
  {
   "cell_type": "code",
   "execution_count": null,
   "id": "f3716aeb",
   "metadata": {},
   "outputs": [],
   "source": [
    "rescale01 <- function(x) {\n",
    "  rng <- range(x, na.rm = TRUE)\n",
    "  (x - rng[1]) / (rng[2] - rng[1])\n",
    "}\n",
    "rescale01(c(0, 5, 10))\n",
    "#> [1] 0.0 0.5 1.0"
   ]
  },
  {
   "cell_type": "code",
   "execution_count": 44,
   "id": "24c3da07",
   "metadata": {},
   "outputs": [
    {
     "data": {
      "text/html": [
       "0.135861121729819"
      ],
      "text/latex": [
       "0.135861121729819"
      ],
      "text/markdown": [
       "0.135861121729819"
      ],
      "text/plain": [
       "[1] 0.1358611"
      ]
     },
     "metadata": {},
     "output_type": "display_data"
    }
   ],
   "source": [
    "num_of_samples = 100000\n",
    "y <- rgamma(num_of_samples, shape = 10, scale = 3)\n",
    "result <- ks.test(x, y)\n",
    "result$p.value"
   ]
  },
  {
   "cell_type": "code",
   "execution_count": 68,
   "id": "f64f8868",
   "metadata": {},
   "outputs": [
    {
     "data": {
      "text/html": [
       "0.154001023244047"
      ],
      "text/latex": [
       "0.154001023244047"
      ],
      "text/markdown": [
       "0.154001023244047"
      ],
      "text/plain": [
       "[1] 0.154001"
      ]
     },
     "metadata": {},
     "output_type": "display_data"
    }
   ],
   "source": [
    "num_of_samples = 100000\n",
    "y <- rgamma(num_of_samples, shape = 10, scale = 3)\n",
    "result <- ks.test(x, y)\n",
    "result$p.value"
   ]
  },
  {
   "cell_type": "code",
   "execution_count": null,
   "id": "bc5a28fe",
   "metadata": {},
   "outputs": [],
   "source": []
  }
 ],
 "metadata": {
  "kernelspec": {
   "display_name": "R",
   "language": "R",
   "name": "ir"
  },
  "language_info": {
   "codemirror_mode": "r",
   "file_extension": ".r",
   "mimetype": "text/x-r-source",
   "name": "R",
   "pygments_lexer": "r",
   "version": "4.0.5"
  }
 },
 "nbformat": 4,
 "nbformat_minor": 5
}
