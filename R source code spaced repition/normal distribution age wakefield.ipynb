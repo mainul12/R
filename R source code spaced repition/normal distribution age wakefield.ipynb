{
 "cells": [
  {
   "cell_type": "code",
   "execution_count": 1,
   "id": "19b1984c",
   "metadata": {},
   "outputs": [],
   "source": [
    "library(wakefield)"
   ]
  },
  {
   "cell_type": "code",
   "execution_count": 2,
   "id": "ee2189ac",
   "metadata": {},
   "outputs": [
    {
     "data": {
      "text/html": [
       "<style>\n",
       ".list-inline {list-style: none; margin:0; padding: 0}\n",
       ".list-inline>li {display: inline-block}\n",
       ".list-inline>li:not(:last-child)::after {content: \"\\00b7\"; padding: 0 .5ex}\n",
       "</style>\n",
       "<ol class=list-inline><li>37</li><li>71</li><li>23</li><li>25</li><li>64</li><li>53</li><li>22</li><li>87</li><li>47</li><li>60</li></ol>\n"
      ],
      "text/latex": [
       "\\begin{enumerate*}\n",
       "\\item 37\n",
       "\\item 71\n",
       "\\item 23\n",
       "\\item 25\n",
       "\\item 64\n",
       "\\item 53\n",
       "\\item 22\n",
       "\\item 87\n",
       "\\item 47\n",
       "\\item 60\n",
       "\\end{enumerate*}\n"
      ],
      "text/markdown": [
       "1. 37\n",
       "2. 71\n",
       "3. 23\n",
       "4. 25\n",
       "5. 64\n",
       "6. 53\n",
       "7. 22\n",
       "8. 87\n",
       "9. 47\n",
       "10. 60\n",
       "\n",
       "\n"
      ],
      "text/plain": [
       " [1] 37 71 23 25 64 53 22 87 47 60"
      ]
     },
     "metadata": {},
     "output_type": "display_data"
    }
   ],
   "source": [
    "age(10)"
   ]
  },
  {
   "cell_type": "code",
   "execution_count": 4,
   "id": "7eb637cd",
   "metadata": {},
   "outputs": [],
   "source": [
    "data <- age(n = 100, x = 18:35)"
   ]
  },
  {
   "cell_type": "code",
   "execution_count": 7,
   "id": "c8b06a87",
   "metadata": {},
   "outputs": [
    {
     "data": {
      "image/png": "[encoded data removed]",
      "text/plain": [
       "Plot with title \"Histogram of data\""
      ]
     },
     "metadata": {
      "image/png": {
       "height": 420,
       "width": 420
      }
     },
     "output_type": "display_data"
    }
   ],
   "source": [
    "hist(data)"
   ]
  },
  {
   "cell_type": "code",
   "execution_count": 13,
   "id": "235ccc1e",
   "metadata": {},
   "outputs": [],
   "source": [
    "data2 <- age(10000, 18:35, prob = dnorm(18:35, mean = 26.5, sd = 1))"
   ]
  },
  {
   "cell_type": "code",
   "execution_count": 14,
   "id": "887f8278",
   "metadata": {},
   "outputs": [
    {
     "data": {
      "image/png": "[encoded data removed]",
      "text/plain": [
       "Plot with title \"Histogram of data2\""
      ]
     },
     "metadata": {
      "image/png": {
       "height": 420,
       "width": 420
      }
     },
     "output_type": "display_data"
    }
   ],
   "source": [
    "hist(data2)"
   ]
  },
  {
   "cell_type": "code",
   "execution_count": 12,
   "id": "ceb0a85e",
   "metadata": {},
   "outputs": [
    {
     "data": {
      "text/html": [
       "<style>\n",
       ".list-inline {list-style: none; margin:0; padding: 0}\n",
       ".list-inline>li {display: inline-block}\n",
       ".list-inline>li:not(:last-child)::after {content: \"\\00b7\"; padding: 0 .5ex}\n",
       "</style>\n",
       "<ol class=list-inline><li>8.16623563166955e-17</li><li>2.43432053302901e-13</li><li>2.66955661476285e-10</li><li>1.07697600425433e-07</li><li>1.59837411069055e-05</li><li>0.00087268269504576</li><li>0.0175283004935685</li><li>0.129517595665892</li><li>0.3520653267643</li><li>0.3520653267643</li><li>0.129517595665892</li><li>0.0175283004935685</li><li>0.00087268269504576</li><li>1.59837411069055e-05</li><li>1.07697600425433e-07</li><li>2.66955661476285e-10</li><li>2.43432053302901e-13</li><li>8.16623563166955e-17</li></ol>\n"
      ],
      "text/latex": [
       "\\begin{enumerate*}\n",
       "\\item 8.16623563166955e-17\n",
       "\\item 2.43432053302901e-13\n",
       "\\item 2.66955661476285e-10\n",
       "\\item 1.07697600425433e-07\n",
       "\\item 1.59837411069055e-05\n",
       "\\item 0.00087268269504576\n",
       "\\item 0.0175283004935685\n",
       "\\item 0.129517595665892\n",
       "\\item 0.3520653267643\n",
       "\\item 0.3520653267643\n",
       "\\item 0.129517595665892\n",
       "\\item 0.0175283004935685\n",
       "\\item 0.00087268269504576\n",
       "\\item 1.59837411069055e-05\n",
       "\\item 1.07697600425433e-07\n",
       "\\item 2.66955661476285e-10\n",
       "\\item 2.43432053302901e-13\n",
       "\\item 8.16623563166955e-17\n",
       "\\end{enumerate*}\n"
      ],
      "text/markdown": [
       "1. 8.16623563166955e-17\n",
       "2. 2.43432053302901e-13\n",
       "3. 2.66955661476285e-10\n",
       "4. 1.07697600425433e-07\n",
       "5. 1.59837411069055e-05\n",
       "6. 0.00087268269504576\n",
       "7. 0.0175283004935685\n",
       "8. 0.129517595665892\n",
       "9. 0.3520653267643\n",
       "10. 0.3520653267643\n",
       "11. 0.129517595665892\n",
       "12. 0.0175283004935685\n",
       "13. 0.00087268269504576\n",
       "14. 1.59837411069055e-05\n",
       "15. 1.07697600425433e-07\n",
       "16. 2.66955661476285e-10\n",
       "17. 2.43432053302901e-13\n",
       "18. 8.16623563166955e-17\n",
       "\n",
       "\n"
      ],
      "text/plain": [
       " [1] 8.166236e-17 2.434321e-13 2.669557e-10 1.076976e-07 1.598374e-05\n",
       " [6] 8.726827e-04 1.752830e-02 1.295176e-01 3.520653e-01 3.520653e-01\n",
       "[11] 1.295176e-01 1.752830e-02 8.726827e-04 1.598374e-05 1.076976e-07\n",
       "[16] 2.669557e-10 2.434321e-13 8.166236e-17"
      ]
     },
     "metadata": {},
     "output_type": "display_data"
    }
   ],
   "source": [
    "dnorm(18:35, mean = 26.5)"
   ]
  },
  {
   "cell_type": "code",
   "execution_count": null,
   "id": "1c9a27ac",
   "metadata": {},
   "outputs": [],
   "source": []
  }
 ],
 "metadata": {
  "kernelspec": {
   "display_name": "R",
   "language": "R",
   "name": "ir"
  },
  "language_info": {
   "codemirror_mode": "r",
   "file_extension": ".r",
   "mimetype": "text/x-r-source",
   "name": "R",
   "pygments_lexer": "r",
   "version": "4.0.5"
  }
 },
 "nbformat": 4,
 "nbformat_minor": 5
}
