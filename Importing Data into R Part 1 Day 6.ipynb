{
 "cells": [
  {
   "cell_type": "code",
   "execution_count": 2,
   "metadata": {},
   "outputs": [],
   "source": [
    "states <- read.csv(\"states.csv\")"
   ]
  },
  {
   "cell_type": "code",
   "execution_count": 3,
   "metadata": {},
   "outputs": [
    {
     "name": "stdout",
     "output_type": "stream",
     "text": [
      "'data.frame':\t5 obs. of  4 variables:\n",
      " $ state   : Factor w/ 5 levels \"Hawaii\",\"New York\",..: 4 2 3 5 1\n",
      " $ capital : Factor w/ 5 levels \"Albany\",\"Honolulu\",..: 4 1 5 3 2\n",
      " $ pop_mill: num  0.853 19.746 3.97 0.627 1.42\n",
      " $ area_sqm: int  77116 54555 98381 9616 10931\n"
     ]
    }
   ],
   "source": [
    "str(states)"
   ]
  },
  {
   "cell_type": "code",
   "execution_count": 6,
   "metadata": {},
   "outputs": [
    {
     "data": {
      "text/html": [
       "<table>\n",
       "<thead><tr><th scope=col>state</th><th scope=col>capital</th><th scope=col>pop_mill</th><th scope=col>area_sqm</th></tr></thead>\n",
       "<tbody>\n",
       "\t<tr><td>South Dakota</td><td>Pierre      </td><td> 0.853      </td><td>77116       </td></tr>\n",
       "\t<tr><td>New York    </td><td>Albany      </td><td>19.746      </td><td>54555       </td></tr>\n",
       "\t<tr><td>Oregon      </td><td>Salem       </td><td> 3.970      </td><td>98381       </td></tr>\n",
       "\t<tr><td>Vermont     </td><td>Montpelier  </td><td> 0.627      </td><td> 9616       </td></tr>\n",
       "\t<tr><td>Hawaii      </td><td>Honolulu    </td><td> 1.420      </td><td>10931       </td></tr>\n",
       "</tbody>\n",
       "</table>\n"
      ],
      "text/latex": [
       "\\begin{tabular}{r|llll}\n",
       " state & capital & pop\\_mill & area\\_sqm\\\\\n",
       "\\hline\n",
       "\t South Dakota & Pierre       &  0.853       & 77116       \\\\\n",
       "\t New York     & Albany       & 19.746       & 54555       \\\\\n",
       "\t Oregon       & Salem        &  3.970       & 98381       \\\\\n",
       "\t Vermont      & Montpelier   &  0.627       &  9616       \\\\\n",
       "\t Hawaii       & Honolulu     &  1.420       & 10931       \\\\\n",
       "\\end{tabular}\n"
      ],
      "text/markdown": [
       "\n",
       "state | capital | pop_mill | area_sqm | \n",
       "|---|---|---|---|---|\n",
       "| South Dakota | Pierre       |  0.853       | 77116        | \n",
       "| New York     | Albany       | 19.746       | 54555        | \n",
       "| Oregon       | Salem        |  3.970       | 98381        | \n",
       "| Vermont      | Montpelier   |  0.627       |  9616        | \n",
       "| Hawaii       | Honolulu     |  1.420       | 10931        | \n",
       "\n",
       "\n"
      ],
      "text/plain": [
       "  state        capital    pop_mill area_sqm\n",
       "1 South Dakota Pierre      0.853   77116   \n",
       "2 New York     Albany     19.746   54555   \n",
       "3 Oregon       Salem       3.970   98381   \n",
       "4 Vermont      Montpelier  0.627    9616   \n",
       "5 Hawaii       Honolulu    1.420   10931   "
      ]
     },
     "metadata": {},
     "output_type": "display_data"
    }
   ],
   "source": [
    "states"
   ]
  },
  {
   "cell_type": "code",
   "execution_count": 4,
   "metadata": {},
   "outputs": [],
   "source": [
    "states_2 <- read.csv(\"states.csv\", stringsAsFactors = FALSE)"
   ]
  },
  {
   "cell_type": "code",
   "execution_count": 5,
   "metadata": {},
   "outputs": [
    {
     "name": "stdout",
     "output_type": "stream",
     "text": [
      "'data.frame':\t5 obs. of  4 variables:\n",
      " $ state   : chr  \"South Dakota\" \"New York\" \"Oregon\" \"Vermont\" ...\n",
      " $ capital : chr  \"Pierre\" \"Albany\" \"Salem\" \"Montpelier\" ...\n",
      " $ pop_mill: num  0.853 19.746 3.97 0.627 1.42\n",
      " $ area_sqm: int  77116 54555 98381 9616 10931\n"
     ]
    }
   ],
   "source": [
    "str(states_2)"
   ]
  },
  {
   "cell_type": "code",
   "execution_count": 7,
   "metadata": {},
   "outputs": [
    {
     "data": {
      "text/html": [
       "<table>\n",
       "<thead><tr><th scope=col>state</th><th scope=col>capital</th><th scope=col>pop_mill</th><th scope=col>area_sqm</th></tr></thead>\n",
       "<tbody>\n",
       "\t<tr><td>South Dakota</td><td>Pierre      </td><td> 0.853      </td><td>77116       </td></tr>\n",
       "\t<tr><td>New York    </td><td>Albany      </td><td>19.746      </td><td>54555       </td></tr>\n",
       "\t<tr><td>Oregon      </td><td>Salem       </td><td> 3.970      </td><td>98381       </td></tr>\n",
       "\t<tr><td>Vermont     </td><td>Montpelier  </td><td> 0.627      </td><td> 9616       </td></tr>\n",
       "\t<tr><td>Hawaii      </td><td>Honolulu    </td><td> 1.420      </td><td>10931       </td></tr>\n",
       "</tbody>\n",
       "</table>\n"
      ],
      "text/latex": [
       "\\begin{tabular}{r|llll}\n",
       " state & capital & pop\\_mill & area\\_sqm\\\\\n",
       "\\hline\n",
       "\t South Dakota & Pierre       &  0.853       & 77116       \\\\\n",
       "\t New York     & Albany       & 19.746       & 54555       \\\\\n",
       "\t Oregon       & Salem        &  3.970       & 98381       \\\\\n",
       "\t Vermont      & Montpelier   &  0.627       &  9616       \\\\\n",
       "\t Hawaii       & Honolulu     &  1.420       & 10931       \\\\\n",
       "\\end{tabular}\n"
      ],
      "text/markdown": [
       "\n",
       "state | capital | pop_mill | area_sqm | \n",
       "|---|---|---|---|---|\n",
       "| South Dakota | Pierre       |  0.853       | 77116        | \n",
       "| New York     | Albany       | 19.746       | 54555        | \n",
       "| Oregon       | Salem        |  3.970       | 98381        | \n",
       "| Vermont      | Montpelier   |  0.627       |  9616        | \n",
       "| Hawaii       | Honolulu     |  1.420       | 10931        | \n",
       "\n",
       "\n"
      ],
      "text/plain": [
       "  state        capital    pop_mill area_sqm\n",
       "1 South Dakota Pierre      0.853   77116   \n",
       "2 New York     Albany     19.746   54555   \n",
       "3 Oregon       Salem       3.970   98381   \n",
       "4 Vermont      Montpelier  0.627    9616   \n",
       "5 Hawaii       Honolulu    1.420   10931   "
      ]
     },
     "metadata": {},
     "output_type": "display_data"
    }
   ],
   "source": [
    "states_2"
   ]
  },
  {
   "cell_type": "code",
   "execution_count": 8,
   "metadata": {},
   "outputs": [],
   "source": [
    "swimming_pools <- read.csv(\"swimming_pools.csv\")"
   ]
  },
  {
   "cell_type": "code",
   "execution_count": 9,
   "metadata": {},
   "outputs": [
    {
     "data": {
      "text/html": [
       "<table>\n",
       "<thead><tr><th scope=col>Name</th><th scope=col>Address</th><th scope=col>Latitude</th><th scope=col>Longitude</th></tr></thead>\n",
       "<tbody>\n",
       "\t<tr><td>Acacia Ridge Leisure Centre               </td><td>1391 Beaudesert Road, Acacia Ridge        </td><td>-27.58616                                 </td><td>153.0264                                  </td></tr>\n",
       "\t<tr><td>Bellbowrie Pool                           </td><td>Sugarwood Street, Bellbowrie              </td><td>-27.56547                                 </td><td>152.8911                                  </td></tr>\n",
       "\t<tr><td>Carole Park                               </td><td>Cnr Boundary Road and Waterford Road Wacol</td><td>-27.60744                                 </td><td>152.9315                                  </td></tr>\n",
       "\t<tr><td>Centenary Pool (inner City)               </td><td>400 Gregory Terrace, Spring Hill          </td><td>-27.45537                                 </td><td>153.0251                                  </td></tr>\n",
       "\t<tr><td>Chermside Pool                            </td><td>375 Hamilton Road, Chermside              </td><td>-27.38583                                 </td><td>153.0351                                  </td></tr>\n",
       "\t<tr><td>Colmslie Pool (Morningside)               </td><td>400 Lytton Road, Morningside              </td><td>-27.45516                                 </td><td>153.0789                                  </td></tr>\n",
       "</tbody>\n",
       "</table>\n"
      ],
      "text/latex": [
       "\\begin{tabular}{r|llll}\n",
       " Name & Address & Latitude & Longitude\\\\\n",
       "\\hline\n",
       "\t Acacia Ridge Leisure Centre                & 1391 Beaudesert Road, Acacia Ridge         & -27.58616                                  & 153.0264                                  \\\\\n",
       "\t Bellbowrie Pool                            & Sugarwood Street, Bellbowrie               & -27.56547                                  & 152.8911                                  \\\\\n",
       "\t Carole Park                                & Cnr Boundary Road and Waterford Road Wacol & -27.60744                                  & 152.9315                                  \\\\\n",
       "\t Centenary Pool (inner City)                & 400 Gregory Terrace, Spring Hill           & -27.45537                                  & 153.0251                                  \\\\\n",
       "\t Chermside Pool                             & 375 Hamilton Road, Chermside               & -27.38583                                  & 153.0351                                  \\\\\n",
       "\t Colmslie Pool (Morningside)                & 400 Lytton Road, Morningside               & -27.45516                                  & 153.0789                                  \\\\\n",
       "\\end{tabular}\n"
      ],
      "text/markdown": [
       "\n",
       "Name | Address | Latitude | Longitude | \n",
       "|---|---|---|---|---|---|\n",
       "| Acacia Ridge Leisure Centre                | 1391 Beaudesert Road, Acacia Ridge         | -27.58616                                  | 153.0264                                   | \n",
       "| Bellbowrie Pool                            | Sugarwood Street, Bellbowrie               | -27.56547                                  | 152.8911                                   | \n",
       "| Carole Park                                | Cnr Boundary Road and Waterford Road Wacol | -27.60744                                  | 152.9315                                   | \n",
       "| Centenary Pool (inner City)                | 400 Gregory Terrace, Spring Hill           | -27.45537                                  | 153.0251                                   | \n",
       "| Chermside Pool                             | 375 Hamilton Road, Chermside               | -27.38583                                  | 153.0351                                   | \n",
       "| Colmslie Pool (Morningside)                | 400 Lytton Road, Morningside               | -27.45516                                  | 153.0789                                   | \n",
       "\n",
       "\n"
      ],
      "text/plain": [
       "  Name                        Address                                   \n",
       "1 Acacia Ridge Leisure Centre 1391 Beaudesert Road, Acacia Ridge        \n",
       "2 Bellbowrie Pool             Sugarwood Street, Bellbowrie              \n",
       "3 Carole Park                 Cnr Boundary Road and Waterford Road Wacol\n",
       "4 Centenary Pool (inner City) 400 Gregory Terrace, Spring Hill          \n",
       "5 Chermside Pool              375 Hamilton Road, Chermside              \n",
       "6 Colmslie Pool (Morningside) 400 Lytton Road, Morningside              \n",
       "  Latitude  Longitude\n",
       "1 -27.58616 153.0264 \n",
       "2 -27.56547 152.8911 \n",
       "3 -27.60744 152.9315 \n",
       "4 -27.45537 153.0251 \n",
       "5 -27.38583 153.0351 \n",
       "6 -27.45516 153.0789 "
      ]
     },
     "metadata": {},
     "output_type": "display_data"
    }
   ],
   "source": [
    "head(swimming_pools)"
   ]
  },
  {
   "cell_type": "code",
   "execution_count": 10,
   "metadata": {},
   "outputs": [
    {
     "data": {
      "text/html": [
       "<ol class=list-inline>\n",
       "\t<li>20</li>\n",
       "\t<li>4</li>\n",
       "</ol>\n"
      ],
      "text/latex": [
       "\\begin{enumerate*}\n",
       "\\item 20\n",
       "\\item 4\n",
       "\\end{enumerate*}\n"
      ],
      "text/markdown": [
       "1. 20\n",
       "2. 4\n",
       "\n",
       "\n"
      ],
      "text/plain": [
       "[1] 20  4"
      ]
     },
     "metadata": {},
     "output_type": "display_data"
    }
   ],
   "source": [
    "dim(swimming_pools)"
   ]
  },
  {
   "cell_type": "code",
   "execution_count": 11,
   "metadata": {},
   "outputs": [
    {
     "name": "stdout",
     "output_type": "stream",
     "text": [
      "'data.frame':\t20 obs. of  4 variables:\n",
      " $ Name     : Factor w/ 20 levels \"Acacia Ridge Leisure Centre\",..: 1 2 3 4 5 6 19 7 8 9 ...\n",
      " $ Address  : Factor w/ 20 levels \"1 Fairlead Crescent, Manly\",..: 5 20 18 10 9 11 6 15 12 17 ...\n",
      " $ Latitude : num  -27.6 -27.6 -27.6 -27.5 -27.4 ...\n",
      " $ Longitude: num  153 153 153 153 153 ...\n"
     ]
    }
   ],
   "source": [
    "str(swimming_pools)"
   ]
  },
  {
   "cell_type": "code",
   "execution_count": 12,
   "metadata": {},
   "outputs": [],
   "source": [
    "spools_2 <- read.csv(\"swimming_pools.csv\", stringsAsFactors = FALSE)"
   ]
  },
  {
   "cell_type": "code",
   "execution_count": 13,
   "metadata": {},
   "outputs": [
    {
     "name": "stdout",
     "output_type": "stream",
     "text": [
      "'data.frame':\t20 obs. of  4 variables:\n",
      " $ Name     : chr  \"Acacia Ridge Leisure Centre\" \"Bellbowrie Pool\" \"Carole Park\" \"Centenary Pool (inner City)\" ...\n",
      " $ Address  : chr  \"1391 Beaudesert Road, Acacia Ridge\" \"Sugarwood Street, Bellbowrie\" \"Cnr Boundary Road and Waterford Road Wacol\" \"400 Gregory Terrace, Spring Hill\" ...\n",
      " $ Latitude : num  -27.6 -27.6 -27.6 -27.5 -27.4 ...\n",
      " $ Longitude: num  153 153 153 153 153 ...\n"
     ]
    }
   ],
   "source": [
    "str(spools_2)"
   ]
  },
  {
   "cell_type": "code",
   "execution_count": 17,
   "metadata": {},
   "outputs": [],
   "source": [
    "states_3 <- read.delim(\"states.txt\")"
   ]
  },
  {
   "cell_type": "code",
   "execution_count": 18,
   "metadata": {},
   "outputs": [
    {
     "data": {
      "text/html": [
       "<table>\n",
       "<thead><tr><th scope=col>state</th><th scope=col>capital</th><th scope=col>pop_mill</th><th scope=col>area_sqm</th></tr></thead>\n",
       "<tbody>\n",
       "\t<tr><td>South Dakota</td><td>Pierre      </td><td> 0.853      </td><td>77116       </td></tr>\n",
       "\t<tr><td>New York    </td><td>Albany      </td><td>19.746      </td><td>54555       </td></tr>\n",
       "\t<tr><td>Oregon      </td><td>Salem       </td><td> 3.970      </td><td>98381       </td></tr>\n",
       "\t<tr><td>Vermont     </td><td>Montpelier  </td><td> 0.627      </td><td> 9616       </td></tr>\n",
       "\t<tr><td>Hawaii      </td><td>Honolulu    </td><td> 1.420      </td><td>10931       </td></tr>\n",
       "</tbody>\n",
       "</table>\n"
      ],
      "text/latex": [
       "\\begin{tabular}{r|llll}\n",
       " state & capital & pop\\_mill & area\\_sqm\\\\\n",
       "\\hline\n",
       "\t South Dakota & Pierre       &  0.853       & 77116       \\\\\n",
       "\t New York     & Albany       & 19.746       & 54555       \\\\\n",
       "\t Oregon       & Salem        &  3.970       & 98381       \\\\\n",
       "\t Vermont      & Montpelier   &  0.627       &  9616       \\\\\n",
       "\t Hawaii       & Honolulu     &  1.420       & 10931       \\\\\n",
       "\\end{tabular}\n"
      ],
      "text/markdown": [
       "\n",
       "state | capital | pop_mill | area_sqm | \n",
       "|---|---|---|---|---|\n",
       "| South Dakota | Pierre       |  0.853       | 77116        | \n",
       "| New York     | Albany       | 19.746       | 54555        | \n",
       "| Oregon       | Salem        |  3.970       | 98381        | \n",
       "| Vermont      | Montpelier   |  0.627       |  9616        | \n",
       "| Hawaii       | Honolulu     |  1.420       | 10931        | \n",
       "\n",
       "\n"
      ],
      "text/plain": [
       "  state        capital    pop_mill area_sqm\n",
       "1 South Dakota Pierre      0.853   77116   \n",
       "2 New York     Albany     19.746   54555   \n",
       "3 Oregon       Salem       3.970   98381   \n",
       "4 Vermont      Montpelier  0.627    9616   \n",
       "5 Hawaii       Honolulu    1.420   10931   "
      ]
     },
     "metadata": {},
     "output_type": "display_data"
    }
   ],
   "source": [
    "states_3"
   ]
  },
  {
   "cell_type": "code",
   "execution_count": 19,
   "metadata": {},
   "outputs": [
    {
     "name": "stdout",
     "output_type": "stream",
     "text": [
      "'data.frame':\t5 obs. of  4 variables:\n",
      " $ state   : Factor w/ 5 levels \"Hawaii\",\"New York\",..: 4 2 3 5 1\n",
      " $ capital : Factor w/ 5 levels \"Albany\",\"Honolulu\",..: 4 1 5 3 2\n",
      " $ pop_mill: num  0.853 19.746 3.97 0.627 1.42\n",
      " $ area_sqm: int  77116 54555 98381 9616 10931\n"
     ]
    }
   ],
   "source": [
    "str(states_3)"
   ]
  },
  {
   "cell_type": "code",
   "execution_count": 20,
   "metadata": {},
   "outputs": [],
   "source": [
    "states_4 <- read.table(\"states2.txt\", sep = \"/\", header = T, stringsAsFactors = F)"
   ]
  },
  {
   "cell_type": "code",
   "execution_count": 21,
   "metadata": {},
   "outputs": [
    {
     "data": {
      "text/html": [
       "<table>\n",
       "<thead><tr><th scope=col>state</th><th scope=col>capital</th><th scope=col>pop_mill</th><th scope=col>area_sqm</th></tr></thead>\n",
       "<tbody>\n",
       "\t<tr><td>South Dakota</td><td>Pierre      </td><td> 0.853      </td><td>77116       </td></tr>\n",
       "\t<tr><td>New York    </td><td>Albany      </td><td>19.746      </td><td>54555       </td></tr>\n",
       "\t<tr><td>Oregon      </td><td>Salem       </td><td> 3.970      </td><td>98381       </td></tr>\n",
       "\t<tr><td>Vermont     </td><td>Montpelier  </td><td> 0.627      </td><td> 9616       </td></tr>\n",
       "\t<tr><td>Hawaii      </td><td>Honolulu    </td><td> 1.420      </td><td>10931       </td></tr>\n",
       "</tbody>\n",
       "</table>\n"
      ],
      "text/latex": [
       "\\begin{tabular}{r|llll}\n",
       " state & capital & pop\\_mill & area\\_sqm\\\\\n",
       "\\hline\n",
       "\t South Dakota & Pierre       &  0.853       & 77116       \\\\\n",
       "\t New York     & Albany       & 19.746       & 54555       \\\\\n",
       "\t Oregon       & Salem        &  3.970       & 98381       \\\\\n",
       "\t Vermont      & Montpelier   &  0.627       &  9616       \\\\\n",
       "\t Hawaii       & Honolulu     &  1.420       & 10931       \\\\\n",
       "\\end{tabular}\n"
      ],
      "text/markdown": [
       "\n",
       "state | capital | pop_mill | area_sqm | \n",
       "|---|---|---|---|---|\n",
       "| South Dakota | Pierre       |  0.853       | 77116        | \n",
       "| New York     | Albany       | 19.746       | 54555        | \n",
       "| Oregon       | Salem        |  3.970       | 98381        | \n",
       "| Vermont      | Montpelier   |  0.627       |  9616        | \n",
       "| Hawaii       | Honolulu     |  1.420       | 10931        | \n",
       "\n",
       "\n"
      ],
      "text/plain": [
       "  state        capital    pop_mill area_sqm\n",
       "1 South Dakota Pierre      0.853   77116   \n",
       "2 New York     Albany     19.746   54555   \n",
       "3 Oregon       Salem       3.970   98381   \n",
       "4 Vermont      Montpelier  0.627    9616   \n",
       "5 Hawaii       Honolulu    1.420   10931   "
      ]
     },
     "metadata": {},
     "output_type": "display_data"
    }
   ],
   "source": [
    "states_4"
   ]
  },
  {
   "cell_type": "code",
   "execution_count": 22,
   "metadata": {},
   "outputs": [
    {
     "name": "stdout",
     "output_type": "stream",
     "text": [
      "'data.frame':\t5 obs. of  4 variables:\n",
      " $ state   : chr  \"South Dakota\" \"New York\" \"Oregon\" \"Vermont\" ...\n",
      " $ capital : chr  \"Pierre\" \"Albany\" \"Salem\" \"Montpelier\" ...\n",
      " $ pop_mill: num  0.853 19.746 3.97 0.627 1.42\n",
      " $ area_sqm: int  77116 54555 98381 9616 10931\n"
     ]
    }
   ],
   "source": [
    "str(states_4)"
   ]
  },
  {
   "cell_type": "code",
   "execution_count": 23,
   "metadata": {},
   "outputs": [],
   "source": [
    "hotdogs <- read.delim(\"hotdogs.txt\", header = F)"
   ]
  },
  {
   "cell_type": "code",
   "execution_count": 25,
   "metadata": {},
   "outputs": [
    {
     "data": {
      "text/html": [
       "<table>\n",
       "<thead><tr><th scope=col>V1</th><th scope=col>V2</th><th scope=col>V3</th></tr></thead>\n",
       "<tbody>\n",
       "\t<tr><td>Beef</td><td>186 </td><td>495 </td></tr>\n",
       "\t<tr><td>Beef</td><td>181 </td><td>477 </td></tr>\n",
       "\t<tr><td>Beef</td><td>176 </td><td>425 </td></tr>\n",
       "\t<tr><td>Beef</td><td>149 </td><td>322 </td></tr>\n",
       "\t<tr><td>Beef</td><td>184 </td><td>482 </td></tr>\n",
       "\t<tr><td>Beef</td><td>190 </td><td>587 </td></tr>\n",
       "</tbody>\n",
       "</table>\n"
      ],
      "text/latex": [
       "\\begin{tabular}{r|lll}\n",
       " V1 & V2 & V3\\\\\n",
       "\\hline\n",
       "\t Beef & 186  & 495 \\\\\n",
       "\t Beef & 181  & 477 \\\\\n",
       "\t Beef & 176  & 425 \\\\\n",
       "\t Beef & 149  & 322 \\\\\n",
       "\t Beef & 184  & 482 \\\\\n",
       "\t Beef & 190  & 587 \\\\\n",
       "\\end{tabular}\n"
      ],
      "text/markdown": [
       "\n",
       "V1 | V2 | V3 | \n",
       "|---|---|---|---|---|---|\n",
       "| Beef | 186  | 495  | \n",
       "| Beef | 181  | 477  | \n",
       "| Beef | 176  | 425  | \n",
       "| Beef | 149  | 322  | \n",
       "| Beef | 184  | 482  | \n",
       "| Beef | 190  | 587  | \n",
       "\n",
       "\n"
      ],
      "text/plain": [
       "  V1   V2  V3 \n",
       "1 Beef 186 495\n",
       "2 Beef 181 477\n",
       "3 Beef 176 425\n",
       "4 Beef 149 322\n",
       "5 Beef 184 482\n",
       "6 Beef 190 587"
      ]
     },
     "metadata": {},
     "output_type": "display_data"
    }
   ],
   "source": [
    "head(hotdogs)"
   ]
  },
  {
   "cell_type": "code",
   "execution_count": 24,
   "metadata": {},
   "outputs": [
    {
     "data": {
      "text/plain": [
       "       V1           V2              V3       \n",
       " Beef   :20   Min.   : 86.0   Min.   :144.0  \n",
       " Meat   :17   1st Qu.:132.0   1st Qu.:362.5  \n",
       " Poultry:17   Median :145.0   Median :405.0  \n",
       "              Mean   :145.4   Mean   :424.8  \n",
       "              3rd Qu.:172.8   3rd Qu.:503.5  \n",
       "              Max.   :195.0   Max.   :645.0  "
      ]
     },
     "metadata": {},
     "output_type": "display_data"
    }
   ],
   "source": [
    "summary(hotdogs)"
   ]
  },
  {
   "cell_type": "code",
   "execution_count": 26,
   "metadata": {},
   "outputs": [],
   "source": [
    "hotdogs_t <- read.delim(\"hotdogs.txt\", header = T)"
   ]
  },
  {
   "cell_type": "code",
   "execution_count": 28,
   "metadata": {},
   "outputs": [
    {
     "data": {
      "text/html": [
       "<table>\n",
       "<thead><tr><th scope=col>Beef</th><th scope=col>X186</th><th scope=col>X495</th></tr></thead>\n",
       "<tbody>\n",
       "\t<tr><td>Beef</td><td>181 </td><td>477 </td></tr>\n",
       "\t<tr><td>Beef</td><td>176 </td><td>425 </td></tr>\n",
       "\t<tr><td>Beef</td><td>149 </td><td>322 </td></tr>\n",
       "\t<tr><td>Beef</td><td>184 </td><td>482 </td></tr>\n",
       "\t<tr><td>Beef</td><td>190 </td><td>587 </td></tr>\n",
       "\t<tr><td>Beef</td><td>158 </td><td>370 </td></tr>\n",
       "</tbody>\n",
       "</table>\n"
      ],
      "text/latex": [
       "\\begin{tabular}{r|lll}\n",
       " Beef & X186 & X495\\\\\n",
       "\\hline\n",
       "\t Beef & 181  & 477 \\\\\n",
       "\t Beef & 176  & 425 \\\\\n",
       "\t Beef & 149  & 322 \\\\\n",
       "\t Beef & 184  & 482 \\\\\n",
       "\t Beef & 190  & 587 \\\\\n",
       "\t Beef & 158  & 370 \\\\\n",
       "\\end{tabular}\n"
      ],
      "text/markdown": [
       "\n",
       "Beef | X186 | X495 | \n",
       "|---|---|---|---|---|---|\n",
       "| Beef | 181  | 477  | \n",
       "| Beef | 176  | 425  | \n",
       "| Beef | 149  | 322  | \n",
       "| Beef | 184  | 482  | \n",
       "| Beef | 190  | 587  | \n",
       "| Beef | 158  | 370  | \n",
       "\n",
       "\n"
      ],
      "text/plain": [
       "  Beef X186 X495\n",
       "1 Beef 181  477 \n",
       "2 Beef 176  425 \n",
       "3 Beef 149  322 \n",
       "4 Beef 184  482 \n",
       "5 Beef 190  587 \n",
       "6 Beef 158  370 "
      ]
     },
     "metadata": {},
     "output_type": "display_data"
    }
   ],
   "source": [
    "head(hotdogs_t)"
   ]
  },
  {
   "cell_type": "code",
   "execution_count": 5,
   "metadata": {},
   "outputs": [],
   "source": [
    "hot_dogs_col <- read.table(\"hotdogs.txt\",  sep = \"\\t\", col.names = c(\"type\", \"calories\", \"sodium\"))"
   ]
  },
  {
   "cell_type": "code",
   "execution_count": 6,
   "metadata": {},
   "outputs": [
    {
     "data": {
      "text/html": [
       "<table>\n",
       "<thead><tr><th scope=col>type</th><th scope=col>calories</th><th scope=col>sodium</th></tr></thead>\n",
       "<tbody>\n",
       "\t<tr><td>Beef</td><td>186 </td><td>495 </td></tr>\n",
       "\t<tr><td>Beef</td><td>181 </td><td>477 </td></tr>\n",
       "\t<tr><td>Beef</td><td>176 </td><td>425 </td></tr>\n",
       "\t<tr><td>Beef</td><td>149 </td><td>322 </td></tr>\n",
       "\t<tr><td>Beef</td><td>184 </td><td>482 </td></tr>\n",
       "\t<tr><td>Beef</td><td>190 </td><td>587 </td></tr>\n",
       "</tbody>\n",
       "</table>\n"
      ],
      "text/latex": [
       "\\begin{tabular}{r|lll}\n",
       " type & calories & sodium\\\\\n",
       "\\hline\n",
       "\t Beef & 186  & 495 \\\\\n",
       "\t Beef & 181  & 477 \\\\\n",
       "\t Beef & 176  & 425 \\\\\n",
       "\t Beef & 149  & 322 \\\\\n",
       "\t Beef & 184  & 482 \\\\\n",
       "\t Beef & 190  & 587 \\\\\n",
       "\\end{tabular}\n"
      ],
      "text/markdown": [
       "\n",
       "type | calories | sodium | \n",
       "|---|---|---|---|---|---|\n",
       "| Beef | 186  | 495  | \n",
       "| Beef | 181  | 477  | \n",
       "| Beef | 176  | 425  | \n",
       "| Beef | 149  | 322  | \n",
       "| Beef | 184  | 482  | \n",
       "| Beef | 190  | 587  | \n",
       "\n",
       "\n"
      ],
      "text/plain": [
       "  type calories sodium\n",
       "1 Beef 186      495   \n",
       "2 Beef 181      477   \n",
       "3 Beef 176      425   \n",
       "4 Beef 149      322   \n",
       "5 Beef 184      482   \n",
       "6 Beef 190      587   "
      ]
     },
     "metadata": {},
     "output_type": "display_data"
    }
   ],
   "source": [
    "head(hot_dogs_col)"
   ]
  },
  {
   "cell_type": "code",
   "execution_count": 7,
   "metadata": {},
   "outputs": [],
   "source": [
    "hotdogs <- read.delim(\"hotdogs.txt\", header = F, col.names = c(\"type\", \"calories\", \"sodium\"))"
   ]
  },
  {
   "cell_type": "code",
   "execution_count": 8,
   "metadata": {},
   "outputs": [],
   "source": [
    "# Select the hot dog with the least calories: lily\n",
    "lily <- hotdogs[which.min(hotdogs$calories), ]"
   ]
  },
  {
   "cell_type": "code",
   "execution_count": 9,
   "metadata": {},
   "outputs": [],
   "source": [
    "# Select the observation with the most sodium: tom\n",
    "tom <- hotdogs[which.max(hotdogs$sodium), ]"
   ]
  },
  {
   "cell_type": "code",
   "execution_count": 10,
   "metadata": {},
   "outputs": [
    {
     "name": "stdout",
     "output_type": "stream",
     "text": [
      "      type calories sodium\n",
      "50 Poultry       86    358\n",
      "   type calories sodium\n",
      "15 Beef      190    645\n"
     ]
    }
   ],
   "source": [
    "# Print lily and tom\n",
    "print(lily)\n",
    "print(tom)"
   ]
  },
  {
   "cell_type": "code",
   "execution_count": 19,
   "metadata": {},
   "outputs": [
    {
     "data": {
      "text/html": [
       "358"
      ],
      "text/latex": [
       "358"
      ],
      "text/markdown": [
       "358"
      ],
      "text/plain": [
       "[1] 358"
      ]
     },
     "metadata": {},
     "output_type": "display_data"
    }
   ],
   "source": [
    "hotdogs[which.min(hotdogs$calories), \"sodium\"]"
   ]
  },
  {
   "cell_type": "code",
   "execution_count": 14,
   "metadata": {},
   "outputs": [
    {
     "data": {
      "text/html": [
       "50"
      ],
      "text/latex": [
       "50"
      ],
      "text/markdown": [
       "50"
      ],
      "text/plain": [
       "[1] 50"
      ]
     },
     "metadata": {},
     "output_type": "display_data"
    }
   ],
   "source": [
    "which.min(hotdogs$calories)"
   ]
  },
  {
   "cell_type": "code",
   "execution_count": 18,
   "metadata": {},
   "outputs": [
    {
     "data": {
      "text/html": [
       "358"
      ],
      "text/latex": [
       "358"
      ],
      "text/markdown": [
       "358"
      ],
      "text/plain": [
       "[1] 358"
      ]
     },
     "metadata": {},
     "output_type": "display_data"
    }
   ],
   "source": [
    "hotdogs[50, \"sodium\"]"
   ]
  },
  {
   "cell_type": "code",
   "execution_count": 20,
   "metadata": {},
   "outputs": [],
   "source": [
    "hotdogs <- read.delim(\"hotdogs.txt\", header = F, col.names = c(\"type\", \"calories\", \"sodium\"))"
   ]
  },
  {
   "cell_type": "code",
   "execution_count": 21,
   "metadata": {},
   "outputs": [
    {
     "data": {
      "text/html": [
       "<table>\n",
       "<thead><tr><th scope=col>type</th><th scope=col>calories</th><th scope=col>sodium</th></tr></thead>\n",
       "<tbody>\n",
       "\t<tr><td>Beef</td><td>186 </td><td>495 </td></tr>\n",
       "\t<tr><td>Beef</td><td>181 </td><td>477 </td></tr>\n",
       "\t<tr><td>Beef</td><td>176 </td><td>425 </td></tr>\n",
       "\t<tr><td>Beef</td><td>149 </td><td>322 </td></tr>\n",
       "\t<tr><td>Beef</td><td>184 </td><td>482 </td></tr>\n",
       "\t<tr><td>Beef</td><td>190 </td><td>587 </td></tr>\n",
       "</tbody>\n",
       "</table>\n"
      ],
      "text/latex": [
       "\\begin{tabular}{r|lll}\n",
       " type & calories & sodium\\\\\n",
       "\\hline\n",
       "\t Beef & 186  & 495 \\\\\n",
       "\t Beef & 181  & 477 \\\\\n",
       "\t Beef & 176  & 425 \\\\\n",
       "\t Beef & 149  & 322 \\\\\n",
       "\t Beef & 184  & 482 \\\\\n",
       "\t Beef & 190  & 587 \\\\\n",
       "\\end{tabular}\n"
      ],
      "text/markdown": [
       "\n",
       "type | calories | sodium | \n",
       "|---|---|---|---|---|---|\n",
       "| Beef | 186  | 495  | \n",
       "| Beef | 181  | 477  | \n",
       "| Beef | 176  | 425  | \n",
       "| Beef | 149  | 322  | \n",
       "| Beef | 184  | 482  | \n",
       "| Beef | 190  | 587  | \n",
       "\n",
       "\n"
      ],
      "text/plain": [
       "  type calories sodium\n",
       "1 Beef 186      495   \n",
       "2 Beef 181      477   \n",
       "3 Beef 176      425   \n",
       "4 Beef 149      322   \n",
       "5 Beef 184      482   \n",
       "6 Beef 190      587   "
      ]
     },
     "metadata": {},
     "output_type": "display_data"
    }
   ],
   "source": [
    "head(hotdogs)"
   ]
  },
  {
   "cell_type": "code",
   "execution_count": 22,
   "metadata": {},
   "outputs": [
    {
     "name": "stdout",
     "output_type": "stream",
     "text": [
      "'data.frame':\t54 obs. of  3 variables:\n",
      " $ type    : Factor w/ 3 levels \"Beef\",\"Meat\",..: 1 1 1 1 1 1 1 1 1 1 ...\n",
      " $ calories: int  186 181 176 149 184 190 158 139 175 148 ...\n",
      " $ sodium  : int  495 477 425 322 482 587 370 322 479 375 ...\n"
     ]
    }
   ],
   "source": [
    "str(hotdogs)"
   ]
  },
  {
   "cell_type": "code",
   "execution_count": 26,
   "metadata": {},
   "outputs": [],
   "source": [
    "hotdogs2 <- read.delim(\"hotdogs.txt\", header = F, col.names = c(\"type\", \"calories\", \"sodium\"), \n",
    "                       colClasses = c(\"factor\", \"NULL\", \"numeric\"))"
   ]
  },
  {
   "cell_type": "code",
   "execution_count": 27,
   "metadata": {},
   "outputs": [
    {
     "data": {
      "text/html": [
       "<table>\n",
       "<thead><tr><th scope=col>type</th><th scope=col>sodium</th></tr></thead>\n",
       "<tbody>\n",
       "\t<tr><td>Beef</td><td>495 </td></tr>\n",
       "\t<tr><td>Beef</td><td>477 </td></tr>\n",
       "\t<tr><td>Beef</td><td>425 </td></tr>\n",
       "\t<tr><td>Beef</td><td>322 </td></tr>\n",
       "\t<tr><td>Beef</td><td>482 </td></tr>\n",
       "\t<tr><td>Beef</td><td>587 </td></tr>\n",
       "</tbody>\n",
       "</table>\n"
      ],
      "text/latex": [
       "\\begin{tabular}{r|ll}\n",
       " type & sodium\\\\\n",
       "\\hline\n",
       "\t Beef & 495 \\\\\n",
       "\t Beef & 477 \\\\\n",
       "\t Beef & 425 \\\\\n",
       "\t Beef & 322 \\\\\n",
       "\t Beef & 482 \\\\\n",
       "\t Beef & 587 \\\\\n",
       "\\end{tabular}\n"
      ],
      "text/markdown": [
       "\n",
       "type | sodium | \n",
       "|---|---|---|---|---|---|\n",
       "| Beef | 495  | \n",
       "| Beef | 477  | \n",
       "| Beef | 425  | \n",
       "| Beef | 322  | \n",
       "| Beef | 482  | \n",
       "| Beef | 587  | \n",
       "\n",
       "\n"
      ],
      "text/plain": [
       "  type sodium\n",
       "1 Beef 495   \n",
       "2 Beef 477   \n",
       "3 Beef 425   \n",
       "4 Beef 322   \n",
       "5 Beef 482   \n",
       "6 Beef 587   "
      ]
     },
     "metadata": {},
     "output_type": "display_data"
    }
   ],
   "source": [
    "head(hotdogs2)"
   ]
  },
  {
   "cell_type": "code",
   "execution_count": 28,
   "metadata": {},
   "outputs": [
    {
     "name": "stdout",
     "output_type": "stream",
     "text": [
      "'data.frame':\t54 obs. of  2 variables:\n",
      " $ type  : Factor w/ 3 levels \"Beef\",\"Meat\",..: 1 1 1 1 1 1 1 1 1 1 ...\n",
      " $ sodium: num  495 477 425 322 482 587 370 322 479 375 ...\n"
     ]
    }
   ],
   "source": [
    "str(hotdogs2)"
   ]
  },
  {
   "cell_type": "code",
   "execution_count": 29,
   "metadata": {},
   "outputs": [
    {
     "data": {
      "text/html": [
       "<table>\n",
       "<thead><tr><th></th><th scope=col>state.capital.pop_mill.area_sqm</th></tr></thead>\n",
       "<tbody>\n",
       "\t<tr><th scope=row>South Dakota;Pierre;0</th><td>853;77116</td></tr>\n",
       "\t<tr><th scope=row>New York;Albany;19</th><td>746;54555</td></tr>\n",
       "\t<tr><th scope=row>Oregon;Salem;3</th><td>97;98381 </td></tr>\n",
       "\t<tr><th scope=row>Vermont;Montpelier;0</th><td>627;9616 </td></tr>\n",
       "\t<tr><th scope=row>Hawaii;Honolulu;1</th><td>42;10931 </td></tr>\n",
       "</tbody>\n",
       "</table>\n"
      ],
      "text/latex": [
       "\\begin{tabular}{r|l}\n",
       "  & state.capital.pop\\_mill.area\\_sqm\\\\\n",
       "\\hline\n",
       "\tSouth Dakota;Pierre;0 & 853;77116\\\\\n",
       "\tNew York;Albany;19 & 746;54555\\\\\n",
       "\tOregon;Salem;3 & 97;98381 \\\\\n",
       "\tVermont;Montpelier;0 & 627;9616 \\\\\n",
       "\tHawaii;Honolulu;1 & 42;10931 \\\\\n",
       "\\end{tabular}\n"
      ],
      "text/markdown": [
       "\n",
       "| <!--/--> | state.capital.pop_mill.area_sqm | \n",
       "|---|---|---|---|---|\n",
       "| South Dakota;Pierre;0 | 853;77116 | \n",
       "| New York;Albany;19 | 746;54555 | \n",
       "| Oregon;Salem;3 | 97;98381  | \n",
       "| Vermont;Montpelier;0 | 627;9616  | \n",
       "| Hawaii;Honolulu;1 | 42;10931  | \n",
       "\n",
       "\n"
      ],
      "text/plain": [
       "                      state.capital.pop_mill.area_sqm\n",
       "South Dakota;Pierre;0 853;77116                      \n",
       "New York;Albany;19    746;54555                      \n",
       "Oregon;Salem;3        97;98381                       \n",
       "Vermont;Montpelier;0  627;9616                       \n",
       "Hawaii;Honolulu;1     42;10931                       "
      ]
     },
     "metadata": {},
     "output_type": "display_data"
    }
   ],
   "source": [
    "read.csv(\"states_nay.csv\", stringsAsFactors = F)"
   ]
  },
  {
   "cell_type": "code",
   "execution_count": 30,
   "metadata": {},
   "outputs": [
    {
     "data": {
      "text/html": [
       "<table>\n",
       "<thead><tr><th scope=col>state</th><th scope=col>capital</th><th scope=col>pop_mill</th><th scope=col>area_sqm</th></tr></thead>\n",
       "<tbody>\n",
       "\t<tr><td>South Dakota</td><td>Pierre      </td><td> 0.853      </td><td>77116       </td></tr>\n",
       "\t<tr><td>New York    </td><td>Albany      </td><td>19.746      </td><td>54555       </td></tr>\n",
       "\t<tr><td>Oregon      </td><td>Salem       </td><td> 3.970      </td><td>98381       </td></tr>\n",
       "\t<tr><td>Vermont     </td><td>Montpelier  </td><td> 0.627      </td><td> 9616       </td></tr>\n",
       "\t<tr><td>Hawaii      </td><td>Honolulu    </td><td> 1.420      </td><td>10931       </td></tr>\n",
       "</tbody>\n",
       "</table>\n"
      ],
      "text/latex": [
       "\\begin{tabular}{r|llll}\n",
       " state & capital & pop\\_mill & area\\_sqm\\\\\n",
       "\\hline\n",
       "\t South Dakota & Pierre       &  0.853       & 77116       \\\\\n",
       "\t New York     & Albany       & 19.746       & 54555       \\\\\n",
       "\t Oregon       & Salem        &  3.970       & 98381       \\\\\n",
       "\t Vermont      & Montpelier   &  0.627       &  9616       \\\\\n",
       "\t Hawaii       & Honolulu     &  1.420       & 10931       \\\\\n",
       "\\end{tabular}\n"
      ],
      "text/markdown": [
       "\n",
       "state | capital | pop_mill | area_sqm | \n",
       "|---|---|---|---|---|\n",
       "| South Dakota | Pierre       |  0.853       | 77116        | \n",
       "| New York     | Albany       | 19.746       | 54555        | \n",
       "| Oregon       | Salem        |  3.970       | 98381        | \n",
       "| Vermont      | Montpelier   |  0.627       |  9616        | \n",
       "| Hawaii       | Honolulu     |  1.420       | 10931        | \n",
       "\n",
       "\n"
      ],
      "text/plain": [
       "  state        capital    pop_mill area_sqm\n",
       "1 South Dakota Pierre      0.853   77116   \n",
       "2 New York     Albany     19.746   54555   \n",
       "3 Oregon       Salem       3.970   98381   \n",
       "4 Vermont      Montpelier  0.627    9616   \n",
       "5 Hawaii       Honolulu    1.420   10931   "
      ]
     },
     "metadata": {},
     "output_type": "display_data"
    }
   ],
   "source": [
    "read.csv2(\"states_nay.csv\", stringsAsFactors = F)"
   ]
  },
  {
   "cell_type": "code",
   "execution_count": 31,
   "metadata": {},
   "outputs": [
    {
     "name": "stderr",
     "output_type": "stream",
     "text": [
      "Installing package into 'C:/Users/aaaaaaaa/Documents/R/win-library/3.5'\n",
      "(as 'lib' is unspecified)\n"
     ]
    },
    {
     "name": "stdout",
     "output_type": "stream",
     "text": [
      "package 'readr' successfully unpacked and MD5 sums checked\n",
      "\n",
      "The downloaded binary packages are in\n",
      "\tC:\\Users\\aaaaaaaa\\AppData\\Local\\Temp\\RtmpI53LuB\\downloaded_packages\n"
     ]
    }
   ],
   "source": [
    "install.packages(\"readr\")"
   ]
  },
  {
   "cell_type": "code",
   "execution_count": 32,
   "metadata": {},
   "outputs": [],
   "source": [
    "library(readr)"
   ]
  },
  {
   "cell_type": "code",
   "execution_count": 33,
   "metadata": {},
   "outputs": [
    {
     "name": "stderr",
     "output_type": "stream",
     "text": [
      "Parsed with column specification:\n",
      "cols(\n",
      "  state = col_character(),\n",
      "  capital = col_character(),\n",
      "  pop_mill = col_double(),\n",
      "  area_sqm = col_integer()\n",
      ")\n"
     ]
    },
    {
     "data": {
      "text/html": [
       "<table>\n",
       "<thead><tr><th scope=col>state</th><th scope=col>capital</th><th scope=col>pop_mill</th><th scope=col>area_sqm</th></tr></thead>\n",
       "<tbody>\n",
       "\t<tr><td>South Dakota</td><td>Pierre      </td><td> 0.853      </td><td>77116       </td></tr>\n",
       "\t<tr><td>New York    </td><td>Albany      </td><td>19.746      </td><td>54555       </td></tr>\n",
       "\t<tr><td>Oregon      </td><td>Salem       </td><td> 3.970      </td><td>98381       </td></tr>\n",
       "\t<tr><td>Vermont     </td><td>Montpelier  </td><td> 0.627      </td><td> 9616       </td></tr>\n",
       "\t<tr><td>Hawaii      </td><td>Honolulu    </td><td> 1.420      </td><td>10931       </td></tr>\n",
       "</tbody>\n",
       "</table>\n"
      ],
      "text/latex": [
       "\\begin{tabular}{r|llll}\n",
       " state & capital & pop\\_mill & area\\_sqm\\\\\n",
       "\\hline\n",
       "\t South Dakota & Pierre       &  0.853       & 77116       \\\\\n",
       "\t New York     & Albany       & 19.746       & 54555       \\\\\n",
       "\t Oregon       & Salem        &  3.970       & 98381       \\\\\n",
       "\t Vermont      & Montpelier   &  0.627       &  9616       \\\\\n",
       "\t Hawaii       & Honolulu     &  1.420       & 10931       \\\\\n",
       "\\end{tabular}\n"
      ],
      "text/markdown": [
       "\n",
       "state | capital | pop_mill | area_sqm | \n",
       "|---|---|---|---|---|\n",
       "| South Dakota | Pierre       |  0.853       | 77116        | \n",
       "| New York     | Albany       | 19.746       | 54555        | \n",
       "| Oregon       | Salem        |  3.970       | 98381        | \n",
       "| Vermont      | Montpelier   |  0.627       |  9616        | \n",
       "| Hawaii       | Honolulu     |  1.420       | 10931        | \n",
       "\n",
       "\n"
      ],
      "text/plain": [
       "  state        capital    pop_mill area_sqm\n",
       "1 South Dakota Pierre      0.853   77116   \n",
       "2 New York     Albany     19.746   54555   \n",
       "3 Oregon       Salem       3.970   98381   \n",
       "4 Vermont      Montpelier  0.627    9616   \n",
       "5 Hawaii       Honolulu    1.420   10931   "
      ]
     },
     "metadata": {},
     "output_type": "display_data"
    }
   ],
   "source": [
    "read_csv(\"states.csv\")"
   ]
  },
  {
   "cell_type": "code",
   "execution_count": 34,
   "metadata": {},
   "outputs": [
    {
     "name": "stderr",
     "output_type": "stream",
     "text": [
      "Parsed with column specification:\n",
      "cols(\n",
      "  state = col_character(),\n",
      "  capital = col_character(),\n",
      "  pop_mill = col_double(),\n",
      "  area_sqm = col_integer()\n",
      ")\n"
     ]
    },
    {
     "data": {
      "text/html": [
       "<table>\n",
       "<thead><tr><th scope=col>state</th><th scope=col>capital</th><th scope=col>pop_mill</th><th scope=col>area_sqm</th></tr></thead>\n",
       "<tbody>\n",
       "\t<tr><td>South Dakota</td><td>Pierre      </td><td> 0.853      </td><td>77116       </td></tr>\n",
       "\t<tr><td>New York    </td><td>Albany      </td><td>19.746      </td><td>54555       </td></tr>\n",
       "\t<tr><td>Oregon      </td><td>Salem       </td><td> 3.970      </td><td>98381       </td></tr>\n",
       "\t<tr><td>Vermont     </td><td>Montpelier  </td><td> 0.627      </td><td> 9616       </td></tr>\n",
       "\t<tr><td>Hawaii      </td><td>Honolulu    </td><td> 1.420      </td><td>10931       </td></tr>\n",
       "</tbody>\n",
       "</table>\n"
      ],
      "text/latex": [
       "\\begin{tabular}{r|llll}\n",
       " state & capital & pop\\_mill & area\\_sqm\\\\\n",
       "\\hline\n",
       "\t South Dakota & Pierre       &  0.853       & 77116       \\\\\n",
       "\t New York     & Albany       & 19.746       & 54555       \\\\\n",
       "\t Oregon       & Salem        &  3.970       & 98381       \\\\\n",
       "\t Vermont      & Montpelier   &  0.627       &  9616       \\\\\n",
       "\t Hawaii       & Honolulu     &  1.420       & 10931       \\\\\n",
       "\\end{tabular}\n"
      ],
      "text/markdown": [
       "\n",
       "state | capital | pop_mill | area_sqm | \n",
       "|---|---|---|---|---|\n",
       "| South Dakota | Pierre       |  0.853       | 77116        | \n",
       "| New York     | Albany       | 19.746       | 54555        | \n",
       "| Oregon       | Salem        |  3.970       | 98381        | \n",
       "| Vermont      | Montpelier   |  0.627       |  9616        | \n",
       "| Hawaii       | Honolulu     |  1.420       | 10931        | \n",
       "\n",
       "\n"
      ],
      "text/plain": [
       "  state        capital    pop_mill area_sqm\n",
       "1 South Dakota Pierre      0.853   77116   \n",
       "2 New York     Albany     19.746   54555   \n",
       "3 Oregon       Salem       3.970   98381   \n",
       "4 Vermont      Montpelier  0.627    9616   \n",
       "5 Hawaii       Honolulu    1.420   10931   "
      ]
     },
     "metadata": {},
     "output_type": "display_data"
    }
   ],
   "source": [
    "read_tsv(\"states.txt\")"
   ]
  },
  {
   "cell_type": "code",
   "execution_count": 35,
   "metadata": {},
   "outputs": [
    {
     "name": "stderr",
     "output_type": "stream",
     "text": [
      "Parsed with column specification:\n",
      "cols(\n",
      "  area = col_integer(),\n",
      "  temp = col_integer(),\n",
      "  size = col_integer(),\n",
      "  storage = col_integer(),\n",
      "  method = col_integer(),\n",
      "  texture = col_double(),\n",
      "  flavor = col_double(),\n",
      "  moistness = col_double()\n",
      ")\n"
     ]
    },
    {
     "data": {
      "text/html": [
       "<table>\n",
       "<thead><tr><th scope=col>area</th><th scope=col>temp</th><th scope=col>size</th><th scope=col>storage</th><th scope=col>method</th><th scope=col>texture</th><th scope=col>flavor</th><th scope=col>moistness</th></tr></thead>\n",
       "<tbody>\n",
       "\t<tr><td>1  </td><td>1  </td><td>1  </td><td>1  </td><td>1  </td><td>2.9</td><td>3.2</td><td>3.0</td></tr>\n",
       "\t<tr><td>1  </td><td>1  </td><td>1  </td><td>1  </td><td>2  </td><td>2.3</td><td>2.5</td><td>2.6</td></tr>\n",
       "\t<tr><td>1  </td><td>1  </td><td>1  </td><td>1  </td><td>3  </td><td>2.5</td><td>2.8</td><td>2.8</td></tr>\n",
       "\t<tr><td>1  </td><td>1  </td><td>1  </td><td>1  </td><td>4  </td><td>2.1</td><td>2.9</td><td>2.4</td></tr>\n",
       "\t<tr><td>1  </td><td>1  </td><td>1  </td><td>1  </td><td>5  </td><td>1.9</td><td>2.8</td><td>2.2</td></tr>\n",
       "\t<tr><td>1  </td><td>1  </td><td>1  </td><td>2  </td><td>1  </td><td>1.8</td><td>3.0</td><td>1.7</td></tr>\n",
       "\t<tr><td>1  </td><td>1  </td><td>1  </td><td>2  </td><td>2  </td><td>2.6</td><td>3.1</td><td>2.4</td></tr>\n",
       "\t<tr><td>1  </td><td>1  </td><td>1  </td><td>2  </td><td>3  </td><td>3.0</td><td>3.0</td><td>2.9</td></tr>\n",
       "\t<tr><td>1  </td><td>1  </td><td>1  </td><td>2  </td><td>4  </td><td>2.2</td><td>3.2</td><td>2.5</td></tr>\n",
       "\t<tr><td>1  </td><td>1  </td><td>1  </td><td>2  </td><td>5  </td><td>2.0</td><td>2.8</td><td>1.9</td></tr>\n",
       "\t<tr><td>1  </td><td>1  </td><td>1  </td><td>3  </td><td>1  </td><td>1.8</td><td>2.6</td><td>1.5</td></tr>\n",
       "\t<tr><td>1  </td><td>1  </td><td>1  </td><td>3  </td><td>2  </td><td>2.0</td><td>2.8</td><td>1.9</td></tr>\n",
       "\t<tr><td>1  </td><td>1  </td><td>1  </td><td>3  </td><td>3  </td><td>2.6</td><td>2.6</td><td>2.6</td></tr>\n",
       "\t<tr><td>1  </td><td>1  </td><td>1  </td><td>3  </td><td>4  </td><td>2.1</td><td>3.2</td><td>2.1</td></tr>\n",
       "\t<tr><td>1  </td><td>1  </td><td>1  </td><td>3  </td><td>5  </td><td>2.5</td><td>3.0</td><td>2.1</td></tr>\n",
       "\t<tr><td>1  </td><td>1  </td><td>1  </td><td>4  </td><td>1  </td><td>2.6</td><td>3.1</td><td>2.4</td></tr>\n",
       "\t<tr><td>1  </td><td>1  </td><td>1  </td><td>4  </td><td>2  </td><td>2.7</td><td>2.9</td><td>2.4</td></tr>\n",
       "\t<tr><td>1  </td><td>1  </td><td>1  </td><td>4  </td><td>3  </td><td>2.2</td><td>3.1</td><td>2.3</td></tr>\n",
       "\t<tr><td>1  </td><td>1  </td><td>1  </td><td>4  </td><td>4  </td><td>3.1</td><td>3.4</td><td>2.7</td></tr>\n",
       "\t<tr><td>1  </td><td>1  </td><td>1  </td><td>4  </td><td>5  </td><td>3.0</td><td>2.6</td><td>2.7</td></tr>\n",
       "\t<tr><td>1  </td><td>1  </td><td>2  </td><td>1  </td><td>1  </td><td>3.1</td><td>3.0</td><td>2.8</td></tr>\n",
       "\t<tr><td>1  </td><td>1  </td><td>2  </td><td>1  </td><td>2  </td><td>2.7</td><td>2.8</td><td>2.7</td></tr>\n",
       "\t<tr><td>1  </td><td>1  </td><td>2  </td><td>1  </td><td>3  </td><td>2.4</td><td>3.0</td><td>2.9</td></tr>\n",
       "\t<tr><td>1  </td><td>1  </td><td>2  </td><td>1  </td><td>4  </td><td>2.2</td><td>2.9</td><td>2.3</td></tr>\n",
       "\t<tr><td>1  </td><td>1  </td><td>2  </td><td>1  </td><td>5  </td><td>1.9</td><td>2.9</td><td>2.0</td></tr>\n",
       "\t<tr><td>1  </td><td>1  </td><td>2  </td><td>2  </td><td>1  </td><td>1.8</td><td>2.6</td><td>1.8</td></tr>\n",
       "\t<tr><td>1  </td><td>1  </td><td>2  </td><td>2  </td><td>2  </td><td>2.2</td><td>2.9</td><td>2.1</td></tr>\n",
       "\t<tr><td>1  </td><td>1  </td><td>2  </td><td>2  </td><td>3  </td><td>2.8</td><td>3.2</td><td>2.8</td></tr>\n",
       "\t<tr><td>1  </td><td>1  </td><td>2  </td><td>2  </td><td>4  </td><td>2.3</td><td>3.2</td><td>2.4</td></tr>\n",
       "\t<tr><td>1  </td><td>1  </td><td>2  </td><td>2  </td><td>5  </td><td>2.0</td><td>3.0</td><td>2.0</td></tr>\n",
       "\t<tr><td>...</td><td>...</td><td>...</td><td>...</td><td>...</td><td>...</td><td>...</td><td>...</td></tr>\n",
       "\t<tr><td>2  </td><td>2  </td><td>1  </td><td>3  </td><td>1  </td><td>2.8</td><td>2.8</td><td>2.6</td></tr>\n",
       "\t<tr><td>2  </td><td>2  </td><td>1  </td><td>3  </td><td>2  </td><td>3.5</td><td>2.8</td><td>3.0</td></tr>\n",
       "\t<tr><td>2  </td><td>2  </td><td>1  </td><td>3  </td><td>3  </td><td>2.5</td><td>3.2</td><td>2.3</td></tr>\n",
       "\t<tr><td>2  </td><td>2  </td><td>1  </td><td>3  </td><td>4  </td><td>3.3</td><td>3.0</td><td>2.7</td></tr>\n",
       "\t<tr><td>2  </td><td>2  </td><td>1  </td><td>3  </td><td>5  </td><td>3.5</td><td>2.9</td><td>2.9</td></tr>\n",
       "\t<tr><td>2  </td><td>2  </td><td>1  </td><td>4  </td><td>1  </td><td>3.2</td><td>3.4</td><td>2.5</td></tr>\n",
       "\t<tr><td>2  </td><td>2  </td><td>1  </td><td>4  </td><td>2  </td><td>3.3</td><td>2.8</td><td>2.8</td></tr>\n",
       "\t<tr><td>2  </td><td>2  </td><td>1  </td><td>4  </td><td>3  </td><td>3.0</td><td>3.0</td><td>2.8</td></tr>\n",
       "\t<tr><td>2  </td><td>2  </td><td>1  </td><td>4  </td><td>4  </td><td>3.5</td><td>3.2</td><td>3.1</td></tr>\n",
       "\t<tr><td>2  </td><td>2  </td><td>1  </td><td>4  </td><td>5  </td><td>3.4</td><td>3.0</td><td>2.8</td></tr>\n",
       "\t<tr><td>2  </td><td>2  </td><td>2  </td><td>1  </td><td>1  </td><td>2.7</td><td>2.5</td><td>2.5</td></tr>\n",
       "\t<tr><td>2  </td><td>2  </td><td>2  </td><td>1  </td><td>2  </td><td>2.5</td><td>2.7</td><td>2.3</td></tr>\n",
       "\t<tr><td>2  </td><td>2  </td><td>2  </td><td>1  </td><td>3  </td><td>3.2</td><td>2.7</td><td>3.0</td></tr>\n",
       "\t<tr><td>2  </td><td>2  </td><td>2  </td><td>1  </td><td>4  </td><td>2.4</td><td>2.7</td><td>2.5</td></tr>\n",
       "\t<tr><td>2  </td><td>2  </td><td>2  </td><td>1  </td><td>5  </td><td>2.7</td><td>2.1</td><td>2.3</td></tr>\n",
       "\t<tr><td>2  </td><td>2  </td><td>2  </td><td>2  </td><td>1  </td><td>2.2</td><td>2.7</td><td>2.3</td></tr>\n",
       "\t<tr><td>2  </td><td>2  </td><td>2  </td><td>2  </td><td>2  </td><td>3.1</td><td>2.9</td><td>2.6</td></tr>\n",
       "\t<tr><td>2  </td><td>2  </td><td>2  </td><td>2  </td><td>3  </td><td>2.2</td><td>2.8</td><td>3.1</td></tr>\n",
       "\t<tr><td>2  </td><td>2  </td><td>2  </td><td>2  </td><td>4  </td><td>2.9</td><td>3.0</td><td>2.7</td></tr>\n",
       "\t<tr><td>2  </td><td>2  </td><td>2  </td><td>2  </td><td>5  </td><td>2.8</td><td>2.7</td><td>2.6</td></tr>\n",
       "\t<tr><td>2  </td><td>2  </td><td>2  </td><td>3  </td><td>1  </td><td>2.5</td><td>3.2</td><td>2.3</td></tr>\n",
       "\t<tr><td>2  </td><td>2  </td><td>2  </td><td>3  </td><td>2  </td><td>2.9</td><td>3.3</td><td>2.7</td></tr>\n",
       "\t<tr><td>2  </td><td>2  </td><td>2  </td><td>3  </td><td>3  </td><td>2.5</td><td>3.1</td><td>2.5</td></tr>\n",
       "\t<tr><td>2  </td><td>2  </td><td>2  </td><td>3  </td><td>4  </td><td>3.0</td><td>2.9</td><td>2.5</td></tr>\n",
       "\t<tr><td>2  </td><td>2  </td><td>2  </td><td>3  </td><td>5  </td><td>2.9</td><td>3.1</td><td>3.1</td></tr>\n",
       "\t<tr><td>2  </td><td>2  </td><td>2  </td><td>4  </td><td>1  </td><td>2.7</td><td>3.3</td><td>2.6</td></tr>\n",
       "\t<tr><td>2  </td><td>2  </td><td>2  </td><td>4  </td><td>2  </td><td>2.6</td><td>2.8</td><td>2.3</td></tr>\n",
       "\t<tr><td>2  </td><td>2  </td><td>2  </td><td>4  </td><td>3  </td><td>2.5</td><td>3.1</td><td>2.6</td></tr>\n",
       "\t<tr><td>2  </td><td>2  </td><td>2  </td><td>4  </td><td>4  </td><td>3.4</td><td>3.3</td><td>3.0</td></tr>\n",
       "\t<tr><td>2  </td><td>2  </td><td>2  </td><td>4  </td><td>5  </td><td>2.5</td><td>2.8</td><td>2.3</td></tr>\n",
       "</tbody>\n",
       "</table>\n"
      ],
      "text/latex": [
       "\\begin{tabular}{r|llllllll}\n",
       " area & temp & size & storage & method & texture & flavor & moistness\\\\\n",
       "\\hline\n",
       "\t 1   & 1   & 1   & 1   & 1   & 2.9 & 3.2 & 3.0\\\\\n",
       "\t 1   & 1   & 1   & 1   & 2   & 2.3 & 2.5 & 2.6\\\\\n",
       "\t 1   & 1   & 1   & 1   & 3   & 2.5 & 2.8 & 2.8\\\\\n",
       "\t 1   & 1   & 1   & 1   & 4   & 2.1 & 2.9 & 2.4\\\\\n",
       "\t 1   & 1   & 1   & 1   & 5   & 1.9 & 2.8 & 2.2\\\\\n",
       "\t 1   & 1   & 1   & 2   & 1   & 1.8 & 3.0 & 1.7\\\\\n",
       "\t 1   & 1   & 1   & 2   & 2   & 2.6 & 3.1 & 2.4\\\\\n",
       "\t 1   & 1   & 1   & 2   & 3   & 3.0 & 3.0 & 2.9\\\\\n",
       "\t 1   & 1   & 1   & 2   & 4   & 2.2 & 3.2 & 2.5\\\\\n",
       "\t 1   & 1   & 1   & 2   & 5   & 2.0 & 2.8 & 1.9\\\\\n",
       "\t 1   & 1   & 1   & 3   & 1   & 1.8 & 2.6 & 1.5\\\\\n",
       "\t 1   & 1   & 1   & 3   & 2   & 2.0 & 2.8 & 1.9\\\\\n",
       "\t 1   & 1   & 1   & 3   & 3   & 2.6 & 2.6 & 2.6\\\\\n",
       "\t 1   & 1   & 1   & 3   & 4   & 2.1 & 3.2 & 2.1\\\\\n",
       "\t 1   & 1   & 1   & 3   & 5   & 2.5 & 3.0 & 2.1\\\\\n",
       "\t 1   & 1   & 1   & 4   & 1   & 2.6 & 3.1 & 2.4\\\\\n",
       "\t 1   & 1   & 1   & 4   & 2   & 2.7 & 2.9 & 2.4\\\\\n",
       "\t 1   & 1   & 1   & 4   & 3   & 2.2 & 3.1 & 2.3\\\\\n",
       "\t 1   & 1   & 1   & 4   & 4   & 3.1 & 3.4 & 2.7\\\\\n",
       "\t 1   & 1   & 1   & 4   & 5   & 3.0 & 2.6 & 2.7\\\\\n",
       "\t 1   & 1   & 2   & 1   & 1   & 3.1 & 3.0 & 2.8\\\\\n",
       "\t 1   & 1   & 2   & 1   & 2   & 2.7 & 2.8 & 2.7\\\\\n",
       "\t 1   & 1   & 2   & 1   & 3   & 2.4 & 3.0 & 2.9\\\\\n",
       "\t 1   & 1   & 2   & 1   & 4   & 2.2 & 2.9 & 2.3\\\\\n",
       "\t 1   & 1   & 2   & 1   & 5   & 1.9 & 2.9 & 2.0\\\\\n",
       "\t 1   & 1   & 2   & 2   & 1   & 1.8 & 2.6 & 1.8\\\\\n",
       "\t 1   & 1   & 2   & 2   & 2   & 2.2 & 2.9 & 2.1\\\\\n",
       "\t 1   & 1   & 2   & 2   & 3   & 2.8 & 3.2 & 2.8\\\\\n",
       "\t 1   & 1   & 2   & 2   & 4   & 2.3 & 3.2 & 2.4\\\\\n",
       "\t 1   & 1   & 2   & 2   & 5   & 2.0 & 3.0 & 2.0\\\\\n",
       "\t ... & ... & ... & ... & ... & ... & ... & ...\\\\\n",
       "\t 2   & 2   & 1   & 3   & 1   & 2.8 & 2.8 & 2.6\\\\\n",
       "\t 2   & 2   & 1   & 3   & 2   & 3.5 & 2.8 & 3.0\\\\\n",
       "\t 2   & 2   & 1   & 3   & 3   & 2.5 & 3.2 & 2.3\\\\\n",
       "\t 2   & 2   & 1   & 3   & 4   & 3.3 & 3.0 & 2.7\\\\\n",
       "\t 2   & 2   & 1   & 3   & 5   & 3.5 & 2.9 & 2.9\\\\\n",
       "\t 2   & 2   & 1   & 4   & 1   & 3.2 & 3.4 & 2.5\\\\\n",
       "\t 2   & 2   & 1   & 4   & 2   & 3.3 & 2.8 & 2.8\\\\\n",
       "\t 2   & 2   & 1   & 4   & 3   & 3.0 & 3.0 & 2.8\\\\\n",
       "\t 2   & 2   & 1   & 4   & 4   & 3.5 & 3.2 & 3.1\\\\\n",
       "\t 2   & 2   & 1   & 4   & 5   & 3.4 & 3.0 & 2.8\\\\\n",
       "\t 2   & 2   & 2   & 1   & 1   & 2.7 & 2.5 & 2.5\\\\\n",
       "\t 2   & 2   & 2   & 1   & 2   & 2.5 & 2.7 & 2.3\\\\\n",
       "\t 2   & 2   & 2   & 1   & 3   & 3.2 & 2.7 & 3.0\\\\\n",
       "\t 2   & 2   & 2   & 1   & 4   & 2.4 & 2.7 & 2.5\\\\\n",
       "\t 2   & 2   & 2   & 1   & 5   & 2.7 & 2.1 & 2.3\\\\\n",
       "\t 2   & 2   & 2   & 2   & 1   & 2.2 & 2.7 & 2.3\\\\\n",
       "\t 2   & 2   & 2   & 2   & 2   & 3.1 & 2.9 & 2.6\\\\\n",
       "\t 2   & 2   & 2   & 2   & 3   & 2.2 & 2.8 & 3.1\\\\\n",
       "\t 2   & 2   & 2   & 2   & 4   & 2.9 & 3.0 & 2.7\\\\\n",
       "\t 2   & 2   & 2   & 2   & 5   & 2.8 & 2.7 & 2.6\\\\\n",
       "\t 2   & 2   & 2   & 3   & 1   & 2.5 & 3.2 & 2.3\\\\\n",
       "\t 2   & 2   & 2   & 3   & 2   & 2.9 & 3.3 & 2.7\\\\\n",
       "\t 2   & 2   & 2   & 3   & 3   & 2.5 & 3.1 & 2.5\\\\\n",
       "\t 2   & 2   & 2   & 3   & 4   & 3.0 & 2.9 & 2.5\\\\\n",
       "\t 2   & 2   & 2   & 3   & 5   & 2.9 & 3.1 & 3.1\\\\\n",
       "\t 2   & 2   & 2   & 4   & 1   & 2.7 & 3.3 & 2.6\\\\\n",
       "\t 2   & 2   & 2   & 4   & 2   & 2.6 & 2.8 & 2.3\\\\\n",
       "\t 2   & 2   & 2   & 4   & 3   & 2.5 & 3.1 & 2.6\\\\\n",
       "\t 2   & 2   & 2   & 4   & 4   & 3.4 & 3.3 & 3.0\\\\\n",
       "\t 2   & 2   & 2   & 4   & 5   & 2.5 & 2.8 & 2.3\\\\\n",
       "\\end{tabular}\n"
      ],
      "text/markdown": [
       "\n",
       "area | temp | size | storage | method | texture | flavor | moistness | \n",
       "|---|---|---|---|---|---|---|---|---|---|---|---|---|---|---|---|---|---|---|---|---|---|---|---|---|---|---|---|---|---|---|---|---|---|---|---|---|---|---|---|---|---|---|---|---|---|---|---|---|---|---|---|---|---|---|---|---|---|---|---|---|\n",
       "| 1   | 1   | 1   | 1   | 1   | 2.9 | 3.2 | 3.0 | \n",
       "| 1   | 1   | 1   | 1   | 2   | 2.3 | 2.5 | 2.6 | \n",
       "| 1   | 1   | 1   | 1   | 3   | 2.5 | 2.8 | 2.8 | \n",
       "| 1   | 1   | 1   | 1   | 4   | 2.1 | 2.9 | 2.4 | \n",
       "| 1   | 1   | 1   | 1   | 5   | 1.9 | 2.8 | 2.2 | \n",
       "| 1   | 1   | 1   | 2   | 1   | 1.8 | 3.0 | 1.7 | \n",
       "| 1   | 1   | 1   | 2   | 2   | 2.6 | 3.1 | 2.4 | \n",
       "| 1   | 1   | 1   | 2   | 3   | 3.0 | 3.0 | 2.9 | \n",
       "| 1   | 1   | 1   | 2   | 4   | 2.2 | 3.2 | 2.5 | \n",
       "| 1   | 1   | 1   | 2   | 5   | 2.0 | 2.8 | 1.9 | \n",
       "| 1   | 1   | 1   | 3   | 1   | 1.8 | 2.6 | 1.5 | \n",
       "| 1   | 1   | 1   | 3   | 2   | 2.0 | 2.8 | 1.9 | \n",
       "| 1   | 1   | 1   | 3   | 3   | 2.6 | 2.6 | 2.6 | \n",
       "| 1   | 1   | 1   | 3   | 4   | 2.1 | 3.2 | 2.1 | \n",
       "| 1   | 1   | 1   | 3   | 5   | 2.5 | 3.0 | 2.1 | \n",
       "| 1   | 1   | 1   | 4   | 1   | 2.6 | 3.1 | 2.4 | \n",
       "| 1   | 1   | 1   | 4   | 2   | 2.7 | 2.9 | 2.4 | \n",
       "| 1   | 1   | 1   | 4   | 3   | 2.2 | 3.1 | 2.3 | \n",
       "| 1   | 1   | 1   | 4   | 4   | 3.1 | 3.4 | 2.7 | \n",
       "| 1   | 1   | 1   | 4   | 5   | 3.0 | 2.6 | 2.7 | \n",
       "| 1   | 1   | 2   | 1   | 1   | 3.1 | 3.0 | 2.8 | \n",
       "| 1   | 1   | 2   | 1   | 2   | 2.7 | 2.8 | 2.7 | \n",
       "| 1   | 1   | 2   | 1   | 3   | 2.4 | 3.0 | 2.9 | \n",
       "| 1   | 1   | 2   | 1   | 4   | 2.2 | 2.9 | 2.3 | \n",
       "| 1   | 1   | 2   | 1   | 5   | 1.9 | 2.9 | 2.0 | \n",
       "| 1   | 1   | 2   | 2   | 1   | 1.8 | 2.6 | 1.8 | \n",
       "| 1   | 1   | 2   | 2   | 2   | 2.2 | 2.9 | 2.1 | \n",
       "| 1   | 1   | 2   | 2   | 3   | 2.8 | 3.2 | 2.8 | \n",
       "| 1   | 1   | 2   | 2   | 4   | 2.3 | 3.2 | 2.4 | \n",
       "| 1   | 1   | 2   | 2   | 5   | 2.0 | 3.0 | 2.0 | \n",
       "| ... | ... | ... | ... | ... | ... | ... | ... | \n",
       "| 2   | 2   | 1   | 3   | 1   | 2.8 | 2.8 | 2.6 | \n",
       "| 2   | 2   | 1   | 3   | 2   | 3.5 | 2.8 | 3.0 | \n",
       "| 2   | 2   | 1   | 3   | 3   | 2.5 | 3.2 | 2.3 | \n",
       "| 2   | 2   | 1   | 3   | 4   | 3.3 | 3.0 | 2.7 | \n",
       "| 2   | 2   | 1   | 3   | 5   | 3.5 | 2.9 | 2.9 | \n",
       "| 2   | 2   | 1   | 4   | 1   | 3.2 | 3.4 | 2.5 | \n",
       "| 2   | 2   | 1   | 4   | 2   | 3.3 | 2.8 | 2.8 | \n",
       "| 2   | 2   | 1   | 4   | 3   | 3.0 | 3.0 | 2.8 | \n",
       "| 2   | 2   | 1   | 4   | 4   | 3.5 | 3.2 | 3.1 | \n",
       "| 2   | 2   | 1   | 4   | 5   | 3.4 | 3.0 | 2.8 | \n",
       "| 2   | 2   | 2   | 1   | 1   | 2.7 | 2.5 | 2.5 | \n",
       "| 2   | 2   | 2   | 1   | 2   | 2.5 | 2.7 | 2.3 | \n",
       "| 2   | 2   | 2   | 1   | 3   | 3.2 | 2.7 | 3.0 | \n",
       "| 2   | 2   | 2   | 1   | 4   | 2.4 | 2.7 | 2.5 | \n",
       "| 2   | 2   | 2   | 1   | 5   | 2.7 | 2.1 | 2.3 | \n",
       "| 2   | 2   | 2   | 2   | 1   | 2.2 | 2.7 | 2.3 | \n",
       "| 2   | 2   | 2   | 2   | 2   | 3.1 | 2.9 | 2.6 | \n",
       "| 2   | 2   | 2   | 2   | 3   | 2.2 | 2.8 | 3.1 | \n",
       "| 2   | 2   | 2   | 2   | 4   | 2.9 | 3.0 | 2.7 | \n",
       "| 2   | 2   | 2   | 2   | 5   | 2.8 | 2.7 | 2.6 | \n",
       "| 2   | 2   | 2   | 3   | 1   | 2.5 | 3.2 | 2.3 | \n",
       "| 2   | 2   | 2   | 3   | 2   | 2.9 | 3.3 | 2.7 | \n",
       "| 2   | 2   | 2   | 3   | 3   | 2.5 | 3.1 | 2.5 | \n",
       "| 2   | 2   | 2   | 3   | 4   | 3.0 | 2.9 | 2.5 | \n",
       "| 2   | 2   | 2   | 3   | 5   | 2.9 | 3.1 | 3.1 | \n",
       "| 2   | 2   | 2   | 4   | 1   | 2.7 | 3.3 | 2.6 | \n",
       "| 2   | 2   | 2   | 4   | 2   | 2.6 | 2.8 | 2.3 | \n",
       "| 2   | 2   | 2   | 4   | 3   | 2.5 | 3.1 | 2.6 | \n",
       "| 2   | 2   | 2   | 4   | 4   | 3.4 | 3.3 | 3.0 | \n",
       "| 2   | 2   | 2   | 4   | 5   | 2.5 | 2.8 | 2.3 | \n",
       "\n",
       "\n"
      ],
      "text/plain": [
       "    area temp size storage method texture flavor moistness\n",
       "1   1    1    1    1       1      2.9     3.2    3.0      \n",
       "2   1    1    1    1       2      2.3     2.5    2.6      \n",
       "3   1    1    1    1       3      2.5     2.8    2.8      \n",
       "4   1    1    1    1       4      2.1     2.9    2.4      \n",
       "5   1    1    1    1       5      1.9     2.8    2.2      \n",
       "6   1    1    1    2       1      1.8     3.0    1.7      \n",
       "7   1    1    1    2       2      2.6     3.1    2.4      \n",
       "8   1    1    1    2       3      3.0     3.0    2.9      \n",
       "9   1    1    1    2       4      2.2     3.2    2.5      \n",
       "10  1    1    1    2       5      2.0     2.8    1.9      \n",
       "11  1    1    1    3       1      1.8     2.6    1.5      \n",
       "12  1    1    1    3       2      2.0     2.8    1.9      \n",
       "13  1    1    1    3       3      2.6     2.6    2.6      \n",
       "14  1    1    1    3       4      2.1     3.2    2.1      \n",
       "15  1    1    1    3       5      2.5     3.0    2.1      \n",
       "16  1    1    1    4       1      2.6     3.1    2.4      \n",
       "17  1    1    1    4       2      2.7     2.9    2.4      \n",
       "18  1    1    1    4       3      2.2     3.1    2.3      \n",
       "19  1    1    1    4       4      3.1     3.4    2.7      \n",
       "20  1    1    1    4       5      3.0     2.6    2.7      \n",
       "21  1    1    2    1       1      3.1     3.0    2.8      \n",
       "22  1    1    2    1       2      2.7     2.8    2.7      \n",
       "23  1    1    2    1       3      2.4     3.0    2.9      \n",
       "24  1    1    2    1       4      2.2     2.9    2.3      \n",
       "25  1    1    2    1       5      1.9     2.9    2.0      \n",
       "26  1    1    2    2       1      1.8     2.6    1.8      \n",
       "27  1    1    2    2       2      2.2     2.9    2.1      \n",
       "28  1    1    2    2       3      2.8     3.2    2.8      \n",
       "29  1    1    2    2       4      2.3     3.2    2.4      \n",
       "30  1    1    2    2       5      2.0     3.0    2.0      \n",
       "... ...  ...  ...  ...     ...    ...     ...    ...      \n",
       "131 2    2    1    3       1      2.8     2.8    2.6      \n",
       "132 2    2    1    3       2      3.5     2.8    3.0      \n",
       "133 2    2    1    3       3      2.5     3.2    2.3      \n",
       "134 2    2    1    3       4      3.3     3.0    2.7      \n",
       "135 2    2    1    3       5      3.5     2.9    2.9      \n",
       "136 2    2    1    4       1      3.2     3.4    2.5      \n",
       "137 2    2    1    4       2      3.3     2.8    2.8      \n",
       "138 2    2    1    4       3      3.0     3.0    2.8      \n",
       "139 2    2    1    4       4      3.5     3.2    3.1      \n",
       "140 2    2    1    4       5      3.4     3.0    2.8      \n",
       "141 2    2    2    1       1      2.7     2.5    2.5      \n",
       "142 2    2    2    1       2      2.5     2.7    2.3      \n",
       "143 2    2    2    1       3      3.2     2.7    3.0      \n",
       "144 2    2    2    1       4      2.4     2.7    2.5      \n",
       "145 2    2    2    1       5      2.7     2.1    2.3      \n",
       "146 2    2    2    2       1      2.2     2.7    2.3      \n",
       "147 2    2    2    2       2      3.1     2.9    2.6      \n",
       "148 2    2    2    2       3      2.2     2.8    3.1      \n",
       "149 2    2    2    2       4      2.9     3.0    2.7      \n",
       "150 2    2    2    2       5      2.8     2.7    2.6      \n",
       "151 2    2    2    3       1      2.5     3.2    2.3      \n",
       "152 2    2    2    3       2      2.9     3.3    2.7      \n",
       "153 2    2    2    3       3      2.5     3.1    2.5      \n",
       "154 2    2    2    3       4      3.0     2.9    2.5      \n",
       "155 2    2    2    3       5      2.9     3.1    3.1      \n",
       "156 2    2    2    4       1      2.7     3.3    2.6      \n",
       "157 2    2    2    4       2      2.6     2.8    2.3      \n",
       "158 2    2    2    4       3      2.5     3.1    2.6      \n",
       "159 2    2    2    4       4      3.4     3.3    3.0      \n",
       "160 2    2    2    4       5      2.5     2.8    2.3      "
      ]
     },
     "metadata": {},
     "output_type": "display_data"
    }
   ],
   "source": [
    "read_csv(\"potatoes.csv\")"
   ]
  },
  {
   "cell_type": "code",
   "execution_count": 36,
   "metadata": {},
   "outputs": [
    {
     "name": "stderr",
     "output_type": "stream",
     "text": [
      "Parsed with column specification:\n",
      "cols(\n",
      "  area = col_integer(),\n",
      "  temp = col_integer(),\n",
      "  size = col_integer(),\n",
      "  storage = col_integer(),\n",
      "  method = col_integer(),\n",
      "  texture = col_double(),\n",
      "  flavor = col_double(),\n",
      "  moistness = col_double()\n",
      ")\n"
     ]
    },
    {
     "data": {
      "text/html": [
       "<table>\n",
       "<thead><tr><th scope=col>area</th><th scope=col>temp</th><th scope=col>size</th><th scope=col>storage</th><th scope=col>method</th><th scope=col>texture</th><th scope=col>flavor</th><th scope=col>moistness</th></tr></thead>\n",
       "<tbody>\n",
       "\t<tr><td>1  </td><td>1  </td><td>1  </td><td>1  </td><td>1  </td><td>2.9</td><td>3.2</td><td>3.0</td></tr>\n",
       "\t<tr><td>1  </td><td>1  </td><td>1  </td><td>1  </td><td>2  </td><td>2.3</td><td>2.5</td><td>2.6</td></tr>\n",
       "\t<tr><td>1  </td><td>1  </td><td>1  </td><td>1  </td><td>3  </td><td>2.5</td><td>2.8</td><td>2.8</td></tr>\n",
       "\t<tr><td>1  </td><td>1  </td><td>1  </td><td>1  </td><td>4  </td><td>2.1</td><td>2.9</td><td>2.4</td></tr>\n",
       "\t<tr><td>1  </td><td>1  </td><td>1  </td><td>1  </td><td>5  </td><td>1.9</td><td>2.8</td><td>2.2</td></tr>\n",
       "\t<tr><td>1  </td><td>1  </td><td>1  </td><td>2  </td><td>1  </td><td>1.8</td><td>3.0</td><td>1.7</td></tr>\n",
       "</tbody>\n",
       "</table>\n"
      ],
      "text/latex": [
       "\\begin{tabular}{r|llllllll}\n",
       " area & temp & size & storage & method & texture & flavor & moistness\\\\\n",
       "\\hline\n",
       "\t 1   & 1   & 1   & 1   & 1   & 2.9 & 3.2 & 3.0\\\\\n",
       "\t 1   & 1   & 1   & 1   & 2   & 2.3 & 2.5 & 2.6\\\\\n",
       "\t 1   & 1   & 1   & 1   & 3   & 2.5 & 2.8 & 2.8\\\\\n",
       "\t 1   & 1   & 1   & 1   & 4   & 2.1 & 2.9 & 2.4\\\\\n",
       "\t 1   & 1   & 1   & 1   & 5   & 1.9 & 2.8 & 2.2\\\\\n",
       "\t 1   & 1   & 1   & 2   & 1   & 1.8 & 3.0 & 1.7\\\\\n",
       "\\end{tabular}\n"
      ],
      "text/markdown": [
       "\n",
       "area | temp | size | storage | method | texture | flavor | moistness | \n",
       "|---|---|---|---|---|---|\n",
       "| 1   | 1   | 1   | 1   | 1   | 2.9 | 3.2 | 3.0 | \n",
       "| 1   | 1   | 1   | 1   | 2   | 2.3 | 2.5 | 2.6 | \n",
       "| 1   | 1   | 1   | 1   | 3   | 2.5 | 2.8 | 2.8 | \n",
       "| 1   | 1   | 1   | 1   | 4   | 2.1 | 2.9 | 2.4 | \n",
       "| 1   | 1   | 1   | 1   | 5   | 1.9 | 2.8 | 2.2 | \n",
       "| 1   | 1   | 1   | 2   | 1   | 1.8 | 3.0 | 1.7 | \n",
       "\n",
       "\n"
      ],
      "text/plain": [
       "  area temp size storage method texture flavor moistness\n",
       "1 1    1    1    1       1      2.9     3.2    3.0      \n",
       "2 1    1    1    1       2      2.3     2.5    2.6      \n",
       "3 1    1    1    1       3      2.5     2.8    2.8      \n",
       "4 1    1    1    1       4      2.1     2.9    2.4      \n",
       "5 1    1    1    1       5      1.9     2.8    2.2      \n",
       "6 1    1    1    2       1      1.8     3.0    1.7      "
      ]
     },
     "metadata": {},
     "output_type": "display_data"
    }
   ],
   "source": [
    "# Column names\n",
    "properties <- c(\"area\", \"temp\", \"size\", \"storage\", \"method\",\n",
    "                \"texture\", \"flavor\", \"moistness\")\n",
    "\n",
    "# Import potatoes.txt: potatoes\n",
    "potatoes <- read_tsv(\"potatoes.txt\", col_names = properties)\n",
    "\n",
    "# Call head() on potatoes\n",
    "head(potatoes)"
   ]
  },
  {
   "cell_type": "code",
   "execution_count": null,
   "metadata": {},
   "outputs": [],
   "source": []
  }
 ],
 "metadata": {
  "kernelspec": {
   "display_name": "R",
   "language": "R",
   "name": "ir"
  },
  "language_info": {
   "codemirror_mode": "r",
   "file_extension": ".r",
   "mimetype": "text/x-r-source",
   "name": "R",
   "pygments_lexer": "r",
   "version": "3.5.1"
  }
 },
 "nbformat": 4,
 "nbformat_minor": 2
}
